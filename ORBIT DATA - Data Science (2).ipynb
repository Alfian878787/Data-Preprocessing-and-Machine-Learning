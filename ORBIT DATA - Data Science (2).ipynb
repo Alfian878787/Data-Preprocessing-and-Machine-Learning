{
 "cells": [
  {
   "cell_type": "code",
   "execution_count": 1,
   "metadata": {},
   "outputs": [],
   "source": [
    "import pandas as pd\n",
    "import numpy as np\n",
    "import seaborn as sns\n",
    "import matplotlib.pyplot as plt"
   ]
  },
  {
   "cell_type": "code",
   "execution_count": 2,
   "metadata": {},
   "outputs": [],
   "source": [
    "orbit = pd.read_excel(\"Sample File.xlsx\")"
   ]
  },
  {
   "cell_type": "code",
   "execution_count": 3,
   "metadata": {},
   "outputs": [
    {
     "data": {
      "text/html": [
       "<div>\n",
       "<style scoped>\n",
       "    .dataframe tbody tr th:only-of-type {\n",
       "        vertical-align: middle;\n",
       "    }\n",
       "\n",
       "    .dataframe tbody tr th {\n",
       "        vertical-align: top;\n",
       "    }\n",
       "\n",
       "    .dataframe thead th {\n",
       "        text-align: right;\n",
       "    }\n",
       "</style>\n",
       "<table border=\"1\" class=\"dataframe\">\n",
       "  <thead>\n",
       "    <tr style=\"text-align: right;\">\n",
       "      <th></th>\n",
       "      <th>id</th>\n",
       "      <th>time_created</th>\n",
       "      <th>time_updated</th>\n",
       "      <th>agency</th>\n",
       "      <th>external_id</th>\n",
       "      <th>title</th>\n",
       "      <th>url</th>\n",
       "      <th>price</th>\n",
       "      <th>bedrooms</th>\n",
       "      <th>bathrooms</th>\n",
       "      <th>garages</th>\n",
       "      <th>parkings</th>\n",
       "      <th>latitude</th>\n",
       "      <th>longitude</th>\n",
       "      <th>area</th>\n",
       "      <th>status</th>\n",
       "      <th>offering</th>\n",
       "      <th>erf_size</th>\n",
       "      <th>floor_size</th>\n",
       "      <th>property_type</th>\n",
       "    </tr>\n",
       "  </thead>\n",
       "  <tbody>\n",
       "    <tr>\n",
       "      <th>0</th>\n",
       "      <td>188</td>\n",
       "      <td>2019-05-17 19:11:08.691784+00:00</td>\n",
       "      <td>2020-02-12 21:42:34.466622+00:00</td>\n",
       "      <td>dogon_group_properties</td>\n",
       "      <td>RL7861</td>\n",
       "      <td>2 Bedroom Apartment For Sale in Fresnaye</td>\n",
       "      <td>https://www.dogongroup.com/results/residential...</td>\n",
       "      <td>5995000.0</td>\n",
       "      <td>2.0</td>\n",
       "      <td>2.0</td>\n",
       "      <td>NaN</td>\n",
       "      <td>2.0</td>\n",
       "      <td>-33.924799</td>\n",
       "      <td>18.385675</td>\n",
       "      <td>Fresnaye</td>\n",
       "      <td>active</td>\n",
       "      <td>sale</td>\n",
       "      <td>NaN</td>\n",
       "      <td>129.0</td>\n",
       "      <td>apartment</td>\n",
       "    </tr>\n",
       "    <tr>\n",
       "      <th>1</th>\n",
       "      <td>211</td>\n",
       "      <td>2019-05-17 19:11:08.802299+00:00</td>\n",
       "      <td>2020-02-12 21:42:26.722360+00:00</td>\n",
       "      <td>dogon_group_properties</td>\n",
       "      <td>RL7723</td>\n",
       "      <td>3 Bedroom Apartment For Sale in Bantry Bay</td>\n",
       "      <td>https://www.dogongroup.com/results/residential...</td>\n",
       "      <td>6490000.0</td>\n",
       "      <td>3.0</td>\n",
       "      <td>3.0</td>\n",
       "      <td>NaN</td>\n",
       "      <td>1.0</td>\n",
       "      <td>-33.928305</td>\n",
       "      <td>18.379390</td>\n",
       "      <td>Bantry Bay</td>\n",
       "      <td>active</td>\n",
       "      <td>sale</td>\n",
       "      <td>NaN</td>\n",
       "      <td>140.0</td>\n",
       "      <td>apartment</td>\n",
       "    </tr>\n",
       "    <tr>\n",
       "      <th>2</th>\n",
       "      <td>217</td>\n",
       "      <td>2019-05-17 19:11:08.831019+00:00</td>\n",
       "      <td>2020-02-12 21:42:08.399121+00:00</td>\n",
       "      <td>dogon_group_properties</td>\n",
       "      <td>RL7639</td>\n",
       "      <td>5 Bedroom House For Sale in Constantia</td>\n",
       "      <td>https://www.dogongroup.com/results/residential...</td>\n",
       "      <td>7995000.0</td>\n",
       "      <td>5.0</td>\n",
       "      <td>5.0</td>\n",
       "      <td>2.0</td>\n",
       "      <td>NaN</td>\n",
       "      <td>-34.015040</td>\n",
       "      <td>18.439780</td>\n",
       "      <td>Constantia</td>\n",
       "      <td>active</td>\n",
       "      <td>sale</td>\n",
       "      <td>1375.0</td>\n",
       "      <td>NaN</td>\n",
       "      <td>house</td>\n",
       "    </tr>\n",
       "    <tr>\n",
       "      <th>3</th>\n",
       "      <td>271</td>\n",
       "      <td>2019-05-17 19:11:09.096526+00:00</td>\n",
       "      <td>2020-02-12 21:42:03.292978+00:00</td>\n",
       "      <td>dogon_group_properties</td>\n",
       "      <td>RL7263</td>\n",
       "      <td>7 Bedroom House For Sale in Fresnaye</td>\n",
       "      <td>https://www.dogongroup.com/results/residential...</td>\n",
       "      <td>32950000.0</td>\n",
       "      <td>7.0</td>\n",
       "      <td>5.0</td>\n",
       "      <td>2.0</td>\n",
       "      <td>6.0</td>\n",
       "      <td>-33.929890</td>\n",
       "      <td>18.383340</td>\n",
       "      <td>Fresnaye</td>\n",
       "      <td>active</td>\n",
       "      <td>sale</td>\n",
       "      <td>636.0</td>\n",
       "      <td>NaN</td>\n",
       "      <td>house</td>\n",
       "    </tr>\n",
       "    <tr>\n",
       "      <th>4</th>\n",
       "      <td>276</td>\n",
       "      <td>2019-05-17 19:11:09.123885+00:00</td>\n",
       "      <td>2020-02-12 21:42:46.566199+00:00</td>\n",
       "      <td>dogon_group_properties</td>\n",
       "      <td>RL7214</td>\n",
       "      <td>5 Bedroom House For Sale in Constantia</td>\n",
       "      <td>https://www.dogongroup.com/results/residential...</td>\n",
       "      <td>25900000.0</td>\n",
       "      <td>5.0</td>\n",
       "      <td>5.0</td>\n",
       "      <td>3.0</td>\n",
       "      <td>8.0</td>\n",
       "      <td>-34.029720</td>\n",
       "      <td>18.435170</td>\n",
       "      <td>Constantia</td>\n",
       "      <td>active</td>\n",
       "      <td>sale</td>\n",
       "      <td>4000.0</td>\n",
       "      <td>800.0</td>\n",
       "      <td>house</td>\n",
       "    </tr>\n",
       "  </tbody>\n",
       "</table>\n",
       "</div>"
      ],
      "text/plain": [
       "    id                      time_created                      time_updated  \\\n",
       "0  188  2019-05-17 19:11:08.691784+00:00  2020-02-12 21:42:34.466622+00:00   \n",
       "1  211  2019-05-17 19:11:08.802299+00:00  2020-02-12 21:42:26.722360+00:00   \n",
       "2  217  2019-05-17 19:11:08.831019+00:00  2020-02-12 21:42:08.399121+00:00   \n",
       "3  271  2019-05-17 19:11:09.096526+00:00  2020-02-12 21:42:03.292978+00:00   \n",
       "4  276  2019-05-17 19:11:09.123885+00:00  2020-02-12 21:42:46.566199+00:00   \n",
       "\n",
       "                   agency external_id  \\\n",
       "0  dogon_group_properties      RL7861   \n",
       "1  dogon_group_properties      RL7723   \n",
       "2  dogon_group_properties      RL7639   \n",
       "3  dogon_group_properties      RL7263   \n",
       "4  dogon_group_properties      RL7214   \n",
       "\n",
       "                                        title  \\\n",
       "0    2 Bedroom Apartment For Sale in Fresnaye   \n",
       "1  3 Bedroom Apartment For Sale in Bantry Bay   \n",
       "2      5 Bedroom House For Sale in Constantia   \n",
       "3        7 Bedroom House For Sale in Fresnaye   \n",
       "4      5 Bedroom House For Sale in Constantia   \n",
       "\n",
       "                                                 url       price  bedrooms  \\\n",
       "0  https://www.dogongroup.com/results/residential...   5995000.0       2.0   \n",
       "1  https://www.dogongroup.com/results/residential...   6490000.0       3.0   \n",
       "2  https://www.dogongroup.com/results/residential...   7995000.0       5.0   \n",
       "3  https://www.dogongroup.com/results/residential...  32950000.0       7.0   \n",
       "4  https://www.dogongroup.com/results/residential...  25900000.0       5.0   \n",
       "\n",
       "   bathrooms  garages  parkings   latitude  longitude        area  status  \\\n",
       "0        2.0      NaN       2.0 -33.924799  18.385675    Fresnaye  active   \n",
       "1        3.0      NaN       1.0 -33.928305  18.379390  Bantry Bay  active   \n",
       "2        5.0      2.0       NaN -34.015040  18.439780  Constantia  active   \n",
       "3        5.0      2.0       6.0 -33.929890  18.383340    Fresnaye  active   \n",
       "4        5.0      3.0       8.0 -34.029720  18.435170  Constantia  active   \n",
       "\n",
       "  offering  erf_size  floor_size property_type  \n",
       "0     sale       NaN       129.0     apartment  \n",
       "1     sale       NaN       140.0     apartment  \n",
       "2     sale    1375.0         NaN         house  \n",
       "3     sale     636.0         NaN         house  \n",
       "4     sale    4000.0       800.0         house  "
      ]
     },
     "execution_count": 3,
     "metadata": {},
     "output_type": "execute_result"
    }
   ],
   "source": [
    "orbit.head()"
   ]
  },
  {
   "cell_type": "markdown",
   "metadata": {},
   "source": [
    "Dropping the columns 'id', 'time_created','time_updated','external_id','url','latitude' and 'longitude' from the dataset,\n",
    "as these variables do not provide information significant in modeling"
   ]
  },
  {
   "cell_type": "code",
   "execution_count": 4,
   "metadata": {},
   "outputs": [],
   "source": [
    "orbit.drop(['id','time_created','time_updated','external_id','url'],axis=1,inplace=True)"
   ]
  },
  {
   "cell_type": "code",
   "execution_count": 5,
   "metadata": {},
   "outputs": [],
   "source": [
    "orbit.drop(['latitude','longitude'],axis=1,inplace=True)"
   ]
  },
  {
   "cell_type": "code",
   "execution_count": 6,
   "metadata": {},
   "outputs": [
    {
     "data": {
      "text/plain": [
       "active    1042\n",
       "Name: status, dtype: int64"
      ]
     },
     "execution_count": 6,
     "metadata": {},
     "output_type": "execute_result"
    }
   ],
   "source": [
    "orbit.status.value_counts()"
   ]
  },
  {
   "cell_type": "markdown",
   "metadata": {},
   "source": [
    "Here I have observed that the variable 'status' has only one value throughout the dataset i.e. 'active', \n",
    "hence I have can drop this variable as it is not providing us significant information"
   ]
  },
  {
   "cell_type": "code",
   "execution_count": 7,
   "metadata": {},
   "outputs": [],
   "source": [
    "orbit.drop(['status'],axis=1,inplace=True)"
   ]
  },
  {
   "cell_type": "code",
   "execution_count": 8,
   "metadata": {},
   "outputs": [
    {
     "data": {
      "text/plain": [
       "(1042, 12)"
      ]
     },
     "execution_count": 8,
     "metadata": {},
     "output_type": "execute_result"
    }
   ],
   "source": [
    "orbit.shape"
   ]
  },
  {
   "cell_type": "code",
   "execution_count": 9,
   "metadata": {},
   "outputs": [
    {
     "data": {
      "text/plain": [
       "Index(['agency', 'title', 'price', 'bedrooms', 'bathrooms', 'garages',\n",
       "       'parkings', 'area', 'offering', 'erf_size', 'floor_size',\n",
       "       'property_type'],\n",
       "      dtype='object')"
      ]
     },
     "execution_count": 9,
     "metadata": {},
     "output_type": "execute_result"
    }
   ],
   "source": [
    "orbit.columns"
   ]
  },
  {
   "cell_type": "code",
   "execution_count": 10,
   "metadata": {},
   "outputs": [
    {
     "data": {
      "text/plain": [
       "agency             0\n",
       "title              0\n",
       "price            131\n",
       "bedrooms          30\n",
       "bathrooms         40\n",
       "garages          360\n",
       "parkings         518\n",
       "area               0\n",
       "offering         160\n",
       "erf_size         363\n",
       "floor_size       463\n",
       "property_type      0\n",
       "dtype: int64"
      ]
     },
     "execution_count": 10,
     "metadata": {},
     "output_type": "execute_result"
    }
   ],
   "source": [
    "orbit.isnull().sum()"
   ]
  },
  {
   "cell_type": "code",
   "execution_count": 44,
   "metadata": {},
   "outputs": [],
   "source": [
    "Orbit.drop(['id','time_created','time_updated','external_id','url','status','latitude','longitude'],axis=1,inplace=True)"
   ]
  },
  {
   "cell_type": "markdown",
   "metadata": {},
   "source": [
    "# PERCENTAGE OF MISSING VALUES BY FEATURE"
   ]
  },
  {
   "cell_type": "code",
   "execution_count": 45,
   "metadata": {},
   "outputs": [
    {
     "data": {
      "text/html": [
       "<div>\n",
       "<style scoped>\n",
       "    .dataframe tbody tr th:only-of-type {\n",
       "        vertical-align: middle;\n",
       "    }\n",
       "\n",
       "    .dataframe tbody tr th {\n",
       "        vertical-align: top;\n",
       "    }\n",
       "\n",
       "    .dataframe thead th {\n",
       "        text-align: right;\n",
       "    }\n",
       "</style>\n",
       "<table border=\"1\" class=\"dataframe\">\n",
       "  <thead>\n",
       "    <tr style=\"text-align: right;\">\n",
       "      <th></th>\n",
       "      <th>Total</th>\n",
       "      <th>Percent</th>\n",
       "    </tr>\n",
       "  </thead>\n",
       "  <tbody>\n",
       "    <tr>\n",
       "      <th>parkings</th>\n",
       "      <td>518</td>\n",
       "      <td>0.497121</td>\n",
       "    </tr>\n",
       "    <tr>\n",
       "      <th>floor_size</th>\n",
       "      <td>463</td>\n",
       "      <td>0.444338</td>\n",
       "    </tr>\n",
       "    <tr>\n",
       "      <th>erf_size</th>\n",
       "      <td>363</td>\n",
       "      <td>0.348369</td>\n",
       "    </tr>\n",
       "    <tr>\n",
       "      <th>garages</th>\n",
       "      <td>360</td>\n",
       "      <td>0.345489</td>\n",
       "    </tr>\n",
       "    <tr>\n",
       "      <th>offering</th>\n",
       "      <td>160</td>\n",
       "      <td>0.153551</td>\n",
       "    </tr>\n",
       "  </tbody>\n",
       "</table>\n",
       "</div>"
      ],
      "text/plain": [
       "            Total   Percent\n",
       "parkings      518  0.497121\n",
       "floor_size    463  0.444338\n",
       "erf_size      363  0.348369\n",
       "garages       360  0.345489\n",
       "offering      160  0.153551"
      ]
     },
     "execution_count": 45,
     "metadata": {},
     "output_type": "execute_result"
    },
    {
     "data": {
      "image/png": "[encoded data removed]",
      "text/plain": [
       "<Figure size 1080x432 with 1 Axes>"
      ]
     },
     "metadata": {
      "needs_background": "light"
     },
     "output_type": "display_data"
    }
   ],
   "source": [
    "total = Orbit.isnull().sum().sort_values(ascending=False)\n",
    "percent = (Orbit.isnull().sum()/Orbit.isnull().count()).sort_values(ascending=False)\n",
    "missing_data = pd.concat([total, percent], axis=1, keys=['Total', 'Percent'])\n",
    "f, ax = plt.subplots(figsize=(15, 6))\n",
    "plt.xticks(rotation='90')\n",
    "sns.barplot(x=missing_data.index, y=missing_data['Percent'])\n",
    "plt.xlabel('Features', fontsize=15)\n",
    "plt.ylabel('Percent of missing values', fontsize=15)\n",
    "plt.title('Percent missing data by feature', fontsize=15)\n",
    "missing_data.head()"
   ]
  },
  {
   "cell_type": "markdown",
   "metadata": {},
   "source": [
    "# DATA PREPROCESSING"
   ]
  },
  {
   "cell_type": "markdown",
   "metadata": {},
   "source": [
    "Here I can see that the variables 'bedrooms','bathrooms','garages','parkings','offering','erf_size','floor_size'\n",
    "have missing values and the target variable 'price' also has missing values.\n",
    "Hence I need to take care of this by filling the missing values of the independent features and the target variable."
   ]
  },
  {
   "cell_type": "markdown",
   "metadata": {},
   "source": [
    "# PROPERTY_TYPE"
   ]
  },
  {
   "cell_type": "code",
   "execution_count": 11,
   "metadata": {},
   "outputs": [
    {
     "data": {
      "text/plain": [
       "house              704\n",
       "apartment          243\n",
       "vacant_land         60\n",
       "['house']           28\n",
       "['vacant_land']      3\n",
       "[None]               2\n",
       "['apartment']        2\n",
       "Name: property_type, dtype: int64"
      ]
     },
     "execution_count": 11,
     "metadata": {},
     "output_type": "execute_result"
    }
   ],
   "source": [
    "orbit.property_type.value_counts()"
   ]
  },
  {
   "cell_type": "markdown",
   "metadata": {},
   "source": [
    "Here we need to convert the values of the variable 'property_type' like,\n",
    "'['house']' to 'house', \n",
    "'['vacant_land']' to 'vacant_land', \n",
    "'['apartment']' to 'apartment' \n",
    "and also take care of '[None]' values in the property_type variable."
   ]
  },
  {
   "cell_type": "code",
   "execution_count": 13,
   "metadata": {},
   "outputs": [],
   "source": [
    "orbit['property_type'] = orbit['property_type'].replace(\"['house']\",'house')"
   ]
  },
  {
   "cell_type": "code",
   "execution_count": 14,
   "metadata": {},
   "outputs": [],
   "source": [
    "orbit['property_type'] = orbit['property_type'].replace(\"['apartment']\",'apartment')"
   ]
  },
  {
   "cell_type": "code",
   "execution_count": 15,
   "metadata": {},
   "outputs": [],
   "source": [
    "orbit['property_type'] = orbit['property_type'].replace(\"['vacant_land']\",'vacant_land')"
   ]
  },
  {
   "cell_type": "code",
   "execution_count": 16,
   "metadata": {},
   "outputs": [
    {
     "data": {
      "text/plain": [
       "house          732\n",
       "apartment      245\n",
       "vacant_land     63\n",
       "[None]           2\n",
       "Name: property_type, dtype: int64"
      ]
     },
     "execution_count": 16,
     "metadata": {},
     "output_type": "execute_result"
    }
   ],
   "source": [
    "orbit.property_type.value_counts()"
   ]
  },
  {
   "cell_type": "markdown",
   "metadata": {},
   "source": [
    "Observing the rows whcih have '[None]' value in the 'property_type' variable"
   ]
  },
  {
   "cell_type": "code",
   "execution_count": 17,
   "metadata": {
    "scrolled": true
   },
   "outputs": [
    {
     "data": {
      "text/html": [
       "<div>\n",
       "<style scoped>\n",
       "    .dataframe tbody tr th:only-of-type {\n",
       "        vertical-align: middle;\n",
       "    }\n",
       "\n",
       "    .dataframe tbody tr th {\n",
       "        vertical-align: top;\n",
       "    }\n",
       "\n",
       "    .dataframe thead th {\n",
       "        text-align: right;\n",
       "    }\n",
       "</style>\n",
       "<table border=\"1\" class=\"dataframe\">\n",
       "  <thead>\n",
       "    <tr style=\"text-align: right;\">\n",
       "      <th></th>\n",
       "      <th>agency</th>\n",
       "      <th>title</th>\n",
       "      <th>price</th>\n",
       "      <th>bedrooms</th>\n",
       "      <th>bathrooms</th>\n",
       "      <th>garages</th>\n",
       "      <th>parkings</th>\n",
       "      <th>area</th>\n",
       "      <th>offering</th>\n",
       "      <th>erf_size</th>\n",
       "      <th>floor_size</th>\n",
       "      <th>property_type</th>\n",
       "    </tr>\n",
       "  </thead>\n",
       "  <tbody>\n",
       "    <tr>\n",
       "      <th>874</th>\n",
       "      <td>rawson</td>\n",
       "      <td>4 Bedroom cluster to rent in Constantia, Cape ...</td>\n",
       "      <td>33000.0</td>\n",
       "      <td>4.0</td>\n",
       "      <td>4.0</td>\n",
       "      <td>2.0</td>\n",
       "      <td>NaN</td>\n",
       "      <td>Constantia</td>\n",
       "      <td>rent</td>\n",
       "      <td>0.0</td>\n",
       "      <td>NaN</td>\n",
       "      <td>[None]</td>\n",
       "    </tr>\n",
       "    <tr>\n",
       "      <th>1028</th>\n",
       "      <td>rawson</td>\n",
       "      <td>1 Bedroom cottage to rent in Constantia, Cape ...</td>\n",
       "      <td>9000.0</td>\n",
       "      <td>1.0</td>\n",
       "      <td>1.0</td>\n",
       "      <td>NaN</td>\n",
       "      <td>NaN</td>\n",
       "      <td>Constantia</td>\n",
       "      <td>rent</td>\n",
       "      <td>0.0</td>\n",
       "      <td>NaN</td>\n",
       "      <td>[None]</td>\n",
       "    </tr>\n",
       "  </tbody>\n",
       "</table>\n",
       "</div>"
      ],
      "text/plain": [
       "      agency                                              title    price  \\\n",
       "874   rawson  4 Bedroom cluster to rent in Constantia, Cape ...  33000.0   \n",
       "1028  rawson  1 Bedroom cottage to rent in Constantia, Cape ...   9000.0   \n",
       "\n",
       "      bedrooms  bathrooms  garages  parkings        area offering  erf_size  \\\n",
       "874        4.0        4.0      2.0       NaN  Constantia     rent       0.0   \n",
       "1028       1.0        1.0      NaN       NaN  Constantia     rent       0.0   \n",
       "\n",
       "      floor_size property_type  \n",
       "874          NaN        [None]  \n",
       "1028         NaN        [None]  "
      ]
     },
     "execution_count": 17,
     "metadata": {},
     "output_type": "execute_result"
    }
   ],
   "source": [
    "orbit[orbit['property_type']=='[None]']"
   ]
  },
  {
   "cell_type": "code",
   "execution_count": 18,
   "metadata": {},
   "outputs": [
    {
     "data": {
      "text/plain": [
       "house          488\n",
       "vacant_land     54\n",
       "apartment        3\n",
       "[None]           2\n",
       "Name: property_type, dtype: int64"
      ]
     },
     "execution_count": 18,
     "metadata": {},
     "output_type": "execute_result"
    }
   ],
   "source": [
    "orbit[orbit['area']=='Constantia']['property_type'].value_counts()"
   ]
  },
  {
   "cell_type": "code",
   "execution_count": 19,
   "metadata": {},
   "outputs": [
    {
     "data": {
      "text/plain": [
       "house          43\n",
       "apartment       7\n",
       "vacant_land     3\n",
       "[None]          2\n",
       "Name: property_type, dtype: int64"
      ]
     },
     "execution_count": 19,
     "metadata": {},
     "output_type": "execute_result"
    }
   ],
   "source": [
    "orbit[orbit['agency']=='rawson']['property_type'].value_counts()"
   ]
  },
  {
   "cell_type": "markdown",
   "metadata": {},
   "source": [
    "After making the above observation I filled the two rows which have value '[None]' in the property_type column \n",
    "with 'house' as the  value for the'agency' variable for these rows is 'rawson' and\n",
    "the mode for the variable 'property_type' for the agency 'rawson' is 'house' and \n",
    "also mode for the 'property_type' variable for the area 'Constantia' is also 'house'"
   ]
  },
  {
   "cell_type": "code",
   "execution_count": 20,
   "metadata": {},
   "outputs": [],
   "source": [
    "orbit['property_type'] = orbit['property_type'].replace(\"[None]\",'house')"
   ]
  },
  {
   "cell_type": "code",
   "execution_count": 21,
   "metadata": {},
   "outputs": [
    {
     "data": {
      "text/plain": [
       "house          734\n",
       "apartment      245\n",
       "vacant_land     63\n",
       "Name: property_type, dtype: int64"
      ]
     },
     "execution_count": 21,
     "metadata": {},
     "output_type": "execute_result"
    }
   ],
   "source": [
    "orbit['property_type'].value_counts()"
   ]
  },
  {
   "cell_type": "code",
   "execution_count": 22,
   "metadata": {},
   "outputs": [
    {
     "data": {
      "text/plain": [
       "0"
      ]
     },
     "execution_count": 22,
     "metadata": {},
     "output_type": "execute_result"
    }
   ],
   "source": [
    "orbit['property_type'].isnull().sum()"
   ]
  },
  {
   "cell_type": "markdown",
   "metadata": {},
   "source": [
    "# ERF_SIZE"
   ]
  },
  {
   "cell_type": "code",
   "execution_count": 23,
   "metadata": {},
   "outputs": [],
   "source": [
    "erf_empty = orbit[orbit['erf_size'].isnull()]"
   ]
  },
  {
   "cell_type": "code",
   "execution_count": 24,
   "metadata": {},
   "outputs": [],
   "source": [
    "ese_index = erf_empty.index"
   ]
  },
  {
   "cell_type": "code",
   "execution_count": 25,
   "metadata": {},
   "outputs": [],
   "source": [
    "erf_empty_index = []\n",
    "for i in ese_index:\n",
    "    erf_empty_index.append(i)"
   ]
  },
  {
   "cell_type": "code",
   "execution_count": 26,
   "metadata": {},
   "outputs": [
    {
     "data": {
      "text/plain": [
       "363"
      ]
     },
     "execution_count": 26,
     "metadata": {},
     "output_type": "execute_result"
    }
   ],
   "source": [
    "len(erf_empty_index)"
   ]
  },
  {
   "cell_type": "markdown",
   "metadata": {},
   "source": [
    "'erf_empty_index' is a list of length 363 and contains the indexes of rows \n",
    "where thw value for the 'erf_size' variable is 'NaN'"
   ]
  },
  {
   "cell_type": "code",
   "execution_count": 27,
   "metadata": {},
   "outputs": [
    {
     "data": {
      "text/html": [
       "<div>\n",
       "<style scoped>\n",
       "    .dataframe tbody tr th:only-of-type {\n",
       "        vertical-align: middle;\n",
       "    }\n",
       "\n",
       "    .dataframe tbody tr th {\n",
       "        vertical-align: top;\n",
       "    }\n",
       "\n",
       "    .dataframe thead th {\n",
       "        text-align: right;\n",
       "    }\n",
       "</style>\n",
       "<table border=\"1\" class=\"dataframe\">\n",
       "  <thead>\n",
       "    <tr style=\"text-align: right;\">\n",
       "      <th></th>\n",
       "      <th>title</th>\n",
       "      <th>erf_size</th>\n",
       "    </tr>\n",
       "  </thead>\n",
       "  <tbody>\n",
       "    <tr>\n",
       "      <th>0</th>\n",
       "      <td>2 Bedroom Apartment For Sale in Fresnaye</td>\n",
       "      <td>NaN</td>\n",
       "    </tr>\n",
       "    <tr>\n",
       "      <th>1</th>\n",
       "      <td>3 Bedroom Apartment For Sale in Bantry Bay</td>\n",
       "      <td>NaN</td>\n",
       "    </tr>\n",
       "    <tr>\n",
       "      <th>7</th>\n",
       "      <td>673m² Vacant Land For Sale in Bantry Bay</td>\n",
       "      <td>NaN</td>\n",
       "    </tr>\n",
       "    <tr>\n",
       "      <th>12</th>\n",
       "      <td>3 Bedroom Apartment For Sale in Fresnaye</td>\n",
       "      <td>NaN</td>\n",
       "    </tr>\n",
       "    <tr>\n",
       "      <th>13</th>\n",
       "      <td>2 Bedroom Apartment For Sale in Fresnaye</td>\n",
       "      <td>NaN</td>\n",
       "    </tr>\n",
       "  </tbody>\n",
       "</table>\n",
       "</div>"
      ],
      "text/plain": [
       "                                         title  erf_size\n",
       "0     2 Bedroom Apartment For Sale in Fresnaye       NaN\n",
       "1   3 Bedroom Apartment For Sale in Bantry Bay       NaN\n",
       "7     673m² Vacant Land For Sale in Bantry Bay       NaN\n",
       "12    3 Bedroom Apartment For Sale in Fresnaye       NaN\n",
       "13    2 Bedroom Apartment For Sale in Fresnaye       NaN"
      ]
     },
     "execution_count": 27,
     "metadata": {},
     "output_type": "execute_result"
    }
   ],
   "source": [
    "orbit.loc[erf_empty_index,['title','erf_size']].head()"
   ]
  },
  {
   "cell_type": "markdown",
   "metadata": {},
   "source": [
    "As we can see above we can extract the value of 'erf_size' from the 'title' variable,\n",
    "using the code written below."
   ]
  },
  {
   "cell_type": "code",
   "execution_count": 28,
   "metadata": {},
   "outputs": [],
   "source": [
    "import re\n",
    "digit = []\n",
    "num = []\n",
    "for i in erf_empty_index:\n",
    "    str = orbit.iloc[i,1]\n",
    "    if 'm²' in str:\n",
    "        ans = str.split(\"m²\",1)\n",
    "        ans[0] = ans[0].replace(\",\",\"\")\n",
    "        ans[0] = int(ans[0])\n",
    "        digit.append(ans[0])\n",
    "        num.append(i)\n",
    "        "
   ]
  },
  {
   "cell_type": "markdown",
   "metadata": {},
   "source": [
    "'num' is the list of indexes where the variable 'title' contains the substring \"m²\" in the 'title' variable,\n",
    "as this will help me fill the NaN values for the rows of the 'erf_size' variable, whose indexes aree stored in 'erf_empty_index'"
   ]
  },
  {
   "cell_type": "markdown",
   "metadata": {},
   "source": [
    "'digit' contains the values of 'erf_size' extracted from the 'title' variable, whcih can be filled in the 'erf_size' variable\n",
    "which have 'NaN' values"
   ]
  },
  {
   "cell_type": "code",
   "execution_count": 29,
   "metadata": {},
   "outputs": [
    {
     "data": {
      "text/plain": [
       "[673,\n",
       " 1500,\n",
       " 1573,\n",
       " 8443,\n",
       " 1344,\n",
       " 1344,\n",
       " 673,\n",
       " 1087,\n",
       " 1087,\n",
       " 1344,\n",
       " 585,\n",
       " 1811,\n",
       " 1344,\n",
       " 1222,\n",
       " 17587,\n",
       " 4014,\n",
       " 4003,\n",
       " 1344,\n",
       " 1600,\n",
       " 1980,\n",
       " 2448,\n",
       " 1600,\n",
       " 1006,\n",
       " 1052,\n",
       " 1600,\n",
       " 2000,\n",
       " 1600,\n",
       " 1730,\n",
       " 2000,\n",
       " 2268,\n",
       " 270,\n",
       " 8189,\n",
       " 712,\n",
       " 2000,\n",
       " 1700,\n",
       " 1006,\n",
       " 1774,\n",
       " 270]"
      ]
     },
     "execution_count": 29,
     "metadata": {},
     "output_type": "execute_result"
    }
   ],
   "source": [
    "digit"
   ]
  },
  {
   "cell_type": "code",
   "execution_count": 30,
   "metadata": {},
   "outputs": [
    {
     "data": {
      "text/plain": [
       "38"
      ]
     },
     "execution_count": 30,
     "metadata": {},
     "output_type": "execute_result"
    }
   ],
   "source": [
    "len(num)"
   ]
  },
  {
   "cell_type": "code",
   "execution_count": 31,
   "metadata": {},
   "outputs": [
    {
     "data": {
      "text/plain": [
       "38"
      ]
     },
     "execution_count": 31,
     "metadata": {},
     "output_type": "execute_result"
    }
   ],
   "source": [
    "len(digit)"
   ]
  },
  {
   "cell_type": "code",
   "execution_count": 32,
   "metadata": {},
   "outputs": [],
   "source": [
    "orbit_index = orbit.index\n",
    "import re\n",
    "digit_orbit = []\n",
    "num_orbit = []\n",
    "for i in orbit_index:\n",
    "    str = orbit.iloc[i,1]\n",
    "    if 'm²' in str:\n",
    "        anso = str.split(\"m²\",1)\n",
    "        anso[0] = anso[0].replace(\",\",\"\")\n",
    "        anso[0] = int(anso[0])\n",
    "        digit_orbit.append(anso[0])\n",
    "        num_orbit.append(i)\n",
    "        "
   ]
  },
  {
   "cell_type": "code",
   "execution_count": 33,
   "metadata": {},
   "outputs": [
    {
     "data": {
      "text/plain": [
       "48"
      ]
     },
     "execution_count": 33,
     "metadata": {},
     "output_type": "execute_result"
    }
   ],
   "source": [
    "len(digit_orbit)"
   ]
  },
  {
   "cell_type": "code",
   "execution_count": 34,
   "metadata": {},
   "outputs": [
    {
     "data": {
      "text/plain": [
       "48"
      ]
     },
     "execution_count": 34,
     "metadata": {},
     "output_type": "execute_result"
    }
   ],
   "source": [
    "len(num_orbit)"
   ]
  },
  {
   "cell_type": "code",
   "execution_count": 35,
   "metadata": {},
   "outputs": [
    {
     "data": {
      "text/html": [
       "<div>\n",
       "<style scoped>\n",
       "    .dataframe tbody tr th:only-of-type {\n",
       "        vertical-align: middle;\n",
       "    }\n",
       "\n",
       "    .dataframe tbody tr th {\n",
       "        vertical-align: top;\n",
       "    }\n",
       "\n",
       "    .dataframe thead th {\n",
       "        text-align: right;\n",
       "    }\n",
       "</style>\n",
       "<table border=\"1\" class=\"dataframe\">\n",
       "  <thead>\n",
       "    <tr style=\"text-align: right;\">\n",
       "      <th></th>\n",
       "      <th>title</th>\n",
       "      <th>erf_size</th>\n",
       "    </tr>\n",
       "  </thead>\n",
       "  <tbody>\n",
       "    <tr>\n",
       "      <th>7</th>\n",
       "      <td>673m² Vacant Land For Sale in Bantry Bay</td>\n",
       "      <td>NaN</td>\n",
       "    </tr>\n",
       "    <tr>\n",
       "      <th>55</th>\n",
       "      <td>619 m² residential vacant land for sale in Ban...</td>\n",
       "      <td>619.0</td>\n",
       "    </tr>\n",
       "    <tr>\n",
       "      <th>72</th>\n",
       "      <td>1298 m² residential vacant land for sale in Fr...</td>\n",
       "      <td>1298.0</td>\n",
       "    </tr>\n",
       "    <tr>\n",
       "      <th>103</th>\n",
       "      <td>1573 m² residential vacant land for sale in Co...</td>\n",
       "      <td>1573.0</td>\n",
       "    </tr>\n",
       "    <tr>\n",
       "      <th>116</th>\n",
       "      <td>1,500m² Vacant Land For Sale in Constantia</td>\n",
       "      <td>NaN</td>\n",
       "    </tr>\n",
       "    <tr>\n",
       "      <th>117</th>\n",
       "      <td>1,573m² Vacant Land For Sale in Constantia</td>\n",
       "      <td>NaN</td>\n",
       "    </tr>\n",
       "    <tr>\n",
       "      <th>133</th>\n",
       "      <td>8,443m² Vacant Land For Sale in Constantia</td>\n",
       "      <td>NaN</td>\n",
       "    </tr>\n",
       "    <tr>\n",
       "      <th>155</th>\n",
       "      <td>1,344m² Vacant Land For Sale in Constantia</td>\n",
       "      <td>NaN</td>\n",
       "    </tr>\n",
       "    <tr>\n",
       "      <th>159</th>\n",
       "      <td>1,344m² Vacant Land For Sale in Constantia</td>\n",
       "      <td>NaN</td>\n",
       "    </tr>\n",
       "    <tr>\n",
       "      <th>179</th>\n",
       "      <td>673m² Vacant Land For Sale in Bantry Bay</td>\n",
       "      <td>NaN</td>\n",
       "    </tr>\n",
       "    <tr>\n",
       "      <th>188</th>\n",
       "      <td>1,087m² Vacant Land For Sale in Constantia</td>\n",
       "      <td>NaN</td>\n",
       "    </tr>\n",
       "    <tr>\n",
       "      <th>207</th>\n",
       "      <td>1,087m² Vacant Land For Sale in Constantia</td>\n",
       "      <td>NaN</td>\n",
       "    </tr>\n",
       "    <tr>\n",
       "      <th>210</th>\n",
       "      <td>1,344m² Vacant Land For Sale in Constantia</td>\n",
       "      <td>NaN</td>\n",
       "    </tr>\n",
       "    <tr>\n",
       "      <th>238</th>\n",
       "      <td>585m² Vacant Land For Sale in Constantia</td>\n",
       "      <td>NaN</td>\n",
       "    </tr>\n",
       "    <tr>\n",
       "      <th>247</th>\n",
       "      <td>1,811m² Vacant Land Sold in Constantia</td>\n",
       "      <td>NaN</td>\n",
       "    </tr>\n",
       "    <tr>\n",
       "      <th>252</th>\n",
       "      <td>1222 m² residential vacant land for sale in Co...</td>\n",
       "      <td>1222.0</td>\n",
       "    </tr>\n",
       "    <tr>\n",
       "      <th>257</th>\n",
       "      <td>1,344m² Vacant Land For Sale in Constantia</td>\n",
       "      <td>NaN</td>\n",
       "    </tr>\n",
       "    <tr>\n",
       "      <th>263</th>\n",
       "      <td>1,222m² Vacant Land For Sale in Constantia</td>\n",
       "      <td>NaN</td>\n",
       "    </tr>\n",
       "    <tr>\n",
       "      <th>270</th>\n",
       "      <td>17,587m² Vacant Land For Sale in Constantia</td>\n",
       "      <td>NaN</td>\n",
       "    </tr>\n",
       "    <tr>\n",
       "      <th>276</th>\n",
       "      <td>4,014m² Vacant Land For Sale in Constantia</td>\n",
       "      <td>NaN</td>\n",
       "    </tr>\n",
       "    <tr>\n",
       "      <th>290</th>\n",
       "      <td>4,003m² Vacant Land For Sale in Constantia</td>\n",
       "      <td>NaN</td>\n",
       "    </tr>\n",
       "    <tr>\n",
       "      <th>292</th>\n",
       "      <td>1,344m² Vacant Land For Sale in Constantia</td>\n",
       "      <td>NaN</td>\n",
       "    </tr>\n",
       "    <tr>\n",
       "      <th>313</th>\n",
       "      <td>1,600m² Vacant Land For Sale in Constantia</td>\n",
       "      <td>NaN</td>\n",
       "    </tr>\n",
       "    <tr>\n",
       "      <th>370</th>\n",
       "      <td>1344 m² residential vacant land for sale in Co...</td>\n",
       "      <td>1344.0</td>\n",
       "    </tr>\n",
       "    <tr>\n",
       "      <th>403</th>\n",
       "      <td>1,980m² Vacant Land For Sale in Constantia</td>\n",
       "      <td>NaN</td>\n",
       "    </tr>\n",
       "    <tr>\n",
       "      <th>433</th>\n",
       "      <td>2,448m² Vacant Land For Sale in Constantia</td>\n",
       "      <td>NaN</td>\n",
       "    </tr>\n",
       "    <tr>\n",
       "      <th>437</th>\n",
       "      <td>1,600m² Vacant Land For Sale in Constantia</td>\n",
       "      <td>NaN</td>\n",
       "    </tr>\n",
       "    <tr>\n",
       "      <th>448</th>\n",
       "      <td>2448 m² residential vacant land for sale in Co...</td>\n",
       "      <td>2448.0</td>\n",
       "    </tr>\n",
       "    <tr>\n",
       "      <th>449</th>\n",
       "      <td>1087 m² vacant land for sale in Constantia (Ca...</td>\n",
       "      <td>1087.0</td>\n",
       "    </tr>\n",
       "    <tr>\n",
       "      <th>450</th>\n",
       "      <td>1,006m² Vacant Land For Sale in Constantia</td>\n",
       "      <td>NaN</td>\n",
       "    </tr>\n",
       "    <tr>\n",
       "      <th>503</th>\n",
       "      <td>1730 m² residential vacant land for sale in Co...</td>\n",
       "      <td>1730.0</td>\n",
       "    </tr>\n",
       "    <tr>\n",
       "      <th>517</th>\n",
       "      <td>1052 m² residential vacant land for sale in Fr...</td>\n",
       "      <td>1052.0</td>\n",
       "    </tr>\n",
       "    <tr>\n",
       "      <th>530</th>\n",
       "      <td>1,052m² Vacant Land For Sale in Fresnaye</td>\n",
       "      <td>NaN</td>\n",
       "    </tr>\n",
       "    <tr>\n",
       "      <th>565</th>\n",
       "      <td>1,600m² Vacant Land For Sale in Constantia</td>\n",
       "      <td>NaN</td>\n",
       "    </tr>\n",
       "    <tr>\n",
       "      <th>612</th>\n",
       "      <td>2,000m² Vacant Land For Sale in Constantia</td>\n",
       "      <td>NaN</td>\n",
       "    </tr>\n",
       "    <tr>\n",
       "      <th>613</th>\n",
       "      <td>1,600m² Vacant Land For Sale in Constantia</td>\n",
       "      <td>NaN</td>\n",
       "    </tr>\n",
       "    <tr>\n",
       "      <th>629</th>\n",
       "      <td>1,730m² Vacant Land For Sale in Constantia</td>\n",
       "      <td>NaN</td>\n",
       "    </tr>\n",
       "    <tr>\n",
       "      <th>630</th>\n",
       "      <td>2,000m² Vacant Land For Sale in Constantia</td>\n",
       "      <td>NaN</td>\n",
       "    </tr>\n",
       "    <tr>\n",
       "      <th>634</th>\n",
       "      <td>2,268m² Vacant Land For Sale in Constantia</td>\n",
       "      <td>NaN</td>\n",
       "    </tr>\n",
       "    <tr>\n",
       "      <th>639</th>\n",
       "      <td>270m² Vacant Land For Sale in Bantry Bay</td>\n",
       "      <td>NaN</td>\n",
       "    </tr>\n",
       "    <tr>\n",
       "      <th>813</th>\n",
       "      <td>8,189m² Vacant Land For Sale in Constantia</td>\n",
       "      <td>NaN</td>\n",
       "    </tr>\n",
       "    <tr>\n",
       "      <th>969</th>\n",
       "      <td>712m² Vacant Land For Sale in Bantry Bay</td>\n",
       "      <td>NaN</td>\n",
       "    </tr>\n",
       "    <tr>\n",
       "      <th>1010</th>\n",
       "      <td>8189 m² residential vacant land for sale in Co...</td>\n",
       "      <td>8189.0</td>\n",
       "    </tr>\n",
       "    <tr>\n",
       "      <th>1021</th>\n",
       "      <td>2,000m² Vacant Land For Sale in Constantia</td>\n",
       "      <td>NaN</td>\n",
       "    </tr>\n",
       "    <tr>\n",
       "      <th>1022</th>\n",
       "      <td>1,700m² Vacant Land For Sale in Constantia</td>\n",
       "      <td>NaN</td>\n",
       "    </tr>\n",
       "    <tr>\n",
       "      <th>1024</th>\n",
       "      <td>1,006m² Vacant Land For Sale in Constantia</td>\n",
       "      <td>NaN</td>\n",
       "    </tr>\n",
       "    <tr>\n",
       "      <th>1025</th>\n",
       "      <td>1,774m² Vacant Land For Sale in Constantia Val...</td>\n",
       "      <td>NaN</td>\n",
       "    </tr>\n",
       "    <tr>\n",
       "      <th>1033</th>\n",
       "      <td>270m² Vacant Land For Sale in Bantry Bay</td>\n",
       "      <td>NaN</td>\n",
       "    </tr>\n",
       "  </tbody>\n",
       "</table>\n",
       "</div>"
      ],
      "text/plain": [
       "                                                  title  erf_size\n",
       "7              673m² Vacant Land For Sale in Bantry Bay       NaN\n",
       "55    619 m² residential vacant land for sale in Ban...     619.0\n",
       "72    1298 m² residential vacant land for sale in Fr...    1298.0\n",
       "103   1573 m² residential vacant land for sale in Co...    1573.0\n",
       "116          1,500m² Vacant Land For Sale in Constantia       NaN\n",
       "117          1,573m² Vacant Land For Sale in Constantia       NaN\n",
       "133          8,443m² Vacant Land For Sale in Constantia       NaN\n",
       "155          1,344m² Vacant Land For Sale in Constantia       NaN\n",
       "159          1,344m² Vacant Land For Sale in Constantia       NaN\n",
       "179            673m² Vacant Land For Sale in Bantry Bay       NaN\n",
       "188          1,087m² Vacant Land For Sale in Constantia       NaN\n",
       "207          1,087m² Vacant Land For Sale in Constantia       NaN\n",
       "210          1,344m² Vacant Land For Sale in Constantia       NaN\n",
       "238            585m² Vacant Land For Sale in Constantia       NaN\n",
       "247              1,811m² Vacant Land Sold in Constantia       NaN\n",
       "252   1222 m² residential vacant land for sale in Co...    1222.0\n",
       "257          1,344m² Vacant Land For Sale in Constantia       NaN\n",
       "263          1,222m² Vacant Land For Sale in Constantia       NaN\n",
       "270         17,587m² Vacant Land For Sale in Constantia       NaN\n",
       "276          4,014m² Vacant Land For Sale in Constantia       NaN\n",
       "290          4,003m² Vacant Land For Sale in Constantia       NaN\n",
       "292          1,344m² Vacant Land For Sale in Constantia       NaN\n",
       "313          1,600m² Vacant Land For Sale in Constantia       NaN\n",
       "370   1344 m² residential vacant land for sale in Co...    1344.0\n",
       "403          1,980m² Vacant Land For Sale in Constantia       NaN\n",
       "433          2,448m² Vacant Land For Sale in Constantia       NaN\n",
       "437          1,600m² Vacant Land For Sale in Constantia       NaN\n",
       "448   2448 m² residential vacant land for sale in Co...    2448.0\n",
       "449   1087 m² vacant land for sale in Constantia (Ca...    1087.0\n",
       "450          1,006m² Vacant Land For Sale in Constantia       NaN\n",
       "503   1730 m² residential vacant land for sale in Co...    1730.0\n",
       "517   1052 m² residential vacant land for sale in Fr...    1052.0\n",
       "530            1,052m² Vacant Land For Sale in Fresnaye       NaN\n",
       "565          1,600m² Vacant Land For Sale in Constantia       NaN\n",
       "612          2,000m² Vacant Land For Sale in Constantia       NaN\n",
       "613          1,600m² Vacant Land For Sale in Constantia       NaN\n",
       "629          1,730m² Vacant Land For Sale in Constantia       NaN\n",
       "630          2,000m² Vacant Land For Sale in Constantia       NaN\n",
       "634          2,268m² Vacant Land For Sale in Constantia       NaN\n",
       "639            270m² Vacant Land For Sale in Bantry Bay       NaN\n",
       "813          8,189m² Vacant Land For Sale in Constantia       NaN\n",
       "969            712m² Vacant Land For Sale in Bantry Bay       NaN\n",
       "1010  8189 m² residential vacant land for sale in Co...    8189.0\n",
       "1021         2,000m² Vacant Land For Sale in Constantia       NaN\n",
       "1022         1,700m² Vacant Land For Sale in Constantia       NaN\n",
       "1024         1,006m² Vacant Land For Sale in Constantia       NaN\n",
       "1025  1,774m² Vacant Land For Sale in Constantia Val...       NaN\n",
       "1033           270m² Vacant Land For Sale in Bantry Bay       NaN"
      ]
     },
     "execution_count": 35,
     "metadata": {},
     "output_type": "execute_result"
    }
   ],
   "source": [
    "orbit.loc[num_orbit,['title','erf_size']]"
   ]
  },
  {
   "cell_type": "code",
   "execution_count": 36,
   "metadata": {},
   "outputs": [
    {
     "data": {
      "text/html": [
       "<div>\n",
       "<style scoped>\n",
       "    .dataframe tbody tr th:only-of-type {\n",
       "        vertical-align: middle;\n",
       "    }\n",
       "\n",
       "    .dataframe tbody tr th {\n",
       "        vertical-align: top;\n",
       "    }\n",
       "\n",
       "    .dataframe thead th {\n",
       "        text-align: right;\n",
       "    }\n",
       "</style>\n",
       "<table border=\"1\" class=\"dataframe\">\n",
       "  <thead>\n",
       "    <tr style=\"text-align: right;\">\n",
       "      <th></th>\n",
       "      <th>title</th>\n",
       "      <th>erf_size</th>\n",
       "    </tr>\n",
       "  </thead>\n",
       "  <tbody>\n",
       "    <tr>\n",
       "      <th>7</th>\n",
       "      <td>673m² Vacant Land For Sale in Bantry Bay</td>\n",
       "      <td>NaN</td>\n",
       "    </tr>\n",
       "    <tr>\n",
       "      <th>116</th>\n",
       "      <td>1,500m² Vacant Land For Sale in Constantia</td>\n",
       "      <td>NaN</td>\n",
       "    </tr>\n",
       "    <tr>\n",
       "      <th>117</th>\n",
       "      <td>1,573m² Vacant Land For Sale in Constantia</td>\n",
       "      <td>NaN</td>\n",
       "    </tr>\n",
       "    <tr>\n",
       "      <th>133</th>\n",
       "      <td>8,443m² Vacant Land For Sale in Constantia</td>\n",
       "      <td>NaN</td>\n",
       "    </tr>\n",
       "    <tr>\n",
       "      <th>155</th>\n",
       "      <td>1,344m² Vacant Land For Sale in Constantia</td>\n",
       "      <td>NaN</td>\n",
       "    </tr>\n",
       "    <tr>\n",
       "      <th>159</th>\n",
       "      <td>1,344m² Vacant Land For Sale in Constantia</td>\n",
       "      <td>NaN</td>\n",
       "    </tr>\n",
       "    <tr>\n",
       "      <th>179</th>\n",
       "      <td>673m² Vacant Land For Sale in Bantry Bay</td>\n",
       "      <td>NaN</td>\n",
       "    </tr>\n",
       "    <tr>\n",
       "      <th>188</th>\n",
       "      <td>1,087m² Vacant Land For Sale in Constantia</td>\n",
       "      <td>NaN</td>\n",
       "    </tr>\n",
       "    <tr>\n",
       "      <th>207</th>\n",
       "      <td>1,087m² Vacant Land For Sale in Constantia</td>\n",
       "      <td>NaN</td>\n",
       "    </tr>\n",
       "    <tr>\n",
       "      <th>210</th>\n",
       "      <td>1,344m² Vacant Land For Sale in Constantia</td>\n",
       "      <td>NaN</td>\n",
       "    </tr>\n",
       "    <tr>\n",
       "      <th>238</th>\n",
       "      <td>585m² Vacant Land For Sale in Constantia</td>\n",
       "      <td>NaN</td>\n",
       "    </tr>\n",
       "    <tr>\n",
       "      <th>247</th>\n",
       "      <td>1,811m² Vacant Land Sold in Constantia</td>\n",
       "      <td>NaN</td>\n",
       "    </tr>\n",
       "    <tr>\n",
       "      <th>257</th>\n",
       "      <td>1,344m² Vacant Land For Sale in Constantia</td>\n",
       "      <td>NaN</td>\n",
       "    </tr>\n",
       "    <tr>\n",
       "      <th>263</th>\n",
       "      <td>1,222m² Vacant Land For Sale in Constantia</td>\n",
       "      <td>NaN</td>\n",
       "    </tr>\n",
       "    <tr>\n",
       "      <th>270</th>\n",
       "      <td>17,587m² Vacant Land For Sale in Constantia</td>\n",
       "      <td>NaN</td>\n",
       "    </tr>\n",
       "    <tr>\n",
       "      <th>276</th>\n",
       "      <td>4,014m² Vacant Land For Sale in Constantia</td>\n",
       "      <td>NaN</td>\n",
       "    </tr>\n",
       "    <tr>\n",
       "      <th>290</th>\n",
       "      <td>4,003m² Vacant Land For Sale in Constantia</td>\n",
       "      <td>NaN</td>\n",
       "    </tr>\n",
       "    <tr>\n",
       "      <th>292</th>\n",
       "      <td>1,344m² Vacant Land For Sale in Constantia</td>\n",
       "      <td>NaN</td>\n",
       "    </tr>\n",
       "    <tr>\n",
       "      <th>313</th>\n",
       "      <td>1,600m² Vacant Land For Sale in Constantia</td>\n",
       "      <td>NaN</td>\n",
       "    </tr>\n",
       "    <tr>\n",
       "      <th>403</th>\n",
       "      <td>1,980m² Vacant Land For Sale in Constantia</td>\n",
       "      <td>NaN</td>\n",
       "    </tr>\n",
       "    <tr>\n",
       "      <th>433</th>\n",
       "      <td>2,448m² Vacant Land For Sale in Constantia</td>\n",
       "      <td>NaN</td>\n",
       "    </tr>\n",
       "    <tr>\n",
       "      <th>437</th>\n",
       "      <td>1,600m² Vacant Land For Sale in Constantia</td>\n",
       "      <td>NaN</td>\n",
       "    </tr>\n",
       "    <tr>\n",
       "      <th>450</th>\n",
       "      <td>1,006m² Vacant Land For Sale in Constantia</td>\n",
       "      <td>NaN</td>\n",
       "    </tr>\n",
       "    <tr>\n",
       "      <th>530</th>\n",
       "      <td>1,052m² Vacant Land For Sale in Fresnaye</td>\n",
       "      <td>NaN</td>\n",
       "    </tr>\n",
       "    <tr>\n",
       "      <th>565</th>\n",
       "      <td>1,600m² Vacant Land For Sale in Constantia</td>\n",
       "      <td>NaN</td>\n",
       "    </tr>\n",
       "    <tr>\n",
       "      <th>612</th>\n",
       "      <td>2,000m² Vacant Land For Sale in Constantia</td>\n",
       "      <td>NaN</td>\n",
       "    </tr>\n",
       "    <tr>\n",
       "      <th>613</th>\n",
       "      <td>1,600m² Vacant Land For Sale in Constantia</td>\n",
       "      <td>NaN</td>\n",
       "    </tr>\n",
       "    <tr>\n",
       "      <th>629</th>\n",
       "      <td>1,730m² Vacant Land For Sale in Constantia</td>\n",
       "      <td>NaN</td>\n",
       "    </tr>\n",
       "    <tr>\n",
       "      <th>630</th>\n",
       "      <td>2,000m² Vacant Land For Sale in Constantia</td>\n",
       "      <td>NaN</td>\n",
       "    </tr>\n",
       "    <tr>\n",
       "      <th>634</th>\n",
       "      <td>2,268m² Vacant Land For Sale in Constantia</td>\n",
       "      <td>NaN</td>\n",
       "    </tr>\n",
       "    <tr>\n",
       "      <th>639</th>\n",
       "      <td>270m² Vacant Land For Sale in Bantry Bay</td>\n",
       "      <td>NaN</td>\n",
       "    </tr>\n",
       "    <tr>\n",
       "      <th>813</th>\n",
       "      <td>8,189m² Vacant Land For Sale in Constantia</td>\n",
       "      <td>NaN</td>\n",
       "    </tr>\n",
       "    <tr>\n",
       "      <th>969</th>\n",
       "      <td>712m² Vacant Land For Sale in Bantry Bay</td>\n",
       "      <td>NaN</td>\n",
       "    </tr>\n",
       "    <tr>\n",
       "      <th>1021</th>\n",
       "      <td>2,000m² Vacant Land For Sale in Constantia</td>\n",
       "      <td>NaN</td>\n",
       "    </tr>\n",
       "    <tr>\n",
       "      <th>1022</th>\n",
       "      <td>1,700m² Vacant Land For Sale in Constantia</td>\n",
       "      <td>NaN</td>\n",
       "    </tr>\n",
       "    <tr>\n",
       "      <th>1024</th>\n",
       "      <td>1,006m² Vacant Land For Sale in Constantia</td>\n",
       "      <td>NaN</td>\n",
       "    </tr>\n",
       "    <tr>\n",
       "      <th>1025</th>\n",
       "      <td>1,774m² Vacant Land For Sale in Constantia Val...</td>\n",
       "      <td>NaN</td>\n",
       "    </tr>\n",
       "    <tr>\n",
       "      <th>1033</th>\n",
       "      <td>270m² Vacant Land For Sale in Bantry Bay</td>\n",
       "      <td>NaN</td>\n",
       "    </tr>\n",
       "  </tbody>\n",
       "</table>\n",
       "</div>"
      ],
      "text/plain": [
       "                                                  title  erf_size\n",
       "7              673m² Vacant Land For Sale in Bantry Bay       NaN\n",
       "116          1,500m² Vacant Land For Sale in Constantia       NaN\n",
       "117          1,573m² Vacant Land For Sale in Constantia       NaN\n",
       "133          8,443m² Vacant Land For Sale in Constantia       NaN\n",
       "155          1,344m² Vacant Land For Sale in Constantia       NaN\n",
       "159          1,344m² Vacant Land For Sale in Constantia       NaN\n",
       "179            673m² Vacant Land For Sale in Bantry Bay       NaN\n",
       "188          1,087m² Vacant Land For Sale in Constantia       NaN\n",
       "207          1,087m² Vacant Land For Sale in Constantia       NaN\n",
       "210          1,344m² Vacant Land For Sale in Constantia       NaN\n",
       "238            585m² Vacant Land For Sale in Constantia       NaN\n",
       "247              1,811m² Vacant Land Sold in Constantia       NaN\n",
       "257          1,344m² Vacant Land For Sale in Constantia       NaN\n",
       "263          1,222m² Vacant Land For Sale in Constantia       NaN\n",
       "270         17,587m² Vacant Land For Sale in Constantia       NaN\n",
       "276          4,014m² Vacant Land For Sale in Constantia       NaN\n",
       "290          4,003m² Vacant Land For Sale in Constantia       NaN\n",
       "292          1,344m² Vacant Land For Sale in Constantia       NaN\n",
       "313          1,600m² Vacant Land For Sale in Constantia       NaN\n",
       "403          1,980m² Vacant Land For Sale in Constantia       NaN\n",
       "433          2,448m² Vacant Land For Sale in Constantia       NaN\n",
       "437          1,600m² Vacant Land For Sale in Constantia       NaN\n",
       "450          1,006m² Vacant Land For Sale in Constantia       NaN\n",
       "530            1,052m² Vacant Land For Sale in Fresnaye       NaN\n",
       "565          1,600m² Vacant Land For Sale in Constantia       NaN\n",
       "612          2,000m² Vacant Land For Sale in Constantia       NaN\n",
       "613          1,600m² Vacant Land For Sale in Constantia       NaN\n",
       "629          1,730m² Vacant Land For Sale in Constantia       NaN\n",
       "630          2,000m² Vacant Land For Sale in Constantia       NaN\n",
       "634          2,268m² Vacant Land For Sale in Constantia       NaN\n",
       "639            270m² Vacant Land For Sale in Bantry Bay       NaN\n",
       "813          8,189m² Vacant Land For Sale in Constantia       NaN\n",
       "969            712m² Vacant Land For Sale in Bantry Bay       NaN\n",
       "1021         2,000m² Vacant Land For Sale in Constantia       NaN\n",
       "1022         1,700m² Vacant Land For Sale in Constantia       NaN\n",
       "1024         1,006m² Vacant Land For Sale in Constantia       NaN\n",
       "1025  1,774m² Vacant Land For Sale in Constantia Val...       NaN\n",
       "1033           270m² Vacant Land For Sale in Bantry Bay       NaN"
      ]
     },
     "execution_count": 36,
     "metadata": {},
     "output_type": "execute_result"
    }
   ],
   "source": [
    "orbit.loc[num,['title','erf_size']]"
   ]
  },
  {
   "cell_type": "markdown",
   "metadata": {},
   "source": [
    "Hence I only need to fill the rows where the variable 'erf_size' is 'NaN' \n",
    "these index of these rows has been stored in 'num' "
   ]
  },
  {
   "cell_type": "markdown",
   "metadata": {},
   "source": [
    "Here you can observe that the 'erf_size' values stored in 'digit'\n",
    "are being filled using the indexes stored in 'num'"
   ]
  },
  {
   "cell_type": "code",
   "execution_count": 37,
   "metadata": {},
   "outputs": [],
   "source": [
    "for i in range(len(digit)):\n",
    "    orbit.loc[num[i],['erf_size']] = orbit.loc[num[i],['erf_size']].replace(np.nan, digit[i])"
   ]
  },
  {
   "cell_type": "code",
   "execution_count": 38,
   "metadata": {},
   "outputs": [
    {
     "data": {
      "text/html": [
       "<div>\n",
       "<style scoped>\n",
       "    .dataframe tbody tr th:only-of-type {\n",
       "        vertical-align: middle;\n",
       "    }\n",
       "\n",
       "    .dataframe tbody tr th {\n",
       "        vertical-align: top;\n",
       "    }\n",
       "\n",
       "    .dataframe thead th {\n",
       "        text-align: right;\n",
       "    }\n",
       "</style>\n",
       "<table border=\"1\" class=\"dataframe\">\n",
       "  <thead>\n",
       "    <tr style=\"text-align: right;\">\n",
       "      <th></th>\n",
       "      <th>title</th>\n",
       "      <th>erf_size</th>\n",
       "    </tr>\n",
       "  </thead>\n",
       "  <tbody>\n",
       "    <tr>\n",
       "      <th>7</th>\n",
       "      <td>673m² Vacant Land For Sale in Bantry Bay</td>\n",
       "      <td>673.0</td>\n",
       "    </tr>\n",
       "    <tr>\n",
       "      <th>116</th>\n",
       "      <td>1,500m² Vacant Land For Sale in Constantia</td>\n",
       "      <td>1500.0</td>\n",
       "    </tr>\n",
       "    <tr>\n",
       "      <th>117</th>\n",
       "      <td>1,573m² Vacant Land For Sale in Constantia</td>\n",
       "      <td>1573.0</td>\n",
       "    </tr>\n",
       "    <tr>\n",
       "      <th>133</th>\n",
       "      <td>8,443m² Vacant Land For Sale in Constantia</td>\n",
       "      <td>8443.0</td>\n",
       "    </tr>\n",
       "    <tr>\n",
       "      <th>155</th>\n",
       "      <td>1,344m² Vacant Land For Sale in Constantia</td>\n",
       "      <td>1344.0</td>\n",
       "    </tr>\n",
       "    <tr>\n",
       "      <th>159</th>\n",
       "      <td>1,344m² Vacant Land For Sale in Constantia</td>\n",
       "      <td>1344.0</td>\n",
       "    </tr>\n",
       "    <tr>\n",
       "      <th>179</th>\n",
       "      <td>673m² Vacant Land For Sale in Bantry Bay</td>\n",
       "      <td>673.0</td>\n",
       "    </tr>\n",
       "    <tr>\n",
       "      <th>188</th>\n",
       "      <td>1,087m² Vacant Land For Sale in Constantia</td>\n",
       "      <td>1087.0</td>\n",
       "    </tr>\n",
       "    <tr>\n",
       "      <th>207</th>\n",
       "      <td>1,087m² Vacant Land For Sale in Constantia</td>\n",
       "      <td>1087.0</td>\n",
       "    </tr>\n",
       "    <tr>\n",
       "      <th>210</th>\n",
       "      <td>1,344m² Vacant Land For Sale in Constantia</td>\n",
       "      <td>1344.0</td>\n",
       "    </tr>\n",
       "    <tr>\n",
       "      <th>238</th>\n",
       "      <td>585m² Vacant Land For Sale in Constantia</td>\n",
       "      <td>585.0</td>\n",
       "    </tr>\n",
       "    <tr>\n",
       "      <th>247</th>\n",
       "      <td>1,811m² Vacant Land Sold in Constantia</td>\n",
       "      <td>1811.0</td>\n",
       "    </tr>\n",
       "    <tr>\n",
       "      <th>257</th>\n",
       "      <td>1,344m² Vacant Land For Sale in Constantia</td>\n",
       "      <td>1344.0</td>\n",
       "    </tr>\n",
       "    <tr>\n",
       "      <th>263</th>\n",
       "      <td>1,222m² Vacant Land For Sale in Constantia</td>\n",
       "      <td>1222.0</td>\n",
       "    </tr>\n",
       "    <tr>\n",
       "      <th>270</th>\n",
       "      <td>17,587m² Vacant Land For Sale in Constantia</td>\n",
       "      <td>17587.0</td>\n",
       "    </tr>\n",
       "    <tr>\n",
       "      <th>276</th>\n",
       "      <td>4,014m² Vacant Land For Sale in Constantia</td>\n",
       "      <td>4014.0</td>\n",
       "    </tr>\n",
       "    <tr>\n",
       "      <th>290</th>\n",
       "      <td>4,003m² Vacant Land For Sale in Constantia</td>\n",
       "      <td>4003.0</td>\n",
       "    </tr>\n",
       "    <tr>\n",
       "      <th>292</th>\n",
       "      <td>1,344m² Vacant Land For Sale in Constantia</td>\n",
       "      <td>1344.0</td>\n",
       "    </tr>\n",
       "    <tr>\n",
       "      <th>313</th>\n",
       "      <td>1,600m² Vacant Land For Sale in Constantia</td>\n",
       "      <td>1600.0</td>\n",
       "    </tr>\n",
       "    <tr>\n",
       "      <th>403</th>\n",
       "      <td>1,980m² Vacant Land For Sale in Constantia</td>\n",
       "      <td>1980.0</td>\n",
       "    </tr>\n",
       "    <tr>\n",
       "      <th>433</th>\n",
       "      <td>2,448m² Vacant Land For Sale in Constantia</td>\n",
       "      <td>2448.0</td>\n",
       "    </tr>\n",
       "    <tr>\n",
       "      <th>437</th>\n",
       "      <td>1,600m² Vacant Land For Sale in Constantia</td>\n",
       "      <td>1600.0</td>\n",
       "    </tr>\n",
       "    <tr>\n",
       "      <th>450</th>\n",
       "      <td>1,006m² Vacant Land For Sale in Constantia</td>\n",
       "      <td>1006.0</td>\n",
       "    </tr>\n",
       "    <tr>\n",
       "      <th>530</th>\n",
       "      <td>1,052m² Vacant Land For Sale in Fresnaye</td>\n",
       "      <td>1052.0</td>\n",
       "    </tr>\n",
       "    <tr>\n",
       "      <th>565</th>\n",
       "      <td>1,600m² Vacant Land For Sale in Constantia</td>\n",
       "      <td>1600.0</td>\n",
       "    </tr>\n",
       "    <tr>\n",
       "      <th>612</th>\n",
       "      <td>2,000m² Vacant Land For Sale in Constantia</td>\n",
       "      <td>2000.0</td>\n",
       "    </tr>\n",
       "    <tr>\n",
       "      <th>613</th>\n",
       "      <td>1,600m² Vacant Land For Sale in Constantia</td>\n",
       "      <td>1600.0</td>\n",
       "    </tr>\n",
       "    <tr>\n",
       "      <th>629</th>\n",
       "      <td>1,730m² Vacant Land For Sale in Constantia</td>\n",
       "      <td>1730.0</td>\n",
       "    </tr>\n",
       "    <tr>\n",
       "      <th>630</th>\n",
       "      <td>2,000m² Vacant Land For Sale in Constantia</td>\n",
       "      <td>2000.0</td>\n",
       "    </tr>\n",
       "    <tr>\n",
       "      <th>634</th>\n",
       "      <td>2,268m² Vacant Land For Sale in Constantia</td>\n",
       "      <td>2268.0</td>\n",
       "    </tr>\n",
       "    <tr>\n",
       "      <th>639</th>\n",
       "      <td>270m² Vacant Land For Sale in Bantry Bay</td>\n",
       "      <td>270.0</td>\n",
       "    </tr>\n",
       "    <tr>\n",
       "      <th>813</th>\n",
       "      <td>8,189m² Vacant Land For Sale in Constantia</td>\n",
       "      <td>8189.0</td>\n",
       "    </tr>\n",
       "    <tr>\n",
       "      <th>969</th>\n",
       "      <td>712m² Vacant Land For Sale in Bantry Bay</td>\n",
       "      <td>712.0</td>\n",
       "    </tr>\n",
       "    <tr>\n",
       "      <th>1021</th>\n",
       "      <td>2,000m² Vacant Land For Sale in Constantia</td>\n",
       "      <td>2000.0</td>\n",
       "    </tr>\n",
       "    <tr>\n",
       "      <th>1022</th>\n",
       "      <td>1,700m² Vacant Land For Sale in Constantia</td>\n",
       "      <td>1700.0</td>\n",
       "    </tr>\n",
       "    <tr>\n",
       "      <th>1024</th>\n",
       "      <td>1,006m² Vacant Land For Sale in Constantia</td>\n",
       "      <td>1006.0</td>\n",
       "    </tr>\n",
       "    <tr>\n",
       "      <th>1025</th>\n",
       "      <td>1,774m² Vacant Land For Sale in Constantia Val...</td>\n",
       "      <td>1774.0</td>\n",
       "    </tr>\n",
       "    <tr>\n",
       "      <th>1033</th>\n",
       "      <td>270m² Vacant Land For Sale in Bantry Bay</td>\n",
       "      <td>270.0</td>\n",
       "    </tr>\n",
       "  </tbody>\n",
       "</table>\n",
       "</div>"
      ],
      "text/plain": [
       "                                                  title  erf_size\n",
       "7              673m² Vacant Land For Sale in Bantry Bay     673.0\n",
       "116          1,500m² Vacant Land For Sale in Constantia    1500.0\n",
       "117          1,573m² Vacant Land For Sale in Constantia    1573.0\n",
       "133          8,443m² Vacant Land For Sale in Constantia    8443.0\n",
       "155          1,344m² Vacant Land For Sale in Constantia    1344.0\n",
       "159          1,344m² Vacant Land For Sale in Constantia    1344.0\n",
       "179            673m² Vacant Land For Sale in Bantry Bay     673.0\n",
       "188          1,087m² Vacant Land For Sale in Constantia    1087.0\n",
       "207          1,087m² Vacant Land For Sale in Constantia    1087.0\n",
       "210          1,344m² Vacant Land For Sale in Constantia    1344.0\n",
       "238            585m² Vacant Land For Sale in Constantia     585.0\n",
       "247              1,811m² Vacant Land Sold in Constantia    1811.0\n",
       "257          1,344m² Vacant Land For Sale in Constantia    1344.0\n",
       "263          1,222m² Vacant Land For Sale in Constantia    1222.0\n",
       "270         17,587m² Vacant Land For Sale in Constantia   17587.0\n",
       "276          4,014m² Vacant Land For Sale in Constantia    4014.0\n",
       "290          4,003m² Vacant Land For Sale in Constantia    4003.0\n",
       "292          1,344m² Vacant Land For Sale in Constantia    1344.0\n",
       "313          1,600m² Vacant Land For Sale in Constantia    1600.0\n",
       "403          1,980m² Vacant Land For Sale in Constantia    1980.0\n",
       "433          2,448m² Vacant Land For Sale in Constantia    2448.0\n",
       "437          1,600m² Vacant Land For Sale in Constantia    1600.0\n",
       "450          1,006m² Vacant Land For Sale in Constantia    1006.0\n",
       "530            1,052m² Vacant Land For Sale in Fresnaye    1052.0\n",
       "565          1,600m² Vacant Land For Sale in Constantia    1600.0\n",
       "612          2,000m² Vacant Land For Sale in Constantia    2000.0\n",
       "613          1,600m² Vacant Land For Sale in Constantia    1600.0\n",
       "629          1,730m² Vacant Land For Sale in Constantia    1730.0\n",
       "630          2,000m² Vacant Land For Sale in Constantia    2000.0\n",
       "634          2,268m² Vacant Land For Sale in Constantia    2268.0\n",
       "639            270m² Vacant Land For Sale in Bantry Bay     270.0\n",
       "813          8,189m² Vacant Land For Sale in Constantia    8189.0\n",
       "969            712m² Vacant Land For Sale in Bantry Bay     712.0\n",
       "1021         2,000m² Vacant Land For Sale in Constantia    2000.0\n",
       "1022         1,700m² Vacant Land For Sale in Constantia    1700.0\n",
       "1024         1,006m² Vacant Land For Sale in Constantia    1006.0\n",
       "1025  1,774m² Vacant Land For Sale in Constantia Val...    1774.0\n",
       "1033           270m² Vacant Land For Sale in Bantry Bay     270.0"
      ]
     },
     "execution_count": 38,
     "metadata": {},
     "output_type": "execute_result"
    }
   ],
   "source": [
    "orbit.loc[num,['title','erf_size']]"
   ]
  },
  {
   "cell_type": "markdown",
   "metadata": {},
   "source": [
    "# Predicting Missing Values Using Imputers From sklearn.preprocessing"
   ]
  },
  {
   "cell_type": "markdown",
   "metadata": {},
   "source": [
    "# KNEAREST NEIGHBORS IMPUTER"
   ]
  },
  {
   "cell_type": "code",
   "execution_count": 403,
   "metadata": {},
   "outputs": [
    {
     "data": {
      "text/plain": [
       "Index(['agency', 'title', 'price', 'bedrooms', 'bathrooms', 'garages',\n",
       "       'parkings', 'area', 'offering', 'erf_size', 'floor_size',\n",
       "       'property_type'],\n",
       "      dtype='object')"
      ]
     },
     "execution_count": 403,
     "metadata": {},
     "output_type": "execute_result"
    }
   ],
   "source": [
    "orbit.columns"
   ]
  },
  {
   "cell_type": "code",
   "execution_count": 406,
   "metadata": {},
   "outputs": [
    {
     "data": {
      "text/html": [
       "<div>\n",
       "<style scoped>\n",
       "    .dataframe tbody tr th:only-of-type {\n",
       "        vertical-align: middle;\n",
       "    }\n",
       "\n",
       "    .dataframe tbody tr th {\n",
       "        vertical-align: top;\n",
       "    }\n",
       "\n",
       "    .dataframe thead th {\n",
       "        text-align: right;\n",
       "    }\n",
       "</style>\n",
       "<table border=\"1\" class=\"dataframe\">\n",
       "  <thead>\n",
       "    <tr style=\"text-align: right;\">\n",
       "      <th></th>\n",
       "      <th>agency</th>\n",
       "      <th>title</th>\n",
       "      <th>price</th>\n",
       "      <th>bedrooms</th>\n",
       "      <th>bathrooms</th>\n",
       "      <th>garages</th>\n",
       "      <th>parkings</th>\n",
       "      <th>area</th>\n",
       "      <th>offering</th>\n",
       "      <th>erf_size</th>\n",
       "      <th>floor_size</th>\n",
       "      <th>property_type</th>\n",
       "    </tr>\n",
       "  </thead>\n",
       "  <tbody>\n",
       "    <tr>\n",
       "      <th>0</th>\n",
       "      <td>dogon_group_properties</td>\n",
       "      <td>2 Bedroom Apartment For Sale in Fresnaye</td>\n",
       "      <td>5995000.0</td>\n",
       "      <td>2.0</td>\n",
       "      <td>2.0</td>\n",
       "      <td>NaN</td>\n",
       "      <td>2.0</td>\n",
       "      <td>Fresnaye</td>\n",
       "      <td>sale</td>\n",
       "      <td>NaN</td>\n",
       "      <td>129.0</td>\n",
       "      <td>apartment</td>\n",
       "    </tr>\n",
       "    <tr>\n",
       "      <th>1</th>\n",
       "      <td>dogon_group_properties</td>\n",
       "      <td>3 Bedroom Apartment For Sale in Bantry Bay</td>\n",
       "      <td>6490000.0</td>\n",
       "      <td>3.0</td>\n",
       "      <td>3.0</td>\n",
       "      <td>NaN</td>\n",
       "      <td>1.0</td>\n",
       "      <td>Bantry Bay</td>\n",
       "      <td>sale</td>\n",
       "      <td>NaN</td>\n",
       "      <td>140.0</td>\n",
       "      <td>apartment</td>\n",
       "    </tr>\n",
       "    <tr>\n",
       "      <th>2</th>\n",
       "      <td>dogon_group_properties</td>\n",
       "      <td>5 Bedroom House For Sale in Constantia</td>\n",
       "      <td>7995000.0</td>\n",
       "      <td>5.0</td>\n",
       "      <td>5.0</td>\n",
       "      <td>2.0</td>\n",
       "      <td>NaN</td>\n",
       "      <td>Constantia</td>\n",
       "      <td>sale</td>\n",
       "      <td>1375.0</td>\n",
       "      <td>NaN</td>\n",
       "      <td>house</td>\n",
       "    </tr>\n",
       "    <tr>\n",
       "      <th>3</th>\n",
       "      <td>dogon_group_properties</td>\n",
       "      <td>7 Bedroom House For Sale in Fresnaye</td>\n",
       "      <td>32950000.0</td>\n",
       "      <td>7.0</td>\n",
       "      <td>5.0</td>\n",
       "      <td>2.0</td>\n",
       "      <td>6.0</td>\n",
       "      <td>Fresnaye</td>\n",
       "      <td>sale</td>\n",
       "      <td>636.0</td>\n",
       "      <td>NaN</td>\n",
       "      <td>house</td>\n",
       "    </tr>\n",
       "    <tr>\n",
       "      <th>4</th>\n",
       "      <td>dogon_group_properties</td>\n",
       "      <td>5 Bedroom House For Sale in Constantia</td>\n",
       "      <td>25900000.0</td>\n",
       "      <td>5.0</td>\n",
       "      <td>5.0</td>\n",
       "      <td>3.0</td>\n",
       "      <td>8.0</td>\n",
       "      <td>Constantia</td>\n",
       "      <td>sale</td>\n",
       "      <td>4000.0</td>\n",
       "      <td>800.0</td>\n",
       "      <td>house</td>\n",
       "    </tr>\n",
       "  </tbody>\n",
       "</table>\n",
       "</div>"
      ],
      "text/plain": [
       "                   agency                                       title  \\\n",
       "0  dogon_group_properties    2 Bedroom Apartment For Sale in Fresnaye   \n",
       "1  dogon_group_properties  3 Bedroom Apartment For Sale in Bantry Bay   \n",
       "2  dogon_group_properties      5 Bedroom House For Sale in Constantia   \n",
       "3  dogon_group_properties        7 Bedroom House For Sale in Fresnaye   \n",
       "4  dogon_group_properties      5 Bedroom House For Sale in Constantia   \n",
       "\n",
       "        price  bedrooms  bathrooms  garages  parkings        area offering  \\\n",
       "0   5995000.0       2.0        2.0      NaN       2.0    Fresnaye     sale   \n",
       "1   6490000.0       3.0        3.0      NaN       1.0  Bantry Bay     sale   \n",
       "2   7995000.0       5.0        5.0      2.0       NaN  Constantia     sale   \n",
       "3  32950000.0       7.0        5.0      2.0       6.0    Fresnaye     sale   \n",
       "4  25900000.0       5.0        5.0      3.0       8.0  Constantia     sale   \n",
       "\n",
       "   erf_size  floor_size property_type  \n",
       "0       NaN       129.0     apartment  \n",
       "1       NaN       140.0     apartment  \n",
       "2    1375.0         NaN         house  \n",
       "3     636.0         NaN         house  \n",
       "4    4000.0       800.0         house  "
      ]
     },
     "execution_count": 406,
     "metadata": {},
     "output_type": "execute_result"
    }
   ],
   "source": [
    "orbit.head()"
   ]
  },
  {
   "cell_type": "markdown",
   "metadata": {},
   "source": [
    "Here I used the KNNImputer to fill the missing values in the variables 'price', \"garages\",\"parkings\",\"erf_size\",\"floor_size\"\n",
    "by predicting the values using the KNNImputer library.\n",
    "We go through a range of values from 1 to 20, for the parameter 'n_neighbors' in the KNNImputer\n",
    "as we want to find which value of 'n_neighbors' gives the maximum value\n",
    "of correlation between the target variable 'price' and the feature 'floor_size'.\n",
    "The reason I have selected  the variable 'floor_size' to calculate the correlation with\n",
    "the target variable 'price' is that, before imputing the missing values\n",
    "the target variable 'price' had the highest corrleation with\n",
    "the independent variable 'floor_size' which was 0.5319914806523912.\n",
    "Now I am finding the maximum correaltion value between the\n",
    "target variable 'price' and the variable 'floor_size'\n",
    "after the missing values are imputed using the KNNImputer,\n",
    "for different values of the parameter 'n_neighbors' and then\n",
    "compare it with 0.5319914806523912, whcih is the correlation\n",
    "for the original dataset whcih consists of missing values."
   ]
  },
  {
   "cell_type": "code",
   "execution_count": 367,
   "metadata": {},
   "outputs": [],
   "source": [
    "list = [1,2,3,4,5,6,7,8,9,10,11,12,13,14,15,16,17,18,19,20]"
   ]
  },
  {
   "cell_type": "code",
   "execution_count": 409,
   "metadata": {},
   "outputs": [
    {
     "name": "stderr",
     "output_type": "stream",
     "text": [
      "C:\\Users\\Lenovo\\Anaconda3\\lib\\site-packages\\missingpy\\knnimpute.py:224: UserWarning: There are rows with more than 50.0% missing values. These rows are not included as donor neighbors.\n",
      "  .format(self.row_max_missing * 100))\n",
      "C:\\Users\\Lenovo\\Anaconda3\\lib\\site-packages\\missingpy\\knnimpute.py:282: UserWarning: There are rows with more than 50.0% missing values. The missing features in these rows are imputed with column means.\n",
      "  .format(self.row_max_missing * 100))\n",
      "C:\\Users\\Lenovo\\Anaconda3\\lib\\site-packages\\sklearn\\utils\\validation.py:432: DeprecationWarning: 'warn_on_dtype' is deprecated in version 0.21 and will be removed in 0.23. Don't set `warn_on_dtype` to remove this warning.\n",
      "  DeprecationWarning)\n",
      "C:\\Users\\Lenovo\\Anaconda3\\lib\\site-packages\\sklearn\\utils\\validation.py:432: DeprecationWarning: 'warn_on_dtype' is deprecated in version 0.21 and will be removed in 0.23. Don't set `warn_on_dtype` to remove this warning.\n",
      "  DeprecationWarning)\n",
      "C:\\Users\\Lenovo\\Anaconda3\\lib\\site-packages\\missingpy\\knnimpute.py:224: UserWarning: There are rows with more than 50.0% missing values. These rows are not included as donor neighbors.\n",
      "  .format(self.row_max_missing * 100))\n",
      "C:\\Users\\Lenovo\\Anaconda3\\lib\\site-packages\\missingpy\\knnimpute.py:282: UserWarning: There are rows with more than 50.0% missing values. The missing features in these rows are imputed with column means.\n",
      "  .format(self.row_max_missing * 100))\n",
      "C:\\Users\\Lenovo\\Anaconda3\\lib\\site-packages\\sklearn\\utils\\validation.py:432: DeprecationWarning: 'warn_on_dtype' is deprecated in version 0.21 and will be removed in 0.23. Don't set `warn_on_dtype` to remove this warning.\n",
      "  DeprecationWarning)\n",
      "C:\\Users\\Lenovo\\Anaconda3\\lib\\site-packages\\sklearn\\utils\\validation.py:432: DeprecationWarning: 'warn_on_dtype' is deprecated in version 0.21 and will be removed in 0.23. Don't set `warn_on_dtype` to remove this warning.\n",
      "  DeprecationWarning)\n",
      "C:\\Users\\Lenovo\\Anaconda3\\lib\\site-packages\\missingpy\\knnimpute.py:224: UserWarning: There are rows with more than 50.0% missing values. These rows are not included as donor neighbors.\n",
      "  .format(self.row_max_missing * 100))\n",
      "C:\\Users\\Lenovo\\Anaconda3\\lib\\site-packages\\missingpy\\knnimpute.py:282: UserWarning: There are rows with more than 50.0% missing values. The missing features in these rows are imputed with column means.\n",
      "  .format(self.row_max_missing * 100))\n",
      "C:\\Users\\Lenovo\\Anaconda3\\lib\\site-packages\\sklearn\\utils\\validation.py:432: DeprecationWarning: 'warn_on_dtype' is deprecated in version 0.21 and will be removed in 0.23. Don't set `warn_on_dtype` to remove this warning.\n",
      "  DeprecationWarning)\n",
      "C:\\Users\\Lenovo\\Anaconda3\\lib\\site-packages\\sklearn\\utils\\validation.py:432: DeprecationWarning: 'warn_on_dtype' is deprecated in version 0.21 and will be removed in 0.23. Don't set `warn_on_dtype` to remove this warning.\n",
      "  DeprecationWarning)\n",
      "C:\\Users\\Lenovo\\Anaconda3\\lib\\site-packages\\missingpy\\knnimpute.py:224: UserWarning: There are rows with more than 50.0% missing values. These rows are not included as donor neighbors.\n",
      "  .format(self.row_max_missing * 100))\n",
      "C:\\Users\\Lenovo\\Anaconda3\\lib\\site-packages\\missingpy\\knnimpute.py:282: UserWarning: There are rows with more than 50.0% missing values. The missing features in these rows are imputed with column means.\n",
      "  .format(self.row_max_missing * 100))\n",
      "C:\\Users\\Lenovo\\Anaconda3\\lib\\site-packages\\sklearn\\utils\\validation.py:432: DeprecationWarning: 'warn_on_dtype' is deprecated in version 0.21 and will be removed in 0.23. Don't set `warn_on_dtype` to remove this warning.\n",
      "  DeprecationWarning)\n",
      "C:\\Users\\Lenovo\\Anaconda3\\lib\\site-packages\\sklearn\\utils\\validation.py:432: DeprecationWarning: 'warn_on_dtype' is deprecated in version 0.21 and will be removed in 0.23. Don't set `warn_on_dtype` to remove this warning.\n",
      "  DeprecationWarning)\n",
      "C:\\Users\\Lenovo\\Anaconda3\\lib\\site-packages\\missingpy\\knnimpute.py:224: UserWarning: There are rows with more than 50.0% missing values. These rows are not included as donor neighbors.\n",
      "  .format(self.row_max_missing * 100))\n",
      "C:\\Users\\Lenovo\\Anaconda3\\lib\\site-packages\\missingpy\\knnimpute.py:282: UserWarning: There are rows with more than 50.0% missing values. The missing features in these rows are imputed with column means.\n",
      "  .format(self.row_max_missing * 100))\n",
      "C:\\Users\\Lenovo\\Anaconda3\\lib\\site-packages\\sklearn\\utils\\validation.py:432: DeprecationWarning: 'warn_on_dtype' is deprecated in version 0.21 and will be removed in 0.23. Don't set `warn_on_dtype` to remove this warning.\n",
      "  DeprecationWarning)\n",
      "C:\\Users\\Lenovo\\Anaconda3\\lib\\site-packages\\sklearn\\utils\\validation.py:432: DeprecationWarning: 'warn_on_dtype' is deprecated in version 0.21 and will be removed in 0.23. Don't set `warn_on_dtype` to remove this warning.\n",
      "  DeprecationWarning)\n",
      "C:\\Users\\Lenovo\\Anaconda3\\lib\\site-packages\\missingpy\\knnimpute.py:224: UserWarning: There are rows with more than 50.0% missing values. These rows are not included as donor neighbors.\n",
      "  .format(self.row_max_missing * 100))\n",
      "C:\\Users\\Lenovo\\Anaconda3\\lib\\site-packages\\missingpy\\knnimpute.py:282: UserWarning: There are rows with more than 50.0% missing values. The missing features in these rows are imputed with column means.\n",
      "  .format(self.row_max_missing * 100))\n",
      "C:\\Users\\Lenovo\\Anaconda3\\lib\\site-packages\\sklearn\\utils\\validation.py:432: DeprecationWarning: 'warn_on_dtype' is deprecated in version 0.21 and will be removed in 0.23. Don't set `warn_on_dtype` to remove this warning.\n",
      "  DeprecationWarning)\n",
      "C:\\Users\\Lenovo\\Anaconda3\\lib\\site-packages\\sklearn\\utils\\validation.py:432: DeprecationWarning: 'warn_on_dtype' is deprecated in version 0.21 and will be removed in 0.23. Don't set `warn_on_dtype` to remove this warning.\n",
      "  DeprecationWarning)\n",
      "C:\\Users\\Lenovo\\Anaconda3\\lib\\site-packages\\missingpy\\knnimpute.py:224: UserWarning: There are rows with more than 50.0% missing values. These rows are not included as donor neighbors.\n",
      "  .format(self.row_max_missing * 100))\n",
      "C:\\Users\\Lenovo\\Anaconda3\\lib\\site-packages\\missingpy\\knnimpute.py:282: UserWarning: There are rows with more than 50.0% missing values. The missing features in these rows are imputed with column means.\n",
      "  .format(self.row_max_missing * 100))\n",
      "C:\\Users\\Lenovo\\Anaconda3\\lib\\site-packages\\sklearn\\utils\\validation.py:432: DeprecationWarning: 'warn_on_dtype' is deprecated in version 0.21 and will be removed in 0.23. Don't set `warn_on_dtype` to remove this warning.\n",
      "  DeprecationWarning)\n",
      "C:\\Users\\Lenovo\\Anaconda3\\lib\\site-packages\\sklearn\\utils\\validation.py:432: DeprecationWarning: 'warn_on_dtype' is deprecated in version 0.21 and will be removed in 0.23. Don't set `warn_on_dtype` to remove this warning.\n",
      "  DeprecationWarning)\n",
      "C:\\Users\\Lenovo\\Anaconda3\\lib\\site-packages\\missingpy\\knnimpute.py:224: UserWarning: There are rows with more than 50.0% missing values. These rows are not included as donor neighbors.\n",
      "  .format(self.row_max_missing * 100))\n",
      "C:\\Users\\Lenovo\\Anaconda3\\lib\\site-packages\\missingpy\\knnimpute.py:282: UserWarning: There are rows with more than 50.0% missing values. The missing features in these rows are imputed with column means.\n",
      "  .format(self.row_max_missing * 100))\n",
      "C:\\Users\\Lenovo\\Anaconda3\\lib\\site-packages\\sklearn\\utils\\validation.py:432: DeprecationWarning: 'warn_on_dtype' is deprecated in version 0.21 and will be removed in 0.23. Don't set `warn_on_dtype` to remove this warning.\n",
      "  DeprecationWarning)\n",
      "C:\\Users\\Lenovo\\Anaconda3\\lib\\site-packages\\sklearn\\utils\\validation.py:432: DeprecationWarning: 'warn_on_dtype' is deprecated in version 0.21 and will be removed in 0.23. Don't set `warn_on_dtype` to remove this warning.\n",
      "  DeprecationWarning)\n",
      "C:\\Users\\Lenovo\\Anaconda3\\lib\\site-packages\\missingpy\\knnimpute.py:224: UserWarning: There are rows with more than 50.0% missing values. These rows are not included as donor neighbors.\n",
      "  .format(self.row_max_missing * 100))\n",
      "C:\\Users\\Lenovo\\Anaconda3\\lib\\site-packages\\missingpy\\knnimpute.py:282: UserWarning: There are rows with more than 50.0% missing values. The missing features in these rows are imputed with column means.\n",
      "  .format(self.row_max_missing * 100))\n",
      "C:\\Users\\Lenovo\\Anaconda3\\lib\\site-packages\\sklearn\\utils\\validation.py:432: DeprecationWarning: 'warn_on_dtype' is deprecated in version 0.21 and will be removed in 0.23. Don't set `warn_on_dtype` to remove this warning.\n",
      "  DeprecationWarning)\n",
      "C:\\Users\\Lenovo\\Anaconda3\\lib\\site-packages\\sklearn\\utils\\validation.py:432: DeprecationWarning: 'warn_on_dtype' is deprecated in version 0.21 and will be removed in 0.23. Don't set `warn_on_dtype` to remove this warning.\n",
      "  DeprecationWarning)\n",
      "C:\\Users\\Lenovo\\Anaconda3\\lib\\site-packages\\missingpy\\knnimpute.py:224: UserWarning: There are rows with more than 50.0% missing values. These rows are not included as donor neighbors.\n",
      "  .format(self.row_max_missing * 100))\n",
      "C:\\Users\\Lenovo\\Anaconda3\\lib\\site-packages\\missingpy\\knnimpute.py:282: UserWarning: There are rows with more than 50.0% missing values. The missing features in these rows are imputed with column means.\n",
      "  .format(self.row_max_missing * 100))\n",
      "C:\\Users\\Lenovo\\Anaconda3\\lib\\site-packages\\sklearn\\utils\\validation.py:432: DeprecationWarning: 'warn_on_dtype' is deprecated in version 0.21 and will be removed in 0.23. Don't set `warn_on_dtype` to remove this warning.\n",
      "  DeprecationWarning)\n",
      "C:\\Users\\Lenovo\\Anaconda3\\lib\\site-packages\\sklearn\\utils\\validation.py:432: DeprecationWarning: 'warn_on_dtype' is deprecated in version 0.21 and will be removed in 0.23. Don't set `warn_on_dtype` to remove this warning.\n",
      "  DeprecationWarning)\n",
      "C:\\Users\\Lenovo\\Anaconda3\\lib\\site-packages\\missingpy\\knnimpute.py:224: UserWarning: There are rows with more than 50.0% missing values. These rows are not included as donor neighbors.\n",
      "  .format(self.row_max_missing * 100))\n",
      "C:\\Users\\Lenovo\\Anaconda3\\lib\\site-packages\\missingpy\\knnimpute.py:282: UserWarning: There are rows with more than 50.0% missing values. The missing features in these rows are imputed with column means.\n",
      "  .format(self.row_max_missing * 100))\n",
      "C:\\Users\\Lenovo\\Anaconda3\\lib\\site-packages\\sklearn\\utils\\validation.py:432: DeprecationWarning: 'warn_on_dtype' is deprecated in version 0.21 and will be removed in 0.23. Don't set `warn_on_dtype` to remove this warning.\n",
      "  DeprecationWarning)\n",
      "C:\\Users\\Lenovo\\Anaconda3\\lib\\site-packages\\sklearn\\utils\\validation.py:432: DeprecationWarning: 'warn_on_dtype' is deprecated in version 0.21 and will be removed in 0.23. Don't set `warn_on_dtype` to remove this warning.\n",
      "  DeprecationWarning)\n",
      "C:\\Users\\Lenovo\\Anaconda3\\lib\\site-packages\\missingpy\\knnimpute.py:224: UserWarning: There are rows with more than 50.0% missing values. These rows are not included as donor neighbors.\n",
      "  .format(self.row_max_missing * 100))\n",
      "C:\\Users\\Lenovo\\Anaconda3\\lib\\site-packages\\missingpy\\knnimpute.py:282: UserWarning: There are rows with more than 50.0% missing values. The missing features in these rows are imputed with column means.\n",
      "  .format(self.row_max_missing * 100))\n",
      "C:\\Users\\Lenovo\\Anaconda3\\lib\\site-packages\\sklearn\\utils\\validation.py:432: DeprecationWarning: 'warn_on_dtype' is deprecated in version 0.21 and will be removed in 0.23. Don't set `warn_on_dtype` to remove this warning.\n",
      "  DeprecationWarning)\n",
      "C:\\Users\\Lenovo\\Anaconda3\\lib\\site-packages\\sklearn\\utils\\validation.py:432: DeprecationWarning: 'warn_on_dtype' is deprecated in version 0.21 and will be removed in 0.23. Don't set `warn_on_dtype` to remove this warning.\n",
      "  DeprecationWarning)\n",
      "C:\\Users\\Lenovo\\Anaconda3\\lib\\site-packages\\missingpy\\knnimpute.py:224: UserWarning: There are rows with more than 50.0% missing values. These rows are not included as donor neighbors.\n",
      "  .format(self.row_max_missing * 100))\n",
      "C:\\Users\\Lenovo\\Anaconda3\\lib\\site-packages\\missingpy\\knnimpute.py:282: UserWarning: There are rows with more than 50.0% missing values. The missing features in these rows are imputed with column means.\n",
      "  .format(self.row_max_missing * 100))\n",
      "C:\\Users\\Lenovo\\Anaconda3\\lib\\site-packages\\sklearn\\utils\\validation.py:432: DeprecationWarning: 'warn_on_dtype' is deprecated in version 0.21 and will be removed in 0.23. Don't set `warn_on_dtype` to remove this warning.\n",
      "  DeprecationWarning)\n",
      "C:\\Users\\Lenovo\\Anaconda3\\lib\\site-packages\\sklearn\\utils\\validation.py:432: DeprecationWarning: 'warn_on_dtype' is deprecated in version 0.21 and will be removed in 0.23. Don't set `warn_on_dtype` to remove this warning.\n",
      "  DeprecationWarning)\n",
      "C:\\Users\\Lenovo\\Anaconda3\\lib\\site-packages\\missingpy\\knnimpute.py:224: UserWarning: There are rows with more than 50.0% missing values. These rows are not included as donor neighbors.\n",
      "  .format(self.row_max_missing * 100))\n",
      "C:\\Users\\Lenovo\\Anaconda3\\lib\\site-packages\\missingpy\\knnimpute.py:282: UserWarning: There are rows with more than 50.0% missing values. The missing features in these rows are imputed with column means.\n",
      "  .format(self.row_max_missing * 100))\n",
      "C:\\Users\\Lenovo\\Anaconda3\\lib\\site-packages\\sklearn\\utils\\validation.py:432: DeprecationWarning: 'warn_on_dtype' is deprecated in version 0.21 and will be removed in 0.23. Don't set `warn_on_dtype` to remove this warning.\n",
      "  DeprecationWarning)\n",
      "C:\\Users\\Lenovo\\Anaconda3\\lib\\site-packages\\sklearn\\utils\\validation.py:432: DeprecationWarning: 'warn_on_dtype' is deprecated in version 0.21 and will be removed in 0.23. Don't set `warn_on_dtype` to remove this warning.\n",
      "  DeprecationWarning)\n",
      "C:\\Users\\Lenovo\\Anaconda3\\lib\\site-packages\\missingpy\\knnimpute.py:224: UserWarning: There are rows with more than 50.0% missing values. These rows are not included as donor neighbors.\n",
      "  .format(self.row_max_missing * 100))\n",
      "C:\\Users\\Lenovo\\Anaconda3\\lib\\site-packages\\missingpy\\knnimpute.py:282: UserWarning: There are rows with more than 50.0% missing values. The missing features in these rows are imputed with column means.\n",
      "  .format(self.row_max_missing * 100))\n",
      "C:\\Users\\Lenovo\\Anaconda3\\lib\\site-packages\\sklearn\\utils\\validation.py:432: DeprecationWarning: 'warn_on_dtype' is deprecated in version 0.21 and will be removed in 0.23. Don't set `warn_on_dtype` to remove this warning.\n",
      "  DeprecationWarning)\n",
      "C:\\Users\\Lenovo\\Anaconda3\\lib\\site-packages\\sklearn\\utils\\validation.py:432: DeprecationWarning: 'warn_on_dtype' is deprecated in version 0.21 and will be removed in 0.23. Don't set `warn_on_dtype` to remove this warning.\n",
      "  DeprecationWarning)\n",
      "C:\\Users\\Lenovo\\Anaconda3\\lib\\site-packages\\missingpy\\knnimpute.py:224: UserWarning: There are rows with more than 50.0% missing values. These rows are not included as donor neighbors.\n",
      "  .format(self.row_max_missing * 100))\n",
      "C:\\Users\\Lenovo\\Anaconda3\\lib\\site-packages\\missingpy\\knnimpute.py:282: UserWarning: There are rows with more than 50.0% missing values. The missing features in these rows are imputed with column means.\n",
      "  .format(self.row_max_missing * 100))\n",
      "C:\\Users\\Lenovo\\Anaconda3\\lib\\site-packages\\sklearn\\utils\\validation.py:432: DeprecationWarning: 'warn_on_dtype' is deprecated in version 0.21 and will be removed in 0.23. Don't set `warn_on_dtype` to remove this warning.\n",
      "  DeprecationWarning)\n",
      "C:\\Users\\Lenovo\\Anaconda3\\lib\\site-packages\\sklearn\\utils\\validation.py:432: DeprecationWarning: 'warn_on_dtype' is deprecated in version 0.21 and will be removed in 0.23. Don't set `warn_on_dtype` to remove this warning.\n",
      "  DeprecationWarning)\n",
      "C:\\Users\\Lenovo\\Anaconda3\\lib\\site-packages\\missingpy\\knnimpute.py:224: UserWarning: There are rows with more than 50.0% missing values. These rows are not included as donor neighbors.\n",
      "  .format(self.row_max_missing * 100))\n",
      "C:\\Users\\Lenovo\\Anaconda3\\lib\\site-packages\\missingpy\\knnimpute.py:282: UserWarning: There are rows with more than 50.0% missing values. The missing features in these rows are imputed with column means.\n",
      "  .format(self.row_max_missing * 100))\n",
      "C:\\Users\\Lenovo\\Anaconda3\\lib\\site-packages\\sklearn\\utils\\validation.py:432: DeprecationWarning: 'warn_on_dtype' is deprecated in version 0.21 and will be removed in 0.23. Don't set `warn_on_dtype` to remove this warning.\n",
      "  DeprecationWarning)\n",
      "C:\\Users\\Lenovo\\Anaconda3\\lib\\site-packages\\sklearn\\utils\\validation.py:432: DeprecationWarning: 'warn_on_dtype' is deprecated in version 0.21 and will be removed in 0.23. Don't set `warn_on_dtype` to remove this warning.\n",
      "  DeprecationWarning)\n",
      "C:\\Users\\Lenovo\\Anaconda3\\lib\\site-packages\\missingpy\\knnimpute.py:224: UserWarning: There are rows with more than 50.0% missing values. These rows are not included as donor neighbors.\n",
      "  .format(self.row_max_missing * 100))\n",
      "C:\\Users\\Lenovo\\Anaconda3\\lib\\site-packages\\missingpy\\knnimpute.py:282: UserWarning: There are rows with more than 50.0% missing values. The missing features in these rows are imputed with column means.\n",
      "  .format(self.row_max_missing * 100))\n",
      "C:\\Users\\Lenovo\\Anaconda3\\lib\\site-packages\\sklearn\\utils\\validation.py:432: DeprecationWarning: 'warn_on_dtype' is deprecated in version 0.21 and will be removed in 0.23. Don't set `warn_on_dtype` to remove this warning.\n",
      "  DeprecationWarning)\n",
      "C:\\Users\\Lenovo\\Anaconda3\\lib\\site-packages\\sklearn\\utils\\validation.py:432: DeprecationWarning: 'warn_on_dtype' is deprecated in version 0.21 and will be removed in 0.23. Don't set `warn_on_dtype` to remove this warning.\n",
      "  DeprecationWarning)\n",
      "C:\\Users\\Lenovo\\Anaconda3\\lib\\site-packages\\missingpy\\knnimpute.py:224: UserWarning: There are rows with more than 50.0% missing values. These rows are not included as donor neighbors.\n",
      "  .format(self.row_max_missing * 100))\n",
      "C:\\Users\\Lenovo\\Anaconda3\\lib\\site-packages\\missingpy\\knnimpute.py:282: UserWarning: There are rows with more than 50.0% missing values. The missing features in these rows are imputed with column means.\n",
      "  .format(self.row_max_missing * 100))\n",
      "C:\\Users\\Lenovo\\Anaconda3\\lib\\site-packages\\sklearn\\utils\\validation.py:432: DeprecationWarning: 'warn_on_dtype' is deprecated in version 0.21 and will be removed in 0.23. Don't set `warn_on_dtype` to remove this warning.\n",
      "  DeprecationWarning)\n",
      "C:\\Users\\Lenovo\\Anaconda3\\lib\\site-packages\\sklearn\\utils\\validation.py:432: DeprecationWarning: 'warn_on_dtype' is deprecated in version 0.21 and will be removed in 0.23. Don't set `warn_on_dtype` to remove this warning.\n",
      "  DeprecationWarning)\n",
      "C:\\Users\\Lenovo\\Anaconda3\\lib\\site-packages\\missingpy\\knnimpute.py:224: UserWarning: There are rows with more than 50.0% missing values. These rows are not included as donor neighbors.\n",
      "  .format(self.row_max_missing * 100))\n",
      "C:\\Users\\Lenovo\\Anaconda3\\lib\\site-packages\\missingpy\\knnimpute.py:282: UserWarning: There are rows with more than 50.0% missing values. The missing features in these rows are imputed with column means.\n",
      "  .format(self.row_max_missing * 100))\n",
      "C:\\Users\\Lenovo\\Anaconda3\\lib\\site-packages\\sklearn\\utils\\validation.py:432: DeprecationWarning: 'warn_on_dtype' is deprecated in version 0.21 and will be removed in 0.23. Don't set `warn_on_dtype` to remove this warning.\n",
      "  DeprecationWarning)\n",
      "C:\\Users\\Lenovo\\Anaconda3\\lib\\site-packages\\sklearn\\utils\\validation.py:432: DeprecationWarning: 'warn_on_dtype' is deprecated in version 0.21 and will be removed in 0.23. Don't set `warn_on_dtype` to remove this warning.\n",
      "  DeprecationWarning)\n"
     ]
    }
   ],
   "source": [
    "#KNN IMPUTER\n",
    "\n",
    "orbit20 = orbit\n",
    "from missingpy import KNNImputer\n",
    "\n",
    "data_information = []\n",
    "correlation_list = []\n",
    "\n",
    "for i in list:\n",
    "\n",
    "    data = orbit20.iloc[:,[2,5,6,9,10]].values\n",
    "    imputer = KNNImputer(n_neighbors=i,weights='uniform')\n",
    "    data[:,:]=imputer.fit_transform(data[:,:])\n",
    "    data_information.append(data)\n",
    "    \n",
    "    \n",
    "for data in data_information:\n",
    "    data_new = pd.DataFrame(data=data, columns=[\"price\", \"garages\",\"parkings\",\"erf_size\",\"floor_size\"])\n",
    "    corr = (data_new['price'].corr(data_new['floor_size']))\n",
    "    correlation_list.append(corr)\n",
    "    "
   ]
  },
  {
   "cell_type": "code",
   "execution_count": 410,
   "metadata": {},
   "outputs": [],
   "source": [
    "max_corr = max(correlation_list)"
   ]
  },
  {
   "cell_type": "code",
   "execution_count": 411,
   "metadata": {},
   "outputs": [
    {
     "data": {
      "text/plain": [
       "0.4233518730063556"
      ]
     },
     "execution_count": 411,
     "metadata": {},
     "output_type": "execute_result"
    }
   ],
   "source": [
    "max_corr"
   ]
  },
  {
   "cell_type": "code",
   "execution_count": 412,
   "metadata": {},
   "outputs": [
    {
     "data": {
      "text/plain": [
       "[0.30210207477733914,\n",
       " 0.37549721793915275,\n",
       " 0.392773618705637,\n",
       " 0.39836676069087773,\n",
       " 0.42178330727221486,\n",
       " 0.4233518730063556,\n",
       " 0.42140911695708255,\n",
       " 0.4177183661201356,\n",
       " 0.41738385139190504,\n",
       " 0.4144103206775005,\n",
       " 0.4130177434909629,\n",
       " 0.40987146988067225,\n",
       " 0.4133261893612021,\n",
       " 0.4085250654648763,\n",
       " 0.4048498325276257,\n",
       " 0.4039288974008184,\n",
       " 0.4001260967601665,\n",
       " 0.39523123194695253,\n",
       " 0.3906290586316774,\n",
       " 0.3876250704962517]"
      ]
     },
     "execution_count": 412,
     "metadata": {},
     "output_type": "execute_result"
    }
   ],
   "source": [
    "correlation_list"
   ]
  },
  {
   "cell_type": "code",
   "execution_count": 414,
   "metadata": {},
   "outputs": [
    {
     "data": {
      "text/plain": [
       "Text(0, 0.5, 'Correaltion of price with floor_size')"
      ]
     },
     "execution_count": 414,
     "metadata": {},
     "output_type": "execute_result"
    },
    {
     "data": {
      "image/png": "[encoded data removed]",
      "text/plain": [
       "<Figure size 432x288 with 1 Axes>"
      ]
     },
     "metadata": {
      "needs_background": "light"
     },
     "output_type": "display_data"
    }
   ],
   "source": [
    "no_neighbors = [1,2,3,4,5,6,7,8,9,10,11,12,13,14,15,16,17,18,19,20]\n",
    "plt.plot(no_neighbors, correlation_list, 'b')\n",
    "plt.xlabel(\"Nummber of Neighbors\")\n",
    "plt.ylabel(\"Correaltion of price with floor_size\")"
   ]
  },
  {
   "cell_type": "markdown",
   "metadata": {},
   "source": [
    "Here we observe that the maximum correlation between the target variable\n",
    "'price' and the independent variable 'floor_size' is 0.4233518730063556, when the value for 'n_neighbors' \n",
    "is 6. This value is less than the value of correlation for the orignal dataset,\n",
    "hence we move on to another Imputer to fill the missing values as after the missing values \n",
    "were filled using the KNNImputer the correlation decreased whcih is not desirable."
   ]
  },
  {
   "cell_type": "code",
   "execution_count": 567,
   "metadata": {},
   "outputs": [
    {
     "data": {
      "text/html": [
       "<div>\n",
       "<style scoped>\n",
       "    .dataframe tbody tr th:only-of-type {\n",
       "        vertical-align: middle;\n",
       "    }\n",
       "\n",
       "    .dataframe tbody tr th {\n",
       "        vertical-align: top;\n",
       "    }\n",
       "\n",
       "    .dataframe thead th {\n",
       "        text-align: right;\n",
       "    }\n",
       "</style>\n",
       "<table border=\"1\" class=\"dataframe\">\n",
       "  <thead>\n",
       "    <tr style=\"text-align: right;\">\n",
       "      <th></th>\n",
       "      <th>price</th>\n",
       "      <th>garages</th>\n",
       "      <th>parkings</th>\n",
       "      <th>erf_size</th>\n",
       "      <th>floor_size</th>\n",
       "    </tr>\n",
       "  </thead>\n",
       "  <tbody>\n",
       "    <tr>\n",
       "      <th>0</th>\n",
       "      <td>5995000.0</td>\n",
       "      <td>0.828221</td>\n",
       "      <td>2.0</td>\n",
       "      <td>1006.660497</td>\n",
       "      <td>129.000000</td>\n",
       "    </tr>\n",
       "    <tr>\n",
       "      <th>1</th>\n",
       "      <td>6490000.0</td>\n",
       "      <td>1.000000</td>\n",
       "      <td>1.0</td>\n",
       "      <td>211.000000</td>\n",
       "      <td>140.000000</td>\n",
       "    </tr>\n",
       "    <tr>\n",
       "      <th>2</th>\n",
       "      <td>7995000.0</td>\n",
       "      <td>2.000000</td>\n",
       "      <td>2.0</td>\n",
       "      <td>1375.000000</td>\n",
       "      <td>167.928473</td>\n",
       "    </tr>\n",
       "    <tr>\n",
       "      <th>3</th>\n",
       "      <td>32950000.0</td>\n",
       "      <td>2.000000</td>\n",
       "      <td>6.0</td>\n",
       "      <td>636.000000</td>\n",
       "      <td>557.177556</td>\n",
       "    </tr>\n",
       "    <tr>\n",
       "      <th>4</th>\n",
       "      <td>25900000.0</td>\n",
       "      <td>3.000000</td>\n",
       "      <td>8.0</td>\n",
       "      <td>4000.000000</td>\n",
       "      <td>800.000000</td>\n",
       "    </tr>\n",
       "  </tbody>\n",
       "</table>\n",
       "</div>"
      ],
      "text/plain": [
       "        price   garages  parkings     erf_size  floor_size\n",
       "0   5995000.0  0.828221       2.0  1006.660497  129.000000\n",
       "1   6490000.0  1.000000       1.0   211.000000  140.000000\n",
       "2   7995000.0  2.000000       2.0  1375.000000  167.928473\n",
       "3  32950000.0  2.000000       6.0   636.000000  557.177556\n",
       "4  25900000.0  3.000000       8.0  4000.000000  800.000000"
      ]
     },
     "execution_count": 567,
     "metadata": {},
     "output_type": "execute_result"
    }
   ],
   "source": [
    "data_new.head()"
   ]
  },
  {
   "cell_type": "code",
   "execution_count": 416,
   "metadata": {},
   "outputs": [
    {
     "data": {
      "text/plain": [
       "price         0\n",
       "garages       0\n",
       "parkings      0\n",
       "erf_size      0\n",
       "floor_size    0\n",
       "dtype: int64"
      ]
     },
     "execution_count": 416,
     "metadata": {},
     "output_type": "execute_result"
    }
   ],
   "source": [
    "data_new.isnull().sum()"
   ]
  },
  {
   "cell_type": "markdown",
   "metadata": {},
   "source": [
    "The above values indicate that the missing values were filled successfully using \n",
    "the KNNImputer"
   ]
  },
  {
   "cell_type": "markdown",
   "metadata": {},
   "source": [
    "Now we move on to another Imputer, Iterative Imputer"
   ]
  },
  {
   "cell_type": "markdown",
   "metadata": {},
   "source": [
    "# ITERATIVE IMPUTER"
   ]
  },
  {
   "cell_type": "code",
   "execution_count": 447,
   "metadata": {},
   "outputs": [
    {
     "name": "stdout",
     "output_type": "stream",
     "text": [
      "correlation of price and floor_size is: 0.6703992976511615\n"
     ]
    }
   ],
   "source": [
    "from sklearn.impute import IterativeImputer\n",
    "from sklearn.tree import DecisionTreeRegressor\n",
    "\n",
    "x=orbit.iloc[:,[2,5,6,9,10]].values\n",
    "    \n",
    "imputer = IterativeImputer(missing_values=np.nan,max_iter =10,random_state=0,verbose=0,initial_strategy='mean')\n",
    "x[:,:]=imputer.fit_transform(x[:,:])\n",
    "data_ = pd.DataFrame(data=x, columns=[\"price\", \"garages\",\"parkings\",\"erf_size\",\"floor_size\"])\n",
    "cor = (data_['price'].corr(data_['floor_size']))\n",
    "\n",
    "print(\"correlation of price and floor_size is:\",cor)"
   ]
  },
  {
   "cell_type": "code",
   "execution_count": null,
   "metadata": {},
   "outputs": [],
   "source": [
    "data_.head()"
   ]
  },
  {
   "cell_type": "code",
   "execution_count": 445,
   "metadata": {},
   "outputs": [
    {
     "data": {
      "text/plain": [
       "price         0\n",
       "garages       0\n",
       "parkings      0\n",
       "erf_size      0\n",
       "floor_size    0\n",
       "dtype: int64"
      ]
     },
     "execution_count": 445,
     "metadata": {},
     "output_type": "execute_result"
    }
   ],
   "source": [
    "data_.isnull().sum()"
   ]
  },
  {
   "cell_type": "code",
   "execution_count": 446,
   "metadata": {},
   "outputs": [
    {
     "data": {
      "text/plain": [
       "Index(['agency', 'title', 'price', 'bedrooms', 'bathrooms', 'garages',\n",
       "       'parkings', 'area', 'offering', 'erf_size', 'floor_size',\n",
       "       'property_type'],\n",
       "      dtype='object')"
      ]
     },
     "execution_count": 446,
     "metadata": {},
     "output_type": "execute_result"
    }
   ],
   "source": [
    "orbit.columns"
   ]
  },
  {
   "cell_type": "code",
   "execution_count": 443,
   "metadata": {},
   "outputs": [
    {
     "data": {
      "text/plain": [
       "0.6703992976511615"
      ]
     },
     "execution_count": 443,
     "metadata": {},
     "output_type": "execute_result"
    }
   ],
   "source": [
    "data_['price'].corr(data_['floor_size'])"
   ]
  },
  {
   "cell_type": "code",
   "execution_count": 444,
   "metadata": {},
   "outputs": [
    {
     "data": {
      "text/plain": [
       "0.5319914806523912"
      ]
     },
     "execution_count": 444,
     "metadata": {},
     "output_type": "execute_result"
    }
   ],
   "source": [
    "orbit['price'].corr(orbit['floor_size'])"
   ]
  },
  {
   "cell_type": "markdown",
   "metadata": {},
   "source": [
    "Here we observe that the correlation between the target variable 'price' and\n",
    "the independent variable 'floor_size' is 0.6703992976511615 after the imputation of\n",
    "missing values using IterativeImpueter. This value is more than the correlation value for the \n",
    "orignal dataset. Hence we allow the imputation of the missing values\n",
    "using IterativeImputer into the orignal dataset."
   ]
  },
  {
   "cell_type": "code",
   "execution_count": 431,
   "metadata": {},
   "outputs": [
    {
     "data": {
      "text/plain": [
       "(1042, 5)"
      ]
     },
     "execution_count": 431,
     "metadata": {},
     "output_type": "execute_result"
    }
   ],
   "source": [
    "data_.shape"
   ]
  },
  {
   "cell_type": "code",
   "execution_count": 432,
   "metadata": {},
   "outputs": [
    {
     "data": {
      "text/plain": [
       "price         0\n",
       "garages       0\n",
       "parkings      0\n",
       "erf_size      0\n",
       "floor_size    0\n",
       "dtype: int64"
      ]
     },
     "execution_count": 432,
     "metadata": {},
     "output_type": "execute_result"
    }
   ],
   "source": [
    "data_.isnull().sum()"
   ]
  },
  {
   "cell_type": "markdown",
   "metadata": {},
   "source": [
    "# OFFERING "
   ]
  },
  {
   "cell_type": "code",
   "execution_count": 56,
   "metadata": {},
   "outputs": [
    {
     "data": {
      "text/plain": [
       "160"
      ]
     },
     "execution_count": 56,
     "metadata": {},
     "output_type": "execute_result"
    }
   ],
   "source": [
    "orbit['offering'].isnull().sum()"
   ]
  },
  {
   "cell_type": "code",
   "execution_count": 57,
   "metadata": {},
   "outputs": [
    {
     "data": {
      "text/html": [
       "<div>\n",
       "<style scoped>\n",
       "    .dataframe tbody tr th:only-of-type {\n",
       "        vertical-align: middle;\n",
       "    }\n",
       "\n",
       "    .dataframe tbody tr th {\n",
       "        vertical-align: top;\n",
       "    }\n",
       "\n",
       "    .dataframe thead th {\n",
       "        text-align: right;\n",
       "    }\n",
       "</style>\n",
       "<table border=\"1\" class=\"dataframe\">\n",
       "  <thead>\n",
       "    <tr style=\"text-align: right;\">\n",
       "      <th></th>\n",
       "      <th>agency</th>\n",
       "      <th>title</th>\n",
       "      <th>price</th>\n",
       "      <th>bedrooms</th>\n",
       "      <th>bathrooms</th>\n",
       "      <th>garages</th>\n",
       "      <th>parkings</th>\n",
       "      <th>area</th>\n",
       "      <th>offering</th>\n",
       "      <th>erf_size</th>\n",
       "      <th>floor_size</th>\n",
       "      <th>property_type</th>\n",
       "    </tr>\n",
       "  </thead>\n",
       "  <tbody>\n",
       "    <tr>\n",
       "      <th>48</th>\n",
       "      <td>pam_golding</td>\n",
       "      <td>5 bedroom house for sale in Bantry Bay</td>\n",
       "      <td>65000000.0</td>\n",
       "      <td>5.0</td>\n",
       "      <td>6.0</td>\n",
       "      <td>2.0</td>\n",
       "      <td>4.0</td>\n",
       "      <td>Bantry Bay</td>\n",
       "      <td>NaN</td>\n",
       "      <td>1486.0</td>\n",
       "      <td>NaN</td>\n",
       "      <td>house</td>\n",
       "    </tr>\n",
       "    <tr>\n",
       "      <th>49</th>\n",
       "      <td>pam_golding</td>\n",
       "      <td>3 bedroom house for sale in Bantry Bay</td>\n",
       "      <td>22995000.0</td>\n",
       "      <td>3.0</td>\n",
       "      <td>4.0</td>\n",
       "      <td>2.0</td>\n",
       "      <td>2.0</td>\n",
       "      <td>Bantry Bay</td>\n",
       "      <td>NaN</td>\n",
       "      <td>708.0</td>\n",
       "      <td>350.0</td>\n",
       "      <td>house</td>\n",
       "    </tr>\n",
       "    <tr>\n",
       "      <th>50</th>\n",
       "      <td>pam_golding</td>\n",
       "      <td>3 bedroom townhouse for sale in Fresnaye</td>\n",
       "      <td>16950000.0</td>\n",
       "      <td>3.0</td>\n",
       "      <td>3.0</td>\n",
       "      <td>2.0</td>\n",
       "      <td>2.0</td>\n",
       "      <td>Fresnaye</td>\n",
       "      <td>NaN</td>\n",
       "      <td>301.0</td>\n",
       "      <td>350.0</td>\n",
       "      <td>house</td>\n",
       "    </tr>\n",
       "    <tr>\n",
       "      <th>51</th>\n",
       "      <td>pam_golding</td>\n",
       "      <td>2 bedroom house for sale in Bakoven</td>\n",
       "      <td>16000000.0</td>\n",
       "      <td>2.0</td>\n",
       "      <td>2.0</td>\n",
       "      <td>1.0</td>\n",
       "      <td>NaN</td>\n",
       "      <td>Bakoven</td>\n",
       "      <td>NaN</td>\n",
       "      <td>211.0</td>\n",
       "      <td>NaN</td>\n",
       "      <td>house</td>\n",
       "    </tr>\n",
       "    <tr>\n",
       "      <th>52</th>\n",
       "      <td>pam_golding</td>\n",
       "      <td>5 bedroom house for sale in Constantia Upper</td>\n",
       "      <td>14995000.0</td>\n",
       "      <td>5.0</td>\n",
       "      <td>4.0</td>\n",
       "      <td>2.0</td>\n",
       "      <td>NaN</td>\n",
       "      <td>Constantia</td>\n",
       "      <td>NaN</td>\n",
       "      <td>1401.0</td>\n",
       "      <td>NaN</td>\n",
       "      <td>house</td>\n",
       "    </tr>\n",
       "    <tr>\n",
       "      <th>53</th>\n",
       "      <td>pam_golding</td>\n",
       "      <td>4 bedroom house for sale in Constantia Upper</td>\n",
       "      <td>16785000.0</td>\n",
       "      <td>4.0</td>\n",
       "      <td>NaN</td>\n",
       "      <td>4.0</td>\n",
       "      <td>4.0</td>\n",
       "      <td>Constantia</td>\n",
       "      <td>NaN</td>\n",
       "      <td>1953.0</td>\n",
       "      <td>NaN</td>\n",
       "      <td>house</td>\n",
       "    </tr>\n",
       "    <tr>\n",
       "      <th>54</th>\n",
       "      <td>pam_golding</td>\n",
       "      <td>5 bedroom house for sale in Fresnaye</td>\n",
       "      <td>15500000.0</td>\n",
       "      <td>5.0</td>\n",
       "      <td>3.0</td>\n",
       "      <td>3.0</td>\n",
       "      <td>NaN</td>\n",
       "      <td>Fresnaye</td>\n",
       "      <td>NaN</td>\n",
       "      <td>476.0</td>\n",
       "      <td>NaN</td>\n",
       "      <td>house</td>\n",
       "    </tr>\n",
       "    <tr>\n",
       "      <th>55</th>\n",
       "      <td>pam_golding</td>\n",
       "      <td>619 m² residential vacant land for sale in Ban...</td>\n",
       "      <td>20000000.0</td>\n",
       "      <td>0.0</td>\n",
       "      <td>0.0</td>\n",
       "      <td>NaN</td>\n",
       "      <td>NaN</td>\n",
       "      <td>Bantry Bay</td>\n",
       "      <td>NaN</td>\n",
       "      <td>619.0</td>\n",
       "      <td>NaN</td>\n",
       "      <td>vacant_land</td>\n",
       "    </tr>\n",
       "    <tr>\n",
       "      <th>56</th>\n",
       "      <td>pam_golding</td>\n",
       "      <td>3 bedroom apartment for sale in Fresnaye</td>\n",
       "      <td>20500000.0</td>\n",
       "      <td>3.0</td>\n",
       "      <td>3.0</td>\n",
       "      <td>NaN</td>\n",
       "      <td>3.0</td>\n",
       "      <td>Fresnaye</td>\n",
       "      <td>NaN</td>\n",
       "      <td>NaN</td>\n",
       "      <td>317.0</td>\n",
       "      <td>apartment</td>\n",
       "    </tr>\n",
       "    <tr>\n",
       "      <th>57</th>\n",
       "      <td>pam_golding</td>\n",
       "      <td>3 bedroom house for sale in Fresnaye</td>\n",
       "      <td>16999000.0</td>\n",
       "      <td>3.0</td>\n",
       "      <td>NaN</td>\n",
       "      <td>3.0</td>\n",
       "      <td>NaN</td>\n",
       "      <td>Fresnaye</td>\n",
       "      <td>NaN</td>\n",
       "      <td>381.0</td>\n",
       "      <td>480.0</td>\n",
       "      <td>house</td>\n",
       "    </tr>\n",
       "    <tr>\n",
       "      <th>58</th>\n",
       "      <td>pam_golding</td>\n",
       "      <td>5 bedroom house for sale in Constantia (Cape T...</td>\n",
       "      <td>36000000.0</td>\n",
       "      <td>5.0</td>\n",
       "      <td>6.0</td>\n",
       "      <td>4.0</td>\n",
       "      <td>NaN</td>\n",
       "      <td>Constantia</td>\n",
       "      <td>NaN</td>\n",
       "      <td>4324.0</td>\n",
       "      <td>1200.0</td>\n",
       "      <td>house</td>\n",
       "    </tr>\n",
       "    <tr>\n",
       "      <th>59</th>\n",
       "      <td>pam_golding</td>\n",
       "      <td>7 bedroom house for sale in Constantia Upper</td>\n",
       "      <td>42000000.0</td>\n",
       "      <td>7.0</td>\n",
       "      <td>6.0</td>\n",
       "      <td>6.0</td>\n",
       "      <td>4.0</td>\n",
       "      <td>Constantia</td>\n",
       "      <td>NaN</td>\n",
       "      <td>5017.0</td>\n",
       "      <td>2000.0</td>\n",
       "      <td>house</td>\n",
       "    </tr>\n",
       "    <tr>\n",
       "      <th>60</th>\n",
       "      <td>pam_golding</td>\n",
       "      <td>5 bedroom house for sale in Constantia Upper</td>\n",
       "      <td>45000000.0</td>\n",
       "      <td>5.0</td>\n",
       "      <td>4.0</td>\n",
       "      <td>3.0</td>\n",
       "      <td>NaN</td>\n",
       "      <td>Constantia</td>\n",
       "      <td>NaN</td>\n",
       "      <td>4215.0</td>\n",
       "      <td>530.0</td>\n",
       "      <td>house</td>\n",
       "    </tr>\n",
       "    <tr>\n",
       "      <th>61</th>\n",
       "      <td>pam_golding</td>\n",
       "      <td>4 bedroom house for sale in Fresnaye</td>\n",
       "      <td>35000000.0</td>\n",
       "      <td>4.0</td>\n",
       "      <td>4.0</td>\n",
       "      <td>4.0</td>\n",
       "      <td>NaN</td>\n",
       "      <td>Fresnaye</td>\n",
       "      <td>NaN</td>\n",
       "      <td>467.0</td>\n",
       "      <td>420.0</td>\n",
       "      <td>house</td>\n",
       "    </tr>\n",
       "    <tr>\n",
       "      <th>62</th>\n",
       "      <td>pam_golding</td>\n",
       "      <td>5 bedroom house for sale in Constantia Upper</td>\n",
       "      <td>35000000.0</td>\n",
       "      <td>5.0</td>\n",
       "      <td>4.0</td>\n",
       "      <td>3.0</td>\n",
       "      <td>NaN</td>\n",
       "      <td>Constantia</td>\n",
       "      <td>NaN</td>\n",
       "      <td>8600.0</td>\n",
       "      <td>NaN</td>\n",
       "      <td>house</td>\n",
       "    </tr>\n",
       "    <tr>\n",
       "      <th>63</th>\n",
       "      <td>pam_golding</td>\n",
       "      <td>4 bedroom house for sale in Fresnaye</td>\n",
       "      <td>31950000.0</td>\n",
       "      <td>4.0</td>\n",
       "      <td>3.0</td>\n",
       "      <td>3.0</td>\n",
       "      <td>NaN</td>\n",
       "      <td>Fresnaye</td>\n",
       "      <td>NaN</td>\n",
       "      <td>1118.0</td>\n",
       "      <td>NaN</td>\n",
       "      <td>house</td>\n",
       "    </tr>\n",
       "    <tr>\n",
       "      <th>64</th>\n",
       "      <td>pam_golding</td>\n",
       "      <td>3 bedroom apartment for sale in Bantry Bay</td>\n",
       "      <td>45000000.0</td>\n",
       "      <td>3.0</td>\n",
       "      <td>3.0</td>\n",
       "      <td>2.0</td>\n",
       "      <td>3.0</td>\n",
       "      <td>Bantry Bay</td>\n",
       "      <td>NaN</td>\n",
       "      <td>NaN</td>\n",
       "      <td>546.0</td>\n",
       "      <td>apartment</td>\n",
       "    </tr>\n",
       "    <tr>\n",
       "      <th>65</th>\n",
       "      <td>pam_golding</td>\n",
       "      <td>7 bedroom house for sale in Fresnaye</td>\n",
       "      <td>29950000.0</td>\n",
       "      <td>7.0</td>\n",
       "      <td>4.0</td>\n",
       "      <td>2.0</td>\n",
       "      <td>4.0</td>\n",
       "      <td>Fresnaye</td>\n",
       "      <td>NaN</td>\n",
       "      <td>636.0</td>\n",
       "      <td>NaN</td>\n",
       "      <td>house</td>\n",
       "    </tr>\n",
       "    <tr>\n",
       "      <th>66</th>\n",
       "      <td>pam_golding</td>\n",
       "      <td>4 bedroom house for sale in Fresnaye</td>\n",
       "      <td>41500000.0</td>\n",
       "      <td>4.0</td>\n",
       "      <td>5.0</td>\n",
       "      <td>3.0</td>\n",
       "      <td>3.0</td>\n",
       "      <td>Fresnaye</td>\n",
       "      <td>NaN</td>\n",
       "      <td>510.0</td>\n",
       "      <td>550.0</td>\n",
       "      <td>house</td>\n",
       "    </tr>\n",
       "    <tr>\n",
       "      <th>67</th>\n",
       "      <td>pam_golding</td>\n",
       "      <td>5 bedroom house for sale in Fresnaye</td>\n",
       "      <td>47500000.0</td>\n",
       "      <td>5.0</td>\n",
       "      <td>5.0</td>\n",
       "      <td>4.0</td>\n",
       "      <td>4.0</td>\n",
       "      <td>Fresnaye</td>\n",
       "      <td>NaN</td>\n",
       "      <td>1044.0</td>\n",
       "      <td>900.0</td>\n",
       "      <td>house</td>\n",
       "    </tr>\n",
       "    <tr>\n",
       "      <th>68</th>\n",
       "      <td>pam_golding</td>\n",
       "      <td>5 bedroom house for sale in Constantia Upper</td>\n",
       "      <td>49950000.0</td>\n",
       "      <td>5.0</td>\n",
       "      <td>5.0</td>\n",
       "      <td>6.0</td>\n",
       "      <td>2.0</td>\n",
       "      <td>Constantia</td>\n",
       "      <td>NaN</td>\n",
       "      <td>9097.0</td>\n",
       "      <td>NaN</td>\n",
       "      <td>house</td>\n",
       "    </tr>\n",
       "    <tr>\n",
       "      <th>69</th>\n",
       "      <td>pam_golding</td>\n",
       "      <td>4 bedroom house for sale in Fresnaye</td>\n",
       "      <td>36000000.0</td>\n",
       "      <td>4.0</td>\n",
       "      <td>4.0</td>\n",
       "      <td>6.0</td>\n",
       "      <td>NaN</td>\n",
       "      <td>Fresnaye</td>\n",
       "      <td>NaN</td>\n",
       "      <td>813.0</td>\n",
       "      <td>NaN</td>\n",
       "      <td>house</td>\n",
       "    </tr>\n",
       "    <tr>\n",
       "      <th>70</th>\n",
       "      <td>pam_golding</td>\n",
       "      <td>4 bedroom house for sale in Constantia Upper</td>\n",
       "      <td>36000000.0</td>\n",
       "      <td>4.0</td>\n",
       "      <td>5.0</td>\n",
       "      <td>2.0</td>\n",
       "      <td>3.0</td>\n",
       "      <td>Constantia</td>\n",
       "      <td>NaN</td>\n",
       "      <td>10109.0</td>\n",
       "      <td>550.0</td>\n",
       "      <td>house</td>\n",
       "    </tr>\n",
       "    <tr>\n",
       "      <th>71</th>\n",
       "      <td>pam_golding</td>\n",
       "      <td>9 bedroom house for sale in Fresnaye</td>\n",
       "      <td>50000000.0</td>\n",
       "      <td>9.0</td>\n",
       "      <td>10.0</td>\n",
       "      <td>2.0</td>\n",
       "      <td>6.0</td>\n",
       "      <td>Fresnaye</td>\n",
       "      <td>NaN</td>\n",
       "      <td>981.0</td>\n",
       "      <td>1100.0</td>\n",
       "      <td>house</td>\n",
       "    </tr>\n",
       "    <tr>\n",
       "      <th>72</th>\n",
       "      <td>pam_golding</td>\n",
       "      <td>1298 m² residential vacant land for sale in Fr...</td>\n",
       "      <td>24950000.0</td>\n",
       "      <td>0.0</td>\n",
       "      <td>0.0</td>\n",
       "      <td>NaN</td>\n",
       "      <td>NaN</td>\n",
       "      <td>Fresnaye</td>\n",
       "      <td>NaN</td>\n",
       "      <td>1298.0</td>\n",
       "      <td>NaN</td>\n",
       "      <td>vacant_land</td>\n",
       "    </tr>\n",
       "    <tr>\n",
       "      <th>73</th>\n",
       "      <td>pam_golding</td>\n",
       "      <td>5 bedroom house for sale in Fresnaye</td>\n",
       "      <td>24950000.0</td>\n",
       "      <td>5.0</td>\n",
       "      <td>6.0</td>\n",
       "      <td>3.0</td>\n",
       "      <td>3.0</td>\n",
       "      <td>Fresnaye</td>\n",
       "      <td>NaN</td>\n",
       "      <td>456.0</td>\n",
       "      <td>540.0</td>\n",
       "      <td>house</td>\n",
       "    </tr>\n",
       "    <tr>\n",
       "      <th>74</th>\n",
       "      <td>pam_golding</td>\n",
       "      <td>6 bedroom house for sale in Constantia Upper</td>\n",
       "      <td>29995000.0</td>\n",
       "      <td>6.0</td>\n",
       "      <td>7.0</td>\n",
       "      <td>2.0</td>\n",
       "      <td>NaN</td>\n",
       "      <td>Constantia</td>\n",
       "      <td>NaN</td>\n",
       "      <td>4838.0</td>\n",
       "      <td>NaN</td>\n",
       "      <td>house</td>\n",
       "    </tr>\n",
       "    <tr>\n",
       "      <th>75</th>\n",
       "      <td>pam_golding</td>\n",
       "      <td>4 bedroom house for sale in Constantia Upper</td>\n",
       "      <td>22995000.0</td>\n",
       "      <td>4.0</td>\n",
       "      <td>4.0</td>\n",
       "      <td>3.0</td>\n",
       "      <td>NaN</td>\n",
       "      <td>Constantia</td>\n",
       "      <td>NaN</td>\n",
       "      <td>8097.0</td>\n",
       "      <td>NaN</td>\n",
       "      <td>house</td>\n",
       "    </tr>\n",
       "    <tr>\n",
       "      <th>76</th>\n",
       "      <td>pam_golding</td>\n",
       "      <td>4 bedroom house for sale in Constantia (Cape T...</td>\n",
       "      <td>27000000.0</td>\n",
       "      <td>4.0</td>\n",
       "      <td>4.0</td>\n",
       "      <td>3.0</td>\n",
       "      <td>NaN</td>\n",
       "      <td>Constantia</td>\n",
       "      <td>NaN</td>\n",
       "      <td>4194.0</td>\n",
       "      <td>NaN</td>\n",
       "      <td>house</td>\n",
       "    </tr>\n",
       "    <tr>\n",
       "      <th>77</th>\n",
       "      <td>pam_golding</td>\n",
       "      <td>6 bedroom house for sale in Constantia Upper</td>\n",
       "      <td>69000000.0</td>\n",
       "      <td>6.0</td>\n",
       "      <td>6.0</td>\n",
       "      <td>NaN</td>\n",
       "      <td>9.0</td>\n",
       "      <td>Constantia</td>\n",
       "      <td>NaN</td>\n",
       "      <td>25000.0</td>\n",
       "      <td>NaN</td>\n",
       "      <td>house</td>\n",
       "    </tr>\n",
       "    <tr>\n",
       "      <th>...</th>\n",
       "      <td>...</td>\n",
       "      <td>...</td>\n",
       "      <td>...</td>\n",
       "      <td>...</td>\n",
       "      <td>...</td>\n",
       "      <td>...</td>\n",
       "      <td>...</td>\n",
       "      <td>...</td>\n",
       "      <td>...</td>\n",
       "      <td>...</td>\n",
       "      <td>...</td>\n",
       "      <td>...</td>\n",
       "    </tr>\n",
       "    <tr>\n",
       "      <th>849</th>\n",
       "      <td>pam_golding</td>\n",
       "      <td>4 bedroom house for sale in Constantia Upper</td>\n",
       "      <td>32000000.0</td>\n",
       "      <td>4.0</td>\n",
       "      <td>5.0</td>\n",
       "      <td>2.0</td>\n",
       "      <td>NaN</td>\n",
       "      <td>Constantia</td>\n",
       "      <td>NaN</td>\n",
       "      <td>1375.0</td>\n",
       "      <td>NaN</td>\n",
       "      <td>house</td>\n",
       "    </tr>\n",
       "    <tr>\n",
       "      <th>857</th>\n",
       "      <td>pam_golding</td>\n",
       "      <td>3 bedroom house for sale in Fresnaye</td>\n",
       "      <td>25000000.0</td>\n",
       "      <td>3.0</td>\n",
       "      <td>3.0</td>\n",
       "      <td>2.0</td>\n",
       "      <td>NaN</td>\n",
       "      <td>Fresnaye</td>\n",
       "      <td>NaN</td>\n",
       "      <td>NaN</td>\n",
       "      <td>418.0</td>\n",
       "      <td>house</td>\n",
       "    </tr>\n",
       "    <tr>\n",
       "      <th>866</th>\n",
       "      <td>pam_golding</td>\n",
       "      <td>5 bedroom house for sale in Constantia Upper</td>\n",
       "      <td>15500000.0</td>\n",
       "      <td>5.0</td>\n",
       "      <td>6.0</td>\n",
       "      <td>2.0</td>\n",
       "      <td>NaN</td>\n",
       "      <td>Constantia</td>\n",
       "      <td>NaN</td>\n",
       "      <td>1567.0</td>\n",
       "      <td>NaN</td>\n",
       "      <td>house</td>\n",
       "    </tr>\n",
       "    <tr>\n",
       "      <th>886</th>\n",
       "      <td>pam_golding</td>\n",
       "      <td>7 bedroom house for sale in Constantia Upper</td>\n",
       "      <td>49000000.0</td>\n",
       "      <td>7.0</td>\n",
       "      <td>7.0</td>\n",
       "      <td>3.0</td>\n",
       "      <td>NaN</td>\n",
       "      <td>Constantia</td>\n",
       "      <td>NaN</td>\n",
       "      <td>7555.0</td>\n",
       "      <td>NaN</td>\n",
       "      <td>house</td>\n",
       "    </tr>\n",
       "    <tr>\n",
       "      <th>896</th>\n",
       "      <td>pam_golding</td>\n",
       "      <td>3 bedroom apartment for sale in Bantry Bay</td>\n",
       "      <td>4950000.0</td>\n",
       "      <td>3.0</td>\n",
       "      <td>3.0</td>\n",
       "      <td>NaN</td>\n",
       "      <td>1.0</td>\n",
       "      <td>Bantry Bay</td>\n",
       "      <td>NaN</td>\n",
       "      <td>NaN</td>\n",
       "      <td>141.0</td>\n",
       "      <td>apartment</td>\n",
       "    </tr>\n",
       "    <tr>\n",
       "      <th>899</th>\n",
       "      <td>pam_golding</td>\n",
       "      <td>6 bedroom house for sale in Fresnaye</td>\n",
       "      <td>19950000.0</td>\n",
       "      <td>6.0</td>\n",
       "      <td>5.0</td>\n",
       "      <td>3.0</td>\n",
       "      <td>4.0</td>\n",
       "      <td>Fresnaye</td>\n",
       "      <td>NaN</td>\n",
       "      <td>595.0</td>\n",
       "      <td>NaN</td>\n",
       "      <td>house</td>\n",
       "    </tr>\n",
       "    <tr>\n",
       "      <th>906</th>\n",
       "      <td>pam_golding</td>\n",
       "      <td>3 bedroom house for sale in Constantia (Cape T...</td>\n",
       "      <td>4795000.0</td>\n",
       "      <td>3.0</td>\n",
       "      <td>2.0</td>\n",
       "      <td>NaN</td>\n",
       "      <td>3.0</td>\n",
       "      <td>Constantia</td>\n",
       "      <td>NaN</td>\n",
       "      <td>714.0</td>\n",
       "      <td>NaN</td>\n",
       "      <td>house</td>\n",
       "    </tr>\n",
       "    <tr>\n",
       "      <th>907</th>\n",
       "      <td>pam_golding</td>\n",
       "      <td>3 bedroom house for sale in Constantia (Cape T...</td>\n",
       "      <td>5250000.0</td>\n",
       "      <td>3.0</td>\n",
       "      <td>2.0</td>\n",
       "      <td>2.0</td>\n",
       "      <td>2.0</td>\n",
       "      <td>Constantia</td>\n",
       "      <td>NaN</td>\n",
       "      <td>1106.0</td>\n",
       "      <td>NaN</td>\n",
       "      <td>house</td>\n",
       "    </tr>\n",
       "    <tr>\n",
       "      <th>908</th>\n",
       "      <td>pam_golding</td>\n",
       "      <td>3 bedroom house for sale in Constantia Upper</td>\n",
       "      <td>5750000.0</td>\n",
       "      <td>3.0</td>\n",
       "      <td>2.0</td>\n",
       "      <td>1.0</td>\n",
       "      <td>NaN</td>\n",
       "      <td>Constantia</td>\n",
       "      <td>NaN</td>\n",
       "      <td>408.0</td>\n",
       "      <td>149.0</td>\n",
       "      <td>house</td>\n",
       "    </tr>\n",
       "    <tr>\n",
       "      <th>912</th>\n",
       "      <td>pam_golding</td>\n",
       "      <td>2 bedroom apartment for sale in Fresnaye</td>\n",
       "      <td>5800000.0</td>\n",
       "      <td>2.0</td>\n",
       "      <td>2.0</td>\n",
       "      <td>1.0</td>\n",
       "      <td>NaN</td>\n",
       "      <td>Fresnaye</td>\n",
       "      <td>NaN</td>\n",
       "      <td>NaN</td>\n",
       "      <td>132.0</td>\n",
       "      <td>apartment</td>\n",
       "    </tr>\n",
       "    <tr>\n",
       "      <th>913</th>\n",
       "      <td>pam_golding</td>\n",
       "      <td>4 bedroom house for sale in Constantia Upper</td>\n",
       "      <td>12950000.0</td>\n",
       "      <td>4.0</td>\n",
       "      <td>4.0</td>\n",
       "      <td>2.0</td>\n",
       "      <td>NaN</td>\n",
       "      <td>Constantia</td>\n",
       "      <td>NaN</td>\n",
       "      <td>1363.0</td>\n",
       "      <td>NaN</td>\n",
       "      <td>house</td>\n",
       "    </tr>\n",
       "    <tr>\n",
       "      <th>917</th>\n",
       "      <td>pam_golding</td>\n",
       "      <td>4 bedroom house for sale in Constantia (Cape T...</td>\n",
       "      <td>5800000.0</td>\n",
       "      <td>4.0</td>\n",
       "      <td>3.0</td>\n",
       "      <td>2.0</td>\n",
       "      <td>2.0</td>\n",
       "      <td>Constantia</td>\n",
       "      <td>NaN</td>\n",
       "      <td>727.0</td>\n",
       "      <td>NaN</td>\n",
       "      <td>house</td>\n",
       "    </tr>\n",
       "    <tr>\n",
       "      <th>919</th>\n",
       "      <td>pam_golding</td>\n",
       "      <td>4 bedroom house for sale in Constantia Upper</td>\n",
       "      <td>10000000.0</td>\n",
       "      <td>4.0</td>\n",
       "      <td>4.0</td>\n",
       "      <td>2.0</td>\n",
       "      <td>NaN</td>\n",
       "      <td>Constantia</td>\n",
       "      <td>NaN</td>\n",
       "      <td>1711.0</td>\n",
       "      <td>NaN</td>\n",
       "      <td>house</td>\n",
       "    </tr>\n",
       "    <tr>\n",
       "      <th>921</th>\n",
       "      <td>pam_golding</td>\n",
       "      <td>4 bedroom house for sale in Constantia Upper</td>\n",
       "      <td>11295000.0</td>\n",
       "      <td>4.0</td>\n",
       "      <td>5.0</td>\n",
       "      <td>2.0</td>\n",
       "      <td>NaN</td>\n",
       "      <td>Constantia</td>\n",
       "      <td>NaN</td>\n",
       "      <td>675.0</td>\n",
       "      <td>439.0</td>\n",
       "      <td>house</td>\n",
       "    </tr>\n",
       "    <tr>\n",
       "      <th>922</th>\n",
       "      <td>pam_golding</td>\n",
       "      <td>4 bedroom house for sale in Constantia Upper</td>\n",
       "      <td>12150000.0</td>\n",
       "      <td>4.0</td>\n",
       "      <td>5.0</td>\n",
       "      <td>2.0</td>\n",
       "      <td>NaN</td>\n",
       "      <td>Constantia</td>\n",
       "      <td>NaN</td>\n",
       "      <td>675.0</td>\n",
       "      <td>438.0</td>\n",
       "      <td>house</td>\n",
       "    </tr>\n",
       "    <tr>\n",
       "      <th>923</th>\n",
       "      <td>pam_golding</td>\n",
       "      <td>4 bedroom house for sale in Fresnaye</td>\n",
       "      <td>32500000.0</td>\n",
       "      <td>4.0</td>\n",
       "      <td>6.0</td>\n",
       "      <td>3.0</td>\n",
       "      <td>3.0</td>\n",
       "      <td>Fresnaye</td>\n",
       "      <td>NaN</td>\n",
       "      <td>1528.0</td>\n",
       "      <td>NaN</td>\n",
       "      <td>house</td>\n",
       "    </tr>\n",
       "    <tr>\n",
       "      <th>924</th>\n",
       "      <td>pam_golding</td>\n",
       "      <td>5 bedroom house for sale in Bantry Bay</td>\n",
       "      <td>49950000.0</td>\n",
       "      <td>5.0</td>\n",
       "      <td>5.0</td>\n",
       "      <td>3.0</td>\n",
       "      <td>5.0</td>\n",
       "      <td>Bantry Bay</td>\n",
       "      <td>NaN</td>\n",
       "      <td>791.0</td>\n",
       "      <td>NaN</td>\n",
       "      <td>house</td>\n",
       "    </tr>\n",
       "    <tr>\n",
       "      <th>931</th>\n",
       "      <td>pam_golding</td>\n",
       "      <td>5 bedroom house for sale in Constantia (Cape T...</td>\n",
       "      <td>8900000.0</td>\n",
       "      <td>5.0</td>\n",
       "      <td>5.0</td>\n",
       "      <td>3.0</td>\n",
       "      <td>5.0</td>\n",
       "      <td>Constantia</td>\n",
       "      <td>NaN</td>\n",
       "      <td>1836.0</td>\n",
       "      <td>NaN</td>\n",
       "      <td>house</td>\n",
       "    </tr>\n",
       "    <tr>\n",
       "      <th>943</th>\n",
       "      <td>pam_golding</td>\n",
       "      <td>4 bedroom house for sale in Constantia (Cape T...</td>\n",
       "      <td>7295000.0</td>\n",
       "      <td>4.0</td>\n",
       "      <td>3.0</td>\n",
       "      <td>3.0</td>\n",
       "      <td>NaN</td>\n",
       "      <td>Constantia</td>\n",
       "      <td>NaN</td>\n",
       "      <td>1798.0</td>\n",
       "      <td>NaN</td>\n",
       "      <td>house</td>\n",
       "    </tr>\n",
       "    <tr>\n",
       "      <th>946</th>\n",
       "      <td>pam_golding</td>\n",
       "      <td>5 bedroom house for sale in Constantia Upper</td>\n",
       "      <td>30000000.0</td>\n",
       "      <td>5.0</td>\n",
       "      <td>6.0</td>\n",
       "      <td>4.0</td>\n",
       "      <td>NaN</td>\n",
       "      <td>Constantia</td>\n",
       "      <td>NaN</td>\n",
       "      <td>6151.0</td>\n",
       "      <td>1100.0</td>\n",
       "      <td>house</td>\n",
       "    </tr>\n",
       "    <tr>\n",
       "      <th>951</th>\n",
       "      <td>pam_golding</td>\n",
       "      <td>3 bedroom house for sale in Constantia (Cape T...</td>\n",
       "      <td>4500000.0</td>\n",
       "      <td>3.0</td>\n",
       "      <td>2.0</td>\n",
       "      <td>2.0</td>\n",
       "      <td>2.0</td>\n",
       "      <td>Constantia</td>\n",
       "      <td>NaN</td>\n",
       "      <td>1130.0</td>\n",
       "      <td>NaN</td>\n",
       "      <td>house</td>\n",
       "    </tr>\n",
       "    <tr>\n",
       "      <th>955</th>\n",
       "      <td>pam_golding</td>\n",
       "      <td>3 bedroom apartment for sale in Fresnaye</td>\n",
       "      <td>7995000.0</td>\n",
       "      <td>3.0</td>\n",
       "      <td>2.0</td>\n",
       "      <td>1.0</td>\n",
       "      <td>NaN</td>\n",
       "      <td>Fresnaye</td>\n",
       "      <td>NaN</td>\n",
       "      <td>NaN</td>\n",
       "      <td>160.0</td>\n",
       "      <td>apartment</td>\n",
       "    </tr>\n",
       "    <tr>\n",
       "      <th>962</th>\n",
       "      <td>pam_golding</td>\n",
       "      <td>5 bedroom house for sale in Fresnaye</td>\n",
       "      <td>27950000.0</td>\n",
       "      <td>5.0</td>\n",
       "      <td>5.0</td>\n",
       "      <td>2.0</td>\n",
       "      <td>2.0</td>\n",
       "      <td>Fresnaye</td>\n",
       "      <td>NaN</td>\n",
       "      <td>448.0</td>\n",
       "      <td>500.0</td>\n",
       "      <td>house</td>\n",
       "    </tr>\n",
       "    <tr>\n",
       "      <th>976</th>\n",
       "      <td>pam_golding</td>\n",
       "      <td>3 bedroom apartment for sale in Bantry Bay</td>\n",
       "      <td>11500000.0</td>\n",
       "      <td>3.0</td>\n",
       "      <td>4.0</td>\n",
       "      <td>2.0</td>\n",
       "      <td>NaN</td>\n",
       "      <td>Bantry Bay</td>\n",
       "      <td>NaN</td>\n",
       "      <td>NaN</td>\n",
       "      <td>275.0</td>\n",
       "      <td>apartment</td>\n",
       "    </tr>\n",
       "    <tr>\n",
       "      <th>983</th>\n",
       "      <td>pam_golding</td>\n",
       "      <td>3 bedroom apartment for sale in Fresnaye</td>\n",
       "      <td>10995000.0</td>\n",
       "      <td>3.0</td>\n",
       "      <td>2.0</td>\n",
       "      <td>NaN</td>\n",
       "      <td>3.0</td>\n",
       "      <td>Fresnaye</td>\n",
       "      <td>NaN</td>\n",
       "      <td>NaN</td>\n",
       "      <td>230.0</td>\n",
       "      <td>apartment</td>\n",
       "    </tr>\n",
       "    <tr>\n",
       "      <th>984</th>\n",
       "      <td>pam_golding</td>\n",
       "      <td>5 bedroom house for sale in Constantia Upper</td>\n",
       "      <td>17950000.0</td>\n",
       "      <td>5.0</td>\n",
       "      <td>4.0</td>\n",
       "      <td>2.0</td>\n",
       "      <td>NaN</td>\n",
       "      <td>Constantia</td>\n",
       "      <td>NaN</td>\n",
       "      <td>1521.0</td>\n",
       "      <td>470.0</td>\n",
       "      <td>house</td>\n",
       "    </tr>\n",
       "    <tr>\n",
       "      <th>985</th>\n",
       "      <td>pam_golding</td>\n",
       "      <td>2 bedroom apartment for sale in Bantry Bay</td>\n",
       "      <td>24999000.0</td>\n",
       "      <td>2.0</td>\n",
       "      <td>2.0</td>\n",
       "      <td>NaN</td>\n",
       "      <td>2.0</td>\n",
       "      <td>Bantry Bay</td>\n",
       "      <td>NaN</td>\n",
       "      <td>NaN</td>\n",
       "      <td>178.0</td>\n",
       "      <td>apartment</td>\n",
       "    </tr>\n",
       "    <tr>\n",
       "      <th>1000</th>\n",
       "      <td>pam_golding</td>\n",
       "      <td>3 bedroom apartment for sale in Bantry Bay</td>\n",
       "      <td>33950000.0</td>\n",
       "      <td>3.0</td>\n",
       "      <td>4.0</td>\n",
       "      <td>NaN</td>\n",
       "      <td>2.0</td>\n",
       "      <td>Bantry Bay</td>\n",
       "      <td>NaN</td>\n",
       "      <td>NaN</td>\n",
       "      <td>313.0</td>\n",
       "      <td>apartment</td>\n",
       "    </tr>\n",
       "    <tr>\n",
       "      <th>1010</th>\n",
       "      <td>pam_golding</td>\n",
       "      <td>8189 m² residential vacant land for sale in Co...</td>\n",
       "      <td>15500000.0</td>\n",
       "      <td>0.0</td>\n",
       "      <td>0.0</td>\n",
       "      <td>NaN</td>\n",
       "      <td>NaN</td>\n",
       "      <td>Constantia</td>\n",
       "      <td>NaN</td>\n",
       "      <td>8189.0</td>\n",
       "      <td>NaN</td>\n",
       "      <td>vacant_land</td>\n",
       "    </tr>\n",
       "    <tr>\n",
       "      <th>1029</th>\n",
       "      <td>pam_golding</td>\n",
       "      <td>5 bedroom house for sale in Constantia Upper</td>\n",
       "      <td>8500000.0</td>\n",
       "      <td>5.0</td>\n",
       "      <td>4.0</td>\n",
       "      <td>2.0</td>\n",
       "      <td>NaN</td>\n",
       "      <td>Constantia</td>\n",
       "      <td>NaN</td>\n",
       "      <td>2000.0</td>\n",
       "      <td>381.0</td>\n",
       "      <td>house</td>\n",
       "    </tr>\n",
       "  </tbody>\n",
       "</table>\n",
       "<p>160 rows × 12 columns</p>\n",
       "</div>"
      ],
      "text/plain": [
       "           agency                                              title  \\\n",
       "48    pam_golding             5 bedroom house for sale in Bantry Bay   \n",
       "49    pam_golding             3 bedroom house for sale in Bantry Bay   \n",
       "50    pam_golding           3 bedroom townhouse for sale in Fresnaye   \n",
       "51    pam_golding                2 bedroom house for sale in Bakoven   \n",
       "52    pam_golding       5 bedroom house for sale in Constantia Upper   \n",
       "53    pam_golding       4 bedroom house for sale in Constantia Upper   \n",
       "54    pam_golding               5 bedroom house for sale in Fresnaye   \n",
       "55    pam_golding  619 m² residential vacant land for sale in Ban...   \n",
       "56    pam_golding           3 bedroom apartment for sale in Fresnaye   \n",
       "57    pam_golding               3 bedroom house for sale in Fresnaye   \n",
       "58    pam_golding  5 bedroom house for sale in Constantia (Cape T...   \n",
       "59    pam_golding       7 bedroom house for sale in Constantia Upper   \n",
       "60    pam_golding       5 bedroom house for sale in Constantia Upper   \n",
       "61    pam_golding               4 bedroom house for sale in Fresnaye   \n",
       "62    pam_golding       5 bedroom house for sale in Constantia Upper   \n",
       "63    pam_golding               4 bedroom house for sale in Fresnaye   \n",
       "64    pam_golding         3 bedroom apartment for sale in Bantry Bay   \n",
       "65    pam_golding               7 bedroom house for sale in Fresnaye   \n",
       "66    pam_golding               4 bedroom house for sale in Fresnaye   \n",
       "67    pam_golding               5 bedroom house for sale in Fresnaye   \n",
       "68    pam_golding       5 bedroom house for sale in Constantia Upper   \n",
       "69    pam_golding               4 bedroom house for sale in Fresnaye   \n",
       "70    pam_golding       4 bedroom house for sale in Constantia Upper   \n",
       "71    pam_golding               9 bedroom house for sale in Fresnaye   \n",
       "72    pam_golding  1298 m² residential vacant land for sale in Fr...   \n",
       "73    pam_golding               5 bedroom house for sale in Fresnaye   \n",
       "74    pam_golding       6 bedroom house for sale in Constantia Upper   \n",
       "75    pam_golding       4 bedroom house for sale in Constantia Upper   \n",
       "76    pam_golding  4 bedroom house for sale in Constantia (Cape T...   \n",
       "77    pam_golding       6 bedroom house for sale in Constantia Upper   \n",
       "...           ...                                                ...   \n",
       "849   pam_golding       4 bedroom house for sale in Constantia Upper   \n",
       "857   pam_golding               3 bedroom house for sale in Fresnaye   \n",
       "866   pam_golding       5 bedroom house for sale in Constantia Upper   \n",
       "886   pam_golding       7 bedroom house for sale in Constantia Upper   \n",
       "896   pam_golding         3 bedroom apartment for sale in Bantry Bay   \n",
       "899   pam_golding               6 bedroom house for sale in Fresnaye   \n",
       "906   pam_golding  3 bedroom house for sale in Constantia (Cape T...   \n",
       "907   pam_golding  3 bedroom house for sale in Constantia (Cape T...   \n",
       "908   pam_golding       3 bedroom house for sale in Constantia Upper   \n",
       "912   pam_golding           2 bedroom apartment for sale in Fresnaye   \n",
       "913   pam_golding       4 bedroom house for sale in Constantia Upper   \n",
       "917   pam_golding  4 bedroom house for sale in Constantia (Cape T...   \n",
       "919   pam_golding       4 bedroom house for sale in Constantia Upper   \n",
       "921   pam_golding       4 bedroom house for sale in Constantia Upper   \n",
       "922   pam_golding       4 bedroom house for sale in Constantia Upper   \n",
       "923   pam_golding               4 bedroom house for sale in Fresnaye   \n",
       "924   pam_golding             5 bedroom house for sale in Bantry Bay   \n",
       "931   pam_golding  5 bedroom house for sale in Constantia (Cape T...   \n",
       "943   pam_golding  4 bedroom house for sale in Constantia (Cape T...   \n",
       "946   pam_golding       5 bedroom house for sale in Constantia Upper   \n",
       "951   pam_golding  3 bedroom house for sale in Constantia (Cape T...   \n",
       "955   pam_golding           3 bedroom apartment for sale in Fresnaye   \n",
       "962   pam_golding               5 bedroom house for sale in Fresnaye   \n",
       "976   pam_golding         3 bedroom apartment for sale in Bantry Bay   \n",
       "983   pam_golding           3 bedroom apartment for sale in Fresnaye   \n",
       "984   pam_golding       5 bedroom house for sale in Constantia Upper   \n",
       "985   pam_golding         2 bedroom apartment for sale in Bantry Bay   \n",
       "1000  pam_golding         3 bedroom apartment for sale in Bantry Bay   \n",
       "1010  pam_golding  8189 m² residential vacant land for sale in Co...   \n",
       "1029  pam_golding       5 bedroom house for sale in Constantia Upper   \n",
       "\n",
       "           price  bedrooms  bathrooms  garages  parkings        area offering  \\\n",
       "48    65000000.0       5.0        6.0      2.0       4.0  Bantry Bay      NaN   \n",
       "49    22995000.0       3.0        4.0      2.0       2.0  Bantry Bay      NaN   \n",
       "50    16950000.0       3.0        3.0      2.0       2.0    Fresnaye      NaN   \n",
       "51    16000000.0       2.0        2.0      1.0       NaN     Bakoven      NaN   \n",
       "52    14995000.0       5.0        4.0      2.0       NaN  Constantia      NaN   \n",
       "53    16785000.0       4.0        NaN      4.0       4.0  Constantia      NaN   \n",
       "54    15500000.0       5.0        3.0      3.0       NaN    Fresnaye      NaN   \n",
       "55    20000000.0       0.0        0.0      NaN       NaN  Bantry Bay      NaN   \n",
       "56    20500000.0       3.0        3.0      NaN       3.0    Fresnaye      NaN   \n",
       "57    16999000.0       3.0        NaN      3.0       NaN    Fresnaye      NaN   \n",
       "58    36000000.0       5.0        6.0      4.0       NaN  Constantia      NaN   \n",
       "59    42000000.0       7.0        6.0      6.0       4.0  Constantia      NaN   \n",
       "60    45000000.0       5.0        4.0      3.0       NaN  Constantia      NaN   \n",
       "61    35000000.0       4.0        4.0      4.0       NaN    Fresnaye      NaN   \n",
       "62    35000000.0       5.0        4.0      3.0       NaN  Constantia      NaN   \n",
       "63    31950000.0       4.0        3.0      3.0       NaN    Fresnaye      NaN   \n",
       "64    45000000.0       3.0        3.0      2.0       3.0  Bantry Bay      NaN   \n",
       "65    29950000.0       7.0        4.0      2.0       4.0    Fresnaye      NaN   \n",
       "66    41500000.0       4.0        5.0      3.0       3.0    Fresnaye      NaN   \n",
       "67    47500000.0       5.0        5.0      4.0       4.0    Fresnaye      NaN   \n",
       "68    49950000.0       5.0        5.0      6.0       2.0  Constantia      NaN   \n",
       "69    36000000.0       4.0        4.0      6.0       NaN    Fresnaye      NaN   \n",
       "70    36000000.0       4.0        5.0      2.0       3.0  Constantia      NaN   \n",
       "71    50000000.0       9.0       10.0      2.0       6.0    Fresnaye      NaN   \n",
       "72    24950000.0       0.0        0.0      NaN       NaN    Fresnaye      NaN   \n",
       "73    24950000.0       5.0        6.0      3.0       3.0    Fresnaye      NaN   \n",
       "74    29995000.0       6.0        7.0      2.0       NaN  Constantia      NaN   \n",
       "75    22995000.0       4.0        4.0      3.0       NaN  Constantia      NaN   \n",
       "76    27000000.0       4.0        4.0      3.0       NaN  Constantia      NaN   \n",
       "77    69000000.0       6.0        6.0      NaN       9.0  Constantia      NaN   \n",
       "...          ...       ...        ...      ...       ...         ...      ...   \n",
       "849   32000000.0       4.0        5.0      2.0       NaN  Constantia      NaN   \n",
       "857   25000000.0       3.0        3.0      2.0       NaN    Fresnaye      NaN   \n",
       "866   15500000.0       5.0        6.0      2.0       NaN  Constantia      NaN   \n",
       "886   49000000.0       7.0        7.0      3.0       NaN  Constantia      NaN   \n",
       "896    4950000.0       3.0        3.0      NaN       1.0  Bantry Bay      NaN   \n",
       "899   19950000.0       6.0        5.0      3.0       4.0    Fresnaye      NaN   \n",
       "906    4795000.0       3.0        2.0      NaN       3.0  Constantia      NaN   \n",
       "907    5250000.0       3.0        2.0      2.0       2.0  Constantia      NaN   \n",
       "908    5750000.0       3.0        2.0      1.0       NaN  Constantia      NaN   \n",
       "912    5800000.0       2.0        2.0      1.0       NaN    Fresnaye      NaN   \n",
       "913   12950000.0       4.0        4.0      2.0       NaN  Constantia      NaN   \n",
       "917    5800000.0       4.0        3.0      2.0       2.0  Constantia      NaN   \n",
       "919   10000000.0       4.0        4.0      2.0       NaN  Constantia      NaN   \n",
       "921   11295000.0       4.0        5.0      2.0       NaN  Constantia      NaN   \n",
       "922   12150000.0       4.0        5.0      2.0       NaN  Constantia      NaN   \n",
       "923   32500000.0       4.0        6.0      3.0       3.0    Fresnaye      NaN   \n",
       "924   49950000.0       5.0        5.0      3.0       5.0  Bantry Bay      NaN   \n",
       "931    8900000.0       5.0        5.0      3.0       5.0  Constantia      NaN   \n",
       "943    7295000.0       4.0        3.0      3.0       NaN  Constantia      NaN   \n",
       "946   30000000.0       5.0        6.0      4.0       NaN  Constantia      NaN   \n",
       "951    4500000.0       3.0        2.0      2.0       2.0  Constantia      NaN   \n",
       "955    7995000.0       3.0        2.0      1.0       NaN    Fresnaye      NaN   \n",
       "962   27950000.0       5.0        5.0      2.0       2.0    Fresnaye      NaN   \n",
       "976   11500000.0       3.0        4.0      2.0       NaN  Bantry Bay      NaN   \n",
       "983   10995000.0       3.0        2.0      NaN       3.0    Fresnaye      NaN   \n",
       "984   17950000.0       5.0        4.0      2.0       NaN  Constantia      NaN   \n",
       "985   24999000.0       2.0        2.0      NaN       2.0  Bantry Bay      NaN   \n",
       "1000  33950000.0       3.0        4.0      NaN       2.0  Bantry Bay      NaN   \n",
       "1010  15500000.0       0.0        0.0      NaN       NaN  Constantia      NaN   \n",
       "1029   8500000.0       5.0        4.0      2.0       NaN  Constantia      NaN   \n",
       "\n",
       "      erf_size  floor_size property_type  \n",
       "48      1486.0         NaN         house  \n",
       "49       708.0       350.0         house  \n",
       "50       301.0       350.0         house  \n",
       "51       211.0         NaN         house  \n",
       "52      1401.0         NaN         house  \n",
       "53      1953.0         NaN         house  \n",
       "54       476.0         NaN         house  \n",
       "55       619.0         NaN   vacant_land  \n",
       "56         NaN       317.0     apartment  \n",
       "57       381.0       480.0         house  \n",
       "58      4324.0      1200.0         house  \n",
       "59      5017.0      2000.0         house  \n",
       "60      4215.0       530.0         house  \n",
       "61       467.0       420.0         house  \n",
       "62      8600.0         NaN         house  \n",
       "63      1118.0         NaN         house  \n",
       "64         NaN       546.0     apartment  \n",
       "65       636.0         NaN         house  \n",
       "66       510.0       550.0         house  \n",
       "67      1044.0       900.0         house  \n",
       "68      9097.0         NaN         house  \n",
       "69       813.0         NaN         house  \n",
       "70     10109.0       550.0         house  \n",
       "71       981.0      1100.0         house  \n",
       "72      1298.0         NaN   vacant_land  \n",
       "73       456.0       540.0         house  \n",
       "74      4838.0         NaN         house  \n",
       "75      8097.0         NaN         house  \n",
       "76      4194.0         NaN         house  \n",
       "77     25000.0         NaN         house  \n",
       "...        ...         ...           ...  \n",
       "849     1375.0         NaN         house  \n",
       "857        NaN       418.0         house  \n",
       "866     1567.0         NaN         house  \n",
       "886     7555.0         NaN         house  \n",
       "896        NaN       141.0     apartment  \n",
       "899      595.0         NaN         house  \n",
       "906      714.0         NaN         house  \n",
       "907     1106.0         NaN         house  \n",
       "908      408.0       149.0         house  \n",
       "912        NaN       132.0     apartment  \n",
       "913     1363.0         NaN         house  \n",
       "917      727.0         NaN         house  \n",
       "919     1711.0         NaN         house  \n",
       "921      675.0       439.0         house  \n",
       "922      675.0       438.0         house  \n",
       "923     1528.0         NaN         house  \n",
       "924      791.0         NaN         house  \n",
       "931     1836.0         NaN         house  \n",
       "943     1798.0         NaN         house  \n",
       "946     6151.0      1100.0         house  \n",
       "951     1130.0         NaN         house  \n",
       "955        NaN       160.0     apartment  \n",
       "962      448.0       500.0         house  \n",
       "976        NaN       275.0     apartment  \n",
       "983        NaN       230.0     apartment  \n",
       "984     1521.0       470.0         house  \n",
       "985        NaN       178.0     apartment  \n",
       "1000       NaN       313.0     apartment  \n",
       "1010    8189.0         NaN   vacant_land  \n",
       "1029    2000.0       381.0         house  \n",
       "\n",
       "[160 rows x 12 columns]"
      ]
     },
     "execution_count": 57,
     "metadata": {},
     "output_type": "execute_result"
    }
   ],
   "source": [
    "orbit[orbit['offering'].isnull()]"
   ]
  },
  {
   "cell_type": "markdown",
   "metadata": {},
   "source": [
    "As you can observe from the dataframe above, we can extract the type of 'offering' from the 'title' variable to fill the 'NaN' values in the variable 'offering'. Here I have created 4 lists buy_index, rent_index, sale_index and none_index to stores the indexes of the rows which have the substring 'buy', 'rent', 'sale' in the 'title' variable."
   ]
  },
  {
   "cell_type": "code",
   "execution_count": 58,
   "metadata": {},
   "outputs": [],
   "source": [
    "offering_index = orbit[orbit['offering'].isnull()].index\n",
    "\n",
    "import re\n",
    "buy_index = []\n",
    "rent_index = []\n",
    "sale_index = []\n",
    "none_index = []\n",
    "\n",
    "for i in offering_index:\n",
    "    \n",
    "    str = orbit.iloc[i,1]\n",
    "    \n",
    "    if 'sale' in str:\n",
    "        sale_index.append(i)\n",
    "        \n",
    "    elif 'rent' in str:\n",
    "        rent_index.append(i)\n",
    "            \n",
    "    elif 'buy' in str:\n",
    "        buy_index.append(i)\n",
    "    \n",
    "    else:\n",
    "        none_index.append(i)\n",
    "        "
   ]
  },
  {
   "cell_type": "code",
   "execution_count": 59,
   "metadata": {},
   "outputs": [
    {
     "data": {
      "text/plain": [
       "160"
      ]
     },
     "execution_count": 59,
     "metadata": {},
     "output_type": "execute_result"
    }
   ],
   "source": [
    "len(sale_index)"
   ]
  },
  {
   "cell_type": "code",
   "execution_count": 60,
   "metadata": {},
   "outputs": [
    {
     "data": {
      "text/plain": [
       "0"
      ]
     },
     "execution_count": 60,
     "metadata": {},
     "output_type": "execute_result"
    }
   ],
   "source": [
    "len(buy_index)"
   ]
  },
  {
   "cell_type": "code",
   "execution_count": 61,
   "metadata": {},
   "outputs": [
    {
     "data": {
      "text/plain": [
       "0"
      ]
     },
     "execution_count": 61,
     "metadata": {},
     "output_type": "execute_result"
    }
   ],
   "source": [
    "len(rent_index)"
   ]
  },
  {
   "cell_type": "code",
   "execution_count": 62,
   "metadata": {},
   "outputs": [
    {
     "data": {
      "text/plain": [
       "0"
      ]
     },
     "execution_count": 62,
     "metadata": {},
     "output_type": "execute_result"
    }
   ],
   "source": [
    "len(none_index)"
   ]
  },
  {
   "cell_type": "code",
   "execution_count": 63,
   "metadata": {},
   "outputs": [
    {
     "data": {
      "text/plain": [
       "[48,\n",
       " 49,\n",
       " 50,\n",
       " 51,\n",
       " 52,\n",
       " 53,\n",
       " 54,\n",
       " 55,\n",
       " 56,\n",
       " 57,\n",
       " 58,\n",
       " 59,\n",
       " 60,\n",
       " 61,\n",
       " 62,\n",
       " 63,\n",
       " 64,\n",
       " 65,\n",
       " 66,\n",
       " 67,\n",
       " 68,\n",
       " 69,\n",
       " 70,\n",
       " 71,\n",
       " 72,\n",
       " 73,\n",
       " 74,\n",
       " 75,\n",
       " 76,\n",
       " 77,\n",
       " 78,\n",
       " 79,\n",
       " 80,\n",
       " 81,\n",
       " 82,\n",
       " 83,\n",
       " 84,\n",
       " 85,\n",
       " 86,\n",
       " 87,\n",
       " 88,\n",
       " 89,\n",
       " 90,\n",
       " 91,\n",
       " 92,\n",
       " 93,\n",
       " 94,\n",
       " 95,\n",
       " 96,\n",
       " 97,\n",
       " 98,\n",
       " 99,\n",
       " 100,\n",
       " 101,\n",
       " 102,\n",
       " 103,\n",
       " 250,\n",
       " 252,\n",
       " 254,\n",
       " 256,\n",
       " 314,\n",
       " 332,\n",
       " 339,\n",
       " 340,\n",
       " 344,\n",
       " 345,\n",
       " 346,\n",
       " 349,\n",
       " 351,\n",
       " 356,\n",
       " 370,\n",
       " 383,\n",
       " 384,\n",
       " 389,\n",
       " 394,\n",
       " 411,\n",
       " 412,\n",
       " 413,\n",
       " 422,\n",
       " 423,\n",
       " 424,\n",
       " 425,\n",
       " 427,\n",
       " 432,\n",
       " 438,\n",
       " 439,\n",
       " 440,\n",
       " 444,\n",
       " 448,\n",
       " 449,\n",
       " 455,\n",
       " 456,\n",
       " 457,\n",
       " 458,\n",
       " 480,\n",
       " 494,\n",
       " 499,\n",
       " 502,\n",
       " 503,\n",
       " 506,\n",
       " 510,\n",
       " 511,\n",
       " 513,\n",
       " 514,\n",
       " 517,\n",
       " 522,\n",
       " 524,\n",
       " 561,\n",
       " 562,\n",
       " 563,\n",
       " 564,\n",
       " 594,\n",
       " 595,\n",
       " 614,\n",
       " 628,\n",
       " 631,\n",
       " 643,\n",
       " 644,\n",
       " 674,\n",
       " 684,\n",
       " 685,\n",
       " 811,\n",
       " 812,\n",
       " 825,\n",
       " 826,\n",
       " 827,\n",
       " 828,\n",
       " 836,\n",
       " 840,\n",
       " 848,\n",
       " 849,\n",
       " 857,\n",
       " 866,\n",
       " 886,\n",
       " 896,\n",
       " 899,\n",
       " 906,\n",
       " 907,\n",
       " 908,\n",
       " 912,\n",
       " 913,\n",
       " 917,\n",
       " 919,\n",
       " 921,\n",
       " 922,\n",
       " 923,\n",
       " 924,\n",
       " 931,\n",
       " 943,\n",
       " 946,\n",
       " 951,\n",
       " 955,\n",
       " 962,\n",
       " 976,\n",
       " 983,\n",
       " 984,\n",
       " 985,\n",
       " 1000,\n",
       " 1010,\n",
       " 1029]"
      ]
     },
     "execution_count": 63,
     "metadata": {},
     "output_type": "execute_result"
    }
   ],
   "source": [
    "sale_index"
   ]
  },
  {
   "cell_type": "code",
   "execution_count": 64,
   "metadata": {},
   "outputs": [],
   "source": [
    "for i in range(len(sale_index)):\n",
    "    \n",
    "    orbit.loc[sale_index[i],['offering']] = orbit.loc[sale_index[i],['offering']].replace(np.nan, 'sale')"
   ]
  },
  {
   "cell_type": "markdown",
   "metadata": {},
   "source": [
    "The length of the 'sale_index' list is 160 and also the total no of rows having 'NaN' value in 'offering' is 160.\n",
    "Hence I have filled all these 'NaN' values with 'sale' at their respective indexes.\n",
    "Now there aren't any missing values in the 'offering variable."
   ]
  },
  {
   "cell_type": "code",
   "execution_count": 65,
   "metadata": {},
   "outputs": [
    {
     "data": {
      "text/plain": [
       "0"
      ]
     },
     "execution_count": 65,
     "metadata": {},
     "output_type": "execute_result"
    }
   ],
   "source": [
    "orbit['offering'].isnull().sum()"
   ]
  },
  {
   "cell_type": "code",
   "execution_count": 66,
   "metadata": {},
   "outputs": [
    {
     "data": {
      "text/plain": [
       "sale    790\n",
       "rent    132\n",
       "buy     120\n",
       "Name: offering, dtype: int64"
      ]
     },
     "execution_count": 66,
     "metadata": {},
     "output_type": "execute_result"
    }
   ],
   "source": [
    "orbit['offering'].value_counts()"
   ]
  },
  {
   "cell_type": "markdown",
   "metadata": {},
   "source": [
    "# VACANT LAND"
   ]
  },
  {
   "cell_type": "markdown",
   "metadata": {},
   "source": [
    "Filling the missing values for the variables 'bedrooms','bathrooms','garages','floor_size' and 'parkings'\n",
    "where 'property_type' is 'vacant_land'. For the variable 'property_type' having value 'vacant_land',\n",
    "the values for the variables 'bedrooms', 'bathrooms', 'garages', 'floor_size' and 'parkings'\n",
    "should be 0."
   ]
  },
  {
   "cell_type": "code",
   "execution_count": 67,
   "metadata": {},
   "outputs": [],
   "source": [
    "vacant = orbit[orbit['property_type'] == \"vacant_land\"]"
   ]
  },
  {
   "cell_type": "code",
   "execution_count": 68,
   "metadata": {},
   "outputs": [],
   "source": [
    "ind = vacant.index"
   ]
  },
  {
   "cell_type": "code",
   "execution_count": 69,
   "metadata": {},
   "outputs": [
    {
     "data": {
      "text/plain": [
       "63"
      ]
     },
     "execution_count": 69,
     "metadata": {},
     "output_type": "execute_result"
    }
   ],
   "source": [
    "len(ind)"
   ]
  },
  {
   "cell_type": "code",
   "execution_count": 70,
   "metadata": {},
   "outputs": [],
   "source": [
    "vacant_index = []\n",
    "\n",
    "for i in ind:\n",
    "    vacant_index.append(i)\n",
    "    "
   ]
  },
  {
   "cell_type": "code",
   "execution_count": 71,
   "metadata": {},
   "outputs": [
    {
     "data": {
      "text/plain": [
       "63"
      ]
     },
     "execution_count": 71,
     "metadata": {},
     "output_type": "execute_result"
    }
   ],
   "source": [
    "len(vacant_index)"
   ]
  },
  {
   "cell_type": "markdown",
   "metadata": {},
   "source": [
    "vacant_index consists of all the indexes of the dataframe where the 'property_type' id 'vacant_land'"
   ]
  },
  {
   "cell_type": "code",
   "execution_count": 72,
   "metadata": {},
   "outputs": [
    {
     "data": {
      "text/plain": [
       "Index(['agency', 'title', 'price', 'bedrooms', 'bathrooms', 'garages',\n",
       "       'parkings', 'area', 'offering', 'erf_size', 'floor_size',\n",
       "       'property_type'],\n",
       "      dtype='object')"
      ]
     },
     "execution_count": 72,
     "metadata": {},
     "output_type": "execute_result"
    }
   ],
   "source": [
    "orbit.columns"
   ]
  },
  {
   "cell_type": "code",
   "execution_count": 73,
   "metadata": {},
   "outputs": [
    {
     "data": {
      "text/html": [
       "<div>\n",
       "<style scoped>\n",
       "    .dataframe tbody tr th:only-of-type {\n",
       "        vertical-align: middle;\n",
       "    }\n",
       "\n",
       "    .dataframe tbody tr th {\n",
       "        vertical-align: top;\n",
       "    }\n",
       "\n",
       "    .dataframe thead th {\n",
       "        text-align: right;\n",
       "    }\n",
       "</style>\n",
       "<table border=\"1\" class=\"dataframe\">\n",
       "  <thead>\n",
       "    <tr style=\"text-align: right;\">\n",
       "      <th></th>\n",
       "      <th>agency</th>\n",
       "      <th>title</th>\n",
       "      <th>price</th>\n",
       "      <th>bedrooms</th>\n",
       "      <th>bathrooms</th>\n",
       "      <th>garages</th>\n",
       "      <th>parkings</th>\n",
       "      <th>area</th>\n",
       "      <th>offering</th>\n",
       "      <th>erf_size</th>\n",
       "      <th>floor_size</th>\n",
       "      <th>property_type</th>\n",
       "    </tr>\n",
       "  </thead>\n",
       "  <tbody>\n",
       "    <tr>\n",
       "      <th>7</th>\n",
       "      <td>dogon_group_properties</td>\n",
       "      <td>673m² Vacant Land For Sale in Bantry Bay</td>\n",
       "      <td>20000000.0</td>\n",
       "      <td>NaN</td>\n",
       "      <td>NaN</td>\n",
       "      <td>NaN</td>\n",
       "      <td>NaN</td>\n",
       "      <td>Bantry Bay</td>\n",
       "      <td>sale</td>\n",
       "      <td>673.0</td>\n",
       "      <td>NaN</td>\n",
       "      <td>vacant_land</td>\n",
       "    </tr>\n",
       "    <tr>\n",
       "      <th>55</th>\n",
       "      <td>pam_golding</td>\n",
       "      <td>619 m² residential vacant land for sale in Ban...</td>\n",
       "      <td>20000000.0</td>\n",
       "      <td>0.0</td>\n",
       "      <td>0.0</td>\n",
       "      <td>NaN</td>\n",
       "      <td>NaN</td>\n",
       "      <td>Bantry Bay</td>\n",
       "      <td>sale</td>\n",
       "      <td>619.0</td>\n",
       "      <td>NaN</td>\n",
       "      <td>vacant_land</td>\n",
       "    </tr>\n",
       "    <tr>\n",
       "      <th>72</th>\n",
       "      <td>pam_golding</td>\n",
       "      <td>1298 m² residential vacant land for sale in Fr...</td>\n",
       "      <td>24950000.0</td>\n",
       "      <td>0.0</td>\n",
       "      <td>0.0</td>\n",
       "      <td>NaN</td>\n",
       "      <td>NaN</td>\n",
       "      <td>Fresnaye</td>\n",
       "      <td>sale</td>\n",
       "      <td>1298.0</td>\n",
       "      <td>NaN</td>\n",
       "      <td>vacant_land</td>\n",
       "    </tr>\n",
       "    <tr>\n",
       "      <th>103</th>\n",
       "      <td>pam_golding</td>\n",
       "      <td>1573 m² residential vacant land for sale in Co...</td>\n",
       "      <td>3750000.0</td>\n",
       "      <td>0.0</td>\n",
       "      <td>0.0</td>\n",
       "      <td>NaN</td>\n",
       "      <td>NaN</td>\n",
       "      <td>Constantia</td>\n",
       "      <td>sale</td>\n",
       "      <td>1573.0</td>\n",
       "      <td>NaN</td>\n",
       "      <td>vacant_land</td>\n",
       "    </tr>\n",
       "    <tr>\n",
       "      <th>116</th>\n",
       "      <td>blue_chip</td>\n",
       "      <td>1,500m² Vacant Land For Sale in Constantia</td>\n",
       "      <td>3750000.0</td>\n",
       "      <td>NaN</td>\n",
       "      <td>NaN</td>\n",
       "      <td>NaN</td>\n",
       "      <td>NaN</td>\n",
       "      <td>Constantia</td>\n",
       "      <td>sale</td>\n",
       "      <td>1500.0</td>\n",
       "      <td>NaN</td>\n",
       "      <td>vacant_land</td>\n",
       "    </tr>\n",
       "    <tr>\n",
       "      <th>117</th>\n",
       "      <td>blue_chip</td>\n",
       "      <td>1,573m² Vacant Land For Sale in Constantia</td>\n",
       "      <td>3750000.0</td>\n",
       "      <td>NaN</td>\n",
       "      <td>NaN</td>\n",
       "      <td>NaN</td>\n",
       "      <td>NaN</td>\n",
       "      <td>Constantia</td>\n",
       "      <td>sale</td>\n",
       "      <td>1573.0</td>\n",
       "      <td>NaN</td>\n",
       "      <td>vacant_land</td>\n",
       "    </tr>\n",
       "    <tr>\n",
       "      <th>133</th>\n",
       "      <td>chas_everitt</td>\n",
       "      <td>8,443m² Vacant Land For Sale in Constantia</td>\n",
       "      <td>11950000.0</td>\n",
       "      <td>NaN</td>\n",
       "      <td>NaN</td>\n",
       "      <td>NaN</td>\n",
       "      <td>NaN</td>\n",
       "      <td>Constantia</td>\n",
       "      <td>sale</td>\n",
       "      <td>8443.0</td>\n",
       "      <td>NaN</td>\n",
       "      <td>vacant_land</td>\n",
       "    </tr>\n",
       "    <tr>\n",
       "      <th>155</th>\n",
       "      <td>hamiltons</td>\n",
       "      <td>1,344m² Vacant Land For Sale in Constantia</td>\n",
       "      <td>5500000.0</td>\n",
       "      <td>NaN</td>\n",
       "      <td>NaN</td>\n",
       "      <td>NaN</td>\n",
       "      <td>NaN</td>\n",
       "      <td>Constantia</td>\n",
       "      <td>sale</td>\n",
       "      <td>1344.0</td>\n",
       "      <td>NaN</td>\n",
       "      <td>vacant_land</td>\n",
       "    </tr>\n",
       "    <tr>\n",
       "      <th>159</th>\n",
       "      <td>upton_real_estate</td>\n",
       "      <td>1,344m² Vacant Land For Sale in Constantia</td>\n",
       "      <td>6650000.0</td>\n",
       "      <td>NaN</td>\n",
       "      <td>NaN</td>\n",
       "      <td>NaN</td>\n",
       "      <td>NaN</td>\n",
       "      <td>Constantia</td>\n",
       "      <td>sale</td>\n",
       "      <td>1344.0</td>\n",
       "      <td>NaN</td>\n",
       "      <td>vacant_land</td>\n",
       "    </tr>\n",
       "    <tr>\n",
       "      <th>179</th>\n",
       "      <td>seeff</td>\n",
       "      <td>673m² Vacant Land For Sale in Bantry Bay</td>\n",
       "      <td>20000000.0</td>\n",
       "      <td>NaN</td>\n",
       "      <td>NaN</td>\n",
       "      <td>NaN</td>\n",
       "      <td>NaN</td>\n",
       "      <td>Bantry Bay</td>\n",
       "      <td>sale</td>\n",
       "      <td>673.0</td>\n",
       "      <td>NaN</td>\n",
       "      <td>vacant_land</td>\n",
       "    </tr>\n",
       "    <tr>\n",
       "      <th>188</th>\n",
       "      <td>seeff</td>\n",
       "      <td>1,087m² Vacant Land For Sale in Constantia</td>\n",
       "      <td>2995000.0</td>\n",
       "      <td>NaN</td>\n",
       "      <td>NaN</td>\n",
       "      <td>NaN</td>\n",
       "      <td>NaN</td>\n",
       "      <td>Constantia</td>\n",
       "      <td>sale</td>\n",
       "      <td>1087.0</td>\n",
       "      <td>NaN</td>\n",
       "      <td>vacant_land</td>\n",
       "    </tr>\n",
       "    <tr>\n",
       "      <th>204</th>\n",
       "      <td>jawitz</td>\n",
       "      <td>4 Bedroom Freestanding For Sale in Constantia</td>\n",
       "      <td>7200000.0</td>\n",
       "      <td>4.0</td>\n",
       "      <td>3.0</td>\n",
       "      <td>2.0</td>\n",
       "      <td>NaN</td>\n",
       "      <td>Constantia</td>\n",
       "      <td>sale</td>\n",
       "      <td>1510.0</td>\n",
       "      <td>NaN</td>\n",
       "      <td>vacant_land</td>\n",
       "    </tr>\n",
       "    <tr>\n",
       "      <th>207</th>\n",
       "      <td>jawitz</td>\n",
       "      <td>1,087m² Vacant Land For Sale in Constantia</td>\n",
       "      <td>2995000.0</td>\n",
       "      <td>0.0</td>\n",
       "      <td>0.0</td>\n",
       "      <td>NaN</td>\n",
       "      <td>NaN</td>\n",
       "      <td>Constantia</td>\n",
       "      <td>sale</td>\n",
       "      <td>1087.0</td>\n",
       "      <td>NaN</td>\n",
       "      <td>vacant_land</td>\n",
       "    </tr>\n",
       "    <tr>\n",
       "      <th>210</th>\n",
       "      <td>jawitz</td>\n",
       "      <td>1,344m² Vacant Land For Sale in Constantia</td>\n",
       "      <td>5900000.0</td>\n",
       "      <td>0.0</td>\n",
       "      <td>0.0</td>\n",
       "      <td>NaN</td>\n",
       "      <td>NaN</td>\n",
       "      <td>Constantia</td>\n",
       "      <td>sale</td>\n",
       "      <td>1344.0</td>\n",
       "      <td>NaN</td>\n",
       "      <td>vacant_land</td>\n",
       "    </tr>\n",
       "    <tr>\n",
       "      <th>212</th>\n",
       "      <td>jawitz</td>\n",
       "      <td>4 Bedroom Freestanding For Sale in Constantia</td>\n",
       "      <td>9000000.0</td>\n",
       "      <td>4.0</td>\n",
       "      <td>3.0</td>\n",
       "      <td>4.0</td>\n",
       "      <td>NaN</td>\n",
       "      <td>Constantia</td>\n",
       "      <td>sale</td>\n",
       "      <td>2529.0</td>\n",
       "      <td>NaN</td>\n",
       "      <td>vacant_land</td>\n",
       "    </tr>\n",
       "    <tr>\n",
       "      <th>238</th>\n",
       "      <td>greef_christies</td>\n",
       "      <td>585m² Vacant Land For Sale in Constantia</td>\n",
       "      <td>1949250.0</td>\n",
       "      <td>NaN</td>\n",
       "      <td>NaN</td>\n",
       "      <td>NaN</td>\n",
       "      <td>NaN</td>\n",
       "      <td>Constantia</td>\n",
       "      <td>sale</td>\n",
       "      <td>585.0</td>\n",
       "      <td>NaN</td>\n",
       "      <td>vacant_land</td>\n",
       "    </tr>\n",
       "    <tr>\n",
       "      <th>247</th>\n",
       "      <td>tyson_properties</td>\n",
       "      <td>1,811m² Vacant Land Sold in Constantia</td>\n",
       "      <td>6800000.0</td>\n",
       "      <td>NaN</td>\n",
       "      <td>NaN</td>\n",
       "      <td>NaN</td>\n",
       "      <td>NaN</td>\n",
       "      <td>Constantia</td>\n",
       "      <td>sale</td>\n",
       "      <td>1811.0</td>\n",
       "      <td>NaN</td>\n",
       "      <td>vacant_land</td>\n",
       "    </tr>\n",
       "    <tr>\n",
       "      <th>252</th>\n",
       "      <td>pam_golding</td>\n",
       "      <td>1222 m² residential vacant land for sale in Co...</td>\n",
       "      <td>4995000.0</td>\n",
       "      <td>0.0</td>\n",
       "      <td>0.0</td>\n",
       "      <td>NaN</td>\n",
       "      <td>NaN</td>\n",
       "      <td>Constantia</td>\n",
       "      <td>sale</td>\n",
       "      <td>1222.0</td>\n",
       "      <td>NaN</td>\n",
       "      <td>vacant_land</td>\n",
       "    </tr>\n",
       "    <tr>\n",
       "      <th>257</th>\n",
       "      <td>tyson_properties</td>\n",
       "      <td>1,344m² Vacant Land For Sale in Constantia</td>\n",
       "      <td>6650000.0</td>\n",
       "      <td>NaN</td>\n",
       "      <td>NaN</td>\n",
       "      <td>NaN</td>\n",
       "      <td>NaN</td>\n",
       "      <td>Constantia</td>\n",
       "      <td>sale</td>\n",
       "      <td>1344.0</td>\n",
       "      <td>NaN</td>\n",
       "      <td>vacant_land</td>\n",
       "    </tr>\n",
       "    <tr>\n",
       "      <th>263</th>\n",
       "      <td>upton_real_estate</td>\n",
       "      <td>1,222m² Vacant Land For Sale in Constantia</td>\n",
       "      <td>6379000.0</td>\n",
       "      <td>0.0</td>\n",
       "      <td>0.0</td>\n",
       "      <td>NaN</td>\n",
       "      <td>NaN</td>\n",
       "      <td>Constantia</td>\n",
       "      <td>sale</td>\n",
       "      <td>1222.0</td>\n",
       "      <td>NaN</td>\n",
       "      <td>vacant_land</td>\n",
       "    </tr>\n",
       "    <tr>\n",
       "      <th>270</th>\n",
       "      <td>sothebys_realty</td>\n",
       "      <td>17,587m² Vacant Land For Sale in Constantia</td>\n",
       "      <td>NaN</td>\n",
       "      <td>0.0</td>\n",
       "      <td>0.0</td>\n",
       "      <td>NaN</td>\n",
       "      <td>NaN</td>\n",
       "      <td>Constantia</td>\n",
       "      <td>sale</td>\n",
       "      <td>17587.0</td>\n",
       "      <td>NaN</td>\n",
       "      <td>vacant_land</td>\n",
       "    </tr>\n",
       "    <tr>\n",
       "      <th>276</th>\n",
       "      <td>sothebys_realty</td>\n",
       "      <td>4,014m² Vacant Land For Sale in Constantia</td>\n",
       "      <td>17500000.0</td>\n",
       "      <td>NaN</td>\n",
       "      <td>NaN</td>\n",
       "      <td>NaN</td>\n",
       "      <td>NaN</td>\n",
       "      <td>Constantia</td>\n",
       "      <td>sale</td>\n",
       "      <td>4014.0</td>\n",
       "      <td>NaN</td>\n",
       "      <td>vacant_land</td>\n",
       "    </tr>\n",
       "    <tr>\n",
       "      <th>290</th>\n",
       "      <td>sothebys_realty</td>\n",
       "      <td>4,003m² Vacant Land For Sale in Constantia</td>\n",
       "      <td>7900000.0</td>\n",
       "      <td>NaN</td>\n",
       "      <td>NaN</td>\n",
       "      <td>NaN</td>\n",
       "      <td>NaN</td>\n",
       "      <td>Constantia</td>\n",
       "      <td>sale</td>\n",
       "      <td>4003.0</td>\n",
       "      <td>NaN</td>\n",
       "      <td>vacant_land</td>\n",
       "    </tr>\n",
       "    <tr>\n",
       "      <th>292</th>\n",
       "      <td>sothebys_realty</td>\n",
       "      <td>1,344m² Vacant Land For Sale in Constantia</td>\n",
       "      <td>6650000.0</td>\n",
       "      <td>NaN</td>\n",
       "      <td>NaN</td>\n",
       "      <td>NaN</td>\n",
       "      <td>NaN</td>\n",
       "      <td>Constantia</td>\n",
       "      <td>sale</td>\n",
       "      <td>1344.0</td>\n",
       "      <td>NaN</td>\n",
       "      <td>vacant_land</td>\n",
       "    </tr>\n",
       "    <tr>\n",
       "      <th>313</th>\n",
       "      <td>jawitz</td>\n",
       "      <td>1,600m² Vacant Land For Sale in Constantia</td>\n",
       "      <td>3990000.0</td>\n",
       "      <td>0.0</td>\n",
       "      <td>0.0</td>\n",
       "      <td>NaN</td>\n",
       "      <td>NaN</td>\n",
       "      <td>Constantia</td>\n",
       "      <td>sale</td>\n",
       "      <td>1600.0</td>\n",
       "      <td>NaN</td>\n",
       "      <td>vacant_land</td>\n",
       "    </tr>\n",
       "    <tr>\n",
       "      <th>369</th>\n",
       "      <td>jawitz</td>\n",
       "      <td>5 Bedroom Freestanding For Sale in Constantia</td>\n",
       "      <td>6950000.0</td>\n",
       "      <td>5.0</td>\n",
       "      <td>4.0</td>\n",
       "      <td>4.0</td>\n",
       "      <td>NaN</td>\n",
       "      <td>Constantia</td>\n",
       "      <td>sale</td>\n",
       "      <td>2441.0</td>\n",
       "      <td>NaN</td>\n",
       "      <td>vacant_land</td>\n",
       "    </tr>\n",
       "    <tr>\n",
       "      <th>370</th>\n",
       "      <td>pam_golding</td>\n",
       "      <td>1344 m² residential vacant land for sale in Co...</td>\n",
       "      <td>5900000.0</td>\n",
       "      <td>0.0</td>\n",
       "      <td>0.0</td>\n",
       "      <td>NaN</td>\n",
       "      <td>NaN</td>\n",
       "      <td>Constantia</td>\n",
       "      <td>sale</td>\n",
       "      <td>1344.0</td>\n",
       "      <td>NaN</td>\n",
       "      <td>vacant_land</td>\n",
       "    </tr>\n",
       "    <tr>\n",
       "      <th>403</th>\n",
       "      <td>blue_chip</td>\n",
       "      <td>1,980m² Vacant Land For Sale in Constantia</td>\n",
       "      <td>6750000.0</td>\n",
       "      <td>NaN</td>\n",
       "      <td>NaN</td>\n",
       "      <td>NaN</td>\n",
       "      <td>NaN</td>\n",
       "      <td>Constantia</td>\n",
       "      <td>sale</td>\n",
       "      <td>1980.0</td>\n",
       "      <td>NaN</td>\n",
       "      <td>vacant_land</td>\n",
       "    </tr>\n",
       "    <tr>\n",
       "      <th>433</th>\n",
       "      <td>knight_frank</td>\n",
       "      <td>2,448m² Vacant Land For Sale in Constantia</td>\n",
       "      <td>5495000.0</td>\n",
       "      <td>0.0</td>\n",
       "      <td>0.0</td>\n",
       "      <td>NaN</td>\n",
       "      <td>NaN</td>\n",
       "      <td>Constantia</td>\n",
       "      <td>sale</td>\n",
       "      <td>2448.0</td>\n",
       "      <td>NaN</td>\n",
       "      <td>vacant_land</td>\n",
       "    </tr>\n",
       "    <tr>\n",
       "      <th>437</th>\n",
       "      <td>sothebys_realty</td>\n",
       "      <td>1,600m² Vacant Land For Sale in Constantia</td>\n",
       "      <td>4950000.0</td>\n",
       "      <td>NaN</td>\n",
       "      <td>NaN</td>\n",
       "      <td>NaN</td>\n",
       "      <td>NaN</td>\n",
       "      <td>Constantia</td>\n",
       "      <td>sale</td>\n",
       "      <td>1600.0</td>\n",
       "      <td>NaN</td>\n",
       "      <td>vacant_land</td>\n",
       "    </tr>\n",
       "    <tr>\n",
       "      <th>...</th>\n",
       "      <td>...</td>\n",
       "      <td>...</td>\n",
       "      <td>...</td>\n",
       "      <td>...</td>\n",
       "      <td>...</td>\n",
       "      <td>...</td>\n",
       "      <td>...</td>\n",
       "      <td>...</td>\n",
       "      <td>...</td>\n",
       "      <td>...</td>\n",
       "      <td>...</td>\n",
       "      <td>...</td>\n",
       "    </tr>\n",
       "    <tr>\n",
       "      <th>503</th>\n",
       "      <td>pam_golding</td>\n",
       "      <td>1730 m² residential vacant land for sale in Co...</td>\n",
       "      <td>4995000.0</td>\n",
       "      <td>0.0</td>\n",
       "      <td>0.0</td>\n",
       "      <td>NaN</td>\n",
       "      <td>NaN</td>\n",
       "      <td>Constantia</td>\n",
       "      <td>sale</td>\n",
       "      <td>1730.0</td>\n",
       "      <td>NaN</td>\n",
       "      <td>vacant_land</td>\n",
       "    </tr>\n",
       "    <tr>\n",
       "      <th>517</th>\n",
       "      <td>pam_golding</td>\n",
       "      <td>1052 m² residential vacant land for sale in Fr...</td>\n",
       "      <td>42000000.0</td>\n",
       "      <td>0.0</td>\n",
       "      <td>0.0</td>\n",
       "      <td>NaN</td>\n",
       "      <td>NaN</td>\n",
       "      <td>Fresnaye</td>\n",
       "      <td>sale</td>\n",
       "      <td>1052.0</td>\n",
       "      <td>NaN</td>\n",
       "      <td>vacant_land</td>\n",
       "    </tr>\n",
       "    <tr>\n",
       "      <th>530</th>\n",
       "      <td>seeff</td>\n",
       "      <td>1,052m² Vacant Land For Sale in Fresnaye</td>\n",
       "      <td>48000000.0</td>\n",
       "      <td>NaN</td>\n",
       "      <td>NaN</td>\n",
       "      <td>NaN</td>\n",
       "      <td>NaN</td>\n",
       "      <td>Fresnaye</td>\n",
       "      <td>sale</td>\n",
       "      <td>1052.0</td>\n",
       "      <td>NaN</td>\n",
       "      <td>vacant_land</td>\n",
       "    </tr>\n",
       "    <tr>\n",
       "      <th>565</th>\n",
       "      <td>upton_real_estate</td>\n",
       "      <td>1,600m² Vacant Land For Sale in Constantia</td>\n",
       "      <td>4950000.0</td>\n",
       "      <td>NaN</td>\n",
       "      <td>NaN</td>\n",
       "      <td>NaN</td>\n",
       "      <td>NaN</td>\n",
       "      <td>Constantia</td>\n",
       "      <td>sale</td>\n",
       "      <td>1600.0</td>\n",
       "      <td>NaN</td>\n",
       "      <td>vacant_land</td>\n",
       "    </tr>\n",
       "    <tr>\n",
       "      <th>568</th>\n",
       "      <td>tyson_properties</td>\n",
       "      <td>5.5 Bedroom Freestanding For Sale in Constantia</td>\n",
       "      <td>13480000.0</td>\n",
       "      <td>6.0</td>\n",
       "      <td>5.0</td>\n",
       "      <td>2.0</td>\n",
       "      <td>4.0</td>\n",
       "      <td>Constantia</td>\n",
       "      <td>sale</td>\n",
       "      <td>1200.0</td>\n",
       "      <td>NaN</td>\n",
       "      <td>vacant_land</td>\n",
       "    </tr>\n",
       "    <tr>\n",
       "      <th>569</th>\n",
       "      <td>tyson_properties</td>\n",
       "      <td>4 Bedroom Freestanding For Sale in Constantia</td>\n",
       "      <td>9950000.0</td>\n",
       "      <td>4.0</td>\n",
       "      <td>3.0</td>\n",
       "      <td>2.0</td>\n",
       "      <td>6.0</td>\n",
       "      <td>Constantia</td>\n",
       "      <td>sale</td>\n",
       "      <td>1476.0</td>\n",
       "      <td>388.0</td>\n",
       "      <td>vacant_land</td>\n",
       "    </tr>\n",
       "    <tr>\n",
       "      <th>573</th>\n",
       "      <td>tyson_properties</td>\n",
       "      <td>4 Bedroom Freestanding For Sale in Constantia</td>\n",
       "      <td>11495000.0</td>\n",
       "      <td>4.0</td>\n",
       "      <td>2.0</td>\n",
       "      <td>2.0</td>\n",
       "      <td>10.0</td>\n",
       "      <td>Constantia</td>\n",
       "      <td>sale</td>\n",
       "      <td>1817.0</td>\n",
       "      <td>286.0</td>\n",
       "      <td>vacant_land</td>\n",
       "    </tr>\n",
       "    <tr>\n",
       "      <th>574</th>\n",
       "      <td>tyson_properties</td>\n",
       "      <td>3 Bedroom Freestanding For Sale in Constantia</td>\n",
       "      <td>10000000.0</td>\n",
       "      <td>3.0</td>\n",
       "      <td>2.0</td>\n",
       "      <td>2.0</td>\n",
       "      <td>8.0</td>\n",
       "      <td>Constantia</td>\n",
       "      <td>sale</td>\n",
       "      <td>2676.0</td>\n",
       "      <td>315.0</td>\n",
       "      <td>vacant_land</td>\n",
       "    </tr>\n",
       "    <tr>\n",
       "      <th>597</th>\n",
       "      <td>rawson</td>\n",
       "      <td>Vacant Land for sale in Constantia, Cape Town</td>\n",
       "      <td>5950000.0</td>\n",
       "      <td>NaN</td>\n",
       "      <td>NaN</td>\n",
       "      <td>NaN</td>\n",
       "      <td>NaN</td>\n",
       "      <td>Constantia</td>\n",
       "      <td>sale</td>\n",
       "      <td>2.0</td>\n",
       "      <td>NaN</td>\n",
       "      <td>vacant_land</td>\n",
       "    </tr>\n",
       "    <tr>\n",
       "      <th>612</th>\n",
       "      <td>jawitz</td>\n",
       "      <td>2,000m² Vacant Land For Sale in Constantia</td>\n",
       "      <td>5900000.0</td>\n",
       "      <td>0.0</td>\n",
       "      <td>0.0</td>\n",
       "      <td>NaN</td>\n",
       "      <td>NaN</td>\n",
       "      <td>Constantia</td>\n",
       "      <td>sale</td>\n",
       "      <td>2000.0</td>\n",
       "      <td>NaN</td>\n",
       "      <td>vacant_land</td>\n",
       "    </tr>\n",
       "    <tr>\n",
       "      <th>613</th>\n",
       "      <td>jawitz</td>\n",
       "      <td>1,600m² Vacant Land For Sale in Constantia</td>\n",
       "      <td>5900000.0</td>\n",
       "      <td>0.0</td>\n",
       "      <td>0.0</td>\n",
       "      <td>NaN</td>\n",
       "      <td>NaN</td>\n",
       "      <td>Constantia</td>\n",
       "      <td>sale</td>\n",
       "      <td>1600.0</td>\n",
       "      <td>NaN</td>\n",
       "      <td>vacant_land</td>\n",
       "    </tr>\n",
       "    <tr>\n",
       "      <th>629</th>\n",
       "      <td>sothebys_realty</td>\n",
       "      <td>1,730m² Vacant Land For Sale in Constantia</td>\n",
       "      <td>4995000.0</td>\n",
       "      <td>NaN</td>\n",
       "      <td>NaN</td>\n",
       "      <td>NaN</td>\n",
       "      <td>NaN</td>\n",
       "      <td>Constantia</td>\n",
       "      <td>sale</td>\n",
       "      <td>1730.0</td>\n",
       "      <td>NaN</td>\n",
       "      <td>vacant_land</td>\n",
       "    </tr>\n",
       "    <tr>\n",
       "      <th>630</th>\n",
       "      <td>sothebys_realty</td>\n",
       "      <td>2,000m² Vacant Land For Sale in Constantia</td>\n",
       "      <td>5900000.0</td>\n",
       "      <td>NaN</td>\n",
       "      <td>NaN</td>\n",
       "      <td>NaN</td>\n",
       "      <td>NaN</td>\n",
       "      <td>Constantia</td>\n",
       "      <td>sale</td>\n",
       "      <td>2000.0</td>\n",
       "      <td>NaN</td>\n",
       "      <td>vacant_land</td>\n",
       "    </tr>\n",
       "    <tr>\n",
       "      <th>634</th>\n",
       "      <td>sothebys_realty</td>\n",
       "      <td>2,268m² Vacant Land For Sale in Constantia</td>\n",
       "      <td>7999000.0</td>\n",
       "      <td>NaN</td>\n",
       "      <td>NaN</td>\n",
       "      <td>NaN</td>\n",
       "      <td>NaN</td>\n",
       "      <td>Constantia</td>\n",
       "      <td>sale</td>\n",
       "      <td>2268.0</td>\n",
       "      <td>NaN</td>\n",
       "      <td>vacant_land</td>\n",
       "    </tr>\n",
       "    <tr>\n",
       "      <th>639</th>\n",
       "      <td>jawitz</td>\n",
       "      <td>270m² Vacant Land For Sale in Bantry Bay</td>\n",
       "      <td>5750000.0</td>\n",
       "      <td>0.0</td>\n",
       "      <td>0.0</td>\n",
       "      <td>NaN</td>\n",
       "      <td>NaN</td>\n",
       "      <td>Bantry Bay</td>\n",
       "      <td>sale</td>\n",
       "      <td>270.0</td>\n",
       "      <td>NaN</td>\n",
       "      <td>vacant_land</td>\n",
       "    </tr>\n",
       "    <tr>\n",
       "      <th>640</th>\n",
       "      <td>tyson_properties</td>\n",
       "      <td>4 Bedroom Freestanding For Sale in Constantia</td>\n",
       "      <td>9000000.0</td>\n",
       "      <td>4.0</td>\n",
       "      <td>4.0</td>\n",
       "      <td>4.0</td>\n",
       "      <td>7.0</td>\n",
       "      <td>Constantia</td>\n",
       "      <td>sale</td>\n",
       "      <td>2529.0</td>\n",
       "      <td>350.0</td>\n",
       "      <td>vacant_land</td>\n",
       "    </tr>\n",
       "    <tr>\n",
       "      <th>673</th>\n",
       "      <td>tyson_properties</td>\n",
       "      <td>5 Bedroom Freestanding For Sale in Constantia</td>\n",
       "      <td>6595000.0</td>\n",
       "      <td>5.0</td>\n",
       "      <td>3.0</td>\n",
       "      <td>NaN</td>\n",
       "      <td>8.0</td>\n",
       "      <td>Constantia</td>\n",
       "      <td>sale</td>\n",
       "      <td>1353.0</td>\n",
       "      <td>262.0</td>\n",
       "      <td>vacant_land</td>\n",
       "    </tr>\n",
       "    <tr>\n",
       "      <th>691</th>\n",
       "      <td>tyson_properties</td>\n",
       "      <td>3 Bedroom Freestanding For Sale in Constantia</td>\n",
       "      <td>4950000.0</td>\n",
       "      <td>3.0</td>\n",
       "      <td>3.0</td>\n",
       "      <td>1.0</td>\n",
       "      <td>3.0</td>\n",
       "      <td>Constantia</td>\n",
       "      <td>sale</td>\n",
       "      <td>863.0</td>\n",
       "      <td>NaN</td>\n",
       "      <td>vacant_land</td>\n",
       "    </tr>\n",
       "    <tr>\n",
       "      <th>698</th>\n",
       "      <td>tyson_properties</td>\n",
       "      <td>3 Bedroom Freestanding For Sale in Constantia</td>\n",
       "      <td>14750000.0</td>\n",
       "      <td>3.0</td>\n",
       "      <td>3.0</td>\n",
       "      <td>2.0</td>\n",
       "      <td>4.0</td>\n",
       "      <td>Constantia</td>\n",
       "      <td>sale</td>\n",
       "      <td>1427.0</td>\n",
       "      <td>310.0</td>\n",
       "      <td>vacant_land</td>\n",
       "    </tr>\n",
       "    <tr>\n",
       "      <th>813</th>\n",
       "      <td>sothebys_realty</td>\n",
       "      <td>8,189m² Vacant Land For Sale in Constantia</td>\n",
       "      <td>17900000.0</td>\n",
       "      <td>NaN</td>\n",
       "      <td>NaN</td>\n",
       "      <td>NaN</td>\n",
       "      <td>NaN</td>\n",
       "      <td>Constantia</td>\n",
       "      <td>sale</td>\n",
       "      <td>8189.0</td>\n",
       "      <td>NaN</td>\n",
       "      <td>vacant_land</td>\n",
       "    </tr>\n",
       "    <tr>\n",
       "      <th>820</th>\n",
       "      <td>tyson_properties</td>\n",
       "      <td>5 Bedroom Freestanding For Sale in Constantia</td>\n",
       "      <td>8500000.0</td>\n",
       "      <td>5.0</td>\n",
       "      <td>4.0</td>\n",
       "      <td>2.0</td>\n",
       "      <td>NaN</td>\n",
       "      <td>Constantia</td>\n",
       "      <td>sale</td>\n",
       "      <td>2000.0</td>\n",
       "      <td>381.0</td>\n",
       "      <td>vacant_land</td>\n",
       "    </tr>\n",
       "    <tr>\n",
       "      <th>870</th>\n",
       "      <td>rawson</td>\n",
       "      <td>Vacant Land for sale in Constantia, Cape Town</td>\n",
       "      <td>2995000.0</td>\n",
       "      <td>NaN</td>\n",
       "      <td>NaN</td>\n",
       "      <td>NaN</td>\n",
       "      <td>NaN</td>\n",
       "      <td>Constantia</td>\n",
       "      <td>sale</td>\n",
       "      <td>900.0</td>\n",
       "      <td>NaN</td>\n",
       "      <td>vacant_land</td>\n",
       "    </tr>\n",
       "    <tr>\n",
       "      <th>918</th>\n",
       "      <td>rawson</td>\n",
       "      <td>Vacant Land for sale in Constantia, Cape Town</td>\n",
       "      <td>4995000.0</td>\n",
       "      <td>NaN</td>\n",
       "      <td>NaN</td>\n",
       "      <td>NaN</td>\n",
       "      <td>NaN</td>\n",
       "      <td>Constantia</td>\n",
       "      <td>sale</td>\n",
       "      <td>1.0</td>\n",
       "      <td>NaN</td>\n",
       "      <td>vacant_land</td>\n",
       "    </tr>\n",
       "    <tr>\n",
       "      <th>969</th>\n",
       "      <td>knight_frank</td>\n",
       "      <td>712m² Vacant Land For Sale in Bantry Bay</td>\n",
       "      <td>NaN</td>\n",
       "      <td>0.0</td>\n",
       "      <td>0.0</td>\n",
       "      <td>NaN</td>\n",
       "      <td>NaN</td>\n",
       "      <td>Bantry Bay</td>\n",
       "      <td>sale</td>\n",
       "      <td>712.0</td>\n",
       "      <td>NaN</td>\n",
       "      <td>vacant_land</td>\n",
       "    </tr>\n",
       "    <tr>\n",
       "      <th>1010</th>\n",
       "      <td>pam_golding</td>\n",
       "      <td>8189 m² residential vacant land for sale in Co...</td>\n",
       "      <td>15500000.0</td>\n",
       "      <td>0.0</td>\n",
       "      <td>0.0</td>\n",
       "      <td>NaN</td>\n",
       "      <td>NaN</td>\n",
       "      <td>Constantia</td>\n",
       "      <td>sale</td>\n",
       "      <td>8189.0</td>\n",
       "      <td>NaN</td>\n",
       "      <td>vacant_land</td>\n",
       "    </tr>\n",
       "    <tr>\n",
       "      <th>1021</th>\n",
       "      <td>jawitz</td>\n",
       "      <td>2,000m² Vacant Land For Sale in Constantia</td>\n",
       "      <td>5750000.0</td>\n",
       "      <td>0.0</td>\n",
       "      <td>0.0</td>\n",
       "      <td>NaN</td>\n",
       "      <td>NaN</td>\n",
       "      <td>Constantia</td>\n",
       "      <td>sale</td>\n",
       "      <td>2000.0</td>\n",
       "      <td>NaN</td>\n",
       "      <td>vacant_land</td>\n",
       "    </tr>\n",
       "    <tr>\n",
       "      <th>1022</th>\n",
       "      <td>jawitz</td>\n",
       "      <td>1,700m² Vacant Land For Sale in Constantia</td>\n",
       "      <td>5950000.0</td>\n",
       "      <td>0.0</td>\n",
       "      <td>0.0</td>\n",
       "      <td>NaN</td>\n",
       "      <td>NaN</td>\n",
       "      <td>Constantia</td>\n",
       "      <td>sale</td>\n",
       "      <td>1700.0</td>\n",
       "      <td>NaN</td>\n",
       "      <td>vacant_land</td>\n",
       "    </tr>\n",
       "    <tr>\n",
       "      <th>1024</th>\n",
       "      <td>jawitz</td>\n",
       "      <td>1,006m² Vacant Land For Sale in Constantia</td>\n",
       "      <td>3000000.0</td>\n",
       "      <td>0.0</td>\n",
       "      <td>0.0</td>\n",
       "      <td>NaN</td>\n",
       "      <td>NaN</td>\n",
       "      <td>Constantia</td>\n",
       "      <td>sale</td>\n",
       "      <td>1006.0</td>\n",
       "      <td>NaN</td>\n",
       "      <td>vacant_land</td>\n",
       "    </tr>\n",
       "    <tr>\n",
       "      <th>1025</th>\n",
       "      <td>realtor_of_excellence</td>\n",
       "      <td>1,774m² Vacant Land For Sale in Constantia Val...</td>\n",
       "      <td>5950000.0</td>\n",
       "      <td>0.0</td>\n",
       "      <td>0.0</td>\n",
       "      <td>NaN</td>\n",
       "      <td>NaN</td>\n",
       "      <td>Constantia</td>\n",
       "      <td>sale</td>\n",
       "      <td>1774.0</td>\n",
       "      <td>NaN</td>\n",
       "      <td>vacant_land</td>\n",
       "    </tr>\n",
       "    <tr>\n",
       "      <th>1033</th>\n",
       "      <td>knight_frank</td>\n",
       "      <td>270m² Vacant Land For Sale in Bantry Bay</td>\n",
       "      <td>5750000.0</td>\n",
       "      <td>0.0</td>\n",
       "      <td>0.0</td>\n",
       "      <td>NaN</td>\n",
       "      <td>NaN</td>\n",
       "      <td>Bantry Bay</td>\n",
       "      <td>sale</td>\n",
       "      <td>270.0</td>\n",
       "      <td>NaN</td>\n",
       "      <td>vacant_land</td>\n",
       "    </tr>\n",
       "  </tbody>\n",
       "</table>\n",
       "<p>63 rows × 12 columns</p>\n",
       "</div>"
      ],
      "text/plain": [
       "                      agency  \\\n",
       "7     dogon_group_properties   \n",
       "55               pam_golding   \n",
       "72               pam_golding   \n",
       "103              pam_golding   \n",
       "116                blue_chip   \n",
       "117                blue_chip   \n",
       "133             chas_everitt   \n",
       "155                hamiltons   \n",
       "159        upton_real_estate   \n",
       "179                    seeff   \n",
       "188                    seeff   \n",
       "204                   jawitz   \n",
       "207                   jawitz   \n",
       "210                   jawitz   \n",
       "212                   jawitz   \n",
       "238          greef_christies   \n",
       "247         tyson_properties   \n",
       "252              pam_golding   \n",
       "257         tyson_properties   \n",
       "263        upton_real_estate   \n",
       "270          sothebys_realty   \n",
       "276          sothebys_realty   \n",
       "290          sothebys_realty   \n",
       "292          sothebys_realty   \n",
       "313                   jawitz   \n",
       "369                   jawitz   \n",
       "370              pam_golding   \n",
       "403                blue_chip   \n",
       "433             knight_frank   \n",
       "437          sothebys_realty   \n",
       "...                      ...   \n",
       "503              pam_golding   \n",
       "517              pam_golding   \n",
       "530                    seeff   \n",
       "565        upton_real_estate   \n",
       "568         tyson_properties   \n",
       "569         tyson_properties   \n",
       "573         tyson_properties   \n",
       "574         tyson_properties   \n",
       "597                   rawson   \n",
       "612                   jawitz   \n",
       "613                   jawitz   \n",
       "629          sothebys_realty   \n",
       "630          sothebys_realty   \n",
       "634          sothebys_realty   \n",
       "639                   jawitz   \n",
       "640         tyson_properties   \n",
       "673         tyson_properties   \n",
       "691         tyson_properties   \n",
       "698         tyson_properties   \n",
       "813          sothebys_realty   \n",
       "820         tyson_properties   \n",
       "870                   rawson   \n",
       "918                   rawson   \n",
       "969             knight_frank   \n",
       "1010             pam_golding   \n",
       "1021                  jawitz   \n",
       "1022                  jawitz   \n",
       "1024                  jawitz   \n",
       "1025   realtor_of_excellence   \n",
       "1033            knight_frank   \n",
       "\n",
       "                                                  title       price  bedrooms  \\\n",
       "7              673m² Vacant Land For Sale in Bantry Bay  20000000.0       NaN   \n",
       "55    619 m² residential vacant land for sale in Ban...  20000000.0       0.0   \n",
       "72    1298 m² residential vacant land for sale in Fr...  24950000.0       0.0   \n",
       "103   1573 m² residential vacant land for sale in Co...   3750000.0       0.0   \n",
       "116          1,500m² Vacant Land For Sale in Constantia   3750000.0       NaN   \n",
       "117          1,573m² Vacant Land For Sale in Constantia   3750000.0       NaN   \n",
       "133          8,443m² Vacant Land For Sale in Constantia  11950000.0       NaN   \n",
       "155          1,344m² Vacant Land For Sale in Constantia   5500000.0       NaN   \n",
       "159          1,344m² Vacant Land For Sale in Constantia   6650000.0       NaN   \n",
       "179            673m² Vacant Land For Sale in Bantry Bay  20000000.0       NaN   \n",
       "188          1,087m² Vacant Land For Sale in Constantia   2995000.0       NaN   \n",
       "204       4 Bedroom Freestanding For Sale in Constantia   7200000.0       4.0   \n",
       "207          1,087m² Vacant Land For Sale in Constantia   2995000.0       0.0   \n",
       "210          1,344m² Vacant Land For Sale in Constantia   5900000.0       0.0   \n",
       "212       4 Bedroom Freestanding For Sale in Constantia   9000000.0       4.0   \n",
       "238            585m² Vacant Land For Sale in Constantia   1949250.0       NaN   \n",
       "247              1,811m² Vacant Land Sold in Constantia   6800000.0       NaN   \n",
       "252   1222 m² residential vacant land for sale in Co...   4995000.0       0.0   \n",
       "257          1,344m² Vacant Land For Sale in Constantia   6650000.0       NaN   \n",
       "263          1,222m² Vacant Land For Sale in Constantia   6379000.0       0.0   \n",
       "270         17,587m² Vacant Land For Sale in Constantia         NaN       0.0   \n",
       "276          4,014m² Vacant Land For Sale in Constantia  17500000.0       NaN   \n",
       "290          4,003m² Vacant Land For Sale in Constantia   7900000.0       NaN   \n",
       "292          1,344m² Vacant Land For Sale in Constantia   6650000.0       NaN   \n",
       "313          1,600m² Vacant Land For Sale in Constantia   3990000.0       0.0   \n",
       "369       5 Bedroom Freestanding For Sale in Constantia   6950000.0       5.0   \n",
       "370   1344 m² residential vacant land for sale in Co...   5900000.0       0.0   \n",
       "403          1,980m² Vacant Land For Sale in Constantia   6750000.0       NaN   \n",
       "433          2,448m² Vacant Land For Sale in Constantia   5495000.0       0.0   \n",
       "437          1,600m² Vacant Land For Sale in Constantia   4950000.0       NaN   \n",
       "...                                                 ...         ...       ...   \n",
       "503   1730 m² residential vacant land for sale in Co...   4995000.0       0.0   \n",
       "517   1052 m² residential vacant land for sale in Fr...  42000000.0       0.0   \n",
       "530            1,052m² Vacant Land For Sale in Fresnaye  48000000.0       NaN   \n",
       "565          1,600m² Vacant Land For Sale in Constantia   4950000.0       NaN   \n",
       "568     5.5 Bedroom Freestanding For Sale in Constantia  13480000.0       6.0   \n",
       "569       4 Bedroom Freestanding For Sale in Constantia   9950000.0       4.0   \n",
       "573       4 Bedroom Freestanding For Sale in Constantia  11495000.0       4.0   \n",
       "574       3 Bedroom Freestanding For Sale in Constantia  10000000.0       3.0   \n",
       "597       Vacant Land for sale in Constantia, Cape Town   5950000.0       NaN   \n",
       "612          2,000m² Vacant Land For Sale in Constantia   5900000.0       0.0   \n",
       "613          1,600m² Vacant Land For Sale in Constantia   5900000.0       0.0   \n",
       "629          1,730m² Vacant Land For Sale in Constantia   4995000.0       NaN   \n",
       "630          2,000m² Vacant Land For Sale in Constantia   5900000.0       NaN   \n",
       "634          2,268m² Vacant Land For Sale in Constantia   7999000.0       NaN   \n",
       "639            270m² Vacant Land For Sale in Bantry Bay   5750000.0       0.0   \n",
       "640       4 Bedroom Freestanding For Sale in Constantia   9000000.0       4.0   \n",
       "673       5 Bedroom Freestanding For Sale in Constantia   6595000.0       5.0   \n",
       "691       3 Bedroom Freestanding For Sale in Constantia   4950000.0       3.0   \n",
       "698       3 Bedroom Freestanding For Sale in Constantia  14750000.0       3.0   \n",
       "813          8,189m² Vacant Land For Sale in Constantia  17900000.0       NaN   \n",
       "820       5 Bedroom Freestanding For Sale in Constantia   8500000.0       5.0   \n",
       "870       Vacant Land for sale in Constantia, Cape Town   2995000.0       NaN   \n",
       "918       Vacant Land for sale in Constantia, Cape Town   4995000.0       NaN   \n",
       "969            712m² Vacant Land For Sale in Bantry Bay         NaN       0.0   \n",
       "1010  8189 m² residential vacant land for sale in Co...  15500000.0       0.0   \n",
       "1021         2,000m² Vacant Land For Sale in Constantia   5750000.0       0.0   \n",
       "1022         1,700m² Vacant Land For Sale in Constantia   5950000.0       0.0   \n",
       "1024         1,006m² Vacant Land For Sale in Constantia   3000000.0       0.0   \n",
       "1025  1,774m² Vacant Land For Sale in Constantia Val...   5950000.0       0.0   \n",
       "1033           270m² Vacant Land For Sale in Bantry Bay   5750000.0       0.0   \n",
       "\n",
       "      bathrooms  garages  parkings        area offering  erf_size  floor_size  \\\n",
       "7           NaN      NaN       NaN  Bantry Bay     sale     673.0         NaN   \n",
       "55          0.0      NaN       NaN  Bantry Bay     sale     619.0         NaN   \n",
       "72          0.0      NaN       NaN    Fresnaye     sale    1298.0         NaN   \n",
       "103         0.0      NaN       NaN  Constantia     sale    1573.0         NaN   \n",
       "116         NaN      NaN       NaN  Constantia     sale    1500.0         NaN   \n",
       "117         NaN      NaN       NaN  Constantia     sale    1573.0         NaN   \n",
       "133         NaN      NaN       NaN  Constantia     sale    8443.0         NaN   \n",
       "155         NaN      NaN       NaN  Constantia     sale    1344.0         NaN   \n",
       "159         NaN      NaN       NaN  Constantia     sale    1344.0         NaN   \n",
       "179         NaN      NaN       NaN  Bantry Bay     sale     673.0         NaN   \n",
       "188         NaN      NaN       NaN  Constantia     sale    1087.0         NaN   \n",
       "204         3.0      2.0       NaN  Constantia     sale    1510.0         NaN   \n",
       "207         0.0      NaN       NaN  Constantia     sale    1087.0         NaN   \n",
       "210         0.0      NaN       NaN  Constantia     sale    1344.0         NaN   \n",
       "212         3.0      4.0       NaN  Constantia     sale    2529.0         NaN   \n",
       "238         NaN      NaN       NaN  Constantia     sale     585.0         NaN   \n",
       "247         NaN      NaN       NaN  Constantia     sale    1811.0         NaN   \n",
       "252         0.0      NaN       NaN  Constantia     sale    1222.0         NaN   \n",
       "257         NaN      NaN       NaN  Constantia     sale    1344.0         NaN   \n",
       "263         0.0      NaN       NaN  Constantia     sale    1222.0         NaN   \n",
       "270         0.0      NaN       NaN  Constantia     sale   17587.0         NaN   \n",
       "276         NaN      NaN       NaN  Constantia     sale    4014.0         NaN   \n",
       "290         NaN      NaN       NaN  Constantia     sale    4003.0         NaN   \n",
       "292         NaN      NaN       NaN  Constantia     sale    1344.0         NaN   \n",
       "313         0.0      NaN       NaN  Constantia     sale    1600.0         NaN   \n",
       "369         4.0      4.0       NaN  Constantia     sale    2441.0         NaN   \n",
       "370         0.0      NaN       NaN  Constantia     sale    1344.0         NaN   \n",
       "403         NaN      NaN       NaN  Constantia     sale    1980.0         NaN   \n",
       "433         0.0      NaN       NaN  Constantia     sale    2448.0         NaN   \n",
       "437         NaN      NaN       NaN  Constantia     sale    1600.0         NaN   \n",
       "...         ...      ...       ...         ...      ...       ...         ...   \n",
       "503         0.0      NaN       NaN  Constantia     sale    1730.0         NaN   \n",
       "517         0.0      NaN       NaN    Fresnaye     sale    1052.0         NaN   \n",
       "530         NaN      NaN       NaN    Fresnaye     sale    1052.0         NaN   \n",
       "565         NaN      NaN       NaN  Constantia     sale    1600.0         NaN   \n",
       "568         5.0      2.0       4.0  Constantia     sale    1200.0         NaN   \n",
       "569         3.0      2.0       6.0  Constantia     sale    1476.0       388.0   \n",
       "573         2.0      2.0      10.0  Constantia     sale    1817.0       286.0   \n",
       "574         2.0      2.0       8.0  Constantia     sale    2676.0       315.0   \n",
       "597         NaN      NaN       NaN  Constantia     sale       2.0         NaN   \n",
       "612         0.0      NaN       NaN  Constantia     sale    2000.0         NaN   \n",
       "613         0.0      NaN       NaN  Constantia     sale    1600.0         NaN   \n",
       "629         NaN      NaN       NaN  Constantia     sale    1730.0         NaN   \n",
       "630         NaN      NaN       NaN  Constantia     sale    2000.0         NaN   \n",
       "634         NaN      NaN       NaN  Constantia     sale    2268.0         NaN   \n",
       "639         0.0      NaN       NaN  Bantry Bay     sale     270.0         NaN   \n",
       "640         4.0      4.0       7.0  Constantia     sale    2529.0       350.0   \n",
       "673         3.0      NaN       8.0  Constantia     sale    1353.0       262.0   \n",
       "691         3.0      1.0       3.0  Constantia     sale     863.0         NaN   \n",
       "698         3.0      2.0       4.0  Constantia     sale    1427.0       310.0   \n",
       "813         NaN      NaN       NaN  Constantia     sale    8189.0         NaN   \n",
       "820         4.0      2.0       NaN  Constantia     sale    2000.0       381.0   \n",
       "870         NaN      NaN       NaN  Constantia     sale     900.0         NaN   \n",
       "918         NaN      NaN       NaN  Constantia     sale       1.0         NaN   \n",
       "969         0.0      NaN       NaN  Bantry Bay     sale     712.0         NaN   \n",
       "1010        0.0      NaN       NaN  Constantia     sale    8189.0         NaN   \n",
       "1021        0.0      NaN       NaN  Constantia     sale    2000.0         NaN   \n",
       "1022        0.0      NaN       NaN  Constantia     sale    1700.0         NaN   \n",
       "1024        0.0      NaN       NaN  Constantia     sale    1006.0         NaN   \n",
       "1025        0.0      NaN       NaN  Constantia     sale    1774.0         NaN   \n",
       "1033        0.0      NaN       NaN  Bantry Bay     sale     270.0         NaN   \n",
       "\n",
       "     property_type  \n",
       "7      vacant_land  \n",
       "55     vacant_land  \n",
       "72     vacant_land  \n",
       "103    vacant_land  \n",
       "116    vacant_land  \n",
       "117    vacant_land  \n",
       "133    vacant_land  \n",
       "155    vacant_land  \n",
       "159    vacant_land  \n",
       "179    vacant_land  \n",
       "188    vacant_land  \n",
       "204    vacant_land  \n",
       "207    vacant_land  \n",
       "210    vacant_land  \n",
       "212    vacant_land  \n",
       "238    vacant_land  \n",
       "247    vacant_land  \n",
       "252    vacant_land  \n",
       "257    vacant_land  \n",
       "263    vacant_land  \n",
       "270    vacant_land  \n",
       "276    vacant_land  \n",
       "290    vacant_land  \n",
       "292    vacant_land  \n",
       "313    vacant_land  \n",
       "369    vacant_land  \n",
       "370    vacant_land  \n",
       "403    vacant_land  \n",
       "433    vacant_land  \n",
       "437    vacant_land  \n",
       "...            ...  \n",
       "503    vacant_land  \n",
       "517    vacant_land  \n",
       "530    vacant_land  \n",
       "565    vacant_land  \n",
       "568    vacant_land  \n",
       "569    vacant_land  \n",
       "573    vacant_land  \n",
       "574    vacant_land  \n",
       "597    vacant_land  \n",
       "612    vacant_land  \n",
       "613    vacant_land  \n",
       "629    vacant_land  \n",
       "630    vacant_land  \n",
       "634    vacant_land  \n",
       "639    vacant_land  \n",
       "640    vacant_land  \n",
       "673    vacant_land  \n",
       "691    vacant_land  \n",
       "698    vacant_land  \n",
       "813    vacant_land  \n",
       "820    vacant_land  \n",
       "870    vacant_land  \n",
       "918    vacant_land  \n",
       "969    vacant_land  \n",
       "1010   vacant_land  \n",
       "1021   vacant_land  \n",
       "1022   vacant_land  \n",
       "1024   vacant_land  \n",
       "1025   vacant_land  \n",
       "1033   vacant_land  \n",
       "\n",
       "[63 rows x 12 columns]"
      ]
     },
     "execution_count": 73,
     "metadata": {},
     "output_type": "execute_result"
    }
   ],
   "source": [
    "orbit[orbit['property_type']=='vacant_land']"
   ]
  },
  {
   "cell_type": "code",
   "execution_count": 74,
   "metadata": {},
   "outputs": [
    {
     "data": {
      "text/plain": [
       "63"
      ]
     },
     "execution_count": 74,
     "metadata": {},
     "output_type": "execute_result"
    }
   ],
   "source": [
    "len(orbit[orbit['property_type']=='vacant_land'])"
   ]
  },
  {
   "cell_type": "markdown",
   "metadata": {},
   "source": [
    "By observing the 'title' feature of above dataframe which consists of 'property_type' as 'vacant_land',\n",
    "some of the properties are 'Freestanding' i.e. the no of 'bedrooms','bathrooms','garages','parkings',\"floor_size\"\n",
    "cannot be zero for these properties. Hence these properties are let go and rest of the properties\n",
    "have been imputed with value 0 for the variables 'bedrooms','bathrooms','garages','parkings',\"floor_size\"."
   ]
  },
  {
   "cell_type": "code",
   "execution_count": 75,
   "metadata": {},
   "outputs": [],
   "source": [
    "import re\n",
    "count = 0\n",
    "for i in vacant_index:\n",
    "    str = orbit.iloc[i,1]\n",
    "    str = str.lower()\n",
    "    \n",
    "    if 'bedroom' in str:\n",
    "        pass\n",
    "    \n",
    "    else:\n",
    "        count += 1\n",
    "        orbit.loc[i,['bedrooms','bathrooms','garages','parkings',\"floor_size\"]] = orbit.loc[i,['bedrooms','bathrooms','garages','parkings','floor_size']].replace(np.nan, 0)\n",
    "        "
   ]
  },
  {
   "cell_type": "code",
   "execution_count": 76,
   "metadata": {},
   "outputs": [
    {
     "data": {
      "text/plain": [
       "63"
      ]
     },
     "execution_count": 76,
     "metadata": {},
     "output_type": "execute_result"
    }
   ],
   "source": [
    "len(vacant_index)"
   ]
  },
  {
   "cell_type": "code",
   "execution_count": 77,
   "metadata": {},
   "outputs": [
    {
     "data": {
      "text/plain": [
       "51"
      ]
     },
     "execution_count": 77,
     "metadata": {},
     "output_type": "execute_result"
    }
   ],
   "source": [
    "count"
   ]
  },
  {
   "cell_type": "code",
   "execution_count": 78,
   "metadata": {},
   "outputs": [
    {
     "data": {
      "text/plain": [
       "agency             0\n",
       "title              0\n",
       "price            131\n",
       "bedrooms           4\n",
       "bathrooms         14\n",
       "garages          309\n",
       "parkings         467\n",
       "area               0\n",
       "offering           0\n",
       "erf_size         325\n",
       "floor_size       412\n",
       "property_type      0\n",
       "dtype: int64"
      ]
     },
     "execution_count": 78,
     "metadata": {},
     "output_type": "execute_result"
    }
   ],
   "source": [
    "orbit.isnull().sum()"
   ]
  },
  {
   "cell_type": "markdown",
   "metadata": {},
   "source": [
    "# BATHROOMS"
   ]
  },
  {
   "cell_type": "code",
   "execution_count": 79,
   "metadata": {},
   "outputs": [
    {
     "data": {
      "text/html": [
       "<div>\n",
       "<style scoped>\n",
       "    .dataframe tbody tr th:only-of-type {\n",
       "        vertical-align: middle;\n",
       "    }\n",
       "\n",
       "    .dataframe tbody tr th {\n",
       "        vertical-align: top;\n",
       "    }\n",
       "\n",
       "    .dataframe thead th {\n",
       "        text-align: right;\n",
       "    }\n",
       "</style>\n",
       "<table border=\"1\" class=\"dataframe\">\n",
       "  <thead>\n",
       "    <tr style=\"text-align: right;\">\n",
       "      <th></th>\n",
       "      <th>agency</th>\n",
       "      <th>title</th>\n",
       "      <th>price</th>\n",
       "      <th>bedrooms</th>\n",
       "      <th>bathrooms</th>\n",
       "      <th>garages</th>\n",
       "      <th>parkings</th>\n",
       "      <th>area</th>\n",
       "      <th>offering</th>\n",
       "      <th>erf_size</th>\n",
       "      <th>floor_size</th>\n",
       "      <th>property_type</th>\n",
       "    </tr>\n",
       "  </thead>\n",
       "  <tbody>\n",
       "    <tr>\n",
       "      <th>53</th>\n",
       "      <td>pam_golding</td>\n",
       "      <td>4 bedroom house for sale in Constantia Upper</td>\n",
       "      <td>16785000.0</td>\n",
       "      <td>4.0</td>\n",
       "      <td>NaN</td>\n",
       "      <td>4.0</td>\n",
       "      <td>4.0</td>\n",
       "      <td>Constantia</td>\n",
       "      <td>sale</td>\n",
       "      <td>1953.0</td>\n",
       "      <td>NaN</td>\n",
       "      <td>house</td>\n",
       "    </tr>\n",
       "    <tr>\n",
       "      <th>57</th>\n",
       "      <td>pam_golding</td>\n",
       "      <td>3 bedroom house for sale in Fresnaye</td>\n",
       "      <td>16999000.0</td>\n",
       "      <td>3.0</td>\n",
       "      <td>NaN</td>\n",
       "      <td>3.0</td>\n",
       "      <td>NaN</td>\n",
       "      <td>Fresnaye</td>\n",
       "      <td>sale</td>\n",
       "      <td>381.0</td>\n",
       "      <td>480.0</td>\n",
       "      <td>house</td>\n",
       "    </tr>\n",
       "    <tr>\n",
       "      <th>349</th>\n",
       "      <td>pam_golding</td>\n",
       "      <td>5 bedroom house for sale in Constantia Upper</td>\n",
       "      <td>14950000.0</td>\n",
       "      <td>5.0</td>\n",
       "      <td>NaN</td>\n",
       "      <td>2.0</td>\n",
       "      <td>NaN</td>\n",
       "      <td>Constantia</td>\n",
       "      <td>sale</td>\n",
       "      <td>1351.0</td>\n",
       "      <td>NaN</td>\n",
       "      <td>house</td>\n",
       "    </tr>\n",
       "    <tr>\n",
       "      <th>513</th>\n",
       "      <td>pam_golding</td>\n",
       "      <td>4 bedroom house for sale in Constantia (Cape T...</td>\n",
       "      <td>5495000.0</td>\n",
       "      <td>4.0</td>\n",
       "      <td>NaN</td>\n",
       "      <td>2.0</td>\n",
       "      <td>2.0</td>\n",
       "      <td>Constantia</td>\n",
       "      <td>sale</td>\n",
       "      <td>977.0</td>\n",
       "      <td>NaN</td>\n",
       "      <td>house</td>\n",
       "    </tr>\n",
       "    <tr>\n",
       "      <th>561</th>\n",
       "      <td>pam_golding</td>\n",
       "      <td>4 bedroom house for sale in Bantry Bay</td>\n",
       "      <td>33000000.0</td>\n",
       "      <td>4.0</td>\n",
       "      <td>NaN</td>\n",
       "      <td>2.0</td>\n",
       "      <td>7.0</td>\n",
       "      <td>Bantry Bay</td>\n",
       "      <td>sale</td>\n",
       "      <td>700.0</td>\n",
       "      <td>NaN</td>\n",
       "      <td>house</td>\n",
       "    </tr>\n",
       "    <tr>\n",
       "      <th>563</th>\n",
       "      <td>pam_golding</td>\n",
       "      <td>4 bedroom house for sale in Constantia (Cape T...</td>\n",
       "      <td>7995000.0</td>\n",
       "      <td>4.0</td>\n",
       "      <td>NaN</td>\n",
       "      <td>3.0</td>\n",
       "      <td>2.0</td>\n",
       "      <td>Constantia</td>\n",
       "      <td>sale</td>\n",
       "      <td>2183.0</td>\n",
       "      <td>NaN</td>\n",
       "      <td>house</td>\n",
       "    </tr>\n",
       "    <tr>\n",
       "      <th>628</th>\n",
       "      <td>pam_golding</td>\n",
       "      <td>4 bedroom house for sale in Constantia Upper</td>\n",
       "      <td>9900000.0</td>\n",
       "      <td>4.0</td>\n",
       "      <td>NaN</td>\n",
       "      <td>2.0</td>\n",
       "      <td>NaN</td>\n",
       "      <td>Constantia</td>\n",
       "      <td>sale</td>\n",
       "      <td>2000.0</td>\n",
       "      <td>300.0</td>\n",
       "      <td>house</td>\n",
       "    </tr>\n",
       "    <tr>\n",
       "      <th>648</th>\n",
       "      <td>engel_and_volkers</td>\n",
       "      <td>Luxurious 3 Bed Apt with Spectacular Sea Views</td>\n",
       "      <td>58900.0</td>\n",
       "      <td>3.0</td>\n",
       "      <td>NaN</td>\n",
       "      <td>NaN</td>\n",
       "      <td>NaN</td>\n",
       "      <td>Bakoven</td>\n",
       "      <td>rent</td>\n",
       "      <td>NaN</td>\n",
       "      <td>310.0</td>\n",
       "      <td>apartment</td>\n",
       "    </tr>\n",
       "    <tr>\n",
       "      <th>651</th>\n",
       "      <td>engel_and_volkers</td>\n",
       "      <td>Exclusive 5 bedroom house with stunning views</td>\n",
       "      <td>17950000.0</td>\n",
       "      <td>5.0</td>\n",
       "      <td>NaN</td>\n",
       "      <td>2.0</td>\n",
       "      <td>NaN</td>\n",
       "      <td>Bakoven</td>\n",
       "      <td>buy</td>\n",
       "      <td>831.0</td>\n",
       "      <td>400.0</td>\n",
       "      <td>house</td>\n",
       "    </tr>\n",
       "    <tr>\n",
       "      <th>652</th>\n",
       "      <td>engel_and_volkers</td>\n",
       "      <td>Magnificent 5 ens bed home with glorious views</td>\n",
       "      <td>30000.0</td>\n",
       "      <td>5.0</td>\n",
       "      <td>NaN</td>\n",
       "      <td>2.0</td>\n",
       "      <td>NaN</td>\n",
       "      <td>Bantry Bay</td>\n",
       "      <td>rent</td>\n",
       "      <td>798.0</td>\n",
       "      <td>600.0</td>\n",
       "      <td>house</td>\n",
       "    </tr>\n",
       "    <tr>\n",
       "      <th>655</th>\n",
       "      <td>engel_and_volkers</td>\n",
       "      <td>Exclusive 2 bedroom Penthouse in Bakoven</td>\n",
       "      <td>13000000.0</td>\n",
       "      <td>2.0</td>\n",
       "      <td>NaN</td>\n",
       "      <td>2.0</td>\n",
       "      <td>NaN</td>\n",
       "      <td>Bakoven</td>\n",
       "      <td>buy</td>\n",
       "      <td>NaN</td>\n",
       "      <td>236.0</td>\n",
       "      <td>apartment</td>\n",
       "    </tr>\n",
       "    <tr>\n",
       "      <th>868</th>\n",
       "      <td>engel_and_volkers</td>\n",
       "      <td>Opportunities call from this Fresnaye residence</td>\n",
       "      <td>38500000.0</td>\n",
       "      <td>4.0</td>\n",
       "      <td>NaN</td>\n",
       "      <td>2.0</td>\n",
       "      <td>NaN</td>\n",
       "      <td>Fresnaye</td>\n",
       "      <td>buy</td>\n",
       "      <td>1155.0</td>\n",
       "      <td>244.0</td>\n",
       "      <td>house</td>\n",
       "    </tr>\n",
       "    <tr>\n",
       "      <th>898</th>\n",
       "      <td>engel_and_volkers</td>\n",
       "      <td>Bantry Blue House with panoramic views</td>\n",
       "      <td>80000.0</td>\n",
       "      <td>3.0</td>\n",
       "      <td>NaN</td>\n",
       "      <td>2.0</td>\n",
       "      <td>NaN</td>\n",
       "      <td>Bantry Bay</td>\n",
       "      <td>rent</td>\n",
       "      <td>708.0</td>\n",
       "      <td>695.0</td>\n",
       "      <td>house</td>\n",
       "    </tr>\n",
       "    <tr>\n",
       "      <th>988</th>\n",
       "      <td>engel_and_volkers</td>\n",
       "      <td>Large family house with ocean views</td>\n",
       "      <td>37000.0</td>\n",
       "      <td>NaN</td>\n",
       "      <td>NaN</td>\n",
       "      <td>1.0</td>\n",
       "      <td>NaN</td>\n",
       "      <td>Fresnaye</td>\n",
       "      <td>rent</td>\n",
       "      <td>NaN</td>\n",
       "      <td>600.0</td>\n",
       "      <td>house</td>\n",
       "    </tr>\n",
       "  </tbody>\n",
       "</table>\n",
       "</div>"
      ],
      "text/plain": [
       "                agency                                              title  \\\n",
       "53         pam_golding       4 bedroom house for sale in Constantia Upper   \n",
       "57         pam_golding               3 bedroom house for sale in Fresnaye   \n",
       "349        pam_golding       5 bedroom house for sale in Constantia Upper   \n",
       "513        pam_golding  4 bedroom house for sale in Constantia (Cape T...   \n",
       "561        pam_golding             4 bedroom house for sale in Bantry Bay   \n",
       "563        pam_golding  4 bedroom house for sale in Constantia (Cape T...   \n",
       "628        pam_golding       4 bedroom house for sale in Constantia Upper   \n",
       "648  engel_and_volkers     Luxurious 3 Bed Apt with Spectacular Sea Views   \n",
       "651  engel_and_volkers      Exclusive 5 bedroom house with stunning views   \n",
       "652  engel_and_volkers     Magnificent 5 ens bed home with glorious views   \n",
       "655  engel_and_volkers           Exclusive 2 bedroom Penthouse in Bakoven   \n",
       "868  engel_and_volkers    Opportunities call from this Fresnaye residence   \n",
       "898  engel_and_volkers             Bantry Blue House with panoramic views   \n",
       "988  engel_and_volkers                Large family house with ocean views   \n",
       "\n",
       "          price  bedrooms  bathrooms  garages  parkings        area offering  \\\n",
       "53   16785000.0       4.0        NaN      4.0       4.0  Constantia     sale   \n",
       "57   16999000.0       3.0        NaN      3.0       NaN    Fresnaye     sale   \n",
       "349  14950000.0       5.0        NaN      2.0       NaN  Constantia     sale   \n",
       "513   5495000.0       4.0        NaN      2.0       2.0  Constantia     sale   \n",
       "561  33000000.0       4.0        NaN      2.0       7.0  Bantry Bay     sale   \n",
       "563   7995000.0       4.0        NaN      3.0       2.0  Constantia     sale   \n",
       "628   9900000.0       4.0        NaN      2.0       NaN  Constantia     sale   \n",
       "648     58900.0       3.0        NaN      NaN       NaN     Bakoven     rent   \n",
       "651  17950000.0       5.0        NaN      2.0       NaN     Bakoven      buy   \n",
       "652     30000.0       5.0        NaN      2.0       NaN  Bantry Bay     rent   \n",
       "655  13000000.0       2.0        NaN      2.0       NaN     Bakoven      buy   \n",
       "868  38500000.0       4.0        NaN      2.0       NaN    Fresnaye      buy   \n",
       "898     80000.0       3.0        NaN      2.0       NaN  Bantry Bay     rent   \n",
       "988     37000.0       NaN        NaN      1.0       NaN    Fresnaye     rent   \n",
       "\n",
       "     erf_size  floor_size property_type  \n",
       "53     1953.0         NaN         house  \n",
       "57      381.0       480.0         house  \n",
       "349    1351.0         NaN         house  \n",
       "513     977.0         NaN         house  \n",
       "561     700.0         NaN         house  \n",
       "563    2183.0         NaN         house  \n",
       "628    2000.0       300.0         house  \n",
       "648       NaN       310.0     apartment  \n",
       "651     831.0       400.0         house  \n",
       "652     798.0       600.0         house  \n",
       "655       NaN       236.0     apartment  \n",
       "868    1155.0       244.0         house  \n",
       "898     708.0       695.0         house  \n",
       "988       NaN       600.0         house  "
      ]
     },
     "execution_count": 79,
     "metadata": {},
     "output_type": "execute_result"
    }
   ],
   "source": [
    "orbit[orbit['bathrooms'].isnull()]"
   ]
  },
  {
   "cell_type": "code",
   "execution_count": 80,
   "metadata": {},
   "outputs": [
    {
     "data": {
      "text/plain": [
       "14"
      ]
     },
     "execution_count": 80,
     "metadata": {},
     "output_type": "execute_result"
    }
   ],
   "source": [
    "len(orbit[orbit['bathrooms'].isnull()])"
   ]
  },
  {
   "cell_type": "code",
   "execution_count": 81,
   "metadata": {},
   "outputs": [
    {
     "data": {
      "text/plain": [
       "4.0     194\n",
       "3.0     165\n",
       "5.0     139\n",
       "2.0     100\n",
       "6.0      62\n",
       "7.0      29\n",
       "8.0       9\n",
       "10.0      8\n",
       "1.0       6\n",
       "9.0       6\n",
       "11.0      2\n",
       "12.0      2\n",
       "Name: bathrooms, dtype: int64"
      ]
     },
     "execution_count": 81,
     "metadata": {},
     "output_type": "execute_result"
    }
   ],
   "source": [
    "orbit[orbit['property_type']=='house']['bathrooms'].value_counts()"
   ]
  },
  {
   "cell_type": "markdown",
   "metadata": {},
   "source": [
    "Now while filling the variable 'bathrooms', there are 14 NaN values.\n",
    "Hence I have decided to fill the values on a case by case basis.\n",
    "I have decided to fill the 'NaN' values based on their 'property_type'.\n",
    "So for filling the 'bathrooms' variable which has 'property_type' as 'house',\n",
    "I have filled these values with the mode for the 'bathrooms' variable.\n",
    "Similarly I have done the same for the other 'property_type' 'apartment'."
   ]
  },
  {
   "cell_type": "code",
   "execution_count": 82,
   "metadata": {},
   "outputs": [],
   "source": [
    "house_bath_mode = orbit[orbit['property_type']=='house']['bathrooms'].mode()"
   ]
  },
  {
   "cell_type": "code",
   "execution_count": 83,
   "metadata": {},
   "outputs": [
    {
     "data": {
      "text/plain": [
       "0    4.0\n",
       "dtype: float64"
      ]
     },
     "execution_count": 83,
     "metadata": {},
     "output_type": "execute_result"
    }
   ],
   "source": [
    "house_bath_mode"
   ]
  },
  {
   "cell_type": "code",
   "execution_count": 84,
   "metadata": {},
   "outputs": [],
   "source": [
    "for i in house_bath_mode:\n",
    "    house_bathrooms_mode = i"
   ]
  },
  {
   "cell_type": "code",
   "execution_count": 85,
   "metadata": {},
   "outputs": [
    {
     "data": {
      "text/plain": [
       "4.0"
      ]
     },
     "execution_count": 85,
     "metadata": {},
     "output_type": "execute_result"
    }
   ],
   "source": [
    "house_bathrooms_mode"
   ]
  },
  {
   "cell_type": "code",
   "execution_count": 86,
   "metadata": {},
   "outputs": [
    {
     "data": {
      "text/plain": [
       "2.0    93\n",
       "1.0    55\n",
       "3.0    55\n",
       "4.0    30\n",
       "5.0     5\n",
       "7.0     3\n",
       "6.0     2\n",
       "Name: bathrooms, dtype: int64"
      ]
     },
     "execution_count": 86,
     "metadata": {},
     "output_type": "execute_result"
    }
   ],
   "source": [
    "orbit[orbit['property_type']=='apartment']['bathrooms'].value_counts()"
   ]
  },
  {
   "cell_type": "code",
   "execution_count": 87,
   "metadata": {},
   "outputs": [],
   "source": [
    "apart_bath_mode = orbit[orbit['property_type']=='apartment']['bathrooms'].mode()"
   ]
  },
  {
   "cell_type": "code",
   "execution_count": 88,
   "metadata": {},
   "outputs": [
    {
     "data": {
      "text/plain": [
       "0    2.0\n",
       "dtype: float64"
      ]
     },
     "execution_count": 88,
     "metadata": {},
     "output_type": "execute_result"
    }
   ],
   "source": [
    "apart_bath_mode"
   ]
  },
  {
   "cell_type": "code",
   "execution_count": 89,
   "metadata": {},
   "outputs": [],
   "source": [
    "for i in apart_bath_mode:\n",
    "    apart_bathrooms_mode = i"
   ]
  },
  {
   "cell_type": "code",
   "execution_count": 90,
   "metadata": {},
   "outputs": [
    {
     "data": {
      "text/plain": [
       "2.0"
      ]
     },
     "execution_count": 90,
     "metadata": {},
     "output_type": "execute_result"
    }
   ],
   "source": [
    "apart_bathrooms_mode"
   ]
  },
  {
   "cell_type": "code",
   "execution_count": 91,
   "metadata": {},
   "outputs": [],
   "source": [
    "#Filling with mode values"
   ]
  },
  {
   "cell_type": "code",
   "execution_count": 92,
   "metadata": {},
   "outputs": [],
   "source": [
    "bath_house = orbit[orbit['bathrooms'].isnull() & (orbit['property_type'] == \"house\")]"
   ]
  },
  {
   "cell_type": "code",
   "execution_count": 93,
   "metadata": {},
   "outputs": [
    {
     "data": {
      "text/plain": [
       "12"
      ]
     },
     "execution_count": 93,
     "metadata": {},
     "output_type": "execute_result"
    }
   ],
   "source": [
    "len(bath_house)"
   ]
  },
  {
   "cell_type": "code",
   "execution_count": 94,
   "metadata": {},
   "outputs": [],
   "source": [
    "house_index = bath_house.index"
   ]
  },
  {
   "cell_type": "code",
   "execution_count": 95,
   "metadata": {},
   "outputs": [],
   "source": [
    "bathroom_house_index = []\n",
    "for i in house_index:\n",
    "    bathroom_house_index.append(i)\n",
    "    "
   ]
  },
  {
   "cell_type": "markdown",
   "metadata": {},
   "source": [
    "bathroom_house_index consists of indexes which have 'property_type' as 'house'\n",
    "and has 'NaN' value for the 'bathrooms' variable."
   ]
  },
  {
   "cell_type": "code",
   "execution_count": 96,
   "metadata": {},
   "outputs": [
    {
     "data": {
      "text/plain": [
       "[53, 57, 349, 513, 561, 563, 628, 651, 652, 868, 898, 988]"
      ]
     },
     "execution_count": 96,
     "metadata": {},
     "output_type": "execute_result"
    }
   ],
   "source": [
    "bathroom_house_index"
   ]
  },
  {
   "cell_type": "code",
   "execution_count": 97,
   "metadata": {},
   "outputs": [],
   "source": [
    "orbit.loc[bathroom_house_index,['bathrooms']] = orbit.loc[bathroom_house_index,['bathrooms']].replace(np.nan, house_bathrooms_mode)"
   ]
  },
  {
   "cell_type": "code",
   "execution_count": 98,
   "metadata": {},
   "outputs": [],
   "source": [
    "bath_apartment = orbit[(orbit['property_type'] == \"apartment\") & (orbit['bathrooms'].isnull())]"
   ]
  },
  {
   "cell_type": "code",
   "execution_count": 99,
   "metadata": {},
   "outputs": [
    {
     "data": {
      "text/plain": [
       "2"
      ]
     },
     "execution_count": 99,
     "metadata": {},
     "output_type": "execute_result"
    }
   ],
   "source": [
    "len(bath_apartment)"
   ]
  },
  {
   "cell_type": "code",
   "execution_count": 100,
   "metadata": {},
   "outputs": [],
   "source": [
    "apart_index = bath_apartment.index"
   ]
  },
  {
   "cell_type": "code",
   "execution_count": 101,
   "metadata": {},
   "outputs": [],
   "source": [
    "bathroom_apartment_index = []\n",
    "for i in apart_index:\n",
    "    bathroom_apartment_index.append(i)\n",
    "    "
   ]
  },
  {
   "cell_type": "markdown",
   "metadata": {},
   "source": [
    "bathroom_apartment_index consists of indexes which have 'property_type' as 'apartment'\n",
    "and has 'NaN' value for the 'bathrooms' variable"
   ]
  },
  {
   "cell_type": "code",
   "execution_count": 102,
   "metadata": {},
   "outputs": [
    {
     "data": {
      "text/plain": [
       "[648, 655]"
      ]
     },
     "execution_count": 102,
     "metadata": {},
     "output_type": "execute_result"
    }
   ],
   "source": [
    "bathroom_apartment_index"
   ]
  },
  {
   "cell_type": "code",
   "execution_count": 103,
   "metadata": {},
   "outputs": [],
   "source": [
    "orbit.loc[bathroom_apartment_index,['bathrooms']] = orbit.loc[bathroom_apartment_index,['bathrooms']].replace(np.nan, apart_bathrooms_mode)"
   ]
  },
  {
   "cell_type": "code",
   "execution_count": 104,
   "metadata": {},
   "outputs": [
    {
     "data": {
      "text/plain": [
       "0"
      ]
     },
     "execution_count": 104,
     "metadata": {},
     "output_type": "execute_result"
    }
   ],
   "source": [
    "orbit['bathrooms'].isnull().sum()"
   ]
  },
  {
   "cell_type": "markdown",
   "metadata": {},
   "source": [
    "Hence we have filled all the 'NaN' values for the 'bathrooms' variable"
   ]
  },
  {
   "cell_type": "markdown",
   "metadata": {},
   "source": [
    "# BEDROOMS"
   ]
  },
  {
   "cell_type": "code",
   "execution_count": 105,
   "metadata": {},
   "outputs": [
    {
     "data": {
      "text/plain": [
       "4"
      ]
     },
     "execution_count": 105,
     "metadata": {},
     "output_type": "execute_result"
    }
   ],
   "source": [
    "orbit['bedrooms'].isnull().sum()"
   ]
  },
  {
   "cell_type": "markdown",
   "metadata": {},
   "source": [
    "Now while filling the variable 'bedrooms', there are 4 NaN values.\n",
    "Hence I have decided to fill the values on a case by case basis.\n",
    "I have decided to fill the 'NaN' values based on their 'property_type'.\n",
    "So for filling the 'bedrooms' variable which has 'property_type' as 'house',\n",
    "I have filled these values with the mode for the 'bedrooms' variable.\n",
    "Similarly I have done the same for the other 'property_type' 'apartment'."
   ]
  },
  {
   "cell_type": "code",
   "execution_count": 106,
   "metadata": {},
   "outputs": [
    {
     "data": {
      "text/html": [
       "<div>\n",
       "<style scoped>\n",
       "    .dataframe tbody tr th:only-of-type {\n",
       "        vertical-align: middle;\n",
       "    }\n",
       "\n",
       "    .dataframe tbody tr th {\n",
       "        vertical-align: top;\n",
       "    }\n",
       "\n",
       "    .dataframe thead th {\n",
       "        text-align: right;\n",
       "    }\n",
       "</style>\n",
       "<table border=\"1\" class=\"dataframe\">\n",
       "  <thead>\n",
       "    <tr style=\"text-align: right;\">\n",
       "      <th></th>\n",
       "      <th>agency</th>\n",
       "      <th>title</th>\n",
       "      <th>price</th>\n",
       "      <th>bedrooms</th>\n",
       "      <th>bathrooms</th>\n",
       "      <th>garages</th>\n",
       "      <th>parkings</th>\n",
       "      <th>area</th>\n",
       "      <th>offering</th>\n",
       "      <th>erf_size</th>\n",
       "      <th>floor_size</th>\n",
       "      <th>property_type</th>\n",
       "    </tr>\n",
       "  </thead>\n",
       "  <tbody>\n",
       "    <tr>\n",
       "      <th>605</th>\n",
       "      <td>rawson</td>\n",
       "      <td>Apartment for sale in Fresnaye, Cape Town</td>\n",
       "      <td>1800000.0</td>\n",
       "      <td>NaN</td>\n",
       "      <td>1.0</td>\n",
       "      <td>NaN</td>\n",
       "      <td>NaN</td>\n",
       "      <td>Fresnaye</td>\n",
       "      <td>sale</td>\n",
       "      <td>0.0</td>\n",
       "      <td>51.0</td>\n",
       "      <td>apartment</td>\n",
       "    </tr>\n",
       "    <tr>\n",
       "      <th>842</th>\n",
       "      <td>rawson</td>\n",
       "      <td>Apartment for sale in Fresnaye, Cape Town</td>\n",
       "      <td>1800000.0</td>\n",
       "      <td>NaN</td>\n",
       "      <td>1.0</td>\n",
       "      <td>NaN</td>\n",
       "      <td>NaN</td>\n",
       "      <td>Fresnaye</td>\n",
       "      <td>sale</td>\n",
       "      <td>0.0</td>\n",
       "      <td>51.0</td>\n",
       "      <td>apartment</td>\n",
       "    </tr>\n",
       "    <tr>\n",
       "      <th>957</th>\n",
       "      <td>rawson</td>\n",
       "      <td>Apartment for sale in Fresnaye, Cape Town</td>\n",
       "      <td>1800000.0</td>\n",
       "      <td>NaN</td>\n",
       "      <td>1.0</td>\n",
       "      <td>NaN</td>\n",
       "      <td>NaN</td>\n",
       "      <td>Fresnaye</td>\n",
       "      <td>sale</td>\n",
       "      <td>0.0</td>\n",
       "      <td>51.0</td>\n",
       "      <td>apartment</td>\n",
       "    </tr>\n",
       "    <tr>\n",
       "      <th>988</th>\n",
       "      <td>engel_and_volkers</td>\n",
       "      <td>Large family house with ocean views</td>\n",
       "      <td>37000.0</td>\n",
       "      <td>NaN</td>\n",
       "      <td>4.0</td>\n",
       "      <td>1.0</td>\n",
       "      <td>NaN</td>\n",
       "      <td>Fresnaye</td>\n",
       "      <td>rent</td>\n",
       "      <td>NaN</td>\n",
       "      <td>600.0</td>\n",
       "      <td>house</td>\n",
       "    </tr>\n",
       "  </tbody>\n",
       "</table>\n",
       "</div>"
      ],
      "text/plain": [
       "                agency                                      title      price  \\\n",
       "605             rawson  Apartment for sale in Fresnaye, Cape Town  1800000.0   \n",
       "842             rawson  Apartment for sale in Fresnaye, Cape Town  1800000.0   \n",
       "957             rawson  Apartment for sale in Fresnaye, Cape Town  1800000.0   \n",
       "988  engel_and_volkers        Large family house with ocean views    37000.0   \n",
       "\n",
       "     bedrooms  bathrooms  garages  parkings      area offering  erf_size  \\\n",
       "605       NaN        1.0      NaN       NaN  Fresnaye     sale       0.0   \n",
       "842       NaN        1.0      NaN       NaN  Fresnaye     sale       0.0   \n",
       "957       NaN        1.0      NaN       NaN  Fresnaye     sale       0.0   \n",
       "988       NaN        4.0      1.0       NaN  Fresnaye     rent       NaN   \n",
       "\n",
       "     floor_size property_type  \n",
       "605        51.0     apartment  \n",
       "842        51.0     apartment  \n",
       "957        51.0     apartment  \n",
       "988       600.0         house  "
      ]
     },
     "execution_count": 106,
     "metadata": {},
     "output_type": "execute_result"
    }
   ],
   "source": [
    "orbit[orbit['bedrooms'].isnull()]"
   ]
  },
  {
   "cell_type": "code",
   "execution_count": 107,
   "metadata": {},
   "outputs": [],
   "source": [
    "apart_bed_mode = orbit[orbit['property_type']=='apartment']['bedrooms'].mode()"
   ]
  },
  {
   "cell_type": "code",
   "execution_count": 108,
   "metadata": {},
   "outputs": [
    {
     "data": {
      "text/plain": [
       "3.0    102\n",
       "2.0     90\n",
       "1.0     29\n",
       "4.0      8\n",
       "0.0      6\n",
       "5.0      4\n",
       "6.0      3\n",
       "Name: bedrooms, dtype: int64"
      ]
     },
     "execution_count": 108,
     "metadata": {},
     "output_type": "execute_result"
    }
   ],
   "source": [
    "orbit[orbit['property_type']=='apartment']['bedrooms'].value_counts()"
   ]
  },
  {
   "cell_type": "code",
   "execution_count": 109,
   "metadata": {},
   "outputs": [
    {
     "data": {
      "text/plain": [
       "0    3.0\n",
       "dtype: float64"
      ]
     },
     "execution_count": 109,
     "metadata": {},
     "output_type": "execute_result"
    }
   ],
   "source": [
    "apart_bed_mode"
   ]
  },
  {
   "cell_type": "code",
   "execution_count": 110,
   "metadata": {},
   "outputs": [
    {
     "data": {
      "text/plain": [
       "pandas.core.series.Series"
      ]
     },
     "execution_count": 110,
     "metadata": {},
     "output_type": "execute_result"
    }
   ],
   "source": [
    "type(apart_bed_mode)"
   ]
  },
  {
   "cell_type": "code",
   "execution_count": 111,
   "metadata": {},
   "outputs": [],
   "source": [
    "for i in apart_bed_mode:\n",
    "    apart_bedrooms_mode = i"
   ]
  },
  {
   "cell_type": "code",
   "execution_count": 112,
   "metadata": {},
   "outputs": [
    {
     "data": {
      "text/plain": [
       "3.0"
      ]
     },
     "execution_count": 112,
     "metadata": {},
     "output_type": "execute_result"
    }
   ],
   "source": [
    "apart_bedrooms_mode"
   ]
  },
  {
   "cell_type": "code",
   "execution_count": 113,
   "metadata": {},
   "outputs": [
    {
     "data": {
      "text/plain": [
       "pandas.core.series.Series"
      ]
     },
     "execution_count": 113,
     "metadata": {},
     "output_type": "execute_result"
    }
   ],
   "source": [
    "type(apart_bed_mode)"
   ]
  },
  {
   "cell_type": "code",
   "execution_count": 114,
   "metadata": {},
   "outputs": [],
   "source": [
    "house_bed_mode = orbit[orbit['property_type']=='house']['bedrooms'].mode()"
   ]
  },
  {
   "cell_type": "code",
   "execution_count": 115,
   "metadata": {},
   "outputs": [
    {
     "data": {
      "text/plain": [
       "0    4.0\n",
       "dtype: float64"
      ]
     },
     "execution_count": 115,
     "metadata": {},
     "output_type": "execute_result"
    }
   ],
   "source": [
    "house_bed_mode"
   ]
  },
  {
   "cell_type": "code",
   "execution_count": 116,
   "metadata": {},
   "outputs": [],
   "source": [
    "for i in house_bed_mode:\n",
    "    house_bedrooms_mode = i"
   ]
  },
  {
   "cell_type": "code",
   "execution_count": 117,
   "metadata": {},
   "outputs": [
    {
     "data": {
      "text/plain": [
       "4.0"
      ]
     },
     "execution_count": 117,
     "metadata": {},
     "output_type": "execute_result"
    }
   ],
   "source": [
    "house_bedrooms_mode"
   ]
  },
  {
   "cell_type": "code",
   "execution_count": 118,
   "metadata": {},
   "outputs": [
    {
     "data": {
      "text/plain": [
       "4.0     279\n",
       "5.0     181\n",
       "3.0     130\n",
       "6.0      61\n",
       "7.0      28\n",
       "2.0      27\n",
       "8.0       9\n",
       "10.0      6\n",
       "9.0       6\n",
       "1.0       3\n",
       "11.0      2\n",
       "12.0      1\n",
       "Name: bedrooms, dtype: int64"
      ]
     },
     "execution_count": 118,
     "metadata": {},
     "output_type": "execute_result"
    }
   ],
   "source": [
    "orbit[orbit['property_type']=='house']['bedrooms'].value_counts()"
   ]
  },
  {
   "cell_type": "code",
   "execution_count": 119,
   "metadata": {},
   "outputs": [],
   "source": [
    "bed_apart = orbit[orbit['bedrooms'].isnull() & (orbit['property_type'] == \"apartment\")]"
   ]
  },
  {
   "cell_type": "code",
   "execution_count": 120,
   "metadata": {},
   "outputs": [],
   "source": [
    "bed_house = orbit[orbit['bedrooms'].isnull() & (orbit['property_type'] == \"house\")]"
   ]
  },
  {
   "cell_type": "code",
   "execution_count": 121,
   "metadata": {},
   "outputs": [
    {
     "data": {
      "text/plain": [
       "3"
      ]
     },
     "execution_count": 121,
     "metadata": {},
     "output_type": "execute_result"
    }
   ],
   "source": [
    "len(bed_apart)"
   ]
  },
  {
   "cell_type": "code",
   "execution_count": 122,
   "metadata": {},
   "outputs": [
    {
     "data": {
      "text/plain": [
       "1"
      ]
     },
     "execution_count": 122,
     "metadata": {},
     "output_type": "execute_result"
    }
   ],
   "source": [
    "len(bed_house)"
   ]
  },
  {
   "cell_type": "code",
   "execution_count": 123,
   "metadata": {},
   "outputs": [],
   "source": [
    "bed_apart_index = bed_apart.index"
   ]
  },
  {
   "cell_type": "code",
   "execution_count": 124,
   "metadata": {},
   "outputs": [],
   "source": [
    "bedroom_apartment_index = []\n",
    "for i in bed_apart_index:\n",
    "    bedroom_apartment_index.append(i)\n",
    "    "
   ]
  },
  {
   "cell_type": "code",
   "execution_count": 125,
   "metadata": {},
   "outputs": [
    {
     "data": {
      "text/plain": [
       "[605, 842, 957]"
      ]
     },
     "execution_count": 125,
     "metadata": {},
     "output_type": "execute_result"
    }
   ],
   "source": [
    "bedroom_apartment_index"
   ]
  },
  {
   "cell_type": "markdown",
   "metadata": {},
   "source": [
    "bedroom_apart_index consists of indexes which have 'property_type' as 'apartment'\n",
    "and has 'NaN' value for the 'bedrooms' variable."
   ]
  },
  {
   "cell_type": "code",
   "execution_count": 126,
   "metadata": {},
   "outputs": [],
   "source": [
    "bed_house_index = bed_house.index"
   ]
  },
  {
   "cell_type": "code",
   "execution_count": 127,
   "metadata": {},
   "outputs": [],
   "source": [
    "bedroom_house_index = []\n",
    "for i in bed_house_index:\n",
    "    bedroom_house_index.append(i)\n",
    "    "
   ]
  },
  {
   "cell_type": "code",
   "execution_count": 128,
   "metadata": {},
   "outputs": [
    {
     "data": {
      "text/plain": [
       "[988]"
      ]
     },
     "execution_count": 128,
     "metadata": {},
     "output_type": "execute_result"
    }
   ],
   "source": [
    "bedroom_house_index"
   ]
  },
  {
   "cell_type": "markdown",
   "metadata": {},
   "source": [
    "bedroom_house_index consists of the index which has 'property_type' as 'house'\n",
    "and has 'NaN' value for the 'bathrooms' variable."
   ]
  },
  {
   "cell_type": "code",
   "execution_count": 129,
   "metadata": {},
   "outputs": [],
   "source": [
    "orbit.loc[bedroom_apartment_index,['bedrooms']] = orbit.loc[bedroom_apartment_index,['bedrooms']].replace(np.nan, apart_bedrooms_mode)"
   ]
  },
  {
   "cell_type": "code",
   "execution_count": 130,
   "metadata": {},
   "outputs": [],
   "source": [
    "orbit.loc[bedroom_house_index,['bedrooms']] = orbit.loc[bedroom_house_index,['bedrooms']].replace(np.nan, house_bedrooms_mode)"
   ]
  },
  {
   "cell_type": "code",
   "execution_count": 131,
   "metadata": {},
   "outputs": [
    {
     "data": {
      "text/plain": [
       "0"
      ]
     },
     "execution_count": 131,
     "metadata": {},
     "output_type": "execute_result"
    }
   ],
   "source": [
    "orbit['bedrooms'].isnull().sum()"
   ]
  },
  {
   "cell_type": "code",
   "execution_count": 132,
   "metadata": {},
   "outputs": [
    {
     "data": {
      "text/plain": [
       "agency             0\n",
       "title              0\n",
       "price            131\n",
       "bedrooms           0\n",
       "bathrooms          0\n",
       "garages          309\n",
       "parkings         467\n",
       "area               0\n",
       "offering           0\n",
       "erf_size         325\n",
       "floor_size       412\n",
       "property_type      0\n",
       "dtype: int64"
      ]
     },
     "execution_count": 132,
     "metadata": {},
     "output_type": "execute_result"
    }
   ],
   "source": [
    "orbit.isnull().sum()"
   ]
  },
  {
   "cell_type": "markdown",
   "metadata": {},
   "source": [
    "# PRICE"
   ]
  },
  {
   "cell_type": "markdown",
   "metadata": {},
   "source": [
    "Initially i thought of fillig the missing values in the 'price' feature for the 'property_type' - 'vacant_land' \n",
    "for the different values in the 'area' feature. The 'area' feature consists of 4 unique values\n",
    "which are 'Bantry Bay', 'Constantine' , 'Bakoven' and 'Fresnaye' and the feature 'property_type' \n",
    "consists of 3 unique values, whcih are 'vacant_land', 'apartment' and 'house'."
   ]
  },
  {
   "cell_type": "code",
   "execution_count": 143,
   "metadata": {},
   "outputs": [
    {
     "data": {
      "text/html": [
       "<div>\n",
       "<style scoped>\n",
       "    .dataframe tbody tr th:only-of-type {\n",
       "        vertical-align: middle;\n",
       "    }\n",
       "\n",
       "    .dataframe tbody tr th {\n",
       "        vertical-align: top;\n",
       "    }\n",
       "\n",
       "    .dataframe thead th {\n",
       "        text-align: right;\n",
       "    }\n",
       "</style>\n",
       "<table border=\"1\" class=\"dataframe\">\n",
       "  <thead>\n",
       "    <tr style=\"text-align: right;\">\n",
       "      <th></th>\n",
       "      <th>agency</th>\n",
       "      <th>title</th>\n",
       "      <th>price</th>\n",
       "      <th>bedrooms</th>\n",
       "      <th>bathrooms</th>\n",
       "      <th>garages</th>\n",
       "      <th>parkings</th>\n",
       "      <th>area</th>\n",
       "      <th>offering</th>\n",
       "      <th>erf_size</th>\n",
       "      <th>floor_size</th>\n",
       "      <th>property_type</th>\n",
       "    </tr>\n",
       "  </thead>\n",
       "  <tbody>\n",
       "    <tr>\n",
       "      <th>270</th>\n",
       "      <td>sothebys_realty</td>\n",
       "      <td>17,587m² Vacant Land For Sale in Constantia</td>\n",
       "      <td>NaN</td>\n",
       "      <td>0.0</td>\n",
       "      <td>0.0</td>\n",
       "      <td>0.0</td>\n",
       "      <td>0.0</td>\n",
       "      <td>Constantia</td>\n",
       "      <td>sale</td>\n",
       "      <td>17587.0</td>\n",
       "      <td>0.0</td>\n",
       "      <td>vacant_land</td>\n",
       "    </tr>\n",
       "    <tr>\n",
       "      <th>319</th>\n",
       "      <td>sothebys_realty</td>\n",
       "      <td>8 Bedroom House For Sale in Constantia</td>\n",
       "      <td>NaN</td>\n",
       "      <td>8.0</td>\n",
       "      <td>10.0</td>\n",
       "      <td>4.0</td>\n",
       "      <td>NaN</td>\n",
       "      <td>Constantia</td>\n",
       "      <td>sale</td>\n",
       "      <td>8319.0</td>\n",
       "      <td>NaN</td>\n",
       "      <td>house</td>\n",
       "    </tr>\n",
       "    <tr>\n",
       "      <th>657</th>\n",
       "      <td>engel_and_volkers</td>\n",
       "      <td>Luxury 5 bed home with private pool &amp; views</td>\n",
       "      <td>NaN</td>\n",
       "      <td>5.0</td>\n",
       "      <td>5.0</td>\n",
       "      <td>2.0</td>\n",
       "      <td>NaN</td>\n",
       "      <td>Fresnaye</td>\n",
       "      <td>rent</td>\n",
       "      <td>NaN</td>\n",
       "      <td>NaN</td>\n",
       "      <td>house</td>\n",
       "    </tr>\n",
       "    <tr>\n",
       "      <th>699</th>\n",
       "      <td>remax</td>\n",
       "      <td>3 Bedroom Apartment / Flat To Rent in Fresnaye</td>\n",
       "      <td>NaN</td>\n",
       "      <td>3.0</td>\n",
       "      <td>2.0</td>\n",
       "      <td>NaN</td>\n",
       "      <td>NaN</td>\n",
       "      <td>Fresnaye</td>\n",
       "      <td>rent</td>\n",
       "      <td>NaN</td>\n",
       "      <td>155.0</td>\n",
       "      <td>apartment</td>\n",
       "    </tr>\n",
       "    <tr>\n",
       "      <th>700</th>\n",
       "      <td>remax</td>\n",
       "      <td>4 Bedroom House For Sale in Constantia</td>\n",
       "      <td>NaN</td>\n",
       "      <td>4.0</td>\n",
       "      <td>4.0</td>\n",
       "      <td>NaN</td>\n",
       "      <td>4.0</td>\n",
       "      <td>Constantia</td>\n",
       "      <td>buy</td>\n",
       "      <td>1750.0</td>\n",
       "      <td>NaN</td>\n",
       "      <td>house</td>\n",
       "    </tr>\n",
       "    <tr>\n",
       "      <th>701</th>\n",
       "      <td>remax</td>\n",
       "      <td>5 Bedroom House To Rent in Bantry Bay</td>\n",
       "      <td>NaN</td>\n",
       "      <td>5.0</td>\n",
       "      <td>6.0</td>\n",
       "      <td>NaN</td>\n",
       "      <td>2.0</td>\n",
       "      <td>Bantry Bay</td>\n",
       "      <td>rent</td>\n",
       "      <td>NaN</td>\n",
       "      <td>600.0</td>\n",
       "      <td>house</td>\n",
       "    </tr>\n",
       "    <tr>\n",
       "      <th>702</th>\n",
       "      <td>remax</td>\n",
       "      <td>3 Bedroom Apartment / Flat For Sale in Bantry Bay</td>\n",
       "      <td>NaN</td>\n",
       "      <td>3.0</td>\n",
       "      <td>5.0</td>\n",
       "      <td>NaN</td>\n",
       "      <td>NaN</td>\n",
       "      <td>Bantry Bay</td>\n",
       "      <td>buy</td>\n",
       "      <td>NaN</td>\n",
       "      <td>380.0</td>\n",
       "      <td>apartment</td>\n",
       "    </tr>\n",
       "    <tr>\n",
       "      <th>703</th>\n",
       "      <td>remax</td>\n",
       "      <td>3 Bedroom Apartment / Flat To Rent in Bantry Bay</td>\n",
       "      <td>NaN</td>\n",
       "      <td>3.0</td>\n",
       "      <td>2.0</td>\n",
       "      <td>NaN</td>\n",
       "      <td>2.0</td>\n",
       "      <td>Bantry Bay</td>\n",
       "      <td>rent</td>\n",
       "      <td>NaN</td>\n",
       "      <td>141.0</td>\n",
       "      <td>apartment</td>\n",
       "    </tr>\n",
       "    <tr>\n",
       "      <th>704</th>\n",
       "      <td>remax</td>\n",
       "      <td>2 Bedroom Apartment / Flat To Rent in Fresnaye</td>\n",
       "      <td>NaN</td>\n",
       "      <td>2.0</td>\n",
       "      <td>1.0</td>\n",
       "      <td>NaN</td>\n",
       "      <td>NaN</td>\n",
       "      <td>Fresnaye</td>\n",
       "      <td>rent</td>\n",
       "      <td>NaN</td>\n",
       "      <td>92.0</td>\n",
       "      <td>apartment</td>\n",
       "    </tr>\n",
       "    <tr>\n",
       "      <th>705</th>\n",
       "      <td>remax</td>\n",
       "      <td>2 Bedroom House For Sale in Bantry Bay</td>\n",
       "      <td>NaN</td>\n",
       "      <td>2.0</td>\n",
       "      <td>2.0</td>\n",
       "      <td>NaN</td>\n",
       "      <td>NaN</td>\n",
       "      <td>Bantry Bay</td>\n",
       "      <td>buy</td>\n",
       "      <td>NaN</td>\n",
       "      <td>99.0</td>\n",
       "      <td>house</td>\n",
       "    </tr>\n",
       "    <tr>\n",
       "      <th>706</th>\n",
       "      <td>remax</td>\n",
       "      <td>2 Bedroom Apartment / Flat To Rent in Bantry Bay</td>\n",
       "      <td>NaN</td>\n",
       "      <td>2.0</td>\n",
       "      <td>1.0</td>\n",
       "      <td>NaN</td>\n",
       "      <td>NaN</td>\n",
       "      <td>Bantry Bay</td>\n",
       "      <td>rent</td>\n",
       "      <td>NaN</td>\n",
       "      <td>94.0</td>\n",
       "      <td>apartment</td>\n",
       "    </tr>\n",
       "    <tr>\n",
       "      <th>707</th>\n",
       "      <td>remax</td>\n",
       "      <td>1.5 Bedroom Apartment / Flat To Rent in Bantry...</td>\n",
       "      <td>NaN</td>\n",
       "      <td>2.0</td>\n",
       "      <td>2.0</td>\n",
       "      <td>NaN</td>\n",
       "      <td>NaN</td>\n",
       "      <td>Bantry Bay</td>\n",
       "      <td>rent</td>\n",
       "      <td>NaN</td>\n",
       "      <td>80.0</td>\n",
       "      <td>apartment</td>\n",
       "    </tr>\n",
       "    <tr>\n",
       "      <th>708</th>\n",
       "      <td>remax</td>\n",
       "      <td>2 Bedroom Apartment / Flat For Sale in Bantry Bay</td>\n",
       "      <td>NaN</td>\n",
       "      <td>2.0</td>\n",
       "      <td>2.0</td>\n",
       "      <td>NaN</td>\n",
       "      <td>1.0</td>\n",
       "      <td>Bantry Bay</td>\n",
       "      <td>buy</td>\n",
       "      <td>NaN</td>\n",
       "      <td>115.0</td>\n",
       "      <td>apartment</td>\n",
       "    </tr>\n",
       "    <tr>\n",
       "      <th>709</th>\n",
       "      <td>remax</td>\n",
       "      <td>4 Bedroom House To Rent in Fresnaye</td>\n",
       "      <td>NaN</td>\n",
       "      <td>4.0</td>\n",
       "      <td>4.0</td>\n",
       "      <td>NaN</td>\n",
       "      <td>2.0</td>\n",
       "      <td>Fresnaye</td>\n",
       "      <td>rent</td>\n",
       "      <td>NaN</td>\n",
       "      <td>NaN</td>\n",
       "      <td>house</td>\n",
       "    </tr>\n",
       "    <tr>\n",
       "      <th>710</th>\n",
       "      <td>remax</td>\n",
       "      <td>5 Bedroom House To Rent in Fresnaye</td>\n",
       "      <td>NaN</td>\n",
       "      <td>5.0</td>\n",
       "      <td>4.0</td>\n",
       "      <td>NaN</td>\n",
       "      <td>2.0</td>\n",
       "      <td>Fresnaye</td>\n",
       "      <td>rent</td>\n",
       "      <td>NaN</td>\n",
       "      <td>400.0</td>\n",
       "      <td>house</td>\n",
       "    </tr>\n",
       "    <tr>\n",
       "      <th>711</th>\n",
       "      <td>remax</td>\n",
       "      <td>3 Bedroom House To Rent in Bantry Bay</td>\n",
       "      <td>NaN</td>\n",
       "      <td>3.0</td>\n",
       "      <td>3.0</td>\n",
       "      <td>NaN</td>\n",
       "      <td>2.0</td>\n",
       "      <td>Bantry Bay</td>\n",
       "      <td>rent</td>\n",
       "      <td>NaN</td>\n",
       "      <td>260.0</td>\n",
       "      <td>house</td>\n",
       "    </tr>\n",
       "    <tr>\n",
       "      <th>712</th>\n",
       "      <td>remax</td>\n",
       "      <td>4 Bedroom House To Rent in Bantry Bay</td>\n",
       "      <td>NaN</td>\n",
       "      <td>4.0</td>\n",
       "      <td>5.0</td>\n",
       "      <td>NaN</td>\n",
       "      <td>2.0</td>\n",
       "      <td>Bantry Bay</td>\n",
       "      <td>rent</td>\n",
       "      <td>NaN</td>\n",
       "      <td>NaN</td>\n",
       "      <td>house</td>\n",
       "    </tr>\n",
       "    <tr>\n",
       "      <th>713</th>\n",
       "      <td>remax</td>\n",
       "      <td>4 Bedroom House To Rent in Fresnaye</td>\n",
       "      <td>NaN</td>\n",
       "      <td>4.0</td>\n",
       "      <td>4.0</td>\n",
       "      <td>NaN</td>\n",
       "      <td>3.0</td>\n",
       "      <td>Fresnaye</td>\n",
       "      <td>rent</td>\n",
       "      <td>NaN</td>\n",
       "      <td>450.0</td>\n",
       "      <td>house</td>\n",
       "    </tr>\n",
       "    <tr>\n",
       "      <th>714</th>\n",
       "      <td>remax</td>\n",
       "      <td>3 Bedroom House For Sale in Constantia</td>\n",
       "      <td>NaN</td>\n",
       "      <td>3.0</td>\n",
       "      <td>3.0</td>\n",
       "      <td>NaN</td>\n",
       "      <td>2.0</td>\n",
       "      <td>Constantia</td>\n",
       "      <td>buy</td>\n",
       "      <td>NaN</td>\n",
       "      <td>NaN</td>\n",
       "      <td>house</td>\n",
       "    </tr>\n",
       "    <tr>\n",
       "      <th>715</th>\n",
       "      <td>remax</td>\n",
       "      <td>3 Bedroom House For Sale in Constantia</td>\n",
       "      <td>NaN</td>\n",
       "      <td>3.0</td>\n",
       "      <td>2.0</td>\n",
       "      <td>NaN</td>\n",
       "      <td>2.0</td>\n",
       "      <td>Constantia</td>\n",
       "      <td>buy</td>\n",
       "      <td>330.0</td>\n",
       "      <td>NaN</td>\n",
       "      <td>house</td>\n",
       "    </tr>\n",
       "    <tr>\n",
       "      <th>716</th>\n",
       "      <td>remax</td>\n",
       "      <td>4 Bedroom House To Rent in Bantry Bay</td>\n",
       "      <td>NaN</td>\n",
       "      <td>4.0</td>\n",
       "      <td>5.0</td>\n",
       "      <td>NaN</td>\n",
       "      <td>2.0</td>\n",
       "      <td>Bantry Bay</td>\n",
       "      <td>rent</td>\n",
       "      <td>NaN</td>\n",
       "      <td>NaN</td>\n",
       "      <td>house</td>\n",
       "    </tr>\n",
       "    <tr>\n",
       "      <th>717</th>\n",
       "      <td>remax</td>\n",
       "      <td>2 Bedroom Apartment / Flat To Rent in Bantry Bay</td>\n",
       "      <td>NaN</td>\n",
       "      <td>2.0</td>\n",
       "      <td>2.0</td>\n",
       "      <td>NaN</td>\n",
       "      <td>1.0</td>\n",
       "      <td>Bantry Bay</td>\n",
       "      <td>rent</td>\n",
       "      <td>NaN</td>\n",
       "      <td>122.0</td>\n",
       "      <td>apartment</td>\n",
       "    </tr>\n",
       "    <tr>\n",
       "      <th>718</th>\n",
       "      <td>remax</td>\n",
       "      <td>4 Bedroom House To Rent in Bantry Bay</td>\n",
       "      <td>NaN</td>\n",
       "      <td>4.0</td>\n",
       "      <td>4.0</td>\n",
       "      <td>NaN</td>\n",
       "      <td>2.0</td>\n",
       "      <td>Bantry Bay</td>\n",
       "      <td>rent</td>\n",
       "      <td>600.0</td>\n",
       "      <td>NaN</td>\n",
       "      <td>house</td>\n",
       "    </tr>\n",
       "    <tr>\n",
       "      <th>719</th>\n",
       "      <td>remax</td>\n",
       "      <td>2 Bedroom House To Rent in Bantry Bay</td>\n",
       "      <td>NaN</td>\n",
       "      <td>2.0</td>\n",
       "      <td>3.0</td>\n",
       "      <td>NaN</td>\n",
       "      <td>2.0</td>\n",
       "      <td>Bantry Bay</td>\n",
       "      <td>rent</td>\n",
       "      <td>NaN</td>\n",
       "      <td>250.0</td>\n",
       "      <td>house</td>\n",
       "    </tr>\n",
       "    <tr>\n",
       "      <th>720</th>\n",
       "      <td>remax</td>\n",
       "      <td>5 Bedroom House For Sale in Bantry Bay</td>\n",
       "      <td>NaN</td>\n",
       "      <td>5.0</td>\n",
       "      <td>3.0</td>\n",
       "      <td>NaN</td>\n",
       "      <td>2.0</td>\n",
       "      <td>Bantry Bay</td>\n",
       "      <td>buy</td>\n",
       "      <td>308.0</td>\n",
       "      <td>350.0</td>\n",
       "      <td>house</td>\n",
       "    </tr>\n",
       "    <tr>\n",
       "      <th>721</th>\n",
       "      <td>remax</td>\n",
       "      <td>4 Bedroom House To Rent in Fresnaye</td>\n",
       "      <td>NaN</td>\n",
       "      <td>4.0</td>\n",
       "      <td>4.0</td>\n",
       "      <td>NaN</td>\n",
       "      <td>2.0</td>\n",
       "      <td>Fresnaye</td>\n",
       "      <td>rent</td>\n",
       "      <td>NaN</td>\n",
       "      <td>NaN</td>\n",
       "      <td>house</td>\n",
       "    </tr>\n",
       "    <tr>\n",
       "      <th>722</th>\n",
       "      <td>remax</td>\n",
       "      <td>3 Bedroom House For Sale in Constantia</td>\n",
       "      <td>NaN</td>\n",
       "      <td>3.0</td>\n",
       "      <td>2.0</td>\n",
       "      <td>NaN</td>\n",
       "      <td>NaN</td>\n",
       "      <td>Constantia</td>\n",
       "      <td>buy</td>\n",
       "      <td>NaN</td>\n",
       "      <td>154.0</td>\n",
       "      <td>house</td>\n",
       "    </tr>\n",
       "    <tr>\n",
       "      <th>723</th>\n",
       "      <td>remax</td>\n",
       "      <td>4 Bedroom House For Sale in Constantia</td>\n",
       "      <td>NaN</td>\n",
       "      <td>4.0</td>\n",
       "      <td>3.0</td>\n",
       "      <td>NaN</td>\n",
       "      <td>2.0</td>\n",
       "      <td>Constantia</td>\n",
       "      <td>buy</td>\n",
       "      <td>1404.0</td>\n",
       "      <td>NaN</td>\n",
       "      <td>house</td>\n",
       "    </tr>\n",
       "    <tr>\n",
       "      <th>724</th>\n",
       "      <td>remax</td>\n",
       "      <td>2 Bedroom Apartment / Flat For Sale in Bantry Bay</td>\n",
       "      <td>NaN</td>\n",
       "      <td>2.0</td>\n",
       "      <td>1.0</td>\n",
       "      <td>NaN</td>\n",
       "      <td>NaN</td>\n",
       "      <td>Bantry Bay</td>\n",
       "      <td>buy</td>\n",
       "      <td>NaN</td>\n",
       "      <td>82.0</td>\n",
       "      <td>apartment</td>\n",
       "    </tr>\n",
       "    <tr>\n",
       "      <th>725</th>\n",
       "      <td>remax</td>\n",
       "      <td>3 Bedroom House For Sale in Constantia</td>\n",
       "      <td>NaN</td>\n",
       "      <td>3.0</td>\n",
       "      <td>2.0</td>\n",
       "      <td>NaN</td>\n",
       "      <td>2.0</td>\n",
       "      <td>Constantia</td>\n",
       "      <td>buy</td>\n",
       "      <td>330.0</td>\n",
       "      <td>NaN</td>\n",
       "      <td>house</td>\n",
       "    </tr>\n",
       "    <tr>\n",
       "      <th>...</th>\n",
       "      <td>...</td>\n",
       "      <td>...</td>\n",
       "      <td>...</td>\n",
       "      <td>...</td>\n",
       "      <td>...</td>\n",
       "      <td>...</td>\n",
       "      <td>...</td>\n",
       "      <td>...</td>\n",
       "      <td>...</td>\n",
       "      <td>...</td>\n",
       "      <td>...</td>\n",
       "      <td>...</td>\n",
       "    </tr>\n",
       "    <tr>\n",
       "      <th>797</th>\n",
       "      <td>remax</td>\n",
       "      <td>2 Bedroom Apartment / Flat For Sale in Bantry Bay</td>\n",
       "      <td>NaN</td>\n",
       "      <td>2.0</td>\n",
       "      <td>2.0</td>\n",
       "      <td>NaN</td>\n",
       "      <td>1.0</td>\n",
       "      <td>Bantry Bay</td>\n",
       "      <td>buy</td>\n",
       "      <td>NaN</td>\n",
       "      <td>126.0</td>\n",
       "      <td>apartment</td>\n",
       "    </tr>\n",
       "    <tr>\n",
       "      <th>798</th>\n",
       "      <td>remax</td>\n",
       "      <td>8 Bedroom House For Sale in Bakoven</td>\n",
       "      <td>NaN</td>\n",
       "      <td>8.0</td>\n",
       "      <td>7.0</td>\n",
       "      <td>NaN</td>\n",
       "      <td>2.0</td>\n",
       "      <td>Bakoven</td>\n",
       "      <td>buy</td>\n",
       "      <td>811.0</td>\n",
       "      <td>NaN</td>\n",
       "      <td>house</td>\n",
       "    </tr>\n",
       "    <tr>\n",
       "      <th>799</th>\n",
       "      <td>remax</td>\n",
       "      <td>3 Bedroom Apartment / Flat For Sale in Fresnaye</td>\n",
       "      <td>NaN</td>\n",
       "      <td>3.0</td>\n",
       "      <td>2.0</td>\n",
       "      <td>NaN</td>\n",
       "      <td>2.0</td>\n",
       "      <td>Fresnaye</td>\n",
       "      <td>buy</td>\n",
       "      <td>NaN</td>\n",
       "      <td>236.0</td>\n",
       "      <td>apartment</td>\n",
       "    </tr>\n",
       "    <tr>\n",
       "      <th>800</th>\n",
       "      <td>remax</td>\n",
       "      <td>2 Bedroom Apartment / Flat For Sale in Bantry Bay</td>\n",
       "      <td>NaN</td>\n",
       "      <td>2.0</td>\n",
       "      <td>1.0</td>\n",
       "      <td>NaN</td>\n",
       "      <td>NaN</td>\n",
       "      <td>Bantry Bay</td>\n",
       "      <td>buy</td>\n",
       "      <td>NaN</td>\n",
       "      <td>90.0</td>\n",
       "      <td>apartment</td>\n",
       "    </tr>\n",
       "    <tr>\n",
       "      <th>801</th>\n",
       "      <td>remax</td>\n",
       "      <td>2 Bedroom Apartment / Flat For Sale in Fresnaye</td>\n",
       "      <td>NaN</td>\n",
       "      <td>2.0</td>\n",
       "      <td>2.0</td>\n",
       "      <td>NaN</td>\n",
       "      <td>NaN</td>\n",
       "      <td>Fresnaye</td>\n",
       "      <td>buy</td>\n",
       "      <td>NaN</td>\n",
       "      <td>NaN</td>\n",
       "      <td>apartment</td>\n",
       "    </tr>\n",
       "    <tr>\n",
       "      <th>802</th>\n",
       "      <td>remax</td>\n",
       "      <td>3 Bedroom Apartment / Flat For Sale in Fresnaye</td>\n",
       "      <td>NaN</td>\n",
       "      <td>3.0</td>\n",
       "      <td>3.0</td>\n",
       "      <td>NaN</td>\n",
       "      <td>1.0</td>\n",
       "      <td>Fresnaye</td>\n",
       "      <td>buy</td>\n",
       "      <td>NaN</td>\n",
       "      <td>138.0</td>\n",
       "      <td>apartment</td>\n",
       "    </tr>\n",
       "    <tr>\n",
       "      <th>803</th>\n",
       "      <td>remax</td>\n",
       "      <td>1 Bedroom Apartment / Flat For Sale in Bantry Bay</td>\n",
       "      <td>NaN</td>\n",
       "      <td>1.0</td>\n",
       "      <td>1.0</td>\n",
       "      <td>NaN</td>\n",
       "      <td>NaN</td>\n",
       "      <td>Bantry Bay</td>\n",
       "      <td>buy</td>\n",
       "      <td>NaN</td>\n",
       "      <td>46.0</td>\n",
       "      <td>apartment</td>\n",
       "    </tr>\n",
       "    <tr>\n",
       "      <th>804</th>\n",
       "      <td>remax</td>\n",
       "      <td>4 Bedroom House For Sale in Constantia</td>\n",
       "      <td>NaN</td>\n",
       "      <td>4.0</td>\n",
       "      <td>4.0</td>\n",
       "      <td>NaN</td>\n",
       "      <td>2.0</td>\n",
       "      <td>Constantia</td>\n",
       "      <td>buy</td>\n",
       "      <td>1443.0</td>\n",
       "      <td>374.0</td>\n",
       "      <td>house</td>\n",
       "    </tr>\n",
       "    <tr>\n",
       "      <th>805</th>\n",
       "      <td>remax</td>\n",
       "      <td>1 Bedroom Apartment / Flat For Sale in Bantry Bay</td>\n",
       "      <td>NaN</td>\n",
       "      <td>1.0</td>\n",
       "      <td>1.0</td>\n",
       "      <td>NaN</td>\n",
       "      <td>NaN</td>\n",
       "      <td>Bantry Bay</td>\n",
       "      <td>buy</td>\n",
       "      <td>NaN</td>\n",
       "      <td>26.0</td>\n",
       "      <td>apartment</td>\n",
       "    </tr>\n",
       "    <tr>\n",
       "      <th>806</th>\n",
       "      <td>remax</td>\n",
       "      <td>4 Bedroom House For Sale in Constantia</td>\n",
       "      <td>NaN</td>\n",
       "      <td>4.0</td>\n",
       "      <td>5.0</td>\n",
       "      <td>NaN</td>\n",
       "      <td>2.0</td>\n",
       "      <td>Constantia</td>\n",
       "      <td>buy</td>\n",
       "      <td>1402.0</td>\n",
       "      <td>342.0</td>\n",
       "      <td>house</td>\n",
       "    </tr>\n",
       "    <tr>\n",
       "      <th>807</th>\n",
       "      <td>remax</td>\n",
       "      <td>2 Bedroom House For Sale in Bakoven</td>\n",
       "      <td>NaN</td>\n",
       "      <td>2.0</td>\n",
       "      <td>2.0</td>\n",
       "      <td>NaN</td>\n",
       "      <td>1.0</td>\n",
       "      <td>Bakoven</td>\n",
       "      <td>buy</td>\n",
       "      <td>211.0</td>\n",
       "      <td>140.0</td>\n",
       "      <td>house</td>\n",
       "    </tr>\n",
       "    <tr>\n",
       "      <th>822</th>\n",
       "      <td>remax</td>\n",
       "      <td>2 Bedroom Apartment / Flat For Sale in Bantry Bay</td>\n",
       "      <td>NaN</td>\n",
       "      <td>2.0</td>\n",
       "      <td>2.0</td>\n",
       "      <td>NaN</td>\n",
       "      <td>2.0</td>\n",
       "      <td>Bantry Bay</td>\n",
       "      <td>buy</td>\n",
       "      <td>NaN</td>\n",
       "      <td>120.0</td>\n",
       "      <td>apartment</td>\n",
       "    </tr>\n",
       "    <tr>\n",
       "      <th>823</th>\n",
       "      <td>remax</td>\n",
       "      <td>7 Bedroom House For Sale in Constantia</td>\n",
       "      <td>NaN</td>\n",
       "      <td>7.0</td>\n",
       "      <td>7.0</td>\n",
       "      <td>NaN</td>\n",
       "      <td>4.0</td>\n",
       "      <td>Constantia</td>\n",
       "      <td>buy</td>\n",
       "      <td>3389.0</td>\n",
       "      <td>730.0</td>\n",
       "      <td>house</td>\n",
       "    </tr>\n",
       "    <tr>\n",
       "      <th>835</th>\n",
       "      <td>remax</td>\n",
       "      <td>5 Bedroom House For Sale in Bantry Bay</td>\n",
       "      <td>NaN</td>\n",
       "      <td>5.0</td>\n",
       "      <td>5.0</td>\n",
       "      <td>NaN</td>\n",
       "      <td>2.0</td>\n",
       "      <td>Bantry Bay</td>\n",
       "      <td>buy</td>\n",
       "      <td>1486.0</td>\n",
       "      <td>NaN</td>\n",
       "      <td>house</td>\n",
       "    </tr>\n",
       "    <tr>\n",
       "      <th>841</th>\n",
       "      <td>remax</td>\n",
       "      <td>1 Bedroom Apartment / Flat For Sale in Bantry Bay</td>\n",
       "      <td>NaN</td>\n",
       "      <td>1.0</td>\n",
       "      <td>2.0</td>\n",
       "      <td>NaN</td>\n",
       "      <td>NaN</td>\n",
       "      <td>Bantry Bay</td>\n",
       "      <td>buy</td>\n",
       "      <td>NaN</td>\n",
       "      <td>52.0</td>\n",
       "      <td>apartment</td>\n",
       "    </tr>\n",
       "    <tr>\n",
       "      <th>843</th>\n",
       "      <td>remax</td>\n",
       "      <td>3 Bedroom House For Sale in Bantry Bay</td>\n",
       "      <td>NaN</td>\n",
       "      <td>3.0</td>\n",
       "      <td>2.0</td>\n",
       "      <td>NaN</td>\n",
       "      <td>3.0</td>\n",
       "      <td>Bantry Bay</td>\n",
       "      <td>buy</td>\n",
       "      <td>NaN</td>\n",
       "      <td>367.0</td>\n",
       "      <td>house</td>\n",
       "    </tr>\n",
       "    <tr>\n",
       "      <th>872</th>\n",
       "      <td>remax</td>\n",
       "      <td>3 Bedroom House For Sale in Fresnaye</td>\n",
       "      <td>NaN</td>\n",
       "      <td>3.0</td>\n",
       "      <td>3.0</td>\n",
       "      <td>NaN</td>\n",
       "      <td>1.0</td>\n",
       "      <td>Fresnaye</td>\n",
       "      <td>buy</td>\n",
       "      <td>NaN</td>\n",
       "      <td>160.0</td>\n",
       "      <td>house</td>\n",
       "    </tr>\n",
       "    <tr>\n",
       "      <th>876</th>\n",
       "      <td>remax</td>\n",
       "      <td>4 Bedroom House To Rent in Constantia</td>\n",
       "      <td>NaN</td>\n",
       "      <td>4.0</td>\n",
       "      <td>3.0</td>\n",
       "      <td>NaN</td>\n",
       "      <td>2.0</td>\n",
       "      <td>Constantia</td>\n",
       "      <td>rent</td>\n",
       "      <td>700.0</td>\n",
       "      <td>160.0</td>\n",
       "      <td>house</td>\n",
       "    </tr>\n",
       "    <tr>\n",
       "      <th>901</th>\n",
       "      <td>remax</td>\n",
       "      <td>5 Bedroom House For Sale in Fresnaye</td>\n",
       "      <td>NaN</td>\n",
       "      <td>5.0</td>\n",
       "      <td>6.0</td>\n",
       "      <td>NaN</td>\n",
       "      <td>2.0</td>\n",
       "      <td>Fresnaye</td>\n",
       "      <td>buy</td>\n",
       "      <td>476.0</td>\n",
       "      <td>NaN</td>\n",
       "      <td>house</td>\n",
       "    </tr>\n",
       "    <tr>\n",
       "      <th>914</th>\n",
       "      <td>remax</td>\n",
       "      <td>0.5 Bedroom Apartment / Flat For Sale in Bantr...</td>\n",
       "      <td>NaN</td>\n",
       "      <td>1.0</td>\n",
       "      <td>1.0</td>\n",
       "      <td>NaN</td>\n",
       "      <td>NaN</td>\n",
       "      <td>Bantry Bay</td>\n",
       "      <td>buy</td>\n",
       "      <td>NaN</td>\n",
       "      <td>26.0</td>\n",
       "      <td>apartment</td>\n",
       "    </tr>\n",
       "    <tr>\n",
       "      <th>926</th>\n",
       "      <td>remax</td>\n",
       "      <td>2 Bedroom House For Sale in Fresnaye</td>\n",
       "      <td>NaN</td>\n",
       "      <td>2.0</td>\n",
       "      <td>2.0</td>\n",
       "      <td>NaN</td>\n",
       "      <td>NaN</td>\n",
       "      <td>Fresnaye</td>\n",
       "      <td>buy</td>\n",
       "      <td>163.0</td>\n",
       "      <td>145.0</td>\n",
       "      <td>house</td>\n",
       "    </tr>\n",
       "    <tr>\n",
       "      <th>942</th>\n",
       "      <td>remax</td>\n",
       "      <td>0.5 Bedroom Apartment / Flat For Sale in Bantr...</td>\n",
       "      <td>NaN</td>\n",
       "      <td>1.0</td>\n",
       "      <td>1.0</td>\n",
       "      <td>NaN</td>\n",
       "      <td>NaN</td>\n",
       "      <td>Bantry Bay</td>\n",
       "      <td>buy</td>\n",
       "      <td>NaN</td>\n",
       "      <td>35.0</td>\n",
       "      <td>apartment</td>\n",
       "    </tr>\n",
       "    <tr>\n",
       "      <th>948</th>\n",
       "      <td>remax</td>\n",
       "      <td>5 Bedroom House For Sale in Fresnaye</td>\n",
       "      <td>NaN</td>\n",
       "      <td>5.0</td>\n",
       "      <td>5.0</td>\n",
       "      <td>NaN</td>\n",
       "      <td>2.0</td>\n",
       "      <td>Fresnaye</td>\n",
       "      <td>buy</td>\n",
       "      <td>451.0</td>\n",
       "      <td>NaN</td>\n",
       "      <td>house</td>\n",
       "    </tr>\n",
       "    <tr>\n",
       "      <th>949</th>\n",
       "      <td>remax</td>\n",
       "      <td>2 Bedroom Apartment / Flat For Sale in Bantry Bay</td>\n",
       "      <td>NaN</td>\n",
       "      <td>2.0</td>\n",
       "      <td>1.0</td>\n",
       "      <td>NaN</td>\n",
       "      <td>NaN</td>\n",
       "      <td>Bantry Bay</td>\n",
       "      <td>buy</td>\n",
       "      <td>NaN</td>\n",
       "      <td>80.0</td>\n",
       "      <td>apartment</td>\n",
       "    </tr>\n",
       "    <tr>\n",
       "      <th>953</th>\n",
       "      <td>harcourts</td>\n",
       "      <td>4 Bedroom House For Sale in Constantia</td>\n",
       "      <td>NaN</td>\n",
       "      <td>4.0</td>\n",
       "      <td>3.0</td>\n",
       "      <td>2.0</td>\n",
       "      <td>4.0</td>\n",
       "      <td>Constantia</td>\n",
       "      <td>buy</td>\n",
       "      <td>1031.0</td>\n",
       "      <td>220.0</td>\n",
       "      <td>house</td>\n",
       "    </tr>\n",
       "    <tr>\n",
       "      <th>958</th>\n",
       "      <td>remax</td>\n",
       "      <td>4 Bedroom House For Sale in Constantia</td>\n",
       "      <td>NaN</td>\n",
       "      <td>4.0</td>\n",
       "      <td>2.0</td>\n",
       "      <td>NaN</td>\n",
       "      <td>NaN</td>\n",
       "      <td>Constantia</td>\n",
       "      <td>buy</td>\n",
       "      <td>1914.0</td>\n",
       "      <td>NaN</td>\n",
       "      <td>house</td>\n",
       "    </tr>\n",
       "    <tr>\n",
       "      <th>963</th>\n",
       "      <td>remax</td>\n",
       "      <td>5 Bedroom House For Sale in Constantia</td>\n",
       "      <td>NaN</td>\n",
       "      <td>5.0</td>\n",
       "      <td>3.0</td>\n",
       "      <td>NaN</td>\n",
       "      <td>2.0</td>\n",
       "      <td>Constantia</td>\n",
       "      <td>buy</td>\n",
       "      <td>874.0</td>\n",
       "      <td>235.0</td>\n",
       "      <td>house</td>\n",
       "    </tr>\n",
       "    <tr>\n",
       "      <th>967</th>\n",
       "      <td>remax</td>\n",
       "      <td>5 Bedroom House For Sale in Constantia</td>\n",
       "      <td>NaN</td>\n",
       "      <td>5.0</td>\n",
       "      <td>6.0</td>\n",
       "      <td>NaN</td>\n",
       "      <td>2.0</td>\n",
       "      <td>Constantia</td>\n",
       "      <td>buy</td>\n",
       "      <td>6151.0</td>\n",
       "      <td>1100.0</td>\n",
       "      <td>house</td>\n",
       "    </tr>\n",
       "    <tr>\n",
       "      <th>968</th>\n",
       "      <td>knight_frank</td>\n",
       "      <td>4 Bedroom House For Sale in Fresnaye</td>\n",
       "      <td>NaN</td>\n",
       "      <td>4.0</td>\n",
       "      <td>4.0</td>\n",
       "      <td>2.0</td>\n",
       "      <td>NaN</td>\n",
       "      <td>Fresnaye</td>\n",
       "      <td>sale</td>\n",
       "      <td>398.0</td>\n",
       "      <td>NaN</td>\n",
       "      <td>house</td>\n",
       "    </tr>\n",
       "    <tr>\n",
       "      <th>969</th>\n",
       "      <td>knight_frank</td>\n",
       "      <td>712m² Vacant Land For Sale in Bantry Bay</td>\n",
       "      <td>NaN</td>\n",
       "      <td>0.0</td>\n",
       "      <td>0.0</td>\n",
       "      <td>0.0</td>\n",
       "      <td>0.0</td>\n",
       "      <td>Bantry Bay</td>\n",
       "      <td>sale</td>\n",
       "      <td>712.0</td>\n",
       "      <td>0.0</td>\n",
       "      <td>vacant_land</td>\n",
       "    </tr>\n",
       "  </tbody>\n",
       "</table>\n",
       "<p>131 rows × 12 columns</p>\n",
       "</div>"
      ],
      "text/plain": [
       "                agency                                              title  \\\n",
       "270    sothebys_realty        17,587m² Vacant Land For Sale in Constantia   \n",
       "319    sothebys_realty             8 Bedroom House For Sale in Constantia   \n",
       "657  engel_and_volkers        Luxury 5 bed home with private pool & views   \n",
       "699              remax     3 Bedroom Apartment / Flat To Rent in Fresnaye   \n",
       "700              remax             4 Bedroom House For Sale in Constantia   \n",
       "701              remax              5 Bedroom House To Rent in Bantry Bay   \n",
       "702              remax  3 Bedroom Apartment / Flat For Sale in Bantry Bay   \n",
       "703              remax   3 Bedroom Apartment / Flat To Rent in Bantry Bay   \n",
       "704              remax     2 Bedroom Apartment / Flat To Rent in Fresnaye   \n",
       "705              remax             2 Bedroom House For Sale in Bantry Bay   \n",
       "706              remax   2 Bedroom Apartment / Flat To Rent in Bantry Bay   \n",
       "707              remax  1.5 Bedroom Apartment / Flat To Rent in Bantry...   \n",
       "708              remax  2 Bedroom Apartment / Flat For Sale in Bantry Bay   \n",
       "709              remax                4 Bedroom House To Rent in Fresnaye   \n",
       "710              remax                5 Bedroom House To Rent in Fresnaye   \n",
       "711              remax              3 Bedroom House To Rent in Bantry Bay   \n",
       "712              remax              4 Bedroom House To Rent in Bantry Bay   \n",
       "713              remax                4 Bedroom House To Rent in Fresnaye   \n",
       "714              remax             3 Bedroom House For Sale in Constantia   \n",
       "715              remax             3 Bedroom House For Sale in Constantia   \n",
       "716              remax              4 Bedroom House To Rent in Bantry Bay   \n",
       "717              remax   2 Bedroom Apartment / Flat To Rent in Bantry Bay   \n",
       "718              remax              4 Bedroom House To Rent in Bantry Bay   \n",
       "719              remax              2 Bedroom House To Rent in Bantry Bay   \n",
       "720              remax             5 Bedroom House For Sale in Bantry Bay   \n",
       "721              remax                4 Bedroom House To Rent in Fresnaye   \n",
       "722              remax             3 Bedroom House For Sale in Constantia   \n",
       "723              remax             4 Bedroom House For Sale in Constantia   \n",
       "724              remax  2 Bedroom Apartment / Flat For Sale in Bantry Bay   \n",
       "725              remax             3 Bedroom House For Sale in Constantia   \n",
       "..                 ...                                                ...   \n",
       "797              remax  2 Bedroom Apartment / Flat For Sale in Bantry Bay   \n",
       "798              remax                8 Bedroom House For Sale in Bakoven   \n",
       "799              remax    3 Bedroom Apartment / Flat For Sale in Fresnaye   \n",
       "800              remax  2 Bedroom Apartment / Flat For Sale in Bantry Bay   \n",
       "801              remax    2 Bedroom Apartment / Flat For Sale in Fresnaye   \n",
       "802              remax    3 Bedroom Apartment / Flat For Sale in Fresnaye   \n",
       "803              remax  1 Bedroom Apartment / Flat For Sale in Bantry Bay   \n",
       "804              remax             4 Bedroom House For Sale in Constantia   \n",
       "805              remax  1 Bedroom Apartment / Flat For Sale in Bantry Bay   \n",
       "806              remax             4 Bedroom House For Sale in Constantia   \n",
       "807              remax                2 Bedroom House For Sale in Bakoven   \n",
       "822              remax  2 Bedroom Apartment / Flat For Sale in Bantry Bay   \n",
       "823              remax             7 Bedroom House For Sale in Constantia   \n",
       "835              remax             5 Bedroom House For Sale in Bantry Bay   \n",
       "841              remax  1 Bedroom Apartment / Flat For Sale in Bantry Bay   \n",
       "843              remax             3 Bedroom House For Sale in Bantry Bay   \n",
       "872              remax               3 Bedroom House For Sale in Fresnaye   \n",
       "876              remax              4 Bedroom House To Rent in Constantia   \n",
       "901              remax               5 Bedroom House For Sale in Fresnaye   \n",
       "914              remax  0.5 Bedroom Apartment / Flat For Sale in Bantr...   \n",
       "926              remax               2 Bedroom House For Sale in Fresnaye   \n",
       "942              remax  0.5 Bedroom Apartment / Flat For Sale in Bantr...   \n",
       "948              remax               5 Bedroom House For Sale in Fresnaye   \n",
       "949              remax  2 Bedroom Apartment / Flat For Sale in Bantry Bay   \n",
       "953          harcourts             4 Bedroom House For Sale in Constantia   \n",
       "958              remax             4 Bedroom House For Sale in Constantia   \n",
       "963              remax             5 Bedroom House For Sale in Constantia   \n",
       "967              remax             5 Bedroom House For Sale in Constantia   \n",
       "968       knight_frank               4 Bedroom House For Sale in Fresnaye   \n",
       "969       knight_frank           712m² Vacant Land For Sale in Bantry Bay   \n",
       "\n",
       "     price  bedrooms  bathrooms  garages  parkings        area offering  \\\n",
       "270    NaN       0.0        0.0      0.0       0.0  Constantia     sale   \n",
       "319    NaN       8.0       10.0      4.0       NaN  Constantia     sale   \n",
       "657    NaN       5.0        5.0      2.0       NaN    Fresnaye     rent   \n",
       "699    NaN       3.0        2.0      NaN       NaN    Fresnaye     rent   \n",
       "700    NaN       4.0        4.0      NaN       4.0  Constantia      buy   \n",
       "701    NaN       5.0        6.0      NaN       2.0  Bantry Bay     rent   \n",
       "702    NaN       3.0        5.0      NaN       NaN  Bantry Bay      buy   \n",
       "703    NaN       3.0        2.0      NaN       2.0  Bantry Bay     rent   \n",
       "704    NaN       2.0        1.0      NaN       NaN    Fresnaye     rent   \n",
       "705    NaN       2.0        2.0      NaN       NaN  Bantry Bay      buy   \n",
       "706    NaN       2.0        1.0      NaN       NaN  Bantry Bay     rent   \n",
       "707    NaN       2.0        2.0      NaN       NaN  Bantry Bay     rent   \n",
       "708    NaN       2.0        2.0      NaN       1.0  Bantry Bay      buy   \n",
       "709    NaN       4.0        4.0      NaN       2.0    Fresnaye     rent   \n",
       "710    NaN       5.0        4.0      NaN       2.0    Fresnaye     rent   \n",
       "711    NaN       3.0        3.0      NaN       2.0  Bantry Bay     rent   \n",
       "712    NaN       4.0        5.0      NaN       2.0  Bantry Bay     rent   \n",
       "713    NaN       4.0        4.0      NaN       3.0    Fresnaye     rent   \n",
       "714    NaN       3.0        3.0      NaN       2.0  Constantia      buy   \n",
       "715    NaN       3.0        2.0      NaN       2.0  Constantia      buy   \n",
       "716    NaN       4.0        5.0      NaN       2.0  Bantry Bay     rent   \n",
       "717    NaN       2.0        2.0      NaN       1.0  Bantry Bay     rent   \n",
       "718    NaN       4.0        4.0      NaN       2.0  Bantry Bay     rent   \n",
       "719    NaN       2.0        3.0      NaN       2.0  Bantry Bay     rent   \n",
       "720    NaN       5.0        3.0      NaN       2.0  Bantry Bay      buy   \n",
       "721    NaN       4.0        4.0      NaN       2.0    Fresnaye     rent   \n",
       "722    NaN       3.0        2.0      NaN       NaN  Constantia      buy   \n",
       "723    NaN       4.0        3.0      NaN       2.0  Constantia      buy   \n",
       "724    NaN       2.0        1.0      NaN       NaN  Bantry Bay      buy   \n",
       "725    NaN       3.0        2.0      NaN       2.0  Constantia      buy   \n",
       "..     ...       ...        ...      ...       ...         ...      ...   \n",
       "797    NaN       2.0        2.0      NaN       1.0  Bantry Bay      buy   \n",
       "798    NaN       8.0        7.0      NaN       2.0     Bakoven      buy   \n",
       "799    NaN       3.0        2.0      NaN       2.0    Fresnaye      buy   \n",
       "800    NaN       2.0        1.0      NaN       NaN  Bantry Bay      buy   \n",
       "801    NaN       2.0        2.0      NaN       NaN    Fresnaye      buy   \n",
       "802    NaN       3.0        3.0      NaN       1.0    Fresnaye      buy   \n",
       "803    NaN       1.0        1.0      NaN       NaN  Bantry Bay      buy   \n",
       "804    NaN       4.0        4.0      NaN       2.0  Constantia      buy   \n",
       "805    NaN       1.0        1.0      NaN       NaN  Bantry Bay      buy   \n",
       "806    NaN       4.0        5.0      NaN       2.0  Constantia      buy   \n",
       "807    NaN       2.0        2.0      NaN       1.0     Bakoven      buy   \n",
       "822    NaN       2.0        2.0      NaN       2.0  Bantry Bay      buy   \n",
       "823    NaN       7.0        7.0      NaN       4.0  Constantia      buy   \n",
       "835    NaN       5.0        5.0      NaN       2.0  Bantry Bay      buy   \n",
       "841    NaN       1.0        2.0      NaN       NaN  Bantry Bay      buy   \n",
       "843    NaN       3.0        2.0      NaN       3.0  Bantry Bay      buy   \n",
       "872    NaN       3.0        3.0      NaN       1.0    Fresnaye      buy   \n",
       "876    NaN       4.0        3.0      NaN       2.0  Constantia     rent   \n",
       "901    NaN       5.0        6.0      NaN       2.0    Fresnaye      buy   \n",
       "914    NaN       1.0        1.0      NaN       NaN  Bantry Bay      buy   \n",
       "926    NaN       2.0        2.0      NaN       NaN    Fresnaye      buy   \n",
       "942    NaN       1.0        1.0      NaN       NaN  Bantry Bay      buy   \n",
       "948    NaN       5.0        5.0      NaN       2.0    Fresnaye      buy   \n",
       "949    NaN       2.0        1.0      NaN       NaN  Bantry Bay      buy   \n",
       "953    NaN       4.0        3.0      2.0       4.0  Constantia      buy   \n",
       "958    NaN       4.0        2.0      NaN       NaN  Constantia      buy   \n",
       "963    NaN       5.0        3.0      NaN       2.0  Constantia      buy   \n",
       "967    NaN       5.0        6.0      NaN       2.0  Constantia      buy   \n",
       "968    NaN       4.0        4.0      2.0       NaN    Fresnaye     sale   \n",
       "969    NaN       0.0        0.0      0.0       0.0  Bantry Bay     sale   \n",
       "\n",
       "     erf_size  floor_size property_type  \n",
       "270   17587.0         0.0   vacant_land  \n",
       "319    8319.0         NaN         house  \n",
       "657       NaN         NaN         house  \n",
       "699       NaN       155.0     apartment  \n",
       "700    1750.0         NaN         house  \n",
       "701       NaN       600.0         house  \n",
       "702       NaN       380.0     apartment  \n",
       "703       NaN       141.0     apartment  \n",
       "704       NaN        92.0     apartment  \n",
       "705       NaN        99.0         house  \n",
       "706       NaN        94.0     apartment  \n",
       "707       NaN        80.0     apartment  \n",
       "708       NaN       115.0     apartment  \n",
       "709       NaN         NaN         house  \n",
       "710       NaN       400.0         house  \n",
       "711       NaN       260.0         house  \n",
       "712       NaN         NaN         house  \n",
       "713       NaN       450.0         house  \n",
       "714       NaN         NaN         house  \n",
       "715     330.0         NaN         house  \n",
       "716       NaN         NaN         house  \n",
       "717       NaN       122.0     apartment  \n",
       "718     600.0         NaN         house  \n",
       "719       NaN       250.0         house  \n",
       "720     308.0       350.0         house  \n",
       "721       NaN         NaN         house  \n",
       "722       NaN       154.0         house  \n",
       "723    1404.0         NaN         house  \n",
       "724       NaN        82.0     apartment  \n",
       "725     330.0         NaN         house  \n",
       "..        ...         ...           ...  \n",
       "797       NaN       126.0     apartment  \n",
       "798     811.0         NaN         house  \n",
       "799       NaN       236.0     apartment  \n",
       "800       NaN        90.0     apartment  \n",
       "801       NaN         NaN     apartment  \n",
       "802       NaN       138.0     apartment  \n",
       "803       NaN        46.0     apartment  \n",
       "804    1443.0       374.0         house  \n",
       "805       NaN        26.0     apartment  \n",
       "806    1402.0       342.0         house  \n",
       "807     211.0       140.0         house  \n",
       "822       NaN       120.0     apartment  \n",
       "823    3389.0       730.0         house  \n",
       "835    1486.0         NaN         house  \n",
       "841       NaN        52.0     apartment  \n",
       "843       NaN       367.0         house  \n",
       "872       NaN       160.0         house  \n",
       "876     700.0       160.0         house  \n",
       "901     476.0         NaN         house  \n",
       "914       NaN        26.0     apartment  \n",
       "926     163.0       145.0         house  \n",
       "942       NaN        35.0     apartment  \n",
       "948     451.0         NaN         house  \n",
       "949       NaN        80.0     apartment  \n",
       "953    1031.0       220.0         house  \n",
       "958    1914.0         NaN         house  \n",
       "963     874.0       235.0         house  \n",
       "967    6151.0      1100.0         house  \n",
       "968     398.0         NaN         house  \n",
       "969     712.0         0.0   vacant_land  \n",
       "\n",
       "[131 rows x 12 columns]"
      ]
     },
     "execution_count": 143,
     "metadata": {},
     "output_type": "execute_result"
    }
   ],
   "source": [
    "orbit[orbit['price'].isnull()]"
   ]
  },
  {
   "cell_type": "code",
   "execution_count": 144,
   "metadata": {},
   "outputs": [
    {
     "data": {
      "text/plain": [
       "131"
      ]
     },
     "execution_count": 144,
     "metadata": {},
     "output_type": "execute_result"
    }
   ],
   "source": [
    "len(orbit[orbit['price'].isnull()])"
   ]
  },
  {
   "cell_type": "code",
   "execution_count": 88,
   "metadata": {},
   "outputs": [
    {
     "data": {
      "text/html": [
       "<div>\n",
       "<style scoped>\n",
       "    .dataframe tbody tr th:only-of-type {\n",
       "        vertical-align: middle;\n",
       "    }\n",
       "\n",
       "    .dataframe tbody tr th {\n",
       "        vertical-align: top;\n",
       "    }\n",
       "\n",
       "    .dataframe thead th {\n",
       "        text-align: right;\n",
       "    }\n",
       "</style>\n",
       "<table border=\"1\" class=\"dataframe\">\n",
       "  <thead>\n",
       "    <tr style=\"text-align: right;\">\n",
       "      <th></th>\n",
       "      <th>agency</th>\n",
       "      <th>title</th>\n",
       "      <th>price</th>\n",
       "      <th>bedrooms</th>\n",
       "      <th>bathrooms</th>\n",
       "      <th>garages</th>\n",
       "      <th>parkings</th>\n",
       "      <th>latitude</th>\n",
       "      <th>longitude</th>\n",
       "      <th>area</th>\n",
       "      <th>status</th>\n",
       "      <th>offering</th>\n",
       "      <th>erf_size</th>\n",
       "      <th>floor_size</th>\n",
       "      <th>property_type</th>\n",
       "    </tr>\n",
       "  </thead>\n",
       "  <tbody>\n",
       "    <tr>\n",
       "      <th>270</th>\n",
       "      <td>sothebys_realty</td>\n",
       "      <td>17,587m² Vacant Land For Sale in Constantia</td>\n",
       "      <td>NaN</td>\n",
       "      <td>0.0</td>\n",
       "      <td>0.0</td>\n",
       "      <td>0.0</td>\n",
       "      <td>0.0</td>\n",
       "      <td>NaN</td>\n",
       "      <td>NaN</td>\n",
       "      <td>Constantia</td>\n",
       "      <td>active</td>\n",
       "      <td>sale</td>\n",
       "      <td>NaN</td>\n",
       "      <td>0.0</td>\n",
       "      <td>vacant_land</td>\n",
       "    </tr>\n",
       "    <tr>\n",
       "      <th>969</th>\n",
       "      <td>knight_frank</td>\n",
       "      <td>712m² Vacant Land For Sale in Bantry Bay</td>\n",
       "      <td>NaN</td>\n",
       "      <td>0.0</td>\n",
       "      <td>0.0</td>\n",
       "      <td>0.0</td>\n",
       "      <td>0.0</td>\n",
       "      <td>-33.93071</td>\n",
       "      <td>18.38045</td>\n",
       "      <td>Bantry Bay</td>\n",
       "      <td>active</td>\n",
       "      <td>sale</td>\n",
       "      <td>NaN</td>\n",
       "      <td>0.0</td>\n",
       "      <td>vacant_land</td>\n",
       "    </tr>\n",
       "  </tbody>\n",
       "</table>\n",
       "</div>"
      ],
      "text/plain": [
       "              agency                                        title  price  \\\n",
       "270  sothebys_realty  17,587m² Vacant Land For Sale in Constantia    NaN   \n",
       "969     knight_frank     712m² Vacant Land For Sale in Bantry Bay    NaN   \n",
       "\n",
       "     bedrooms  bathrooms  garages  parkings  latitude  longitude        area  \\\n",
       "270       0.0        0.0      0.0       0.0       NaN        NaN  Constantia   \n",
       "969       0.0        0.0      0.0       0.0 -33.93071   18.38045  Bantry Bay   \n",
       "\n",
       "     status offering  erf_size  floor_size property_type  \n",
       "270  active     sale       NaN         0.0   vacant_land  \n",
       "969  active     sale       NaN         0.0   vacant_land  "
      ]
     },
     "execution_count": 88,
     "metadata": {},
     "output_type": "execute_result"
    }
   ],
   "source": [
    "orbit[(orbit['price'].isnull()) & (orbit['property_type']=='vacant_land')]"
   ]
  },
  {
   "cell_type": "code",
   "execution_count": null,
   "metadata": {},
   "outputs": [],
   "source": [
    "# PROPERTY_TYPE 'VACANT_LAND'"
   ]
  },
  {
   "cell_type": "code",
   "execution_count": 85,
   "metadata": {},
   "outputs": [
    {
     "data": {
      "text/plain": [
       "2"
      ]
     },
     "execution_count": 85,
     "metadata": {},
     "output_type": "execute_result"
    }
   ],
   "source": [
    "len(orbit[(orbit['price'].isnull()) & (orbit['property_type']=='vacant_land')])"
   ]
  },
  {
   "cell_type": "code",
   "execution_count": null,
   "metadata": {},
   "outputs": [],
   "source": [
    "#Mean values"
   ]
  },
  {
   "cell_type": "code",
   "execution_count": 100,
   "metadata": {},
   "outputs": [],
   "source": [
    "vl_bb_mean = orbit[(orbit['property_type']=='vacant_land') & (orbit['area']=='Bantry Bay')]['price'].mean()"
   ]
  },
  {
   "cell_type": "code",
   "execution_count": 101,
   "metadata": {},
   "outputs": [],
   "source": [
    "vl_c_mean = orbit[(orbit['property_type']=='vacant_land') & (orbit['area']=='Constantia')]['price'].mean()"
   ]
  },
  {
   "cell_type": "code",
   "execution_count": null,
   "metadata": {},
   "outputs": [],
   "source": [
    "# respective dataframes"
   ]
  },
  {
   "cell_type": "code",
   "execution_count": 120,
   "metadata": {},
   "outputs": [],
   "source": [
    "vl_bb = orbit[(orbit['property_type']=='vacant_land') & (orbit['area']=='Bantry Bay') & (orbit['price'].isnull())]"
   ]
  },
  {
   "cell_type": "code",
   "execution_count": 121,
   "metadata": {},
   "outputs": [],
   "source": [
    "vl_c = orbit[(orbit['property_type']=='vacant_land') & (orbit['area']=='Constantia') & (orbit['price'].isnull())]"
   ]
  },
  {
   "cell_type": "code",
   "execution_count": null,
   "metadata": {},
   "outputs": [],
   "source": [
    "#indexes"
   ]
  },
  {
   "cell_type": "code",
   "execution_count": 122,
   "metadata": {},
   "outputs": [],
   "source": [
    "vl_bb_index = vl_bb.index"
   ]
  },
  {
   "cell_type": "code",
   "execution_count": 123,
   "metadata": {},
   "outputs": [],
   "source": [
    "vl_c_index = vl_c.index"
   ]
  },
  {
   "cell_type": "markdown",
   "metadata": {},
   "source": [
    "vl_bb_mean is the mean value of 'price' where the 'property_type' is 'vacant_land' and the 'area' is 'Bantry Bay', \n",
    "vl_bb is the respecctive dataframe and price_vl_bb_index has a list of indexes of the vl_bb dataframe\n",
    "\n",
    "vl_c_mean is the  mean value of 'price' where the 'property_type' is 'vacant_land' and the 'area' is 'Constantia'\n",
    "vl_c is the respective dataframe and price_vl_c_index has a list of indexes of the vl_bb dataframe\n"
   ]
  },
  {
   "cell_type": "code",
   "execution_count": 124,
   "metadata": {},
   "outputs": [],
   "source": [
    "price_vl_bb_index = []\n",
    "for i in vl_bb_index:\n",
    "    price_vl_bb_index.append(i)\n",
    "    "
   ]
  },
  {
   "cell_type": "code",
   "execution_count": 128,
   "metadata": {},
   "outputs": [],
   "source": [
    "orbit.loc[price_vl_bb_index,['price']] = orbit.loc[price_vl_bb_index,['price']].replace(np.nan, vl_bb_mean)"
   ]
  },
  {
   "cell_type": "markdown",
   "metadata": {},
   "source": [
    "I filled the 'price' variable having the indexes stored in 'price_vl_bb_index' with the mean value 'vl_bb_mean'"
   ]
  },
  {
   "cell_type": "code",
   "execution_count": 126,
   "metadata": {},
   "outputs": [
    {
     "data": {
      "text/plain": [
       "1"
      ]
     },
     "execution_count": 126,
     "metadata": {},
     "output_type": "execute_result"
    }
   ],
   "source": [
    "len(price_vl_bb_index)"
   ]
  },
  {
   "cell_type": "code",
   "execution_count": 125,
   "metadata": {},
   "outputs": [],
   "source": [
    "price_vl_c_index = []\n",
    "for i in vl_c_index:\n",
    "    price_vl_c_index.append(i)\n",
    "    "
   ]
  },
  {
   "cell_type": "code",
   "execution_count": 127,
   "metadata": {},
   "outputs": [
    {
     "data": {
      "text/plain": [
       "1"
      ]
     },
     "execution_count": 127,
     "metadata": {},
     "output_type": "execute_result"
    }
   ],
   "source": [
    "len(price_vl_c_index)"
   ]
  },
  {
   "cell_type": "code",
   "execution_count": 129,
   "metadata": {},
   "outputs": [],
   "source": [
    "orbit.loc[price_vl_c_index,['price']] = orbit.loc[price_vl_c_index,['price']].replace(np.nan, vl_c_mean)"
   ]
  },
  {
   "cell_type": "markdown",
   "metadata": {},
   "source": [
    "I filled the 'price' variable having the indexes stored in 'price_vl_c_index' with the mean value 'vl_c_mean'"
   ]
  },
  {
   "cell_type": "code",
   "execution_count": 130,
   "metadata": {},
   "outputs": [
    {
     "data": {
      "text/plain": [
       "129"
      ]
     },
     "execution_count": 130,
     "metadata": {},
     "output_type": "execute_result"
    }
   ],
   "source": [
    "orbit['price'].isnull().sum()"
   ]
  },
  {
   "cell_type": "code",
   "execution_count": null,
   "metadata": {},
   "outputs": [],
   "source": [
    "# PROPERTY_TYPE 'HOUSE'"
   ]
  },
  {
   "cell_type": "code",
   "execution_count": 80,
   "metadata": {},
   "outputs": [
    {
     "data": {
      "text/plain": [
       "82"
      ]
     },
     "execution_count": 80,
     "metadata": {},
     "output_type": "execute_result"
    }
   ],
   "source": [
    "len(orbit[(orbit['price'].isnull()) & (orbit['property_type']=='house')])"
   ]
  },
  {
   "cell_type": "code",
   "execution_count": null,
   "metadata": {},
   "outputs": [],
   "source": [
    "#mean values"
   ]
  },
  {
   "cell_type": "code",
   "execution_count": 102,
   "metadata": {},
   "outputs": [],
   "source": [
    "ho_c_mean = orbit[(orbit['property_type']=='house') & (orbit['area']=='Constantia')]['price'].mean()"
   ]
  },
  {
   "cell_type": "code",
   "execution_count": 103,
   "metadata": {},
   "outputs": [],
   "source": [
    "ho_f_mean = orbit[(orbit['property_type']=='house') & (orbit['area']=='Fresnaye')]['price'].mean()"
   ]
  },
  {
   "cell_type": "code",
   "execution_count": 104,
   "metadata": {},
   "outputs": [],
   "source": [
    "ho_bb_mean = orbit[(orbit['property_type']=='house') & (orbit['area']=='Bantry Bay')]['price'].mean()"
   ]
  },
  {
   "cell_type": "code",
   "execution_count": 105,
   "metadata": {},
   "outputs": [],
   "source": [
    "ho_bv_mean = orbit[(orbit['property_type']=='house') & (orbit['area']=='Bakoven')]['price'].mean()"
   ]
  },
  {
   "cell_type": "code",
   "execution_count": null,
   "metadata": {},
   "outputs": [],
   "source": [
    "#respective dataframes"
   ]
  },
  {
   "cell_type": "code",
   "execution_count": 132,
   "metadata": {},
   "outputs": [],
   "source": [
    "ho_c = orbit[(orbit['property_type']=='house') & (orbit['area']=='Constantia') & (orbit['price'].isnull())]"
   ]
  },
  {
   "cell_type": "code",
   "execution_count": 133,
   "metadata": {},
   "outputs": [],
   "source": [
    "ho_f = orbit[(orbit['property_type']=='house') & (orbit['area']=='Fresnaye') & (orbit['price'].isnull())]"
   ]
  },
  {
   "cell_type": "code",
   "execution_count": 134,
   "metadata": {},
   "outputs": [],
   "source": [
    "ho_bb = orbit[(orbit['property_type']=='house') & (orbit['area']=='Bantry Bay') & (orbit['price'].isnull())]"
   ]
  },
  {
   "cell_type": "code",
   "execution_count": 135,
   "metadata": {},
   "outputs": [],
   "source": [
    "ho_bv = orbit[(orbit['property_type']=='house') & (orbit['area']=='Bakoven') & (orbit['price'].isnull())]"
   ]
  },
  {
   "cell_type": "markdown",
   "metadata": {},
   "source": [
    "ho_c_mean is the mean value of 'price' where the 'property_type' is 'house' and the 'area' is 'Constantia', \n",
    "ho_c is the respective dataframe and price_ho_c_index has a list of indexes of the ho_c dataframe\n",
    "\n",
    "ho_f_mean is the mean value of 'price' where the 'property_type' is 'house' and the 'area' is 'Fresnaye', \n",
    "ho_f is the respective dataframe and price_ho_f_index has a list of indexes of the ho_f dataframe\n",
    "\n",
    "ho_bb_mean is the mean value of 'price' where the 'property_type' is 'house' and the 'area' is 'Bantry Bay', \n",
    "ho_bb is the respective dataframe and price_ho_bb_index has a list of indexes of the ho_bb dataframe\n",
    "\n",
    "ho_bv_mean is the mean value of 'price' where the 'property_type' is 'house' and the 'area' is 'Bakoven', \n",
    "ho_bv is the respective dataframe and price_ho_bv_index has a list of indexes of the ho_bv dataframe"
   ]
  },
  {
   "cell_type": "code",
   "execution_count": 136,
   "metadata": {},
   "outputs": [],
   "source": [
    "ho_c_index = ho_c.index\n",
    "ho_f_index = ho_f.index\n",
    "ho_bb_index = ho_bb.index\n",
    "ho_bv_index = ho_bv.index\n",
    "\n",
    "price_ho_c_index = []\n",
    "for i in ho_c_index:\n",
    "    price_ho_c_index.append(i)\n",
    "    \n",
    "price_ho_f_index = []\n",
    "for i in ho_f_index:\n",
    "    price_ho_f_index.append(i)\n",
    "    \n",
    "price_ho_bb_index = []\n",
    "for i in ho_bb_index:\n",
    "    price_ho_bb_index.append(i)\n",
    "    \n",
    "price_ho_bv_index = []\n",
    "for i in ho_bv_index:\n",
    "    price_ho_bv_index.append(i)\n",
    "    \n"
   ]
  },
  {
   "cell_type": "markdown",
   "metadata": {},
   "source": [
    "I filled the 'price' variable having the indexes stored in 'price_ho_c_index', 'price_ho_f_index', 'price_ho_bb_index', 'price_ho_bv_index'with the mean values 'ho_c_mean', 'ho_f_mean','ho_bb_mean' and 'ho_bv_mean' for \n",
    "their respective dataframes"
   ]
  },
  {
   "cell_type": "code",
   "execution_count": 137,
   "metadata": {},
   "outputs": [],
   "source": [
    "orbit.loc[price_ho_c_index,['price']] = orbit.loc[price_ho_c_index,['price']].replace(np.nan, ho_c_mean)\n",
    "orbit.loc[price_ho_f_index,['price']] = orbit.loc[price_ho_f_index,['price']].replace(np.nan, ho_f_mean)\n",
    "orbit.loc[price_ho_bb_index,['price']] = orbit.loc[price_ho_bb_index,['price']].replace(np.nan, ho_bb_mean)\n",
    "orbit.loc[price_ho_bv_index,['price']] = orbit.loc[price_ho_bv_index,['price']].replace(np.nan, ho_bv_mean)\n"
   ]
  },
  {
   "cell_type": "code",
   "execution_count": 138,
   "metadata": {},
   "outputs": [
    {
     "data": {
      "text/plain": [
       "47"
      ]
     },
     "execution_count": 138,
     "metadata": {},
     "output_type": "execute_result"
    }
   ],
   "source": [
    "orbit['price'].isnull().sum()"
   ]
  },
  {
   "cell_type": "code",
   "execution_count": null,
   "metadata": {},
   "outputs": [],
   "source": [
    "#PROPERTY_TYPE 'APARTMENT'"
   ]
  },
  {
   "cell_type": "code",
   "execution_count": 81,
   "metadata": {},
   "outputs": [
    {
     "data": {
      "text/plain": [
       "47"
      ]
     },
     "execution_count": 81,
     "metadata": {},
     "output_type": "execute_result"
    }
   ],
   "source": [
    "len(orbit[(orbit['price'].isnull()) & (orbit['property_type']=='apartment')])"
   ]
  },
  {
   "cell_type": "code",
   "execution_count": null,
   "metadata": {},
   "outputs": [],
   "source": [
    "#mean values"
   ]
  },
  {
   "cell_type": "code",
   "execution_count": 140,
   "metadata": {},
   "outputs": [],
   "source": [
    "ap_c_mean = orbit[(orbit['property_type']=='apartment') & (orbit['area']=='Constantia')]['price'].mean()"
   ]
  },
  {
   "cell_type": "code",
   "execution_count": 141,
   "metadata": {},
   "outputs": [],
   "source": [
    "ap_f_mean = orbit[(orbit['property_type']=='apartment') & (orbit['area']=='Fresnaye')]['price'].mean()"
   ]
  },
  {
   "cell_type": "code",
   "execution_count": 142,
   "metadata": {},
   "outputs": [],
   "source": [
    "ap_bb_mean = orbit[(orbit['property_type']=='apartment') & (orbit['area']=='Bantry Bay')]['price'].mean()"
   ]
  },
  {
   "cell_type": "code",
   "execution_count": 143,
   "metadata": {},
   "outputs": [],
   "source": [
    "ap_bv_mean = orbit[(orbit['property_type']=='apartment') & (orbit['area']=='Bakoven')]['price'].mean()"
   ]
  },
  {
   "cell_type": "code",
   "execution_count": 144,
   "metadata": {},
   "outputs": [],
   "source": [
    "#respective dataframes"
   ]
  },
  {
   "cell_type": "code",
   "execution_count": 145,
   "metadata": {},
   "outputs": [],
   "source": [
    "ap_c = orbit[(orbit['property_type']=='apartment') & (orbit['area']=='Constantia') & (orbit['price'].isnull())]\n",
    "ap_f = orbit[(orbit['property_type']=='apartment') & (orbit['area']=='Fresnaye') & (orbit['price'].isnull())]\n",
    "ap_bb = orbit[(orbit['property_type']=='apartment') & (orbit['area']=='Bantry Bay') & (orbit['price'].isnull())]\n",
    "ap_bv = orbit[(orbit['property_type']=='apartment') & (orbit['area']=='Bakoven') & (orbit['price'].isnull())]\n"
   ]
  },
  {
   "cell_type": "code",
   "execution_count": 146,
   "metadata": {},
   "outputs": [],
   "source": [
    "ap_c_index = ap_c.index\n",
    "ap_f_index = ap_f.index\n",
    "ap_bb_index = ap_bb.index\n",
    "ap_bv_index = ap_bv.index\n",
    "\n",
    "price_ap_c_index = []\n",
    "for i in ap_c_index:\n",
    "    price_ap_c_index.append(i)\n",
    "    \n",
    "price_ap_f_index = []\n",
    "for i in ap_f_index:\n",
    "    price_ap_f_index.append(i)\n",
    "    \n",
    "price_ap_bb_index = []\n",
    "for i in ap_bb_index:\n",
    "    price_ap_bb_index.append(i)\n",
    "\n",
    "price_ap_bv_index = []\n",
    "for i in ap_bv_index:\n",
    "    price_ap_bv_index.append(i)\n",
    "\n"
   ]
  },
  {
   "cell_type": "markdown",
   "metadata": {},
   "source": [
    "ap_c_mean is the mean value of 'price' where the 'property_type' is 'apartment' and the 'area' is 'Constantia', \n",
    "ap_c is the respective dataframe and price_ap_c_index has a list of indexes of the ap_c dataframe\n",
    "\n",
    "ap_f_mean is the mean value of 'price' where the 'property_type' is 'apartment' and the 'area' is 'Fresnaye', \n",
    "ap_f is the respective dataframe and price_ap_f_index has a list of indexes of the ap_f dataframe\n",
    "\n",
    "ap_bb_mean is the mean value of 'price' where the 'property_type' is 'apartment' and the 'area' is 'Bantry Bay', \n",
    "ap_bb is the respective dataframe and price_ap_bb_index has a list of indexes of the ap_bb dataframe\n",
    "\n",
    "ap_bv_mean is the mean value of 'price' where the 'property_type' is 'apartment' and the 'area' is 'Bakoven', \n",
    "ap_bv is the respective dataframe and price_ap_bv_index has a list of indexes of the ap_bv dataframe"
   ]
  },
  {
   "cell_type": "code",
   "execution_count": 147,
   "metadata": {},
   "outputs": [],
   "source": [
    "orbit.loc[price_ap_c_index,['price']] = orbit.loc[price_ap_c_index,['price']].replace(np.nan, ap_c_mean)\n",
    "orbit.loc[price_ap_f_index,['price']] = orbit.loc[price_ap_f_index,['price']].replace(np.nan, ap_f_mean)\n",
    "orbit.loc[price_ap_bb_index,['price']] = orbit.loc[price_ap_bb_index,['price']].replace(np.nan, ap_bb_mean)\n",
    "orbit.loc[price_ap_bv_index,['price']] = orbit.loc[price_ap_bv_index,['price']].replace(np.nan, ap_bv_mean)\n"
   ]
  },
  {
   "cell_type": "markdown",
   "metadata": {},
   "source": [
    "I filled the 'price' variable having the indexes stored in 'price_ap_c_index', 'price_ap_f_index',\n",
    "'price_ap_bb_index', 'price_ap_bv_index'with the mean values 'ap_c_mean', 'ap_f_mean','ap_bb_mean'\n",
    "and 'ap_bv_mean' for their respective dataframes."
   ]
  },
  {
   "cell_type": "markdown",
   "metadata": {},
   "source": [
    "In this manner i could have imputed the mean values for the missing values in the dataframe\n",
    "but this way of filling the missing values using the mean creates a bias in the variable,\n",
    "which we do not want . Hence i went ahead with IterativeImputer to fill the missing values"
   ]
  },
  {
   "cell_type": "markdown",
   "metadata": {},
   "source": [
    "# CONVERTING CATEGORICAL VARIABLES TO NUMERICAL VARIABLES"
   ]
  },
  {
   "cell_type": "code",
   "execution_count": 488,
   "metadata": {},
   "outputs": [
    {
     "data": {
      "text/html": [
       "<div>\n",
       "<style scoped>\n",
       "    .dataframe tbody tr th:only-of-type {\n",
       "        vertical-align: middle;\n",
       "    }\n",
       "\n",
       "    .dataframe tbody tr th {\n",
       "        vertical-align: top;\n",
       "    }\n",
       "\n",
       "    .dataframe thead th {\n",
       "        text-align: right;\n",
       "    }\n",
       "</style>\n",
       "<table border=\"1\" class=\"dataframe\">\n",
       "  <thead>\n",
       "    <tr style=\"text-align: right;\">\n",
       "      <th></th>\n",
       "      <th>agency</th>\n",
       "      <th>title</th>\n",
       "      <th>bedrooms</th>\n",
       "      <th>bathrooms</th>\n",
       "      <th>area</th>\n",
       "      <th>offering</th>\n",
       "      <th>property_type</th>\n",
       "      <th>price</th>\n",
       "      <th>garages</th>\n",
       "      <th>erf_size</th>\n",
       "      <th>floor_size</th>\n",
       "      <th>parkings</th>\n",
       "    </tr>\n",
       "  </thead>\n",
       "  <tbody>\n",
       "    <tr>\n",
       "      <th>0</th>\n",
       "      <td>dogon_group_properties</td>\n",
       "      <td>2 Bedroom Apartment For Sale in Fresnaye</td>\n",
       "      <td>2.0</td>\n",
       "      <td>2.0</td>\n",
       "      <td>Fresnaye</td>\n",
       "      <td>sale</td>\n",
       "      <td>apartment</td>\n",
       "      <td>5995000.0</td>\n",
       "      <td>1.361435</td>\n",
       "      <td>737.614343</td>\n",
       "      <td>129.000000</td>\n",
       "      <td>2.000000</td>\n",
       "    </tr>\n",
       "    <tr>\n",
       "      <th>1</th>\n",
       "      <td>dogon_group_properties</td>\n",
       "      <td>3 Bedroom Apartment For Sale in Bantry Bay</td>\n",
       "      <td>3.0</td>\n",
       "      <td>3.0</td>\n",
       "      <td>Bantry Bay</td>\n",
       "      <td>sale</td>\n",
       "      <td>apartment</td>\n",
       "      <td>6490000.0</td>\n",
       "      <td>1.159220</td>\n",
       "      <td>775.427340</td>\n",
       "      <td>140.000000</td>\n",
       "      <td>1.000000</td>\n",
       "    </tr>\n",
       "    <tr>\n",
       "      <th>2</th>\n",
       "      <td>dogon_group_properties</td>\n",
       "      <td>5 Bedroom House For Sale in Constantia</td>\n",
       "      <td>5.0</td>\n",
       "      <td>5.0</td>\n",
       "      <td>Constantia</td>\n",
       "      <td>sale</td>\n",
       "      <td>house</td>\n",
       "      <td>7995000.0</td>\n",
       "      <td>2.000000</td>\n",
       "      <td>1375.000000</td>\n",
       "      <td>311.425293</td>\n",
       "      <td>2.735935</td>\n",
       "    </tr>\n",
       "    <tr>\n",
       "      <th>3</th>\n",
       "      <td>dogon_group_properties</td>\n",
       "      <td>7 Bedroom House For Sale in Fresnaye</td>\n",
       "      <td>7.0</td>\n",
       "      <td>5.0</td>\n",
       "      <td>Fresnaye</td>\n",
       "      <td>sale</td>\n",
       "      <td>house</td>\n",
       "      <td>32950000.0</td>\n",
       "      <td>2.000000</td>\n",
       "      <td>636.000000</td>\n",
       "      <td>379.491337</td>\n",
       "      <td>6.000000</td>\n",
       "    </tr>\n",
       "    <tr>\n",
       "      <th>4</th>\n",
       "      <td>dogon_group_properties</td>\n",
       "      <td>5 Bedroom House For Sale in Constantia</td>\n",
       "      <td>5.0</td>\n",
       "      <td>5.0</td>\n",
       "      <td>Constantia</td>\n",
       "      <td>sale</td>\n",
       "      <td>house</td>\n",
       "      <td>25900000.0</td>\n",
       "      <td>3.000000</td>\n",
       "      <td>4000.000000</td>\n",
       "      <td>800.000000</td>\n",
       "      <td>8.000000</td>\n",
       "    </tr>\n",
       "  </tbody>\n",
       "</table>\n",
       "</div>"
      ],
      "text/plain": [
       "                   agency                                       title  \\\n",
       "0  dogon_group_properties    2 Bedroom Apartment For Sale in Fresnaye   \n",
       "1  dogon_group_properties  3 Bedroom Apartment For Sale in Bantry Bay   \n",
       "2  dogon_group_properties      5 Bedroom House For Sale in Constantia   \n",
       "3  dogon_group_properties        7 Bedroom House For Sale in Fresnaye   \n",
       "4  dogon_group_properties      5 Bedroom House For Sale in Constantia   \n",
       "\n",
       "   bedrooms  bathrooms        area offering property_type       price  \\\n",
       "0       2.0        2.0    Fresnaye     sale     apartment   5995000.0   \n",
       "1       3.0        3.0  Bantry Bay     sale     apartment   6490000.0   \n",
       "2       5.0        5.0  Constantia     sale         house   7995000.0   \n",
       "3       7.0        5.0    Fresnaye     sale         house  32950000.0   \n",
       "4       5.0        5.0  Constantia     sale         house  25900000.0   \n",
       "\n",
       "    garages     erf_size  floor_size  parkings  \n",
       "0  1.361435   737.614343  129.000000  2.000000  \n",
       "1  1.159220   775.427340  140.000000  1.000000  \n",
       "2  2.000000  1375.000000  311.425293  2.735935  \n",
       "3  2.000000   636.000000  379.491337  6.000000  \n",
       "4  3.000000  4000.000000  800.000000  8.000000  "
      ]
     },
     "execution_count": 488,
     "metadata": {},
     "output_type": "execute_result"
    }
   ],
   "source": [
    "orbit.head()"
   ]
  },
  {
   "cell_type": "markdown",
   "metadata": {},
   "source": [
    "The features 'area', 'offering' and 'property_type' are converted to numerical values\n",
    "by mapping the values of\n",
    "'area' : {:0,:1,:2,:3}\n",
    "'offering': {:0, :1, :2}\n",
    "'property_type': {:0, :1, :2}"
   ]
  },
  {
   "cell_type": "code",
   "execution_count": 518,
   "metadata": {},
   "outputs": [
    {
     "data": {
      "text/html": [
       "<div>\n",
       "<style scoped>\n",
       "    .dataframe tbody tr th:only-of-type {\n",
       "        vertical-align: middle;\n",
       "    }\n",
       "\n",
       "    .dataframe tbody tr th {\n",
       "        vertical-align: top;\n",
       "    }\n",
       "\n",
       "    .dataframe thead th {\n",
       "        text-align: right;\n",
       "    }\n",
       "</style>\n",
       "<table border=\"1\" class=\"dataframe\">\n",
       "  <thead>\n",
       "    <tr style=\"text-align: right;\">\n",
       "      <th></th>\n",
       "      <th>bedrooms</th>\n",
       "      <th>bathrooms</th>\n",
       "      <th>area</th>\n",
       "      <th>offering</th>\n",
       "      <th>property_type</th>\n",
       "      <th>price</th>\n",
       "      <th>garages</th>\n",
       "      <th>erf_size</th>\n",
       "      <th>floor_size</th>\n",
       "      <th>parkings</th>\n",
       "    </tr>\n",
       "  </thead>\n",
       "  <tbody>\n",
       "    <tr>\n",
       "      <th>0</th>\n",
       "      <td>2.0</td>\n",
       "      <td>2.0</td>\n",
       "      <td>1</td>\n",
       "      <td>0</td>\n",
       "      <td>1</td>\n",
       "      <td>5995000.0</td>\n",
       "      <td>1.361435</td>\n",
       "      <td>737.614343</td>\n",
       "      <td>129.000000</td>\n",
       "      <td>2.000000</td>\n",
       "    </tr>\n",
       "    <tr>\n",
       "      <th>1</th>\n",
       "      <td>3.0</td>\n",
       "      <td>3.0</td>\n",
       "      <td>2</td>\n",
       "      <td>0</td>\n",
       "      <td>1</td>\n",
       "      <td>6490000.0</td>\n",
       "      <td>1.159220</td>\n",
       "      <td>775.427340</td>\n",
       "      <td>140.000000</td>\n",
       "      <td>1.000000</td>\n",
       "    </tr>\n",
       "    <tr>\n",
       "      <th>2</th>\n",
       "      <td>5.0</td>\n",
       "      <td>5.0</td>\n",
       "      <td>0</td>\n",
       "      <td>0</td>\n",
       "      <td>0</td>\n",
       "      <td>7995000.0</td>\n",
       "      <td>2.000000</td>\n",
       "      <td>1375.000000</td>\n",
       "      <td>311.425293</td>\n",
       "      <td>2.735935</td>\n",
       "    </tr>\n",
       "    <tr>\n",
       "      <th>3</th>\n",
       "      <td>7.0</td>\n",
       "      <td>5.0</td>\n",
       "      <td>1</td>\n",
       "      <td>0</td>\n",
       "      <td>0</td>\n",
       "      <td>32950000.0</td>\n",
       "      <td>2.000000</td>\n",
       "      <td>636.000000</td>\n",
       "      <td>379.491337</td>\n",
       "      <td>6.000000</td>\n",
       "    </tr>\n",
       "    <tr>\n",
       "      <th>4</th>\n",
       "      <td>5.0</td>\n",
       "      <td>5.0</td>\n",
       "      <td>0</td>\n",
       "      <td>0</td>\n",
       "      <td>0</td>\n",
       "      <td>25900000.0</td>\n",
       "      <td>3.000000</td>\n",
       "      <td>4000.000000</td>\n",
       "      <td>800.000000</td>\n",
       "      <td>8.000000</td>\n",
       "    </tr>\n",
       "  </tbody>\n",
       "</table>\n",
       "</div>"
      ],
      "text/plain": [
       "   bedrooms  bathrooms  area  offering  property_type       price   garages  \\\n",
       "0       2.0        2.0     1         0              1   5995000.0  1.361435   \n",
       "1       3.0        3.0     2         0              1   6490000.0  1.159220   \n",
       "2       5.0        5.0     0         0              0   7995000.0  2.000000   \n",
       "3       7.0        5.0     1         0              0  32950000.0  2.000000   \n",
       "4       5.0        5.0     0         0              0  25900000.0  3.000000   \n",
       "\n",
       "      erf_size  floor_size  parkings  \n",
       "0   737.614343  129.000000  2.000000  \n",
       "1   775.427340  140.000000  1.000000  \n",
       "2  1375.000000  311.425293  2.735935  \n",
       "3   636.000000  379.491337  6.000000  \n",
       "4  4000.000000  800.000000  8.000000  "
      ]
     },
     "execution_count": 518,
     "metadata": {},
     "output_type": "execute_result"
    }
   ],
   "source": [
    "orbit.head()"
   ]
  },
  {
   "cell_type": "code",
   "execution_count": 490,
   "metadata": {},
   "outputs": [
    {
     "data": {
      "text/plain": [
       "agency           0\n",
       "title            0\n",
       "bedrooms         0\n",
       "bathrooms        0\n",
       "area             0\n",
       "offering         0\n",
       "property_type    0\n",
       "price            0\n",
       "garages          0\n",
       "erf_size         0\n",
       "floor_size       0\n",
       "parkings         0\n",
       "dtype: int64"
      ]
     },
     "execution_count": 490,
     "metadata": {},
     "output_type": "execute_result"
    }
   ],
   "source": [
    "orbit.isnull().sum()"
   ]
  },
  {
   "cell_type": "markdown",
   "metadata": {},
   "source": [
    "# DATA VISUALIZATION"
   ]
  },
  {
   "cell_type": "code",
   "execution_count": 161,
   "metadata": {},
   "outputs": [
    {
     "data": {
      "text/html": [
       "<div>\n",
       "<style scoped>\n",
       "    .dataframe tbody tr th:only-of-type {\n",
       "        vertical-align: middle;\n",
       "    }\n",
       "\n",
       "    .dataframe tbody tr th {\n",
       "        vertical-align: top;\n",
       "    }\n",
       "\n",
       "    .dataframe thead th {\n",
       "        text-align: right;\n",
       "    }\n",
       "</style>\n",
       "<table border=\"1\" class=\"dataframe\">\n",
       "  <thead>\n",
       "    <tr style=\"text-align: right;\">\n",
       "      <th></th>\n",
       "      <th>Total</th>\n",
       "      <th>Percent</th>\n",
       "    </tr>\n",
       "  </thead>\n",
       "  <tbody>\n",
       "    <tr>\n",
       "      <th>parkings</th>\n",
       "      <td>518</td>\n",
       "      <td>0.497121</td>\n",
       "    </tr>\n",
       "    <tr>\n",
       "      <th>floor_size</th>\n",
       "      <td>463</td>\n",
       "      <td>0.444338</td>\n",
       "    </tr>\n",
       "    <tr>\n",
       "      <th>erf_size</th>\n",
       "      <td>363</td>\n",
       "      <td>0.348369</td>\n",
       "    </tr>\n",
       "    <tr>\n",
       "      <th>garages</th>\n",
       "      <td>360</td>\n",
       "      <td>0.345489</td>\n",
       "    </tr>\n",
       "    <tr>\n",
       "      <th>offering</th>\n",
       "      <td>160</td>\n",
       "      <td>0.153551</td>\n",
       "    </tr>\n",
       "  </tbody>\n",
       "</table>\n",
       "</div>"
      ],
      "text/plain": [
       "            Total   Percent\n",
       "parkings      518  0.497121\n",
       "floor_size    463  0.444338\n",
       "erf_size      363  0.348369\n",
       "garages       360  0.345489\n",
       "offering      160  0.153551"
      ]
     },
     "execution_count": 161,
     "metadata": {},
     "output_type": "execute_result"
    },
    {
     "data": {
      "image/png": "[encoded data removed]",
      "text/plain": [
       "<Figure size 1080x432 with 1 Axes>"
      ]
     },
     "metadata": {
      "needs_background": "light"
     },
     "output_type": "display_data"
    }
   ],
   "source": [
    "total = Orbit.isnull().sum().sort_values(ascending=False)\n",
    "percent = (Orbit.isnull().sum()/Orbit.isnull().count()).sort_values(ascending=False)\n",
    "missing_data = pd.concat([total, percent], axis=1, keys=['Total', 'Percent'])\n",
    "f, ax = plt.subplots(figsize=(15, 6))\n",
    "plt.xticks(rotation='90')\n",
    "sns.barplot(x=missing_data.index, y=missing_data['Percent'])\n",
    "plt.xlabel('Features', fontsize=15)\n",
    "plt.ylabel('Percent of missing values', fontsize=15)\n",
    "plt.title('Percent missing data by feature', fontsize=15)\n",
    "missing_data.head()"
   ]
  },
  {
   "cell_type": "markdown",
   "metadata": {},
   "source": [
    "# AGENCY"
   ]
  },
  {
   "cell_type": "code",
   "execution_count": 145,
   "metadata": {},
   "outputs": [
    {
     "data": {
      "text/plain": [
       "pam_golding               160\n",
       "seeff                     125\n",
       "remax                     125\n",
       "jawitz                     94\n",
       "sothebys_realty            84\n",
       "dogon_group_properties     72\n",
       "rawson                     55\n",
       "chas_everitt               49\n",
       "knight_frank               45\n",
       "greef_christies            43\n",
       "live_real_estate           40\n",
       "blue_chip                  37\n",
       "tyson_properties           30\n",
       "hamiltons                  26\n",
       "engel_and_volkers          23\n",
       "the_agency_group           10\n",
       "upton_real_estate           6\n",
       "currin_properties           3\n",
       "celsa_properties            3\n",
       "durr_estates                2\n",
       "realtor_of_excellence       2\n",
       "acutts                      1\n",
       "coastal_property_group      1\n",
       "talana_foot                 1\n",
       "harcourts                   1\n",
       "meridian_realty             1\n",
       "broll                       1\n",
       "property_time               1\n",
       "alexo                       1\n",
       "Name: agency, dtype: int64"
      ]
     },
     "execution_count": 145,
     "metadata": {},
     "output_type": "execute_result"
    }
   ],
   "source": [
    "orbit['agency'].value_counts()"
   ]
  },
  {
   "cell_type": "code",
   "execution_count": 144,
   "metadata": {},
   "outputs": [
    {
     "data": {
      "text/plain": [
       "<matplotlib.axes._subplots.AxesSubplot at 0x1d3a95229b0>"
      ]
     },
     "execution_count": 144,
     "metadata": {},
     "output_type": "execute_result"
    },
    {
     "data": {
      "image/png": "[encoded data removed]",
      "text/plain": [
       "<Figure size 432x288 with 1 Axes>"
      ]
     },
     "metadata": {
      "needs_background": "light"
     },
     "output_type": "display_data"
    }
   ],
   "source": [
    "sns.countplot(y=orbit['agency'])"
   ]
  },
  {
   "cell_type": "markdown",
   "metadata": {},
   "source": [
    "# BEDROOMS"
   ]
  },
  {
   "cell_type": "code",
   "execution_count": 465,
   "metadata": {},
   "outputs": [
    {
     "data": {
      "text/plain": [
       "4.0     293\n",
       "3.0     238\n",
       "5.0     188\n",
       "2.0     117\n",
       "6.0      65\n",
       "0.0      57\n",
       "1.0      32\n",
       "7.0      28\n",
       "8.0       9\n",
       "10.0      6\n",
       "9.0       6\n",
       "11.0      2\n",
       "12.0      1\n",
       "Name: bedrooms, dtype: int64"
      ]
     },
     "execution_count": 465,
     "metadata": {},
     "output_type": "execute_result"
    }
   ],
   "source": [
    "orbit['bedrooms'].value_counts()"
   ]
  },
  {
   "cell_type": "code",
   "execution_count": 467,
   "metadata": {},
   "outputs": [
    {
     "data": {
      "text/plain": [
       "<matplotlib.axes._subplots.AxesSubplot at 0x1d3ae0b9160>"
      ]
     },
     "execution_count": 467,
     "metadata": {},
     "output_type": "execute_result"
    },
    {
     "data": {
      "image/png": "[encoded data removed]",
      "text/plain": [
       "<Figure size 432x288 with 1 Axes>"
      ]
     },
     "metadata": {
      "needs_background": "light"
     },
     "output_type": "display_data"
    }
   ],
   "source": [
    "sns.countplot(x=orbit['bedrooms'])"
   ]
  },
  {
   "cell_type": "markdown",
   "metadata": {},
   "source": [
    "# AREA"
   ]
  },
  {
   "cell_type": "code",
   "execution_count": 157,
   "metadata": {},
   "outputs": [
    {
     "data": {
      "text/plain": [
       "Constantia    547\n",
       "Fresnaye      236\n",
       "Bantry Bay    227\n",
       "Bakoven        32\n",
       "Name: area, dtype: int64"
      ]
     },
     "execution_count": 157,
     "metadata": {},
     "output_type": "execute_result"
    }
   ],
   "source": [
    "orbit['area'].value_counts()"
   ]
  },
  {
   "cell_type": "code",
   "execution_count": 158,
   "metadata": {},
   "outputs": [
    {
     "data": {
      "text/plain": [
       "<matplotlib.axes._subplots.AxesSubplot at 0x1d3a987e0b8>"
      ]
     },
     "execution_count": 158,
     "metadata": {},
     "output_type": "execute_result"
    },
    {
     "data": {
      "image/png": "[encoded data removed]",
      "text/plain": [
       "<Figure size 432x288 with 1 Axes>"
      ]
     },
     "metadata": {
      "needs_background": "light"
     },
     "output_type": "display_data"
    }
   ],
   "source": [
    "sns.countplot(x=orbit['area'])"
   ]
  },
  {
   "cell_type": "code",
   "execution_count": 160,
   "metadata": {},
   "outputs": [
    {
     "data": {
      "image/png": "[encoded data removed]",
      "text/plain": [
       "<Figure size 432x288 with 1 Axes>"
      ]
     },
     "metadata": {},
     "output_type": "display_data"
    }
   ],
   "source": [
    "# Pie chart\n",
    "labels = ['Fresnaye', 'Bantry Bay', 'Constantia','Bakoven']\n",
    "sizes = [236, 227, 547, 32]\n",
    "#colors\n",
    "colors = ['#ff9999','#66b3ff','#99ff99','#ffcc99']\n",
    "#explsion\n",
    "explode = (0.05,0.05,0.05,0.05)\n",
    " \n",
    "plt.pie(sizes, labels=labels, autopct='%1.1f%%', startangle=90, pctdistance=0.85, explode = explode)\n",
    "#draw circle\n",
    "centre_circle = plt.Circle((0,0),0.70,fc='white')\n",
    "fig = plt.gcf()\n",
    "fig.gca().add_artist(centre_circle)\n",
    "# Equal aspect ratio ensures that pie is drawn as a circle\n",
    "ax1.axis('equal')  \n",
    "plt.tight_layout()\n",
    "plt.show()\n"
   ]
  },
  {
   "cell_type": "code",
   "execution_count": 168,
   "metadata": {},
   "outputs": [
    {
     "data": {
      "text/html": [
       "<div>\n",
       "<style scoped>\n",
       "    .dataframe tbody tr th:only-of-type {\n",
       "        vertical-align: middle;\n",
       "    }\n",
       "\n",
       "    .dataframe tbody tr th {\n",
       "        vertical-align: top;\n",
       "    }\n",
       "\n",
       "    .dataframe thead th {\n",
       "        text-align: right;\n",
       "    }\n",
       "</style>\n",
       "<table border=\"1\" class=\"dataframe\">\n",
       "  <thead>\n",
       "    <tr style=\"text-align: right;\">\n",
       "      <th>offering</th>\n",
       "      <th>buy</th>\n",
       "      <th>rent</th>\n",
       "      <th>sale</th>\n",
       "    </tr>\n",
       "    <tr>\n",
       "      <th>area</th>\n",
       "      <th></th>\n",
       "      <th></th>\n",
       "      <th></th>\n",
       "    </tr>\n",
       "  </thead>\n",
       "  <tbody>\n",
       "    <tr>\n",
       "      <th>Bakoven</th>\n",
       "      <td>14</td>\n",
       "      <td>5</td>\n",
       "      <td>13</td>\n",
       "    </tr>\n",
       "    <tr>\n",
       "      <th>Bantry Bay</th>\n",
       "      <td>43</td>\n",
       "      <td>38</td>\n",
       "      <td>146</td>\n",
       "    </tr>\n",
       "    <tr>\n",
       "      <th>Constantia</th>\n",
       "      <td>27</td>\n",
       "      <td>51</td>\n",
       "      <td>469</td>\n",
       "    </tr>\n",
       "    <tr>\n",
       "      <th>Fresnaye</th>\n",
       "      <td>36</td>\n",
       "      <td>38</td>\n",
       "      <td>162</td>\n",
       "    </tr>\n",
       "  </tbody>\n",
       "</table>\n",
       "</div>"
      ],
      "text/plain": [
       "offering    buy  rent  sale\n",
       "area                       \n",
       "Bakoven      14     5    13\n",
       "Bantry Bay   43    38   146\n",
       "Constantia   27    51   469\n",
       "Fresnaye     36    38   162"
      ]
     },
     "execution_count": 168,
     "metadata": {},
     "output_type": "execute_result"
    }
   ],
   "source": [
    "area_color_table = pd.crosstab(index=orbit[\"area\"], \n",
    "                          columns=orbit[\"offering\"])\n",
    "\n",
    "area_color_table"
   ]
  },
  {
   "cell_type": "code",
   "execution_count": 169,
   "metadata": {},
   "outputs": [
    {
     "data": {
      "text/plain": [
       "<matplotlib.axes._subplots.AxesSubplot at 0x1d3a9c48eb8>"
      ]
     },
     "execution_count": 169,
     "metadata": {},
     "output_type": "execute_result"
    },
    {
     "data": {
      "image/png": "[encoded data removed]",
      "text/plain": [
       "<Figure size 576x576 with 1 Axes>"
      ]
     },
     "metadata": {
      "needs_background": "light"
     },
     "output_type": "display_data"
    }
   ],
   "source": [
    "area_color_table.plot(kind=\"bar\", \n",
    "                 figsize=(8,8),\n",
    "                 stacked=True)"
   ]
  },
  {
   "cell_type": "code",
   "execution_count": 200,
   "metadata": {},
   "outputs": [
    {
     "data": {
      "text/html": [
       "<div>\n",
       "<style scoped>\n",
       "    .dataframe tbody tr th:only-of-type {\n",
       "        vertical-align: middle;\n",
       "    }\n",
       "\n",
       "    .dataframe tbody tr th {\n",
       "        vertical-align: top;\n",
       "    }\n",
       "\n",
       "    .dataframe thead th {\n",
       "        text-align: right;\n",
       "    }\n",
       "</style>\n",
       "<table border=\"1\" class=\"dataframe\">\n",
       "  <thead>\n",
       "    <tr style=\"text-align: right;\">\n",
       "      <th>area</th>\n",
       "      <th>Bakoven</th>\n",
       "      <th>Bantry Bay</th>\n",
       "      <th>Constantia</th>\n",
       "      <th>Fresnaye</th>\n",
       "    </tr>\n",
       "    <tr>\n",
       "      <th>property_type</th>\n",
       "      <th></th>\n",
       "      <th></th>\n",
       "      <th></th>\n",
       "      <th></th>\n",
       "    </tr>\n",
       "  </thead>\n",
       "  <tbody>\n",
       "    <tr>\n",
       "      <th>apartment</th>\n",
       "      <td>6</td>\n",
       "      <td>145</td>\n",
       "      <td>3</td>\n",
       "      <td>91</td>\n",
       "    </tr>\n",
       "    <tr>\n",
       "      <th>house</th>\n",
       "      <td>26</td>\n",
       "      <td>76</td>\n",
       "      <td>490</td>\n",
       "      <td>142</td>\n",
       "    </tr>\n",
       "    <tr>\n",
       "      <th>vacant_land</th>\n",
       "      <td>0</td>\n",
       "      <td>6</td>\n",
       "      <td>54</td>\n",
       "      <td>3</td>\n",
       "    </tr>\n",
       "  </tbody>\n",
       "</table>\n",
       "</div>"
      ],
      "text/plain": [
       "area           Bakoven  Bantry Bay  Constantia  Fresnaye\n",
       "property_type                                           \n",
       "apartment            6         145           3        91\n",
       "house               26          76         490       142\n",
       "vacant_land          0           6          54         3"
      ]
     },
     "execution_count": 200,
     "metadata": {},
     "output_type": "execute_result"
    }
   ],
   "source": [
    "offering_color_table = pd.crosstab(index=orbit[\"property_type\"], \n",
    "                          columns=orbit[\"area\"])\n",
    "\n",
    "offering_color_table"
   ]
  },
  {
   "cell_type": "code",
   "execution_count": 201,
   "metadata": {},
   "outputs": [
    {
     "data": {
      "text/plain": [
       "<matplotlib.axes._subplots.AxesSubplot at 0x1d3ab2707b8>"
      ]
     },
     "execution_count": 201,
     "metadata": {},
     "output_type": "execute_result"
    },
    {
     "data": {
      "image/png": "[encoded data removed]",
      "text/plain": [
       "<Figure size 576x576 with 1 Axes>"
      ]
     },
     "metadata": {
      "needs_background": "light"
     },
     "output_type": "display_data"
    }
   ],
   "source": [
    "offering_color_table.plot(kind=\"bar\", \n",
    "                 figsize=(8,8),\n",
    "                 stacked=True)"
   ]
  },
  {
   "cell_type": "markdown",
   "metadata": {},
   "source": [
    "# BATHROOMS"
   ]
  },
  {
   "cell_type": "code",
   "execution_count": 468,
   "metadata": {},
   "outputs": [
    {
     "data": {
      "text/plain": [
       "4.0     239\n",
       "3.0     226\n",
       "2.0     197\n",
       "5.0     145\n",
       "6.0      64\n",
       "1.0      61\n",
       "0.0      51\n",
       "7.0      32\n",
       "8.0       9\n",
       "10.0      8\n",
       "9.0       6\n",
       "11.0      2\n",
       "12.0      2\n",
       "Name: bathrooms, dtype: int64"
      ]
     },
     "execution_count": 468,
     "metadata": {},
     "output_type": "execute_result"
    }
   ],
   "source": [
    "orbit['bathrooms'].value_counts()"
   ]
  },
  {
   "cell_type": "code",
   "execution_count": 470,
   "metadata": {},
   "outputs": [
    {
     "data": {
      "text/plain": [
       "<matplotlib.axes._subplots.AxesSubplot at 0x1d3ae1a0400>"
      ]
     },
     "execution_count": 470,
     "metadata": {},
     "output_type": "execute_result"
    },
    {
     "data": {
      "image/png": "[encoded data removed]",
      "text/plain": [
       "<Figure size 432x288 with 1 Axes>"
      ]
     },
     "metadata": {
      "needs_background": "light"
     },
     "output_type": "display_data"
    }
   ],
   "source": [
    "sns.countplot(y=orbit['bathrooms'])"
   ]
  },
  {
   "cell_type": "markdown",
   "metadata": {},
   "source": [
    "# AREA"
   ]
  },
  {
   "cell_type": "code",
   "execution_count": 198,
   "metadata": {},
   "outputs": [
    {
     "data": {
      "text/plain": [
       "<matplotlib.axes._subplots.AxesSubplot at 0x1d3ab18ffd0>"
      ]
     },
     "execution_count": 198,
     "metadata": {},
     "output_type": "execute_result"
    },
    {
     "data": {
      "image/png": "[encoded data removed]",
      "text/plain": [
       "<Figure size 432x288 with 1 Axes>"
      ]
     },
     "metadata": {
      "needs_background": "light"
     },
     "output_type": "display_data"
    }
   ],
   "source": [
    "(orbit\n",
    " .groupby(['area', 'property_type'])\n",
    " .size()\n",
    " .unstack()\n",
    " .plot.bar()\n",
    ")"
   ]
  },
  {
   "cell_type": "markdown",
   "metadata": {},
   "source": [
    "# PROPERTY TYPE"
   ]
  },
  {
   "cell_type": "code",
   "execution_count": 471,
   "metadata": {},
   "outputs": [
    {
     "data": {
      "text/plain": [
       "house          734\n",
       "apartment      245\n",
       "vacant_land     63\n",
       "Name: property_type, dtype: int64"
      ]
     },
     "execution_count": 471,
     "metadata": {},
     "output_type": "execute_result"
    }
   ],
   "source": [
    "orbit.property_type.value_counts()"
   ]
  },
  {
   "cell_type": "code",
   "execution_count": 472,
   "metadata": {},
   "outputs": [
    {
     "data": {
      "image/png": "[encoded data removed]",
      "text/plain": [
       "<Figure size 432x288 with 1 Axes>"
      ]
     },
     "metadata": {},
     "output_type": "display_data"
    }
   ],
   "source": [
    "# Pie chart\n",
    "labels = ['Apartment', 'House', 'Vacant_Land']\n",
    "sizes = [245, 734, 63]\n",
    "# only \"explode\" the 2nd slice (i.e. 'Rent')\n",
    "explode = (0.1, 0, 0)  \n",
    "fig1, ax1 = plt.subplots()\n",
    "ax1.pie(sizes, explode=explode, labels=labels, autopct='%1.1f%%',\n",
    "        shadow=True, startangle=90)\n",
    "# Equal aspect ratio ensures that pie is drawn as a circle\n",
    "ax1.axis('equal')  \n",
    "plt.tight_layout()\n",
    "plt.show()"
   ]
  },
  {
   "cell_type": "code",
   "execution_count": 473,
   "metadata": {},
   "outputs": [
    {
     "data": {
      "text/html": [
       "<div>\n",
       "<style scoped>\n",
       "    .dataframe tbody tr th:only-of-type {\n",
       "        vertical-align: middle;\n",
       "    }\n",
       "\n",
       "    .dataframe tbody tr th {\n",
       "        vertical-align: top;\n",
       "    }\n",
       "\n",
       "    .dataframe thead th {\n",
       "        text-align: right;\n",
       "    }\n",
       "</style>\n",
       "<table border=\"1\" class=\"dataframe\">\n",
       "  <thead>\n",
       "    <tr style=\"text-align: right;\">\n",
       "      <th>property_type</th>\n",
       "      <th>apartment</th>\n",
       "      <th>house</th>\n",
       "      <th>vacant_land</th>\n",
       "    </tr>\n",
       "    <tr>\n",
       "      <th>area</th>\n",
       "      <th></th>\n",
       "      <th></th>\n",
       "      <th></th>\n",
       "    </tr>\n",
       "  </thead>\n",
       "  <tbody>\n",
       "    <tr>\n",
       "      <th>Bakoven</th>\n",
       "      <td>6</td>\n",
       "      <td>26</td>\n",
       "      <td>0</td>\n",
       "    </tr>\n",
       "    <tr>\n",
       "      <th>Bantry Bay</th>\n",
       "      <td>145</td>\n",
       "      <td>76</td>\n",
       "      <td>6</td>\n",
       "    </tr>\n",
       "    <tr>\n",
       "      <th>Constantia</th>\n",
       "      <td>3</td>\n",
       "      <td>490</td>\n",
       "      <td>54</td>\n",
       "    </tr>\n",
       "    <tr>\n",
       "      <th>Fresnaye</th>\n",
       "      <td>91</td>\n",
       "      <td>142</td>\n",
       "      <td>3</td>\n",
       "    </tr>\n",
       "  </tbody>\n",
       "</table>\n",
       "</div>"
      ],
      "text/plain": [
       "property_type  apartment  house  vacant_land\n",
       "area                                        \n",
       "Bakoven                6     26            0\n",
       "Bantry Bay           145     76            6\n",
       "Constantia             3    490           54\n",
       "Fresnaye              91    142            3"
      ]
     },
     "execution_count": 473,
     "metadata": {},
     "output_type": "execute_result"
    }
   ],
   "source": [
    "property_type_color_table = pd.crosstab(index=orbit[\"area\"], \n",
    "                          columns=orbit[\"property_type\"])\n",
    "\n",
    "property_type_color_table"
   ]
  },
  {
   "cell_type": "code",
   "execution_count": 474,
   "metadata": {},
   "outputs": [
    {
     "data": {
      "text/plain": [
       "<matplotlib.axes._subplots.AxesSubplot at 0x1d3ae29dac8>"
      ]
     },
     "execution_count": 474,
     "metadata": {},
     "output_type": "execute_result"
    },
    {
     "data": {
      "image/png": "[encoded data removed]",
      "text/plain": [
       "<Figure size 576x576 with 1 Axes>"
      ]
     },
     "metadata": {
      "needs_background": "light"
     },
     "output_type": "display_data"
    }
   ],
   "source": [
    "property_type_color_table.plot(kind=\"bar\", \n",
    "                 figsize=(8,8),\n",
    "                 stacked=True)"
   ]
  },
  {
   "cell_type": "code",
   "execution_count": 189,
   "metadata": {},
   "outputs": [
    {
     "data": {
      "image/png": "[encoded data removed]",
      "text/plain": [
       "<Figure size 720x360 with 1 Axes>"
      ]
     },
     "metadata": {
      "needs_background": "light"
     },
     "output_type": "display_data"
    }
   ],
   "source": [
    "sns.catplot(x='offering', y='price', data=orbit, kind='boxen', aspect=2)\n",
    "plt.title('Boxen Plot', weight='bold', fontsize=16)\n",
    "plt.show()"
   ]
  },
  {
   "cell_type": "markdown",
   "metadata": {},
   "source": [
    "# PRICE"
   ]
  },
  {
   "cell_type": "code",
   "execution_count": 475,
   "metadata": {},
   "outputs": [
    {
     "data": {
      "text/plain": [
       "count    1.042000e+03\n",
       "mean     1.570626e+07\n",
       "std      1.673860e+07\n",
       "min     -1.251616e+07\n",
       "25%      5.900000e+06\n",
       "50%      1.150000e+07\n",
       "75%      1.799875e+07\n",
       "max      1.500000e+08\n",
       "Name: price, dtype: float64"
      ]
     },
     "execution_count": 475,
     "metadata": {},
     "output_type": "execute_result"
    }
   ],
   "source": [
    "orbit['price'].describe()"
   ]
  },
  {
   "cell_type": "code",
   "execution_count": 476,
   "metadata": {},
   "outputs": [
    {
     "data": {
      "image/png": "[encoded data removed]",
      "text/plain": [
       "<Figure size 432x288 with 1 Axes>"
      ]
     },
     "metadata": {
      "needs_background": "light"
     },
     "output_type": "display_data"
    }
   ],
   "source": [
    "plt.hist(orbit['price'])\n",
    "plt.show()"
   ]
  },
  {
   "cell_type": "code",
   "execution_count": 477,
   "metadata": {},
   "outputs": [
    {
     "data": {
      "image/png": "[encoded data removed]",
      "text/plain": [
       "<Figure size 720x360 with 1 Axes>"
      ]
     },
     "metadata": {
      "needs_background": "light"
     },
     "output_type": "display_data"
    }
   ],
   "source": [
    "sns.catplot(x='area', y='price', data=orbit, kind='boxen', aspect=2)\n",
    "plt.title('Boxen Plot', weight='bold', fontsize=16)\n",
    "plt.show()"
   ]
  },
  {
   "cell_type": "markdown",
   "metadata": {},
   "source": [
    "# MODELING"
   ]
  },
  {
   "cell_type": "markdown",
   "metadata": {},
   "source": [
    "IN THE END DO WE NEED TO CONVERT THE CATEORICAL VARIABLES INTO NUMERICAL ONES\n",
    "DROP 'TITLE' FEATURE IN THE END\n",
    "CATEGORICAL VARIABLES ARE\n",
    "AGENCY\n",
    "AREA\n",
    "OFFERING\n",
    "PROPERTY_TYPE\n",
    "\n",
    "AFTER CONVERTING THE CATEGORICAL VARIABLES INTO NUMERIC\n",
    "SPLIT THE DATA INTO TRAINING AND TEST DATA"
   ]
  },
  {
   "cell_type": "code",
   "execution_count": 492,
   "metadata": {},
   "outputs": [
    {
     "data": {
      "text/html": [
       "<div>\n",
       "<style scoped>\n",
       "    .dataframe tbody tr th:only-of-type {\n",
       "        vertical-align: middle;\n",
       "    }\n",
       "\n",
       "    .dataframe tbody tr th {\n",
       "        vertical-align: top;\n",
       "    }\n",
       "\n",
       "    .dataframe thead th {\n",
       "        text-align: right;\n",
       "    }\n",
       "</style>\n",
       "<table border=\"1\" class=\"dataframe\">\n",
       "  <thead>\n",
       "    <tr style=\"text-align: right;\">\n",
       "      <th></th>\n",
       "      <th>agency</th>\n",
       "      <th>title</th>\n",
       "      <th>bedrooms</th>\n",
       "      <th>bathrooms</th>\n",
       "      <th>area</th>\n",
       "      <th>offering</th>\n",
       "      <th>property_type</th>\n",
       "      <th>price</th>\n",
       "      <th>garages</th>\n",
       "      <th>erf_size</th>\n",
       "      <th>floor_size</th>\n",
       "      <th>parkings</th>\n",
       "    </tr>\n",
       "  </thead>\n",
       "  <tbody>\n",
       "    <tr>\n",
       "      <th>0</th>\n",
       "      <td>dogon_group_properties</td>\n",
       "      <td>2 Bedroom Apartment For Sale in Fresnaye</td>\n",
       "      <td>2.0</td>\n",
       "      <td>2.0</td>\n",
       "      <td>1</td>\n",
       "      <td>0</td>\n",
       "      <td>1</td>\n",
       "      <td>5995000.0</td>\n",
       "      <td>1.361435</td>\n",
       "      <td>737.614343</td>\n",
       "      <td>129.000000</td>\n",
       "      <td>2.000000</td>\n",
       "    </tr>\n",
       "    <tr>\n",
       "      <th>1</th>\n",
       "      <td>dogon_group_properties</td>\n",
       "      <td>3 Bedroom Apartment For Sale in Bantry Bay</td>\n",
       "      <td>3.0</td>\n",
       "      <td>3.0</td>\n",
       "      <td>2</td>\n",
       "      <td>0</td>\n",
       "      <td>1</td>\n",
       "      <td>6490000.0</td>\n",
       "      <td>1.159220</td>\n",
       "      <td>775.427340</td>\n",
       "      <td>140.000000</td>\n",
       "      <td>1.000000</td>\n",
       "    </tr>\n",
       "    <tr>\n",
       "      <th>2</th>\n",
       "      <td>dogon_group_properties</td>\n",
       "      <td>5 Bedroom House For Sale in Constantia</td>\n",
       "      <td>5.0</td>\n",
       "      <td>5.0</td>\n",
       "      <td>0</td>\n",
       "      <td>0</td>\n",
       "      <td>0</td>\n",
       "      <td>7995000.0</td>\n",
       "      <td>2.000000</td>\n",
       "      <td>1375.000000</td>\n",
       "      <td>311.425293</td>\n",
       "      <td>2.735935</td>\n",
       "    </tr>\n",
       "    <tr>\n",
       "      <th>3</th>\n",
       "      <td>dogon_group_properties</td>\n",
       "      <td>7 Bedroom House For Sale in Fresnaye</td>\n",
       "      <td>7.0</td>\n",
       "      <td>5.0</td>\n",
       "      <td>1</td>\n",
       "      <td>0</td>\n",
       "      <td>0</td>\n",
       "      <td>32950000.0</td>\n",
       "      <td>2.000000</td>\n",
       "      <td>636.000000</td>\n",
       "      <td>379.491337</td>\n",
       "      <td>6.000000</td>\n",
       "    </tr>\n",
       "    <tr>\n",
       "      <th>4</th>\n",
       "      <td>dogon_group_properties</td>\n",
       "      <td>5 Bedroom House For Sale in Constantia</td>\n",
       "      <td>5.0</td>\n",
       "      <td>5.0</td>\n",
       "      <td>0</td>\n",
       "      <td>0</td>\n",
       "      <td>0</td>\n",
       "      <td>25900000.0</td>\n",
       "      <td>3.000000</td>\n",
       "      <td>4000.000000</td>\n",
       "      <td>800.000000</td>\n",
       "      <td>8.000000</td>\n",
       "    </tr>\n",
       "  </tbody>\n",
       "</table>\n",
       "</div>"
      ],
      "text/plain": [
       "                   agency                                       title  \\\n",
       "0  dogon_group_properties    2 Bedroom Apartment For Sale in Fresnaye   \n",
       "1  dogon_group_properties  3 Bedroom Apartment For Sale in Bantry Bay   \n",
       "2  dogon_group_properties      5 Bedroom House For Sale in Constantia   \n",
       "3  dogon_group_properties        7 Bedroom House For Sale in Fresnaye   \n",
       "4  dogon_group_properties      5 Bedroom House For Sale in Constantia   \n",
       "\n",
       "   bedrooms  bathrooms  area  offering  property_type       price   garages  \\\n",
       "0       2.0        2.0     1         0              1   5995000.0  1.361435   \n",
       "1       3.0        3.0     2         0              1   6490000.0  1.159220   \n",
       "2       5.0        5.0     0         0              0   7995000.0  2.000000   \n",
       "3       7.0        5.0     1         0              0  32950000.0  2.000000   \n",
       "4       5.0        5.0     0         0              0  25900000.0  3.000000   \n",
       "\n",
       "      erf_size  floor_size  parkings  \n",
       "0   737.614343  129.000000  2.000000  \n",
       "1   775.427340  140.000000  1.000000  \n",
       "2  1375.000000  311.425293  2.735935  \n",
       "3   636.000000  379.491337  6.000000  \n",
       "4  4000.000000  800.000000  8.000000  "
      ]
     },
     "execution_count": 492,
     "metadata": {},
     "output_type": "execute_result"
    }
   ],
   "source": [
    "orbit.head()"
   ]
  },
  {
   "cell_type": "code",
   "execution_count": null,
   "metadata": {},
   "outputs": [],
   "source": [
    "#Drop the columns 'agency','title' from the dataframe"
   ]
  },
  {
   "cell_type": "code",
   "execution_count": 493,
   "metadata": {},
   "outputs": [],
   "source": [
    "orbit.drop(['agency','title'],axis=1,inplace=True)"
   ]
  },
  {
   "cell_type": "code",
   "execution_count": 494,
   "metadata": {},
   "outputs": [
    {
     "data": {
      "text/plain": [
       "(1042, 10)"
      ]
     },
     "execution_count": 494,
     "metadata": {},
     "output_type": "execute_result"
    }
   ],
   "source": [
    "orbit.shape"
   ]
  },
  {
   "cell_type": "code",
   "execution_count": 495,
   "metadata": {},
   "outputs": [
    {
     "data": {
      "text/html": [
       "<div>\n",
       "<style scoped>\n",
       "    .dataframe tbody tr th:only-of-type {\n",
       "        vertical-align: middle;\n",
       "    }\n",
       "\n",
       "    .dataframe tbody tr th {\n",
       "        vertical-align: top;\n",
       "    }\n",
       "\n",
       "    .dataframe thead th {\n",
       "        text-align: right;\n",
       "    }\n",
       "</style>\n",
       "<table border=\"1\" class=\"dataframe\">\n",
       "  <thead>\n",
       "    <tr style=\"text-align: right;\">\n",
       "      <th></th>\n",
       "      <th>bedrooms</th>\n",
       "      <th>bathrooms</th>\n",
       "      <th>area</th>\n",
       "      <th>offering</th>\n",
       "      <th>property_type</th>\n",
       "      <th>price</th>\n",
       "      <th>garages</th>\n",
       "      <th>erf_size</th>\n",
       "      <th>floor_size</th>\n",
       "      <th>parkings</th>\n",
       "    </tr>\n",
       "  </thead>\n",
       "  <tbody>\n",
       "    <tr>\n",
       "      <th>0</th>\n",
       "      <td>2.0</td>\n",
       "      <td>2.0</td>\n",
       "      <td>1</td>\n",
       "      <td>0</td>\n",
       "      <td>1</td>\n",
       "      <td>5995000.0</td>\n",
       "      <td>1.361435</td>\n",
       "      <td>737.614343</td>\n",
       "      <td>129.000000</td>\n",
       "      <td>2.000000</td>\n",
       "    </tr>\n",
       "    <tr>\n",
       "      <th>1</th>\n",
       "      <td>3.0</td>\n",
       "      <td>3.0</td>\n",
       "      <td>2</td>\n",
       "      <td>0</td>\n",
       "      <td>1</td>\n",
       "      <td>6490000.0</td>\n",
       "      <td>1.159220</td>\n",
       "      <td>775.427340</td>\n",
       "      <td>140.000000</td>\n",
       "      <td>1.000000</td>\n",
       "    </tr>\n",
       "    <tr>\n",
       "      <th>2</th>\n",
       "      <td>5.0</td>\n",
       "      <td>5.0</td>\n",
       "      <td>0</td>\n",
       "      <td>0</td>\n",
       "      <td>0</td>\n",
       "      <td>7995000.0</td>\n",
       "      <td>2.000000</td>\n",
       "      <td>1375.000000</td>\n",
       "      <td>311.425293</td>\n",
       "      <td>2.735935</td>\n",
       "    </tr>\n",
       "    <tr>\n",
       "      <th>3</th>\n",
       "      <td>7.0</td>\n",
       "      <td>5.0</td>\n",
       "      <td>1</td>\n",
       "      <td>0</td>\n",
       "      <td>0</td>\n",
       "      <td>32950000.0</td>\n",
       "      <td>2.000000</td>\n",
       "      <td>636.000000</td>\n",
       "      <td>379.491337</td>\n",
       "      <td>6.000000</td>\n",
       "    </tr>\n",
       "    <tr>\n",
       "      <th>4</th>\n",
       "      <td>5.0</td>\n",
       "      <td>5.0</td>\n",
       "      <td>0</td>\n",
       "      <td>0</td>\n",
       "      <td>0</td>\n",
       "      <td>25900000.0</td>\n",
       "      <td>3.000000</td>\n",
       "      <td>4000.000000</td>\n",
       "      <td>800.000000</td>\n",
       "      <td>8.000000</td>\n",
       "    </tr>\n",
       "  </tbody>\n",
       "</table>\n",
       "</div>"
      ],
      "text/plain": [
       "   bedrooms  bathrooms  area  offering  property_type       price   garages  \\\n",
       "0       2.0        2.0     1         0              1   5995000.0  1.361435   \n",
       "1       3.0        3.0     2         0              1   6490000.0  1.159220   \n",
       "2       5.0        5.0     0         0              0   7995000.0  2.000000   \n",
       "3       7.0        5.0     1         0              0  32950000.0  2.000000   \n",
       "4       5.0        5.0     0         0              0  25900000.0  3.000000   \n",
       "\n",
       "      erf_size  floor_size  parkings  \n",
       "0   737.614343  129.000000  2.000000  \n",
       "1   775.427340  140.000000  1.000000  \n",
       "2  1375.000000  311.425293  2.735935  \n",
       "3   636.000000  379.491337  6.000000  \n",
       "4  4000.000000  800.000000  8.000000  "
      ]
     },
     "execution_count": 495,
     "metadata": {},
     "output_type": "execute_result"
    }
   ],
   "source": [
    "orbit.head()"
   ]
  },
  {
   "cell_type": "markdown",
   "metadata": {},
   "source": [
    "# BOXPLOT TO FIND OUT THE OUTLIERS IN THE DATASET"
   ]
  },
  {
   "cell_type": "markdown",
   "metadata": {},
   "source": [
    "The way you prepare a dataset with outliers for modelling is different from the one without outliers \n",
    "as you will see later on with scaling. Here, you can see outliers in the target variable 'price' from the above figure. While price outliers would not be a concern because it is the target feature,the presence of outliers in predictors, in this case there aren't any, would affect the model’s performance. \n",
    "Detecting outliers and choosing the appropriate scaling method to minimize their effect would ultimately improve performance."
   ]
  },
  {
   "cell_type": "code",
   "execution_count": 514,
   "metadata": {},
   "outputs": [
    {
     "data": {
      "text/plain": [
       "<matplotlib.axes._subplots.AxesSubplot at 0x1d3ae620048>"
      ]
     },
     "execution_count": 514,
     "metadata": {},
     "output_type": "execute_result"
    },
    {
     "data": {
      "image/png": "[encoded data removed]",
      "text/plain": [
       "<Figure size 432x288 with 1 Axes>"
      ]
     },
     "metadata": {
      "needs_background": "light"
     },
     "output_type": "display_data"
    }
   ],
   "source": [
    "sns.boxplot(data=orbit, orient='h', palette=\"Set2\")"
   ]
  },
  {
   "cell_type": "markdown",
   "metadata": {},
   "source": [
    "# CORREALTION MATRIX"
   ]
  },
  {
   "cell_type": "code",
   "execution_count": 517,
   "metadata": {},
   "outputs": [
    {
     "data": {
      "image/png": "[encoded data removed]",
      "text/plain": [
       "<Figure size 720x720 with 2 Axes>"
      ]
     },
     "metadata": {
      "needs_background": "light"
     },
     "output_type": "display_data"
    }
   ],
   "source": [
    "corr = orbit.corr()\n",
    "    #Plot figsize\n",
    "fig, ax = plt.subplots(figsize=(10, 10))\n",
    "    #Generate Color Map\n",
    "colormap = sns.diverging_palette(220, 10, as_cmap=True)\n",
    "    #Generate Heat Map, allow annotations and place floats in map\n",
    "sns.heatmap(corr, cmap=colormap, annot=True, fmt=\".2f\")\n",
    "    #Apply xticks\n",
    "plt.xticks(range(len(corr.columns)), corr.columns);\n",
    "    #Apply yticks\n",
    "plt.yticks(range(len(corr.columns)), corr.columns)\n",
    "    #show plot\n",
    "plt.show()"
   ]
  },
  {
   "cell_type": "code",
   "execution_count": 516,
   "metadata": {},
   "outputs": [
    {
     "data": {
      "text/plain": [
       "price            1.000000\n",
       "floor_size       0.670399\n",
       "bathrooms        0.518321\n",
       "garages          0.513668\n",
       "bedrooms         0.432674\n",
       "erf_size         0.365938\n",
       "parkings         0.355133\n",
       "area             0.066915\n",
       "offering        -0.159269\n",
       "property_type   -0.185786\n",
       "Name: price, dtype: float64"
      ]
     },
     "execution_count": 516,
     "metadata": {},
     "output_type": "execute_result"
    }
   ],
   "source": [
    "corr_matrix = orbit.corr()\n",
    "corr_matrix['price'].sort_values(ascending=False)"
   ]
  },
  {
   "cell_type": "markdown",
   "metadata": {},
   "source": [
    "From the correlation matrix, we can see that there is varying extent to which the independent variables are correlated with\n",
    "the target. Lower correlation means weak linear relationship but there may be a strong non-linear relationship so, \n",
    "we can’t pass any judgement at this level, let the algorithm work for us."
   ]
  },
  {
   "cell_type": "markdown",
   "metadata": {},
   "source": [
    "# TRAIN TEST SPLIT"
   ]
  },
  {
   "cell_type": "code",
   "execution_count": 529,
   "metadata": {},
   "outputs": [],
   "source": [
    "X=orbit.drop(['price'],axis=1)\n",
    "y = orbit['price']"
   ]
  },
  {
   "cell_type": "code",
   "execution_count": 498,
   "metadata": {},
   "outputs": [],
   "source": [
    "from sklearn.model_selection import train_test_split\n",
    "\n",
    "train, test = train_test_split(orbit, test_size=0.3)\n",
    "\n",
    "train_y= train[['price']]\n",
    "train_x = train[['bedrooms' , 'bathrooms', 'area', 'offering','property_type','garages','erf_size','floor_size','parkings']]\n",
    "\n",
    "test_y= test[['price']]\n",
    "test_x = test[['bedrooms' , 'bathrooms', 'area', 'offering','property_type','garages','erf_size','floor_size','parkings']]"
   ]
  },
  {
   "cell_type": "markdown",
   "metadata": {},
   "source": [
    "Splitting the data into training and testing dataset, with a 70:30 split"
   ]
  },
  {
   "cell_type": "code",
   "execution_count": 499,
   "metadata": {},
   "outputs": [
    {
     "data": {
      "text/plain": [
       "(729, 1)"
      ]
     },
     "execution_count": 499,
     "metadata": {},
     "output_type": "execute_result"
    }
   ],
   "source": [
    "train_y.shape"
   ]
  },
  {
   "cell_type": "code",
   "execution_count": 506,
   "metadata": {},
   "outputs": [
    {
     "data": {
      "text/html": [
       "<div>\n",
       "<style scoped>\n",
       "    .dataframe tbody tr th:only-of-type {\n",
       "        vertical-align: middle;\n",
       "    }\n",
       "\n",
       "    .dataframe tbody tr th {\n",
       "        vertical-align: top;\n",
       "    }\n",
       "\n",
       "    .dataframe thead th {\n",
       "        text-align: right;\n",
       "    }\n",
       "</style>\n",
       "<table border=\"1\" class=\"dataframe\">\n",
       "  <thead>\n",
       "    <tr style=\"text-align: right;\">\n",
       "      <th></th>\n",
       "      <th>price</th>\n",
       "    </tr>\n",
       "  </thead>\n",
       "  <tbody>\n",
       "    <tr>\n",
       "      <th>904</th>\n",
       "      <td>3700000.0</td>\n",
       "    </tr>\n",
       "    <tr>\n",
       "      <th>927</th>\n",
       "      <td>80000000.0</td>\n",
       "    </tr>\n",
       "    <tr>\n",
       "      <th>509</th>\n",
       "      <td>8900000.0</td>\n",
       "    </tr>\n",
       "    <tr>\n",
       "      <th>913</th>\n",
       "      <td>12950000.0</td>\n",
       "    </tr>\n",
       "    <tr>\n",
       "      <th>518</th>\n",
       "      <td>25980000.0</td>\n",
       "    </tr>\n",
       "  </tbody>\n",
       "</table>\n",
       "</div>"
      ],
      "text/plain": [
       "          price\n",
       "904   3700000.0\n",
       "927  80000000.0\n",
       "509   8900000.0\n",
       "913  12950000.0\n",
       "518  25980000.0"
      ]
     },
     "execution_count": 506,
     "metadata": {},
     "output_type": "execute_result"
    }
   ],
   "source": [
    "train_y.head()"
   ]
  },
  {
   "cell_type": "code",
   "execution_count": 500,
   "metadata": {},
   "outputs": [
    {
     "data": {
      "text/plain": [
       "(313, 1)"
      ]
     },
     "execution_count": 500,
     "metadata": {},
     "output_type": "execute_result"
    }
   ],
   "source": [
    "test_y.shape"
   ]
  },
  {
   "cell_type": "code",
   "execution_count": 507,
   "metadata": {},
   "outputs": [
    {
     "data": {
      "text/html": [
       "<div>\n",
       "<style scoped>\n",
       "    .dataframe tbody tr th:only-of-type {\n",
       "        vertical-align: middle;\n",
       "    }\n",
       "\n",
       "    .dataframe tbody tr th {\n",
       "        vertical-align: top;\n",
       "    }\n",
       "\n",
       "    .dataframe thead th {\n",
       "        text-align: right;\n",
       "    }\n",
       "</style>\n",
       "<table border=\"1\" class=\"dataframe\">\n",
       "  <thead>\n",
       "    <tr style=\"text-align: right;\">\n",
       "      <th></th>\n",
       "      <th>price</th>\n",
       "    </tr>\n",
       "  </thead>\n",
       "  <tbody>\n",
       "    <tr>\n",
       "      <th>188</th>\n",
       "      <td>2.995000e+06</td>\n",
       "    </tr>\n",
       "    <tr>\n",
       "      <th>910</th>\n",
       "      <td>1.100000e+05</td>\n",
       "    </tr>\n",
       "    <tr>\n",
       "      <th>245</th>\n",
       "      <td>1.575000e+07</td>\n",
       "    </tr>\n",
       "    <tr>\n",
       "      <th>758</th>\n",
       "      <td>1.186763e+07</td>\n",
       "    </tr>\n",
       "    <tr>\n",
       "      <th>1036</th>\n",
       "      <td>2.900000e+07</td>\n",
       "    </tr>\n",
       "  </tbody>\n",
       "</table>\n",
       "</div>"
      ],
      "text/plain": [
       "             price\n",
       "188   2.995000e+06\n",
       "910   1.100000e+05\n",
       "245   1.575000e+07\n",
       "758   1.186763e+07\n",
       "1036  2.900000e+07"
      ]
     },
     "execution_count": 507,
     "metadata": {},
     "output_type": "execute_result"
    }
   ],
   "source": [
    "test_y.head()"
   ]
  },
  {
   "cell_type": "code",
   "execution_count": 501,
   "metadata": {},
   "outputs": [
    {
     "data": {
      "text/plain": [
       "(729, 9)"
      ]
     },
     "execution_count": 501,
     "metadata": {},
     "output_type": "execute_result"
    }
   ],
   "source": [
    "train_x.shape"
   ]
  },
  {
   "cell_type": "code",
   "execution_count": 509,
   "metadata": {},
   "outputs": [
    {
     "data": {
      "text/html": [
       "<div>\n",
       "<style scoped>\n",
       "    .dataframe tbody tr th:only-of-type {\n",
       "        vertical-align: middle;\n",
       "    }\n",
       "\n",
       "    .dataframe tbody tr th {\n",
       "        vertical-align: top;\n",
       "    }\n",
       "\n",
       "    .dataframe thead th {\n",
       "        text-align: right;\n",
       "    }\n",
       "</style>\n",
       "<table border=\"1\" class=\"dataframe\">\n",
       "  <thead>\n",
       "    <tr style=\"text-align: right;\">\n",
       "      <th></th>\n",
       "      <th>bedrooms</th>\n",
       "      <th>bathrooms</th>\n",
       "      <th>area</th>\n",
       "      <th>offering</th>\n",
       "      <th>property_type</th>\n",
       "      <th>garages</th>\n",
       "      <th>erf_size</th>\n",
       "      <th>floor_size</th>\n",
       "      <th>parkings</th>\n",
       "    </tr>\n",
       "  </thead>\n",
       "  <tbody>\n",
       "    <tr>\n",
       "      <th>904</th>\n",
       "      <td>3.0</td>\n",
       "      <td>3.0</td>\n",
       "      <td>0</td>\n",
       "      <td>0</td>\n",
       "      <td>0</td>\n",
       "      <td>1.315509</td>\n",
       "      <td>736.000000</td>\n",
       "      <td>104.000000</td>\n",
       "      <td>2.052192</td>\n",
       "    </tr>\n",
       "    <tr>\n",
       "      <th>927</th>\n",
       "      <td>6.0</td>\n",
       "      <td>6.0</td>\n",
       "      <td>0</td>\n",
       "      <td>0</td>\n",
       "      <td>0</td>\n",
       "      <td>4.000000</td>\n",
       "      <td>10738.000000</td>\n",
       "      <td>1622.276818</td>\n",
       "      <td>6.000000</td>\n",
       "    </tr>\n",
       "    <tr>\n",
       "      <th>509</th>\n",
       "      <td>4.0</td>\n",
       "      <td>3.0</td>\n",
       "      <td>0</td>\n",
       "      <td>0</td>\n",
       "      <td>0</td>\n",
       "      <td>2.000000</td>\n",
       "      <td>2100.000000</td>\n",
       "      <td>370.645737</td>\n",
       "      <td>2.000000</td>\n",
       "    </tr>\n",
       "    <tr>\n",
       "      <th>913</th>\n",
       "      <td>4.0</td>\n",
       "      <td>4.0</td>\n",
       "      <td>0</td>\n",
       "      <td>0</td>\n",
       "      <td>0</td>\n",
       "      <td>2.000000</td>\n",
       "      <td>1363.000000</td>\n",
       "      <td>341.723987</td>\n",
       "      <td>2.715181</td>\n",
       "    </tr>\n",
       "    <tr>\n",
       "      <th>518</th>\n",
       "      <td>3.0</td>\n",
       "      <td>4.0</td>\n",
       "      <td>3</td>\n",
       "      <td>0</td>\n",
       "      <td>1</td>\n",
       "      <td>2.000000</td>\n",
       "      <td>835.552599</td>\n",
       "      <td>229.000000</td>\n",
       "      <td>2.684712</td>\n",
       "    </tr>\n",
       "  </tbody>\n",
       "</table>\n",
       "</div>"
      ],
      "text/plain": [
       "     bedrooms  bathrooms  area  offering  property_type   garages  \\\n",
       "904       3.0        3.0     0         0              0  1.315509   \n",
       "927       6.0        6.0     0         0              0  4.000000   \n",
       "509       4.0        3.0     0         0              0  2.000000   \n",
       "913       4.0        4.0     0         0              0  2.000000   \n",
       "518       3.0        4.0     3         0              1  2.000000   \n",
       "\n",
       "         erf_size   floor_size  parkings  \n",
       "904    736.000000   104.000000  2.052192  \n",
       "927  10738.000000  1622.276818  6.000000  \n",
       "509   2100.000000   370.645737  2.000000  \n",
       "913   1363.000000   341.723987  2.715181  \n",
       "518    835.552599   229.000000  2.684712  "
      ]
     },
     "execution_count": 509,
     "metadata": {},
     "output_type": "execute_result"
    }
   ],
   "source": [
    "train_x.head()"
   ]
  },
  {
   "cell_type": "code",
   "execution_count": 502,
   "metadata": {},
   "outputs": [
    {
     "data": {
      "text/plain": [
       "(313, 9)"
      ]
     },
     "execution_count": 502,
     "metadata": {},
     "output_type": "execute_result"
    }
   ],
   "source": [
    "test_x.shape"
   ]
  },
  {
   "cell_type": "code",
   "execution_count": 508,
   "metadata": {},
   "outputs": [
    {
     "data": {
      "text/html": [
       "<div>\n",
       "<style scoped>\n",
       "    .dataframe tbody tr th:only-of-type {\n",
       "        vertical-align: middle;\n",
       "    }\n",
       "\n",
       "    .dataframe tbody tr th {\n",
       "        vertical-align: top;\n",
       "    }\n",
       "\n",
       "    .dataframe thead th {\n",
       "        text-align: right;\n",
       "    }\n",
       "</style>\n",
       "<table border=\"1\" class=\"dataframe\">\n",
       "  <thead>\n",
       "    <tr style=\"text-align: right;\">\n",
       "      <th></th>\n",
       "      <th>bedrooms</th>\n",
       "      <th>bathrooms</th>\n",
       "      <th>area</th>\n",
       "      <th>offering</th>\n",
       "      <th>property_type</th>\n",
       "      <th>garages</th>\n",
       "      <th>erf_size</th>\n",
       "      <th>floor_size</th>\n",
       "      <th>parkings</th>\n",
       "    </tr>\n",
       "  </thead>\n",
       "  <tbody>\n",
       "    <tr>\n",
       "      <th>188</th>\n",
       "      <td>0.0</td>\n",
       "      <td>0.0</td>\n",
       "      <td>0</td>\n",
       "      <td>0</td>\n",
       "      <td>2</td>\n",
       "      <td>0.000000</td>\n",
       "      <td>1087.000000</td>\n",
       "      <td>0.0</td>\n",
       "      <td>0.000000</td>\n",
       "    </tr>\n",
       "    <tr>\n",
       "      <th>910</th>\n",
       "      <td>4.0</td>\n",
       "      <td>5.0</td>\n",
       "      <td>0</td>\n",
       "      <td>0</td>\n",
       "      <td>0</td>\n",
       "      <td>4.000000</td>\n",
       "      <td>4006.000000</td>\n",
       "      <td>1240.0</td>\n",
       "      <td>4.641575</td>\n",
       "    </tr>\n",
       "    <tr>\n",
       "      <th>245</th>\n",
       "      <td>3.0</td>\n",
       "      <td>3.0</td>\n",
       "      <td>1</td>\n",
       "      <td>0</td>\n",
       "      <td>1</td>\n",
       "      <td>2.000000</td>\n",
       "      <td>948.777285</td>\n",
       "      <td>216.0</td>\n",
       "      <td>2.710492</td>\n",
       "    </tr>\n",
       "    <tr>\n",
       "      <th>758</th>\n",
       "      <td>3.0</td>\n",
       "      <td>3.0</td>\n",
       "      <td>2</td>\n",
       "      <td>2</td>\n",
       "      <td>0</td>\n",
       "      <td>1.741621</td>\n",
       "      <td>650.000000</td>\n",
       "      <td>245.0</td>\n",
       "      <td>2.343045</td>\n",
       "    </tr>\n",
       "    <tr>\n",
       "      <th>1036</th>\n",
       "      <td>5.0</td>\n",
       "      <td>3.0</td>\n",
       "      <td>2</td>\n",
       "      <td>0</td>\n",
       "      <td>0</td>\n",
       "      <td>2.000000</td>\n",
       "      <td>2392.553159</td>\n",
       "      <td>605.0</td>\n",
       "      <td>2.804779</td>\n",
       "    </tr>\n",
       "  </tbody>\n",
       "</table>\n",
       "</div>"
      ],
      "text/plain": [
       "      bedrooms  bathrooms  area  offering  property_type   garages  \\\n",
       "188        0.0        0.0     0         0              2  0.000000   \n",
       "910        4.0        5.0     0         0              0  4.000000   \n",
       "245        3.0        3.0     1         0              1  2.000000   \n",
       "758        3.0        3.0     2         2              0  1.741621   \n",
       "1036       5.0        3.0     2         0              0  2.000000   \n",
       "\n",
       "         erf_size  floor_size  parkings  \n",
       "188   1087.000000         0.0  0.000000  \n",
       "910   4006.000000      1240.0  4.641575  \n",
       "245    948.777285       216.0  2.710492  \n",
       "758    650.000000       245.0  2.343045  \n",
       "1036  2392.553159       605.0  2.804779  "
      ]
     },
     "execution_count": 508,
     "metadata": {},
     "output_type": "execute_result"
    }
   ],
   "source": [
    "test_x.head()"
   ]
  },
  {
   "cell_type": "markdown",
   "metadata": {},
   "source": [
    "# FEATURE SCALING"
   ]
  },
  {
   "cell_type": "markdown",
   "metadata": {},
   "source": [
    "Here we try different scaling methods to find the best suitable one"
   ]
  },
  {
   "cell_type": "code",
   "execution_count": 521,
   "metadata": {},
   "outputs": [],
   "source": [
    "import warnings  \n",
    "warnings.filterwarnings('ignore')\n",
    "from sklearn import preprocessing\n",
    "from sklearn.preprocessing import StandardScaler\n",
    "from sklearn.preprocessing import MinMaxScaler\n",
    "from sklearn.preprocessing import RobustScaler"
   ]
  },
  {
   "cell_type": "code",
   "execution_count": 522,
   "metadata": {},
   "outputs": [
    {
     "data": {
      "text/plain": [
       "Index(['bedrooms', 'bathrooms', 'area', 'offering', 'property_type', 'price',\n",
       "       'garages', 'erf_size', 'floor_size', 'parkings'],\n",
       "      dtype='object')"
      ]
     },
     "execution_count": 522,
     "metadata": {},
     "output_type": "execute_result"
    }
   ],
   "source": [
    "orbit.columns"
   ]
  },
  {
   "cell_type": "code",
   "execution_count": 524,
   "metadata": {},
   "outputs": [
    {
     "data": {
      "image/png": "[encoded data removed]",
      "text/plain": [
       "<Figure size 648x360 with 4 Axes>"
      ]
     },
     "metadata": {
      "needs_background": "light"
     },
     "output_type": "display_data"
    }
   ],
   "source": [
    "x = pd.DataFrame({\n",
    "    'bedrooms': orbit.bedrooms,\n",
    "    'bathrooms': orbit.bathrooms,\n",
    "    'area': orbit.area,\n",
    "    'offering' : orbit.offering,\n",
    "    'property_type': orbit.property_type,\n",
    "    'garages' : orbit.garages,\n",
    "    'erf_size': orbit.erf_size,\n",
    "    'floor_size': orbit.floor_size,\n",
    "    'parkings': orbit.parkings\n",
    "})\n",
    "\n",
    "scaler = preprocessing.MinMaxScaler()\n",
    "minmax_scaled_df = scaler.fit_transform(x)\n",
    "minmax_scaled_df = pd.DataFrame(minmax_scaled_df, columns=['bedrooms', 'bathrooms', 'area', 'offering', 'property_type', 'garages','erf_size', 'floor_size', 'parkings'])\n",
    "\n",
    "scaler = preprocessing.StandardScaler()\n",
    "scaled_df = scaler.fit_transform(x)\n",
    "scaled_df = pd.DataFrame(scaled_df, columns=['bedrooms', 'bathrooms', 'area', 'offering', 'property_type', 'garages','erf_size', 'floor_size', 'parkings'])\n",
    "\n",
    "    \n",
    "scaler = preprocessing.RobustScaler()\n",
    "robust_scaled_df = scaler.fit_transform(x)\n",
    "robust_scaled_df = pd.DataFrame(robust_scaled_df, columns=['bedrooms', 'bathrooms', 'area', 'offering', 'property_type', 'garages','erf_size', 'floor_size', 'parkings'])\n",
    "\n",
    "\n",
    "fig, (ax1, ax2, ax3, ax4) = plt.subplots(ncols=4, figsize=(9, 5))\n",
    "ax1.set_title('Before Scaling')\n",
    "sns.kdeplot(x['bedrooms'], ax=ax1)\n",
    "sns.kdeplot(x['bathrooms'], ax=ax1)\n",
    "sns.kdeplot(x['area'], ax=ax1)\n",
    "sns.kdeplot(x['offering'], ax=ax1)\n",
    "sns.kdeplot(x['property_type'], ax=ax1)\n",
    "sns.kdeplot(x['garages'], ax=ax1)\n",
    "sns.kdeplot(x['erf_size'], ax=ax1)\n",
    "sns.kdeplot(x['floor_size'], ax=ax1)\n",
    "sns.kdeplot(x['parkings'], ax=ax1)\n",
    "\n",
    "ax2.set_title('After Min-Max Scaling')\n",
    "sns.kdeplot(minmax_scaled_df['bedrooms'], ax=ax2)\n",
    "sns.kdeplot(minmax_scaled_df['bathrooms'], ax=ax2)\n",
    "sns.kdeplot(minmax_scaled_df['area'], ax=ax2)\n",
    "sns.kdeplot(minmax_scaled_df['offering'], ax=ax2)\n",
    "sns.kdeplot(minmax_scaled_df['property_type'], ax=ax2)\n",
    "sns.kdeplot(minmax_scaled_df['garages'], ax=ax2)\n",
    "sns.kdeplot(minmax_scaled_df['erf_size'], ax=ax2)\n",
    "sns.kdeplot(minmax_scaled_df['floor_size'], ax=ax2)\n",
    "sns.kdeplot(minmax_scaled_df['parkings'], ax=ax2)\n",
    "\n",
    "ax3.set_title('After Standard Scaler')\n",
    "sns.kdeplot(scaled_df['bedrooms'], ax=ax3)\n",
    "sns.kdeplot(scaled_df['bathrooms'], ax=ax3)\n",
    "sns.kdeplot(scaled_df['area'], ax=ax3)\n",
    "sns.kdeplot(scaled_df['offering'], ax=ax3)\n",
    "sns.kdeplot(scaled_df['property_type'], ax=ax3)\n",
    "sns.kdeplot(scaled_df['garages'], ax=ax3)\n",
    "sns.kdeplot(scaled_df['erf_size'], ax=ax3)\n",
    "sns.kdeplot(scaled_df['floor_size'], ax=ax3)\n",
    "sns.kdeplot(scaled_df['parkings'], ax=ax3)\n",
    "\n",
    "ax4.set_title('After Robust Scaling')\n",
    "sns.kdeplot(robust_scaled_df['bedrooms'], ax=ax4)\n",
    "sns.kdeplot(robust_scaled_df['bathrooms'], ax=ax4)\n",
    "sns.kdeplot(robust_scaled_df['area'], ax=ax4)\n",
    "sns.kdeplot(robust_scaled_df['offering'], ax=ax4)\n",
    "sns.kdeplot(robust_scaled_df['property_type'], ax=ax4)\n",
    "sns.kdeplot(robust_scaled_df['garages'], ax=ax4)\n",
    "sns.kdeplot(robust_scaled_df['erf_size'], ax=ax4)\n",
    "sns.kdeplot(robust_scaled_df['floor_size'], ax=ax4)\n",
    "sns.kdeplot(robust_scaled_df['parkings'], ax=ax4)\n",
    "plt.show()"
   ]
  },
  {
   "cell_type": "markdown",
   "metadata": {},
   "source": [
    "# Based on the above result we will consider Robust Scaling for disance related algorithms "
   ]
  },
  {
   "cell_type": "code",
   "execution_count": 528,
   "metadata": {},
   "outputs": [],
   "source": [
    "from sklearn.linear_model import LinearRegression\n",
    "import xgboost as xgb\n",
    "from sklearn.ensemble import AdaBoostRegressor\n",
    "from sklearn.tree import DecisionTreeRegressor\n",
    "from sklearn.ensemble import RandomForestRegressor\n",
    "from sklearn.neighbors import KNeighborsRegressor\n",
    "from sklearn.svm import SVR\n",
    "\n",
    "from sklearn.metrics import mean_squared_error, r2_score\n",
    "from sklearn.model_selection import GridSearchCV"
   ]
  },
  {
   "cell_type": "markdown",
   "metadata": {},
   "source": [
    "# Select features and Find the best hyper-parameters for the regressors"
   ]
  },
  {
   "cell_type": "code",
   "execution_count": 535,
   "metadata": {},
   "outputs": [],
   "source": [
    "import statsmodels.api as sm"
   ]
  },
  {
   "cell_type": "code",
   "execution_count": 543,
   "metadata": {},
   "outputs": [
    {
     "name": "stdout",
     "output_type": "stream",
     "text": [
      "The selected features are : ['bathrooms', 'area', 'offering', 'property_type', 'erf_size', 'floor_size']\n"
     ]
    }
   ],
   "source": [
    "# Linear Regression\n",
    "X1 = sm.add_constant(train_x)\n",
    "ols = sm.OLS(train_y,X1)\n",
    "lr = ols.fit()\n",
    "\n",
    "selected_features = ['bedrooms', 'bathrooms', 'area', 'offering', 'property_type', 'garages',\n",
    "       'erf_size', 'floor_size', 'parkings']\n",
    "pmax = 1\n",
    "while (len(selected_features)>0):\n",
    "    p= []\n",
    "    X_1 = X[selected_features]\n",
    "    X_1 = sm.add_constant(X_1)\n",
    "    model = sm.OLS(y,X_1).fit()\n",
    "    p = pd.Series(model.pvalues.values[1:],index = selected_features)      \n",
    "    pmax = max(p)\n",
    "    feature_with_p_max = p.idxmax()\n",
    "    if(pmax>0.05):\n",
    "        selected_features.remove(feature_with_p_max)\n",
    "    else:\n",
    "        break  \n",
    "        \n",
    "print('The selected features are :', selected_features)"
   ]
  },
  {
   "cell_type": "code",
   "execution_count": 544,
   "metadata": {},
   "outputs": [
    {
     "name": "stdout",
     "output_type": "stream",
     "text": [
      "const            3.402412e-04\n",
      "bathrooms        1.847121e-08\n",
      "area             1.660120e-21\n",
      "offering         3.203833e-11\n",
      "property_type    6.559243e-05\n",
      "erf_size         7.425306e-03\n",
      "floor_size       1.596604e-72\n",
      "dtype: float64\n"
     ]
    }
   ],
   "source": [
    "print(model.pvalues)"
   ]
  },
  {
   "cell_type": "markdown",
   "metadata": {},
   "source": [
    "# XGBoost"
   ]
  },
  {
   "cell_type": "code",
   "execution_count": 545,
   "metadata": {},
   "outputs": [
    {
     "name": "stdout",
     "output_type": "stream",
     "text": [
      "The best hyper-parameters for XGBBoost are:  {'learning_rate': 0.1, 'max_depth': 5, 'n_estimators': 200}\n"
     ]
    }
   ],
   "source": [
    "tuned_parameters = [{'max_depth': [5,10, 15, 20, 25, 30],'learning_rate':[0.001, 0.01, 0.1, 0.5], 'n_estimators': [100,150,200, 250, 300]}]\n",
    "MSE_xgb = ['mean_squared_error(test_y,y_pred2)']\n",
    "for value in MSE_xgb:\n",
    "    regr = GridSearchCV(xgb.XGBRegressor(silent = True), tuned_parameters, cv=4)\n",
    "    regr.fit(train_x, train_y)\n",
    "    y_true, y_pred2 = test_y, regr.predict(test_x)\n",
    "    \n",
    "print('The best hyper-parameters for XGBBoost are: ',regr.best_params_)"
   ]
  },
  {
   "cell_type": "markdown",
   "metadata": {},
   "source": [
    "# AdaBoost"
   ]
  },
  {
   "cell_type": "code",
   "execution_count": 566,
   "metadata": {},
   "outputs": [
    {
     "name": "stdout",
     "output_type": "stream",
     "text": [
      "The best hyper-parameters for AdaBoost are:  {'learning_rate': 0.1, 'n_estimators': 100}\n"
     ]
    }
   ],
   "source": [
    "# AdaBoost\n",
    "tuned_parameters = [{'learning_rate': [0.1,1,2,3,4,5], 'n_estimators': [100,200,300, 400, 500]}]\n",
    "MSE_ada = ['mean_squared_error(test_y,y_pred3)']\n",
    "for value in MSE_ada:\n",
    "    adaregr = GridSearchCV(AdaBoostRegressor(), tuned_parameters, cv=4)\n",
    "    adaregr.fit(train_x, train_y)\n",
    "    y_true, y_pred3 = test_y, adaregr.predict(test_x)\n",
    "    \n",
    "print('The best hyper-parameters for AdaBoost are: ', adaregr.best_params_ )"
   ]
  },
  {
   "cell_type": "markdown",
   "metadata": {},
   "source": [
    "# Decision Tree"
   ]
  },
  {
   "cell_type": "code",
   "execution_count": 547,
   "metadata": {},
   "outputs": [
    {
     "name": "stdout",
     "output_type": "stream",
     "text": [
      "The optimum max_depth for Decision Tree is:  {'max_depth': 4}\n"
     ]
    }
   ],
   "source": [
    "# Decision Tree\n",
    "tuned_parameters = [{'max_depth': [1,2,3,4,5,10, 15, 20, 25, 50, 100,200]}]\n",
    "MSE_dt = ['mean_squared_error(test_y,y_pred4)']\n",
    "for value in MSE_dt:\n",
    "    regressor_dt = GridSearchCV(DecisionTreeRegressor(), tuned_parameters, cv=4)\n",
    "    regressor_dt.fit(train_x, train_y)\n",
    "    y_true, y_pred4 = test_y, regressor_dt.predict(test_x)\n",
    "    \n",
    "print('The optimum max_depth for Decision Tree is: ', regressor_dt.best_params_ )"
   ]
  },
  {
   "cell_type": "markdown",
   "metadata": {},
   "source": [
    "# Random Forests"
   ]
  },
  {
   "cell_type": "code",
   "execution_count": 548,
   "metadata": {},
   "outputs": [
    {
     "name": "stdout",
     "output_type": "stream",
     "text": [
      "The best hyper-parameters for Random Forests are:  {'max_depth': 70, 'n_estimators': 250}\n"
     ]
    }
   ],
   "source": [
    "# Random Forests\n",
    "tuned_parameters = [{'max_depth': [5,10, 15, 20, 50, 70], 'n_estimators': [10, 25, 50, 100,150, 200, 250]}]\n",
    "MSE_rf = ['mean_squared_error(test_y, y_pred5)']\n",
    "for value in MSE_rf:\n",
    "    regr_rf = GridSearchCV(RandomForestRegressor(), tuned_parameters, cv=4)\n",
    "    regr_rf.fit(train_x, train_y)\n",
    "    y_true, y_pred5 = test_y, regr_rf.predict(test_x)\n",
    "    \n",
    "print('The best hyper-parameters for Random Forests are: ',regr_rf.best_params_)"
   ]
  },
  {
   "cell_type": "markdown",
   "metadata": {},
   "source": [
    "# KNN"
   ]
  },
  {
   "cell_type": "code",
   "execution_count": 550,
   "metadata": {},
   "outputs": [
    {
     "name": "stdout",
     "output_type": "stream",
     "text": [
      "The best hyper-parameters for KNN are:  {'n_neighbors': 5, 'p': 1}\n"
     ]
    }
   ],
   "source": [
    "# KNN\n",
    "scaler = preprocessing.RobustScaler()                         # Features Scaling is required for distance-based algorithms\n",
    "X_train_scaled = scaler.fit_transform(train_x)\n",
    "X_test_scaled = scaler.fit_transform(test_x)\n",
    "\n",
    "tuned_parameters = [{'n_neighbors': [1,2,3,4,5,10,15,20], 'p': [1,2]}]\n",
    "MSE_knn = ['mean_squared_error(test_y,y_pred6)']\n",
    "for i in MSE_knn:\n",
    "    model = GridSearchCV(KNeighborsRegressor(), tuned_parameters, cv=4)\n",
    "    model.fit(X_train_scaled, train_y)\n",
    "    y_true, y_pred6 = test_y, model.predict(X_test_scaled)\n",
    "    \n",
    "print('The best hyper-parameters for KNN are: ', model.best_params_)"
   ]
  },
  {
   "cell_type": "markdown",
   "metadata": {},
   "source": [
    "# SVM"
   ]
  },
  {
   "cell_type": "code",
   "execution_count": 551,
   "metadata": {},
   "outputs": [
    {
     "name": "stdout",
     "output_type": "stream",
     "text": [
      "The best hyper-parameters for SVR are:  {'C': 1, 'gamma': 1, 'kernel': 'poly'}\n"
     ]
    }
   ],
   "source": [
    "# SVM\n",
    "tuned_parameters = [{'kernel': ['linear', 'rbf', 'poly'], 'C':[1, 2, 3, 5, 6, 7, 10], 'gamma': [0.0001, 0.001, 0.01, 0.1, 1]}]\n",
    "MSE_svm = ['mean_squared_error(test_y,y_pred7)']\n",
    "for value in MSE_svm:\n",
    "    svr_regr = GridSearchCV(SVR(), tuned_parameters, cv=4)\n",
    "    svr_regr.fit(X_train_scaled, train_y)\n",
    "    y_true, y_pred7 = test_y, svr_regr.predict(X_test_scaled)\n",
    "    \n",
    "print('The best hyper-parameters for SVR are: ', svr_regr.best_params_)"
   ]
  },
  {
   "cell_type": "markdown",
   "metadata": {},
   "source": [
    "# Build the models using the tuned hyper-parameters and fit"
   ]
  },
  {
   "cell_type": "code",
   "execution_count": 552,
   "metadata": {},
   "outputs": [
    {
     "data": {
      "text/plain": [
       "SVR(C=1, cache_size=200, coef0=0.0, degree=3, epsilon=0.1, gamma=1,\n",
       "    kernel='poly', max_iter=-1, shrinking=True, tol=0.001, verbose=False)"
      ]
     },
     "execution_count": 552,
     "metadata": {},
     "output_type": "execute_result"
    }
   ],
   "source": [
    "# Linear Regression\n",
    "regressor = LinearRegression()\n",
    "regressor.fit(X_train_scaled, train_y)\n",
    "\n",
    "# XGBoost\n",
    "regr = xgb.XGBRegressor(learning_rate=0.1, max_depth=5, n_estimators=200, random_state = 0, silent = True)\n",
    "regr.fit(train_x, train_y)\n",
    "\n",
    "# AdaBoost\n",
    "adaregr = AdaBoostRegressor(random_state=0, learning_rate = 0.1, n_estimators=200)\n",
    "adaregr.fit(train_x, train_y)\n",
    "\n",
    "# Decision Tree\n",
    "regressor_dt = DecisionTreeRegressor(random_state=0, max_depth = 4)\n",
    "regressor_dt.fit(train_x,train_y)\n",
    "\n",
    "# Random Forests\n",
    "regr_rf = RandomForestRegressor(max_depth=70, random_state=0,\n",
    "                             n_estimators=250)\n",
    "regr_rf.fit(train_x, train_y)\n",
    "\n",
    "# KNN\n",
    "neigh = KNeighborsRegressor(n_neighbors = 5, metric = 'minkowski', p = 1)\n",
    "neigh.fit(X_train_scaled, train_y)\n",
    "\n",
    "# SVR\n",
    "svr_regr = SVR(gamma=1, kernel = 'poly', C =1)\n",
    "svr_regr.fit(X_train_scaled, train_y)"
   ]
  },
  {
   "cell_type": "markdown",
   "metadata": {},
   "source": [
    "# Predict price using the above models"
   ]
  },
  {
   "cell_type": "code",
   "execution_count": 553,
   "metadata": {},
   "outputs": [],
   "source": [
    "y_pred1 = regressor.predict(X_test_scaled)    # Linear regression\n",
    "y_pred2 = regr.predict(test_x)                # XGBoost\n",
    "y_pred3 = adaregr.predict(test_x)             # AdaBoost\n",
    "y_pred4 = regressor_dt.predict(test_x)        # Decision Tree\n",
    "y_pred5 = regr_rf.predict(test_x)             # Random Forests\n",
    "y_pred6 = neigh.predict(X_test_scaled)        # KNN\n",
    "y_pred7 = svr_regr.predict(X_test_scaled)     # SVR"
   ]
  },
  {
   "cell_type": "markdown",
   "metadata": {},
   "source": [
    "# Find R Squared (R^2) Values"
   ]
  },
  {
   "cell_type": "code",
   "execution_count": 554,
   "metadata": {},
   "outputs": [
    {
     "name": "stdout",
     "output_type": "stream",
     "text": [
      "The R^2 value for Linear Regression is        : 0.364\n",
      "The R^2 value for XGBoost Regressor is        : 0.681\n",
      "The R^2 value for AdaBoost Regressor is       : 0.41\n",
      "The R^2 value for Decision Tree Regressor is  : 0.417\n",
      "The R^2 value for Random Forests Regressor is : 0.652\n",
      "The R^2 value for KNN Regressor is            : 0.529\n",
      "The R^2 value for SVM Regressor is            : 0.049\n"
     ]
    }
   ],
   "source": [
    "print('The R^2 value for Linear Regression is        :', round((r2_score(test_y,y_pred1)), 3))\n",
    "print('The R^2 value for XGBoost Regressor is        :', round((r2_score(test_y,y_pred2)), 3))\n",
    "print('The R^2 value for AdaBoost Regressor is       :', round((r2_score(test_y,y_pred3)), 3))\n",
    "print('The R^2 value for Decision Tree Regressor is  :', round((r2_score(test_y,y_pred4)), 3))\n",
    "print('The R^2 value for Random Forests Regressor is :', round((r2_score(test_y,y_pred5)), 3))\n",
    "print('The R^2 value for KNN Regressor is            :', round((r2_score(test_y,y_pred6)), 3))\n",
    "print('The R^2 value for SVM Regressor is            :', round((r2_score(test_y,y_pred7)), 3))"
   ]
  },
  {
   "cell_type": "markdown",
   "metadata": {},
   "source": [
    "# Find adjusted R Squared (Adj R2) Values"
   ]
  },
  {
   "cell_type": "code",
   "execution_count": 555,
   "metadata": {},
   "outputs": [
    {
     "name": "stdout",
     "output_type": "stream",
     "text": [
      "The Adj R2 value for Linear Regression is        : 0.358\n",
      "The Adj R2 value for XGBoost Regressor is        : 0.679\n",
      "The Adj R2 value for AdaBoost Regressor is       : 0.405\n",
      "The Adj R2 value for Decision Tree Regressor is  : 0.412\n",
      "The Adj R2 value for Random Forests Regressor is : 0.649\n",
      "The Adj R2 value for KNN Regressor is            : 0.525\n",
      "The Adj R2 value for SVM Regressor is            : 0.041\n"
     ]
    }
   ],
   "source": [
    "print('The Adj R2 value for Linear Regression is        :', round((1 - (1-r2_score(test_y,y_pred1))*(len(y)-1)/(len(y)-X.shape[1]-1)),3))\n",
    "print('The Adj R2 value for XGBoost Regressor is        :', round((1 - (1-r2_score(test_y,y_pred2))*(len(y)-1)/(len(y)-X.shape[1]-1)),3))\n",
    "print('The Adj R2 value for AdaBoost Regressor is       :', round((1 - (1-r2_score(test_y,y_pred3))*(len(y)-1)/(len(y)-X.shape[1]-1)),3))\n",
    "print('The Adj R2 value for Decision Tree Regressor is  :', round((1 - (1-r2_score(test_y,y_pred4))*(len(y)-1)/(len(y)-X.shape[1]-1)),3))\n",
    "print('The Adj R2 value for Random Forests Regressor is :', round((1 - (1-r2_score(test_y,y_pred5))*(len(y)-1)/(len(y)-X.shape[1]-1)),3))\n",
    "print('The Adj R2 value for KNN Regressor is            :', round((1 - (1-r2_score(test_y,y_pred6))*(len(y)-1)/(len(y)-X.shape[1]-1)),3))\n",
    "print('The Adj R2 value for SVM Regressor is            :', round((1 - (1-r2_score(test_y,y_pred7))*(len(y)-1)/(len(y)-X.shape[1]-1)),3))"
   ]
  },
  {
   "cell_type": "markdown",
   "metadata": {},
   "source": [
    "# Find Mean Square Errors (MSE) and Root Mean Squared Errors (RMSE)"
   ]
  },
  {
   "cell_type": "code",
   "execution_count": 556,
   "metadata": {},
   "outputs": [],
   "source": [
    "MSE_lr  = mean_squared_error(test_y,y_pred1)\n",
    "MSE_xgb = mean_squared_error(test_y,y_pred2)\n",
    "MSE_ada = mean_squared_error(test_y,y_pred3)\n",
    "MSE_dt  = mean_squared_error(test_y,y_pred4)\n",
    "MSE_rf  = mean_squared_error(test_y,y_pred5)\n",
    "MSE_knn = mean_squared_error(test_y,y_pred6)\n",
    "MSE_svr = mean_squared_error(test_y,y_pred7)"
   ]
  },
  {
   "cell_type": "code",
   "execution_count": 557,
   "metadata": {},
   "outputs": [
    {
     "name": "stdout",
     "output_type": "stream",
     "text": [
      "The RMSE value for Linear Regression is        : 13908363.0\n",
      "The RMSE value for XGBoost Regressor is        : 9841388.0\n",
      "The RMSE value for AdaBoost Regressor is       : 13388516.0\n",
      "The RMSE value for Decision Tree Regressor is  : 13308270.0\n",
      "The RMSE value for Random Forests Regressor is : 10287358.0\n",
      "The RMSE value for KNN Regressor is            : 11960399.0\n",
      "The RMSE value for SVM Regressor is            : 16999527.0\n"
     ]
    }
   ],
   "source": [
    "print('The RMSE value for Linear Regression is        :', round(np.sqrt(MSE_lr)));\n",
    "print('The RMSE value for XGBoost Regressor is        :', round(np.sqrt(MSE_xgb)));\n",
    "print('The RMSE value for AdaBoost Regressor is       :', round(np.sqrt(MSE_ada)));\n",
    "print('The RMSE value for Decision Tree Regressor is  :', round(np.sqrt(MSE_dt)));\n",
    "print('The RMSE value for Random Forests Regressor is :', round(np.sqrt(MSE_rf)));\n",
    "print('The RMSE value for KNN Regressor is            :', round(np.sqrt(MSE_knn)));\n",
    "print('The RMSE value for SVM Regressor is            :', round(np.sqrt(MSE_svr)));"
   ]
  },
  {
   "cell_type": "markdown",
   "metadata": {},
   "source": [
    "As expected, the Adjusted R² score is slightly lower than the R² score for each model and \n",
    "if we evaluate based on this metric, the best fit model would be XGBoost with the highest \n",
    "Adjusted R² score and the worst would be SVM Regressor with the least R² score. \n",
    "\n",
    "However, this metric is only a relative measure of fitness so, we must look at the RMSE values. \n",
    "In this case, XGBoost and SVM have the lowest and highest RMSE values respectively and\n",
    "the rest models are in the exact same order as their Adjusted R² scores. \n",
    "\n",
    "This further confirms that the best fit model for this dataset is XGBoost and the worst fit model is SVM. "
   ]
  },
  {
   "cell_type": "markdown",
   "metadata": {},
   "source": [
    "# Plot the actual vs predicted price"
   ]
  },
  {
   "cell_type": "code",
   "execution_count": 558,
   "metadata": {},
   "outputs": [
    {
     "data": {
      "text/plain": [
       "Text(0.5, 1.0, 'Linear Regression')"
      ]
     },
     "execution_count": 558,
     "metadata": {},
     "output_type": "execute_result"
    },
    {
     "data": {
      "image/png": "[encoded data removed]",
      "text/plain": [
       "<Figure size 432x288 with 1 Axes>"
      ]
     },
     "metadata": {
      "needs_background": "light"
     },
     "output_type": "display_data"
    }
   ],
   "source": [
    "plt.scatter(test_y, y_pred1)\n",
    "plt.xlabel(\"Actual price\")\n",
    "plt.ylabel(\"Predicted price\")\n",
    "plt.title(\"Linear Regression\")"
   ]
  },
  {
   "cell_type": "code",
   "execution_count": 559,
   "metadata": {},
   "outputs": [
    {
     "data": {
      "text/plain": [
       "Text(0.5, 1.0, 'Xgboost')"
      ]
     },
     "execution_count": 559,
     "metadata": {},
     "output_type": "execute_result"
    },
    {
     "data": {
      "image/png": "[encoded data removed]",
      "text/plain": [
       "<Figure size 432x288 with 1 Axes>"
      ]
     },
     "metadata": {
      "needs_background": "light"
     },
     "output_type": "display_data"
    }
   ],
   "source": [
    "plt.scatter(test_y, y_pred2)\n",
    "plt.xlabel(\"Actual price\")\n",
    "plt.ylabel(\"Predicted price\")\n",
    "plt.title(\"Xgboost\")"
   ]
  },
  {
   "cell_type": "code",
   "execution_count": 560,
   "metadata": {},
   "outputs": [
    {
     "data": {
      "text/plain": [
       "Text(0.5, 1.0, 'Adaboost')"
      ]
     },
     "execution_count": 560,
     "metadata": {},
     "output_type": "execute_result"
    },
    {
     "data": {
      "image/png": "[encoded data removed]",
      "text/plain": [
       "<Figure size 432x288 with 1 Axes>"
      ]
     },
     "metadata": {
      "needs_background": "light"
     },
     "output_type": "display_data"
    }
   ],
   "source": [
    "plt.scatter(test_y, y_pred3)\n",
    "plt.xlabel(\"Actual price\")\n",
    "plt.ylabel(\"Predicted price\")\n",
    "plt.title(\"Adaboost\")"
   ]
  },
  {
   "cell_type": "code",
   "execution_count": 561,
   "metadata": {},
   "outputs": [
    {
     "data": {
      "text/plain": [
       "Text(0.5, 1.0, 'Decision Tree')"
      ]
     },
     "execution_count": 561,
     "metadata": {},
     "output_type": "execute_result"
    },
    {
     "data": {
      "image/png": "[encoded data removed]",
      "text/plain": [
       "<Figure size 432x288 with 1 Axes>"
      ]
     },
     "metadata": {
      "needs_background": "light"
     },
     "output_type": "display_data"
    }
   ],
   "source": [
    "plt.scatter(test_y, y_pred4)\n",
    "plt.xlabel(\"Actual price\")\n",
    "plt.ylabel(\"Predicted price\")\n",
    "plt.title(\"Decision Tree\")"
   ]
  },
  {
   "cell_type": "code",
   "execution_count": 562,
   "metadata": {},
   "outputs": [
    {
     "data": {
      "text/plain": [
       "Text(0.5, 1.0, 'Random Forest')"
      ]
     },
     "execution_count": 562,
     "metadata": {},
     "output_type": "execute_result"
    },
    {
     "data": {
      "image/png": "[encoded data removed]",
      "text/plain": [
       "<Figure size 432x288 with 1 Axes>"
      ]
     },
     "metadata": {
      "needs_background": "light"
     },
     "output_type": "display_data"
    }
   ],
   "source": [
    "plt.scatter(test_y, y_pred5)\n",
    "plt.xlabel(\"Actual price\")\n",
    "plt.ylabel(\"Predicted price\")\n",
    "plt.title(\"Random Forest\")"
   ]
  },
  {
   "cell_type": "code",
   "execution_count": 563,
   "metadata": {},
   "outputs": [
    {
     "data": {
      "text/plain": [
       "Text(0.5, 1.0, 'KNN')"
      ]
     },
     "execution_count": 563,
     "metadata": {},
     "output_type": "execute_result"
    },
    {
     "data": {
      "image/png": "[encoded data removed]",
      "text/plain": [
       "<Figure size 432x288 with 1 Axes>"
      ]
     },
     "metadata": {
      "needs_background": "light"
     },
     "output_type": "display_data"
    }
   ],
   "source": [
    "plt.scatter(test_y, y_pred6)\n",
    "plt.xlabel(\"Actual price\")\n",
    "plt.ylabel(\"Predicted price\")\n",
    "plt.title(\"KNN\")"
   ]
  },
  {
   "cell_type": "code",
   "execution_count": 564,
   "metadata": {},
   "outputs": [
    {
     "data": {
      "text/plain": [
       "Text(0.5, 1.0, 'SVM')"
      ]
     },
     "execution_count": 564,
     "metadata": {},
     "output_type": "execute_result"
    },
    {
     "data": {
      "image/png": "[encoded data removed]",
      "text/plain": [
       "<Figure size 432x288 with 1 Axes>"
      ]
     },
     "metadata": {
      "needs_background": "light"
     },
     "output_type": "display_data"
    }
   ],
   "source": [
    "plt.scatter(test_y, y_pred7)\n",
    "plt.xlabel(\"Actual price\")\n",
    "plt.ylabel(\"Predicted price\")\n",
    "plt.title(\"SVM\")"
   ]
  },
  {
   "cell_type": "markdown",
   "metadata": {},
   "source": [
    "# Looking at the plots of actual vs predicted prices, you can also see that the data points in XGBoost are closer to each other"
   ]
  },
  {
   "cell_type": "code",
   "execution_count": null,
   "metadata": {},
   "outputs": [],
   "source": []
  }
 ],
 "metadata": {
  "kernelspec": {
   "display_name": "Python 3",
   "language": "python",
   "name": "python3"
  },
  "language_info": {
   "codemirror_mode": {
    "name": "ipython",
    "version": 3
   },
   "file_extension": ".py",
   "mimetype": "text/x-python",
   "name": "python",
   "nbconvert_exporter": "python",
   "pygments_lexer": "ipython3",
   "version": "3.7.3"
  }
 },
 "nbformat": 4,
 "nbformat_minor": 2
}
